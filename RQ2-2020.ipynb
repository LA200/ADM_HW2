{
 "cells": [
  {
   "cell_type": "markdown",
   "metadata": {},
   "source": [
    "RQ2] What are the categories of the most trending products overall? \n",
    "1) For each month visualize this information through a plot showing the number of sold products per category.\n",
    "2) Plot the most visited subcategories.\n",
    "3) What are the 10 most sold products per category?"
   ]
  },
  {
   "cell_type": "code",
   "execution_count": null,
   "metadata": {},
   "outputs": [],
   "source": [
    "#prendo prima le categorie come fatto prima \n",
    "# prendo le sottocategorie ....split('.')[1]\n",
    "\n",
    "#1)\n",
    "#number of products sold per category:\n",
    "#sub(vendite) => action = purchase NB prendere anche prodotto id che serve dopo\n",
    "#vendite = \n",
    "#morning = df[(df['t'].dt.hour >= 8)\n",
    "\n",
    "\n",
    "# manipolo la colonna delle categorie con split \n",
    "#faccio il plot (se non lo fa in modo diretto per ciascuna categoria conto quante vendite ci sono)\n",
    "\n",
    "#https://queirozf.com/entries/pandas-dataframe-plot-examples-with-matplotlib-pyplot\n",
    "#df.plot(kind='scatter',x='num_children',y='num_pets',color='red')\n",
    "#plt.show()\n",
    "\n",
    "\n",
    "#2)\n",
    "#most visited subcategoris\n",
    "#subcategories(categories) action == wiew\n",
    "#anche qui grafico\n",
    "\n",
    "#3) \n",
    "#riprendo il sub di prima delle vendite e mi concentro su prodotti\n",
    "#creare funzione che permette di decidere quale categoria si vuole scegliere e prende quella e fa il plot "
   ]
  },
  {
   "cell_type": "code",
   "execution_count": null,
   "metadata": {},
   "outputs": [],
   "source": []
  },
  {
   "cell_type": "markdown",
   "metadata": {},
   "source": [
    "RQ3] \n",
    "1) For each category, what’s the brand whose prices are higher on average?\n",
    "2) Write a function that asks the user a category in input and returns a plot indicating the average price of the products sold by the brand.\n",
    "3) Find, for each category, the brand with the highest average price. Return all the results in ascending order by price."
   ]
  },
  {
   "cell_type": "code",
   "execution_count": null,
   "metadata": {},
   "outputs": [],
   "source": [
    "#1)\n",
    "#prendo (categorie, prodotto, brand, costo)  \n",
    "#blocco la categoria => associo brand prezzo\n",
    "\n",
    "#2) \n",
    "#prendo la funzione scritta prima, dopo aver messo la categoria restituisce la media dei costi per brand \n",
    "# y = media dei costi   x = brand \n",
    "\n",
    "#3)\n",
    "#per ciascuna categoria brand con media maggiore => ordine crescente "
   ]
  },
  {
   "cell_type": "code",
   "execution_count": null,
   "metadata": {},
   "outputs": [],
   "source": []
  },
  {
   "cell_type": "markdown",
   "metadata": {},
   "source": [
    "RQ4] \n",
    "How much does each brand earn per month? \n",
    "Write a function that given the name of a brand in input returns, for each month, its profit. \n",
    "Is the average price of products of different brands significantly different?\n",
    "Using the function you just created, find the top 3 brands that have suffered the biggest losses in earnings between one month and the next, specifing bothe the loss percentage and the 2 months (e.g., brand_1 lost 20% between march and april)."
   ]
  },
  {
   "cell_type": "code",
   "execution_count": null,
   "metadata": {},
   "outputs": [],
   "source": [
    "#1)\n",
    "# seleziono purchase => per ciascun brand sommo il, prezzo\n",
    "\n",
    "#2)\n",
    "\n"
   ]
  },
  {
   "cell_type": "code",
   "execution_count": null,
   "metadata": {},
   "outputs": [],
   "source": []
  },
  {
   "cell_type": "markdown",
   "metadata": {},
   "source": [
    "RQ6] The conversion rate of a product is given by the purchase rate over the number of times the product has been visited. What's the conversion rate of your online store?\n",
    "Find the overall conversion rate of your store.\n",
    "Plot the purchase rate of each category and show the conversion rate of each category in decreasing order."
   ]
  },
  {
   "cell_type": "code",
   "execution_count": null,
   "metadata": {},
   "outputs": [],
   "source": [
    "#1)\n",
    "# sub(product,action)\n",
    "# conv rate = #purchase/#wiew\n",
    "\n",
    "#2)\n",
    "#stessa cosa ma iterando sulla categoria"
   ]
  },
  {
   "cell_type": "code",
   "execution_count": null,
   "metadata": {},
   "outputs": [],
   "source": []
  },
  {
   "cell_type": "code",
   "execution_count": null,
   "metadata": {},
   "outputs": [],
   "source": [
    "RQ7] The Pareto principle states that for many outcomes roughly 80% of consequences come from 20% of the causes. \n",
    "Also known as 80/20 rule, in e-commerce simply means that most of your business, around 80%,\n",
    "likely comes from about 20% of your customers.\n",
    "Prove that the pareto principle applies to your store."
   ]
  },
  {
   "cell_type": "code",
   "execution_count": null,
   "metadata": {},
   "outputs": [],
   "source": [
    "#1) vendite => sub(user_id, prezzo) \n",
    "#dalle vendite si prendono gli id degli user e si vede ciascuno quanto ha speso => groupby e sum \n",
    "#list(ranking) degli user da quello che ha speso di piu \n",
    "#prendo il 20 % =>(posizione < 0.2*len(ranking)-1) -1 perche la posizione parte da 0\n",
    "#vedere il totale delle vendite e vedere il totale delle vendite del primo 20 %, \n",
    "#faccio il rapporto e vedo se esso rappresenta l'80%"
   ]
  }
 ],
 "metadata": {
  "kernelspec": {
   "display_name": "Python 3",
   "language": "python",
   "name": "python3"
  },
  "language_info": {
   "codemirror_mode": {
    "name": "ipython",
    "version": 3
   },
   "file_extension": ".py",
   "mimetype": "text/x-python",
   "name": "python",
   "nbconvert_exporter": "python",
   "pygments_lexer": "ipython3",
   "version": "3.7.6"
  }
 },
 "nbformat": 4,
 "nbformat_minor": 2
}
