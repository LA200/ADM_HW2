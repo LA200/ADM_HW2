{
 "cells": [
  {
   "cell_type": "code",
   "execution_count": 1,
   "metadata": {},
   "outputs": [],
   "source": [
    "import pandas as pd\n",
    "import numpy as np\n",
    "import math"
   ]
  },
  {
   "cell_type": "code",
   "execution_count": 2,
   "metadata": {},
   "outputs": [],
   "source": [
    "#path's csv file, \n",
    "nov = pd.read_csv('/Users/tommy/Desktop/codici/archive/2019-Nov.csv', header='infer',\n",
    "parse_dates=['event_time'],\n",
    "date_parser=pd.to_datetime)"
   ]
  },
  {
   "cell_type": "code",
   "execution_count": 14,
   "metadata": {},
   "outputs": [],
   "source": [
    "#PURCHASE RATE: => #NUMBER OF PRODUCT SOLD/#USERS\n",
    "subRQ6 = nov[['event_type','user_id','category_code','product_id']]\n"
   ]
  },
  {
   "cell_type": "code",
   "execution_count": 19,
   "metadata": {},
   "outputs": [],
   "source": [
    "# obtaining the number of product sold:\n",
    "# by taking only rows about purchasing\n",
    "# and at the end we count them (.shape[0])\n",
    "# shape[0] are the rows of the dataset where the event is equal to purchase\n",
    "# so it rapresents the product sold\n",
    "\n",
    "prod_sold = subRQ6[subRQ6['event_type']=='purchase'].shape[0]"
   ]
  },
  {
   "cell_type": "code",
   "execution_count": 17,
   "metadata": {},
   "outputs": [],
   "source": [
    "# in a similar way we calculate the number of user:\n",
    "# this time we group by 'user_id' so we obtain the exact users's number\n",
    "# we extract that number by the command shape[0] (number of rows)\n",
    "users = subRQ6.groupby('user_id').product_id.count().shape[0]"
   ]
  },
  {
   "cell_type": "code",
   "execution_count": 23,
   "metadata": {},
   "outputs": [
    {
     "data": {
      "text/plain": [
       "0.2481"
      ]
     },
     "execution_count": 23,
     "metadata": {},
     "output_type": "execute_result"
    }
   ],
   "source": [
    "#finally we calculate the actual purchase rate value\n",
    "purchase_rate = prod_sold/users\n",
    "round(purchase_rate,4)"
   ]
  },
  {
   "cell_type": "code",
   "execution_count": 33,
   "metadata": {},
   "outputs": [
    {
     "data": {
      "text/plain": [
       "int"
      ]
     },
     "execution_count": 33,
     "metadata": {},
     "output_type": "execute_result"
    }
   ],
   "source": [
    "type(prod_sold)"
   ]
  },
  {
   "cell_type": "code",
   "execution_count": null,
   "metadata": {},
   "outputs": [],
   "source": [
    "#Now that we have the purchase rate we can calculate the conversion rate\n",
    "# CONVERSION RATE = PURCHASE RATE/ #VIEWS"
   ]
  },
  {
   "cell_type": "code",
   "execution_count": 37,
   "metadata": {},
   "outputs": [],
   "source": [
    "#same think of before\n",
    "views =     subRQ6[subRQ6['event_type']=='view'].shape[0]"
   ]
  },
  {
   "cell_type": "code",
   "execution_count": 39,
   "metadata": {},
   "outputs": [
    {
     "data": {
      "text/plain": [
       "3.903349387514857e-09"
      ]
     },
     "execution_count": 39,
     "metadata": {},
     "output_type": "execute_result"
    }
   ],
   "source": [
    "#conversion rate calculated by following the previous formula\n",
    "conversion_rate = purchase_rate / views\n",
    "conversion_rate"
   ]
  },
  {
   "cell_type": "code",
   "execution_count": 47,
   "metadata": {},
   "outputs": [],
   "source": [
    "subRQ6 = subRQ6.dropna()"
   ]
  },
  {
   "cell_type": "code",
   "execution_count": 48,
   "metadata": {},
   "outputs": [
    {
     "name": "stderr",
     "output_type": "stream",
     "text": [
      "<ipython-input-48-434ce4d17c6e>:2: SettingWithCopyWarning: \n",
      "A value is trying to be set on a copy of a slice from a DataFrame.\n",
      "Try using .loc[row_indexer,col_indexer] = value instead\n",
      "\n",
      "See the caveats in the documentation: https://pandas.pydata.org/pandas-docs/stable/user_guide/indexing.html#returning-a-view-versus-a-copy\n",
      "  subRQ6['category_code'] = [el.split('.')[0] for el in list(subRQ6['category_code']) if type(el) == str]\n"
     ]
    }
   ],
   "source": [
    "#purchase rate of each category\n",
    "subRQ6['category_code'] = [el.split('.')[0] for el in list(subRQ6['category_code']) if type(el) == str]\n",
    "#number_of_sales = subRQ6.groupby('category_code').product_id.count()"
   ]
  },
  {
   "cell_type": "code",
   "execution_count": 51,
   "metadata": {},
   "outputs": [],
   "source": [
    "number_of_sales = subRQ6.groupby('category_code').product_id.count()"
   ]
  },
  {
   "cell_type": "code",
   "execution_count": 52,
   "metadata": {},
   "outputs": [
    {
     "data": {
      "text/plain": [
       "category_code\n",
       "accessories       390038\n",
       "apparel          3011101\n",
       "appliances       8489825\n",
       "auto             1214159\n",
       "computers        4181358\n",
       "construction     1092155\n",
       "country_yard       17719\n",
       "electronics     24006086\n",
       "furniture        2111829\n",
       "kids              806384\n",
       "medicine           22382\n",
       "sport             247994\n",
       "stationery         12778\n",
       "Name: product_id, dtype: int64"
      ]
     },
     "execution_count": 52,
     "metadata": {},
     "output_type": "execute_result"
    }
   ],
   "source": [
    "number_of_sales"
   ]
  },
  {
   "cell_type": "code",
   "execution_count": 54,
   "metadata": {},
   "outputs": [],
   "source": [
    "user_of_each_cat = subRQ6.groupby('category_code').user_id.count()"
   ]
  },
  {
   "cell_type": "code",
   "execution_count": 55,
   "metadata": {},
   "outputs": [
    {
     "data": {
      "text/plain": [
       "category_code\n",
       "accessories       390038\n",
       "apparel          3011101\n",
       "appliances       8489825\n",
       "auto             1214159\n",
       "computers        4181358\n",
       "construction     1092155\n",
       "country_yard       17719\n",
       "electronics     24006086\n",
       "furniture        2111829\n",
       "kids              806384\n",
       "medicine           22382\n",
       "sport             247994\n",
       "stationery         12778\n",
       "Name: user_id, dtype: int64"
      ]
     },
     "execution_count": 55,
     "metadata": {},
     "output_type": "execute_result"
    }
   ],
   "source": [
    "user_of_each_cat"
   ]
  },
  {
   "cell_type": "code",
   "execution_count": 56,
   "metadata": {},
   "outputs": [
    {
     "data": {
      "text/plain": [
       "category_code\n",
       "accessories     1.0\n",
       "apparel         1.0\n",
       "appliances      1.0\n",
       "auto            1.0\n",
       "computers       1.0\n",
       "construction    1.0\n",
       "country_yard    1.0\n",
       "electronics     1.0\n",
       "furniture       1.0\n",
       "kids            1.0\n",
       "medicine        1.0\n",
       "sport           1.0\n",
       "stationery      1.0\n",
       "dtype: float64"
      ]
     },
     "execution_count": 56,
     "metadata": {},
     "output_type": "execute_result"
    }
   ],
   "source": [
    "purchase_rate_for_cat = number_of_sales.divide(user_of_each_cat)\n",
    "purchase_rate_for_cat"
   ]
  }
 ],
 "metadata": {
  "kernelspec": {
   "display_name": "Python 3",
   "language": "python",
   "name": "python3"
  },
  "language_info": {
   "codemirror_mode": {
    "name": "ipython",
    "version": 3
   },
   "file_extension": ".py",
   "mimetype": "text/x-python",
   "name": "python",
   "nbconvert_exporter": "python",
   "pygments_lexer": "ipython3",
   "version": "3.8.3"
  }
 },
 "nbformat": 4,
 "nbformat_minor": 4
}
