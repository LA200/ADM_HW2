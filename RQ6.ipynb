{
 "cells": [
  {
   "cell_type": "code",
   "execution_count": 3,
   "metadata": {},
   "outputs": [],
   "source": [
    "import pandas as pd\n",
    "import numpy as np\n",
    "import math"
   ]
  },
  {
   "cell_type": "code",
   "execution_count": 4,
   "metadata": {},
   "outputs": [],
   "source": [
    "#path's csv file, \n",
    "nov = pd.read_csv('/Users/tommy/Desktop/codici/datasets/2019-Nov.csv', header='infer',\n",
    "parse_dates=['event_time'],\n",
    "date_parser=pd.to_datetime)"
   ]
  },
  {
   "cell_type": "code",
   "execution_count": 5,
   "metadata": {},
   "outputs": [],
   "source": [
    "octo = pd.read_csv('/Users/tommy/Desktop/codici/datasets/2019-Oct.csv', header='infer',\n",
    "parse_dates=['event_time'],\n",
    "date_parser=pd.to_datetime)"
   ]
  },
  {
   "cell_type": "code",
   "execution_count": 6,
   "metadata": {},
   "outputs": [],
   "source": [
    "tot = pd.concat([nov,octo], axis = 0)"
   ]
  },
  {
   "cell_type": "code",
   "execution_count": 7,
   "metadata": {},
   "outputs": [
    {
     "data": {
      "text/html": [
       "<div>\n",
       "<style scoped>\n",
       "    .dataframe tbody tr th:only-of-type {\n",
       "        vertical-align: middle;\n",
       "    }\n",
       "\n",
       "    .dataframe tbody tr th {\n",
       "        vertical-align: top;\n",
       "    }\n",
       "\n",
       "    .dataframe thead th {\n",
       "        text-align: right;\n",
       "    }\n",
       "</style>\n",
       "<table border=\"1\" class=\"dataframe\">\n",
       "  <thead>\n",
       "    <tr style=\"text-align: right;\">\n",
       "      <th></th>\n",
       "      <th>event_time</th>\n",
       "      <th>event_type</th>\n",
       "      <th>product_id</th>\n",
       "      <th>category_id</th>\n",
       "      <th>category_code</th>\n",
       "      <th>brand</th>\n",
       "      <th>price</th>\n",
       "      <th>user_id</th>\n",
       "      <th>user_session</th>\n",
       "    </tr>\n",
       "  </thead>\n",
       "  <tbody>\n",
       "    <tr>\n",
       "      <th>0</th>\n",
       "      <td>2019-11-01 00:00:00+00:00</td>\n",
       "      <td>view</td>\n",
       "      <td>1003461</td>\n",
       "      <td>2053013555631882655</td>\n",
       "      <td>electronics.smartphone</td>\n",
       "      <td>xiaomi</td>\n",
       "      <td>489.07</td>\n",
       "      <td>520088904</td>\n",
       "      <td>4d3b30da-a5e4-49df-b1a8-ba5943f1dd33</td>\n",
       "    </tr>\n",
       "    <tr>\n",
       "      <th>1</th>\n",
       "      <td>2019-11-01 00:00:00+00:00</td>\n",
       "      <td>view</td>\n",
       "      <td>5000088</td>\n",
       "      <td>2053013566100866035</td>\n",
       "      <td>appliances.sewing_machine</td>\n",
       "      <td>janome</td>\n",
       "      <td>293.65</td>\n",
       "      <td>530496790</td>\n",
       "      <td>8e5f4f83-366c-4f70-860e-ca7417414283</td>\n",
       "    </tr>\n",
       "    <tr>\n",
       "      <th>2</th>\n",
       "      <td>2019-11-01 00:00:01+00:00</td>\n",
       "      <td>view</td>\n",
       "      <td>17302664</td>\n",
       "      <td>2053013553853497655</td>\n",
       "      <td>NaN</td>\n",
       "      <td>creed</td>\n",
       "      <td>28.31</td>\n",
       "      <td>561587266</td>\n",
       "      <td>755422e7-9040-477b-9bd2-6a6e8fd97387</td>\n",
       "    </tr>\n",
       "    <tr>\n",
       "      <th>3</th>\n",
       "      <td>2019-11-01 00:00:01+00:00</td>\n",
       "      <td>view</td>\n",
       "      <td>3601530</td>\n",
       "      <td>2053013563810775923</td>\n",
       "      <td>appliances.kitchen.washer</td>\n",
       "      <td>lg</td>\n",
       "      <td>712.87</td>\n",
       "      <td>518085591</td>\n",
       "      <td>3bfb58cd-7892-48cc-8020-2f17e6de6e7f</td>\n",
       "    </tr>\n",
       "    <tr>\n",
       "      <th>4</th>\n",
       "      <td>2019-11-01 00:00:01+00:00</td>\n",
       "      <td>view</td>\n",
       "      <td>1004775</td>\n",
       "      <td>2053013555631882655</td>\n",
       "      <td>electronics.smartphone</td>\n",
       "      <td>xiaomi</td>\n",
       "      <td>183.27</td>\n",
       "      <td>558856683</td>\n",
       "      <td>313628f1-68b8-460d-84f6-cec7a8796ef2</td>\n",
       "    </tr>\n",
       "  </tbody>\n",
       "</table>\n",
       "</div>"
      ],
      "text/plain": [
       "                 event_time event_type  product_id          category_id  \\\n",
       "0 2019-11-01 00:00:00+00:00       view     1003461  2053013555631882655   \n",
       "1 2019-11-01 00:00:00+00:00       view     5000088  2053013566100866035   \n",
       "2 2019-11-01 00:00:01+00:00       view    17302664  2053013553853497655   \n",
       "3 2019-11-01 00:00:01+00:00       view     3601530  2053013563810775923   \n",
       "4 2019-11-01 00:00:01+00:00       view     1004775  2053013555631882655   \n",
       "\n",
       "               category_code   brand   price    user_id  \\\n",
       "0     electronics.smartphone  xiaomi  489.07  520088904   \n",
       "1  appliances.sewing_machine  janome  293.65  530496790   \n",
       "2                        NaN   creed   28.31  561587266   \n",
       "3  appliances.kitchen.washer      lg  712.87  518085591   \n",
       "4     electronics.smartphone  xiaomi  183.27  558856683   \n",
       "\n",
       "                           user_session  \n",
       "0  4d3b30da-a5e4-49df-b1a8-ba5943f1dd33  \n",
       "1  8e5f4f83-366c-4f70-860e-ca7417414283  \n",
       "2  755422e7-9040-477b-9bd2-6a6e8fd97387  \n",
       "3  3bfb58cd-7892-48cc-8020-2f17e6de6e7f  \n",
       "4  313628f1-68b8-460d-84f6-cec7a8796ef2  "
      ]
     },
     "execution_count": 7,
     "metadata": {},
     "output_type": "execute_result"
    }
   ],
   "source": [
    "tot.head()"
   ]
  },
  {
   "cell_type": "code",
   "execution_count": 8,
   "metadata": {},
   "outputs": [],
   "source": [
    "#PURCHASE RATE: => #NUMBER OF PRODUCT SOLD/#USERS\n",
    "subRQ6 = tot[['event_type','user_id','category_code','product_id']]"
   ]
  },
  {
   "cell_type": "code",
   "execution_count": 9,
   "metadata": {},
   "outputs": [],
   "source": [
    "subRQ6 = subRQ6.dropna()\n",
    "subRQ6['category_code'] = [el.split('.')[0] for el in list(subRQ6['category_code']) if type(el) == str]"
   ]
  },
  {
   "cell_type": "code",
   "execution_count": 10,
   "metadata": {},
   "outputs": [
    {
     "data": {
      "text/html": [
       "<div>\n",
       "<style scoped>\n",
       "    .dataframe tbody tr th:only-of-type {\n",
       "        vertical-align: middle;\n",
       "    }\n",
       "\n",
       "    .dataframe tbody tr th {\n",
       "        vertical-align: top;\n",
       "    }\n",
       "\n",
       "    .dataframe thead th {\n",
       "        text-align: right;\n",
       "    }\n",
       "</style>\n",
       "<table border=\"1\" class=\"dataframe\">\n",
       "  <thead>\n",
       "    <tr style=\"text-align: right;\">\n",
       "      <th></th>\n",
       "      <th>event_type</th>\n",
       "      <th>user_id</th>\n",
       "      <th>category_code</th>\n",
       "      <th>product_id</th>\n",
       "    </tr>\n",
       "  </thead>\n",
       "  <tbody>\n",
       "    <tr>\n",
       "      <th>0</th>\n",
       "      <td>view</td>\n",
       "      <td>520088904</td>\n",
       "      <td>electronics</td>\n",
       "      <td>1003461</td>\n",
       "    </tr>\n",
       "    <tr>\n",
       "      <th>1</th>\n",
       "      <td>view</td>\n",
       "      <td>530496790</td>\n",
       "      <td>appliances</td>\n",
       "      <td>5000088</td>\n",
       "    </tr>\n",
       "    <tr>\n",
       "      <th>3</th>\n",
       "      <td>view</td>\n",
       "      <td>518085591</td>\n",
       "      <td>appliances</td>\n",
       "      <td>3601530</td>\n",
       "    </tr>\n",
       "    <tr>\n",
       "      <th>4</th>\n",
       "      <td>view</td>\n",
       "      <td>558856683</td>\n",
       "      <td>electronics</td>\n",
       "      <td>1004775</td>\n",
       "    </tr>\n",
       "    <tr>\n",
       "      <th>5</th>\n",
       "      <td>view</td>\n",
       "      <td>520772685</td>\n",
       "      <td>computers</td>\n",
       "      <td>1306894</td>\n",
       "    </tr>\n",
       "  </tbody>\n",
       "</table>\n",
       "</div>"
      ],
      "text/plain": [
       "  event_type    user_id category_code  product_id\n",
       "0       view  520088904   electronics     1003461\n",
       "1       view  530496790    appliances     5000088\n",
       "3       view  518085591    appliances     3601530\n",
       "4       view  558856683   electronics     1004775\n",
       "5       view  520772685     computers     1306894"
      ]
     },
     "execution_count": 10,
     "metadata": {},
     "output_type": "execute_result"
    }
   ],
   "source": [
    "subRQ6.head()"
   ]
  },
  {
   "cell_type": "code",
   "execution_count": 11,
   "metadata": {},
   "outputs": [],
   "source": [
    "# obtaining the number of product sold:\n",
    "# by taking only rows about purchasing\n",
    "# and at the end we count them (.shape[0])\n",
    "# shape[0] are the rows of the dataset where the event is equal to purchase\n",
    "# so it rapresents the product sold\n",
    "\n",
    "df_prod_sold =  subRQ6[subRQ6['event_type']=='purchase']\n",
    "prod_sold = df_prod_sold.shape[0]"
   ]
  },
  {
   "cell_type": "code",
   "execution_count": 12,
   "metadata": {},
   "outputs": [
    {
     "data": {
      "text/plain": [
       "1252145"
      ]
     },
     "execution_count": 12,
     "metadata": {},
     "output_type": "execute_result"
    }
   ],
   "source": [
    "prod_sold"
   ]
  },
  {
   "cell_type": "code",
   "execution_count": 13,
   "metadata": {},
   "outputs": [],
   "source": [
    "# in a similar way we calculate the number of user:\n",
    "# this time we group by 'user_id' so we obtain the exact users's number\n",
    "# we extract that number by the command shape[0] (number of rows)\n",
    "users = subRQ6.groupby('user_id').product_id.count().shape[0]"
   ]
  },
  {
   "cell_type": "code",
   "execution_count": 14,
   "metadata": {},
   "outputs": [
    {
     "data": {
      "text/plain": [
       "4300482"
      ]
     },
     "execution_count": 14,
     "metadata": {},
     "output_type": "execute_result"
    }
   ],
   "source": [
    "users"
   ]
  },
  {
   "cell_type": "code",
   "execution_count": 15,
   "metadata": {},
   "outputs": [
    {
     "data": {
      "text/plain": [
       "0.2912"
      ]
     },
     "execution_count": 15,
     "metadata": {},
     "output_type": "execute_result"
    }
   ],
   "source": [
    "#finally we calculate the actual purchase rate value\n",
    "purchase_rate = prod_sold/users\n",
    "round(purchase_rate,4)"
   ]
  },
  {
   "cell_type": "code",
   "execution_count": null,
   "metadata": {},
   "outputs": [],
   "source": []
  },
  {
   "cell_type": "code",
   "execution_count": 16,
   "metadata": {},
   "outputs": [],
   "source": [
    "#Now that we have the purchase rate we can calculate the conversion rate\n",
    "# CONVERSION RATE = PURCHASE RATE/ #VIEWS"
   ]
  },
  {
   "cell_type": "code",
   "execution_count": 17,
   "metadata": {},
   "outputs": [],
   "source": [
    "#same think of before\n",
    "df_views = subRQ6[subRQ6['event_type']=='view']\n",
    "views = df_views.shape[0]"
   ]
  },
  {
   "cell_type": "code",
   "execution_count": 18,
   "metadata": {},
   "outputs": [
    {
     "data": {
      "text/plain": [
       "4.1439977382377554e-09"
      ]
     },
     "execution_count": 18,
     "metadata": {},
     "output_type": "execute_result"
    }
   ],
   "source": [
    "#conversion rate calculated by following the previous formula\n",
    "conversion_rate = purchase_rate / views\n",
    "conversion_rate"
   ]
  },
  {
   "cell_type": "code",
   "execution_count": 22,
   "metadata": {},
   "outputs": [],
   "source": [
    "#purchase rate of each category"
   ]
  },
  {
   "cell_type": "code",
   "execution_count": 24,
   "metadata": {},
   "outputs": [
    {
     "data": {
      "text/plain": [
       "category_code\n",
       "accessories       3741\n",
       "apparel          22217\n",
       "appliances      174022\n",
       "auto             21339\n",
       "computers        62332\n",
       "construction     16500\n",
       "country_yard       132\n",
       "electronics     916667\n",
       "furniture        19843\n",
       "kids             11648\n",
       "medicine           654\n",
       "sport             2725\n",
       "stationery         325\n",
       "Name: product_id, dtype: int64"
      ]
     },
     "execution_count": 24,
     "metadata": {},
     "output_type": "execute_result"
    }
   ],
   "source": [
    "number_of_sales = df_prod_sold.groupby('category_code').product_id.count()\n",
    "number_of_sales"
   ]
  },
  {
   "cell_type": "code",
   "execution_count": null,
   "metadata": {},
   "outputs": [],
   "source": [
    "# obtaining number of users for each categories\n",
    "# first step: grouping for categories subRQ6\n",
    "grouped_subRQ6 = subRQ6.groupby(\"category_code\")"
   ]
  },
  {
   "cell_type": "code",
   "execution_count": 28,
   "metadata": {},
   "outputs": [],
   "source": [
    "#now we want to extract the number of unique users for each category\n",
    "user_of_each_cat = grouped_subRQ6.agg({\"user_id\": \"nunique\"})"
   ]
  },
  {
   "cell_type": "code",
   "execution_count": 26,
   "metadata": {},
   "outputs": [
    {
     "data": {
      "text/html": [
       "<div>\n",
       "<style scoped>\n",
       "    .dataframe tbody tr th:only-of-type {\n",
       "        vertical-align: middle;\n",
       "    }\n",
       "\n",
       "    .dataframe tbody tr th {\n",
       "        vertical-align: top;\n",
       "    }\n",
       "\n",
       "    .dataframe thead th {\n",
       "        text-align: right;\n",
       "    }\n",
       "</style>\n",
       "<table border=\"1\" class=\"dataframe\">\n",
       "  <thead>\n",
       "    <tr style=\"text-align: right;\">\n",
       "      <th></th>\n",
       "      <th>event_type</th>\n",
       "      <th>user_id</th>\n",
       "      <th>category_code</th>\n",
       "      <th>product_id</th>\n",
       "    </tr>\n",
       "  </thead>\n",
       "  <tbody>\n",
       "    <tr>\n",
       "      <th>0</th>\n",
       "      <td>view</td>\n",
       "      <td>520088904</td>\n",
       "      <td>electronics</td>\n",
       "      <td>1003461</td>\n",
       "    </tr>\n",
       "    <tr>\n",
       "      <th>1</th>\n",
       "      <td>view</td>\n",
       "      <td>530496790</td>\n",
       "      <td>appliances</td>\n",
       "      <td>5000088</td>\n",
       "    </tr>\n",
       "    <tr>\n",
       "      <th>3</th>\n",
       "      <td>view</td>\n",
       "      <td>518085591</td>\n",
       "      <td>appliances</td>\n",
       "      <td>3601530</td>\n",
       "    </tr>\n",
       "    <tr>\n",
       "      <th>4</th>\n",
       "      <td>view</td>\n",
       "      <td>558856683</td>\n",
       "      <td>electronics</td>\n",
       "      <td>1004775</td>\n",
       "    </tr>\n",
       "    <tr>\n",
       "      <th>5</th>\n",
       "      <td>view</td>\n",
       "      <td>520772685</td>\n",
       "      <td>computers</td>\n",
       "      <td>1306894</td>\n",
       "    </tr>\n",
       "    <tr>\n",
       "      <th>...</th>\n",
       "      <td>...</td>\n",
       "      <td>...</td>\n",
       "      <td>...</td>\n",
       "      <td>...</td>\n",
       "    </tr>\n",
       "    <tr>\n",
       "      <th>37244</th>\n",
       "      <td>view</td>\n",
       "      <td>562877884</td>\n",
       "      <td>stationery</td>\n",
       "      <td>53400066</td>\n",
       "    </tr>\n",
       "    <tr>\n",
       "      <th>37509</th>\n",
       "      <td>view</td>\n",
       "      <td>562877884</td>\n",
       "      <td>stationery</td>\n",
       "      <td>53400067</td>\n",
       "    </tr>\n",
       "    <tr>\n",
       "      <th>37868</th>\n",
       "      <td>view</td>\n",
       "      <td>562877884</td>\n",
       "      <td>stationery</td>\n",
       "      <td>53400067</td>\n",
       "    </tr>\n",
       "    <tr>\n",
       "      <th>37948</th>\n",
       "      <td>view</td>\n",
       "      <td>562877884</td>\n",
       "      <td>stationery</td>\n",
       "      <td>53400066</td>\n",
       "    </tr>\n",
       "    <tr>\n",
       "      <th>40542</th>\n",
       "      <td>view</td>\n",
       "      <td>523895332</td>\n",
       "      <td>country_yard</td>\n",
       "      <td>33700007</td>\n",
       "    </tr>\n",
       "  </tbody>\n",
       "</table>\n",
       "<p>65 rows × 4 columns</p>\n",
       "</div>"
      ],
      "text/plain": [
       "      event_type    user_id category_code  product_id\n",
       "0           view  520088904   electronics     1003461\n",
       "1           view  530496790    appliances     5000088\n",
       "3           view  518085591    appliances     3601530\n",
       "4           view  558856683   electronics     1004775\n",
       "5           view  520772685     computers     1306894\n",
       "...          ...        ...           ...         ...\n",
       "37244       view  562877884    stationery    53400066\n",
       "37509       view  562877884    stationery    53400067\n",
       "37868       view  562877884    stationery    53400067\n",
       "37948       view  562877884    stationery    53400066\n",
       "40542       view  523895332  country_yard    33700007\n",
       "\n",
       "[65 rows x 4 columns]"
      ]
     },
     "execution_count": 26,
     "metadata": {},
     "output_type": "execute_result"
    }
   ],
   "source": [
    "grouped_subRQ6.head()"
   ]
  },
  {
   "cell_type": "code",
   "execution_count": 29,
   "metadata": {},
   "outputs": [
    {
     "data": {
      "text/plain": [
       "category_code\n",
       "accessories      115558\n",
       "apparel          625291\n",
       "appliances      1087898\n",
       "auto             287480\n",
       "computers        547379\n",
       "construction     219154\n",
       "country_yard       8221\n",
       "electronics     3108287\n",
       "furniture        432412\n",
       "kids             226201\n",
       "medicine           7566\n",
       "sport             82279\n",
       "stationery         5690\n",
       "Name: user_id, dtype: int64"
      ]
     },
     "execution_count": 29,
     "metadata": {},
     "output_type": "execute_result"
    }
   ],
   "source": [
    "user_of_each_cat.iloc[:,0]"
   ]
  },
  {
   "cell_type": "code",
   "execution_count": 30,
   "metadata": {},
   "outputs": [],
   "source": [
    "#converting into a series\n",
    "series_of_unique_users = user_of_each_cat.iloc[:,0]"
   ]
  },
  {
   "cell_type": "code",
   "execution_count": 31,
   "metadata": {},
   "outputs": [
    {
     "data": {
      "text/plain": [
       "category_code\n",
       "electronics     0.2949\n",
       "appliances      0.1600\n",
       "computers       0.1139\n",
       "medicine        0.0864\n",
       "construction    0.0753\n",
       "auto            0.0742\n",
       "stationery      0.0571\n",
       "kids            0.0515\n",
       "furniture       0.0459\n",
       "apparel         0.0355\n",
       "sport           0.0331\n",
       "accessories     0.0324\n",
       "country_yard    0.0161\n",
       "dtype: float64"
      ]
     },
     "execution_count": 31,
     "metadata": {},
     "output_type": "execute_result"
    }
   ],
   "source": [
    "#calculating the purchase rate => \n",
    "# number of product sold for each catogory / number of unique user for each category\n",
    "purchase_rate_for_cat = number_of_sales.divide(series_of_unique_users)\n",
    "round(purchase_rate_for_cat,4).sort_values(ascending=False)"
   ]
  },
  {
   "cell_type": "code",
   "execution_count": null,
   "metadata": {},
   "outputs": [],
   "source": [
    "# now for the last step of this request \n",
    "# we calculate the conversion rate of each categories\n",
    "# we have yet the purchase rate of product for each category\n",
    "# in a similar way we are going to calculate the number of views\n",
    "# for each category and then we simply divide them.\n"
   ]
  },
  {
   "cell_type": "code",
   "execution_count": 32,
   "metadata": {},
   "outputs": [
    {
     "data": {
      "text/plain": [
       "category_code\n",
       "accessories       616475\n",
       "apparel          4477518\n",
       "appliances      12837916\n",
       "auto             2157706\n",
       "computers        6297977\n",
       "construction     1759762\n",
       "country_yard       31255\n",
       "electronics     37026582\n",
       "furniture        3295250\n",
       "kids             1292002\n",
       "medicine           34738\n",
       "sport             415087\n",
       "stationery         19323\n",
       "Name: product_id, dtype: int64"
      ]
     },
     "execution_count": 32,
     "metadata": {},
     "output_type": "execute_result"
    }
   ],
   "source": [
    "number_of_views = df_views.groupby('category_code').product_id.count()\n",
    "number_of_views"
   ]
  },
  {
   "cell_type": "code",
   "execution_count": 33,
   "metadata": {},
   "outputs": [
    {
     "data": {
      "text/plain": [
       "category_code\n",
       "stationery      2.955946e-06\n",
       "medicine        2.488322e-06\n",
       "country_yard    5.137239e-07\n",
       "sport           7.978815e-08\n",
       "accessories     5.251365e-08\n",
       "construction    4.278392e-08\n",
       "kids            3.985599e-08\n",
       "auto            3.440124e-08\n",
       "computers       1.808098e-08\n",
       "furniture       1.392583e-08\n",
       "appliances      1.246010e-08\n",
       "electronics     7.964836e-09\n",
       "apparel         7.935347e-09\n",
       "dtype: float64"
      ]
     },
     "execution_count": 33,
     "metadata": {},
     "output_type": "execute_result"
    }
   ],
   "source": [
    "coversion_rate_for_categories = purchase_rate_for_cat.divide(number_of_views)\n",
    "coversion_rate_for_categories.sort_values(ascending=False)"
   ]
  },
  {
   "cell_type": "code",
   "execution_count": 34,
   "metadata": {},
   "outputs": [],
   "source": [
    "#now we apply a traslation to plot better the results\n",
    "coversion_for_plot = ((coversion_rate_for_categories)*10**8).sort_values(ascending=False)"
   ]
  }
 ],
 "metadata": {
  "kernelspec": {
   "display_name": "Python 3",
   "language": "python",
   "name": "python3"
  },
  "language_info": {
   "codemirror_mode": {
    "name": "ipython",
    "version": 3
   },
   "file_extension": ".py",
   "mimetype": "text/x-python",
   "name": "python",
   "nbconvert_exporter": "python",
   "pygments_lexer": "ipython3",
   "version": "3.8.3"
  }
 },
 "nbformat": 4,
 "nbformat_minor": 4
}
