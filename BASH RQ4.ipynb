{
 "cells": [
  {
   "cell_type": "code",
   "execution_count": 1,
   "metadata": {},
   "outputs": [],
   "source": [
    "# Requirements \n",
    "# !pip3 install pandas numpy seaborn \n",
    "import os\n",
    "import numpy as np\n",
    "import pandas as pd\n",
    "import math\n",
    "from matplotlib import pyplot as plt\n",
    "import seaborn as sns"
   ]
  },
  {
   "cell_type": "code",
   "execution_count": 3,
   "metadata": {},
   "outputs": [
    {
     "name": "stdout",
     "output_type": "stream",
     "text": [
      "2019-Nov.csv\r\n"
     ]
    }
   ],
   "source": [
    "!bash RQ4_Nov19.sh"
   ]
  },
  {
   "cell_type": "code",
   "execution_count": 4,
   "metadata": {},
   "outputs": [
    {
     "name": "stdout",
     "output_type": "stream",
     "text": [
      "2019-Oct.csv\r\n"
     ]
    }
   ],
   "source": [
    "!bash RQ4_Oct19.sh"
   ]
  },
  {
   "cell_type": "code",
   "execution_count": 5,
   "metadata": {},
   "outputs": [],
   "source": [
    "df_labels = ['2019-Oct.csv.rq4', '2019-Nov.csv.rq4']"
   ]
  },
  {
   "cell_type": "code",
   "execution_count": 6,
   "metadata": {},
   "outputs": [],
   "source": [
    "def get_file_path(df_label='2019-Oct', aws=False):\n",
    "    if aws:\n",
    "        return f\"s3://Users/tommy/Desktop/codici/datasets/{df_label}.csv\"\n",
    "    return f\"datasets/{df_label}.csv\"\n",
    "#/Users/tommy/Desktop/codici/datasets/2019-Nov.csv"
   ]
  },
  {
   "cell_type": "code",
   "execution_count": null,
   "metadata": {},
   "outputs": [],
   "source": []
  },
  {
   "cell_type": "code",
   "execution_count": 7,
   "metadata": {},
   "outputs": [],
   "source": [
    "deafult_chunksize = 10_000\n",
    "default_nrows = 100_000\n",
    "default_file_label = df_labels[0]\n",
    "default_aws = False"
   ]
  },
  {
   "cell_type": "code",
   "execution_count": 8,
   "metadata": {},
   "outputs": [],
   "source": [
    "def read_csv(\n",
    "    df_label: str = default_file_label,\n",
    "    aws: bool = default_aws,\n",
    "    chunksize: int = deafult_chunksize, \n",
    "    nrows: int = default_nrows,\n",
    "    usecols: list = None, \n",
    "    dtype: dict = None, \n",
    "    parse_dates: list = False,\n",
    "    date_parser=None\n",
    "):\n",
    "    return pd.read_csv(\n",
    "        get_file_path(df_label=df_label, aws=aws),\n",
    "        usecols=usecols,\n",
    "        dtype=dtype,\n",
    "        engine='c',\n",
    "        na_filter=False,\n",
    "        memory_map=True,\n",
    "        chunksize=chunksize,\n",
    "        nrows=nrows,\n",
    "        parse_dates=parse_dates,\n",
    "        date_parser=date_parser\n",
    "    )"
   ]
  },
  {
   "cell_type": "code",
   "execution_count": null,
   "metadata": {},
   "outputs": [],
   "source": []
  }
 ],
 "metadata": {
  "kernelspec": {
   "display_name": "Python 3",
   "language": "python",
   "name": "python3"
  },
  "language_info": {
   "codemirror_mode": {
    "name": "ipython",
    "version": 3
   },
   "file_extension": ".py",
   "mimetype": "text/x-python",
   "name": "python",
   "nbconvert_exporter": "python",
   "pygments_lexer": "ipython3",
   "version": "3.8.3"
  }
 },
 "nbformat": 4,
 "nbformat_minor": 4
}
