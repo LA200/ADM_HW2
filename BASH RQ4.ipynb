{
 "cells": [
  {
   "cell_type": "code",
   "execution_count": 13,
   "metadata": {},
   "outputs": [],
   "source": [
    "# Requirements \n",
    "# !pip3 install pandas numpy seaborn \n",
    "import os\n",
    "import numpy as np\n",
    "import pandas as pd\n",
    "import math\n",
    "from matplotlib import pyplot as plt\n",
    "import seaborn as sns"
   ]
  },
  {
   "cell_type": "code",
   "execution_count": 3,
   "metadata": {},
   "outputs": [
    {
     "name": "stdout",
     "output_type": "stream",
     "text": [
      "2019-Nov.csv\r\n"
     ]
    }
   ],
   "source": [
    "!bash RQ4_Nov19.sh"
   ]
  },
  {
   "cell_type": "code",
   "execution_count": 4,
   "metadata": {},
   "outputs": [
    {
     "name": "stdout",
     "output_type": "stream",
     "text": [
      "2019-Oct.csv\r\n"
     ]
    }
   ],
   "source": [
    "!bash RQ4_Oct19.sh"
   ]
  },
  {
   "cell_type": "code",
   "execution_count": 5,
   "metadata": {},
   "outputs": [],
   "source": [
    "df_labels = ['2019-Oct.csv.rq4', '2019-Nov.csv.rq4']"
   ]
  },
  {
   "cell_type": "code",
   "execution_count": 6,
   "metadata": {},
   "outputs": [],
   "source": [
    "def get_file_path(df_label='2019-Oct', aws=False):\n",
    "    if aws:\n",
    "        return f\"s3://Users/tommy/Desktop/codici/datasets/{df_label}.csv\"\n",
    "    return f\"datasets/{df_label}.csv\"\n",
    "#/Users/tommy/Desktop/codici/datasets/2019-Nov.csv"
   ]
  },
  {
   "cell_type": "code",
   "execution_count": 7,
   "metadata": {},
   "outputs": [],
   "source": [
    "deafult_chunksize = 10_000\n",
    "default_nrows = 100_000\n",
    "default_file_label = df_labels[0]\n",
    "default_aws = False"
   ]
  },
  {
   "cell_type": "code",
   "execution_count": 8,
   "metadata": {},
   "outputs": [],
   "source": [
    "def read_csv(\n",
    "    df_label: str = default_file_label,\n",
    "    aws: bool = default_aws,\n",
    "    chunksize: int = deafult_chunksize, \n",
    "    nrows: int = default_nrows,\n",
    "    usecols: list = None, \n",
    "    dtype: dict = None, \n",
    "    parse_dates: list = False,\n",
    "    date_parser=None\n",
    "):\n",
    "    return pd.read_csv(\n",
    "        get_file_path(df_label=df_label, aws=aws),\n",
    "        usecols=usecols,\n",
    "        dtype=dtype,\n",
    "        engine='c',\n",
    "        na_filter=False,\n",
    "        memory_map=True,\n",
    "        chunksize=chunksize,\n",
    "        nrows=nrows,\n",
    "        parse_dates=parse_dates,\n",
    "        date_parser=date_parser\n",
    "    )"
   ]
  },
  {
   "cell_type": "code",
   "execution_count": 10,
   "metadata": {},
   "outputs": [
    {
     "data": {
      "text/plain": [
       "['2019-Oct.csv.rq4', '2019-Nov.csv.rq4']"
      ]
     },
     "execution_count": 10,
     "metadata": {},
     "output_type": "execute_result"
    }
   ],
   "source": [
    "df_labels"
   ]
  },
  {
   "cell_type": "code",
   "execution_count": 18,
   "metadata": {},
   "outputs": [],
   "source": [
    "nov_rq4 = pd.read_csv('/Users/tommy/Desktop/codici/datasets/2019-Nov.csv.rq4.csv')"
   ]
  },
  {
   "cell_type": "code",
   "execution_count": 20,
   "metadata": {},
   "outputs": [],
   "source": [
    "octo_rq4 = pd.read_csv('/Users/tommy/Desktop/codici/datasets/2019-Oct.csv.rq4.csv')"
   ]
  },
  {
   "cell_type": "code",
   "execution_count": 21,
   "metadata": {},
   "outputs": [],
   "source": [
    "tot = pd.concat([octo_rq4,nov_rq4]) #about a minute"
   ]
  },
  {
   "cell_type": "code",
   "execution_count": 22,
   "metadata": {},
   "outputs": [],
   "source": [
    "global_revenue    =          tot[tot ['event_type'] == 'purchase'].groupby('brand').price.sum()\n",
    "october_revenue   = octo_rq4[octo_rq4['event_type'] == 'purchase'].groupby('brand').price.sum()\n",
    "november_revenue  =  nov_rq4[nov_rq4 ['event_type'] == 'purchase'].groupby('brand').price.sum()"
   ]
  },
  {
   "cell_type": "code",
   "execution_count": null,
   "metadata": {},
   "outputs": [],
   "source": [
    "\n",
    "# we have got the global revenue of each brand \n",
    "# and also the revenue of sigle month"
   ]
  },
  {
   "cell_type": "code",
   "execution_count": 23,
   "metadata": {},
   "outputs": [
    {
     "data": {
      "text/plain": [
       "False"
      ]
     },
     "execution_count": 23,
     "metadata": {},
     "output_type": "execute_result"
    }
   ],
   "source": [
    "len(global_revenue) == len(october_revenue) #not every brand present in the global are also present \n",
    "                                            #in the october or in november"
   ]
  },
  {
   "cell_type": "code",
   "execution_count": 27,
   "metadata": {},
   "outputs": [],
   "source": [
    "#november_revenue['a-derma']\n",
    "#we noted that there are some missing values"
   ]
  },
  {
   "cell_type": "code",
   "execution_count": 28,
   "metadata": {},
   "outputs": [
    {
     "data": {
      "text/plain": [
       "brand\n",
       "a-case       1083.58\n",
       "a-derma        12.36\n",
       "a-elita         8.49\n",
       "a-mega       1940.15\n",
       "aardwolf      219.10\n",
       "              ...   \n",
       "zotac        2185.57\n",
       "zte         22528.00\n",
       "zubr        16647.05\n",
       "zuru           64.20\n",
       "zvezda         11.97\n",
       "Name: price, Length: 2713, dtype: float64"
      ]
     },
     "execution_count": 28,
     "metadata": {},
     "output_type": "execute_result"
    }
   ],
   "source": [
    "#global revenues for each brand:\n",
    "global_revenue"
   ]
  },
  {
   "cell_type": "code",
   "execution_count": 29,
   "metadata": {},
   "outputs": [],
   "source": [
    "#RQ4.1\n",
    "# Write a function that given the name of a brand in input returns, for each month, its profit."
   ]
  },
  {
   "cell_type": "code",
   "execution_count": 30,
   "metadata": {},
   "outputs": [],
   "source": [
    "\n",
    "def income():\n",
    "    \n",
    "    brand = input('Input your favourit brand!')\n",
    "    try:\n",
    "        print('During October the brand',brand,'gained', round(october_revenue[brand],3))\n",
    "    except Exception as e:\n",
    "        print(f\"No sales in October\")\n",
    "    \n",
    "    try:\n",
    "        print('During November the brand',brand,'gained', round(november_revenue[brand],3))\n",
    "    except Exception as e:\n",
    "        print(f\"No Sales in November\")"
   ]
  },
  {
   "cell_type": "code",
   "execution_count": 31,
   "metadata": {},
   "outputs": [
    {
     "name": "stdout",
     "output_type": "stream",
     "text": [
      "Input your favourit brand!apple\n",
      "During October the brand apple gained 111209268.82\n",
      "During November the brand apple gained 127512524.88\n"
     ]
    }
   ],
   "source": [
    "income()"
   ]
  },
  {
   "cell_type": "code",
   "execution_count": null,
   "metadata": {},
   "outputs": [],
   "source": []
  }
 ],
 "metadata": {
  "kernelspec": {
   "display_name": "Python 3",
   "language": "python",
   "name": "python3"
  },
  "language_info": {
   "codemirror_mode": {
    "name": "ipython",
    "version": 3
   },
   "file_extension": ".py",
   "mimetype": "text/x-python",
   "name": "python",
   "nbconvert_exporter": "python",
   "pygments_lexer": "ipython3",
   "version": "3.8.3"
  }
 },
 "nbformat": 4,
 "nbformat_minor": 4
}
