{
 "cells": [
  {
   "cell_type": "code",
   "execution_count": 1,
   "metadata": {},
   "outputs": [],
   "source": [
    "# Requirements \n",
    "# !pip3 install pandas numpy seaborn \n",
    "import os\n",
    "import numpy as np\n",
    "import pandas as pd\n",
    "import math\n",
    "from matplotlib import pyplot as plt\n",
    "import seaborn as sns"
   ]
  },
  {
   "cell_type": "code",
   "execution_count": 2,
   "metadata": {},
   "outputs": [
    {
     "name": "stdout",
     "output_type": "stream",
     "text": [
      "2019-Nov.csv\r\n"
     ]
    }
   ],
   "source": [
    "!bash RQ4_Nov19.sh"
   ]
  },
  {
   "cell_type": "code",
   "execution_count": 3,
   "metadata": {},
   "outputs": [
    {
     "name": "stdout",
     "output_type": "stream",
     "text": [
      "2019-Oct.csv\r\n"
     ]
    }
   ],
   "source": [
    "!bash RQ4_Oct19.sh"
   ]
  },
  {
   "cell_type": "code",
   "execution_count": 4,
   "metadata": {},
   "outputs": [],
   "source": [
    "df_labels = ['2019-Oct.csv.rq4', '2019-Nov.csv.rq4']"
   ]
  },
  {
   "cell_type": "code",
   "execution_count": 5,
   "metadata": {},
   "outputs": [],
   "source": [
    "def get_file_path(df_label='2019-Oct', aws=False):\n",
    "    if aws:\n",
    "        return f\"s3://Users/tommy/Desktop/codici/datasets/{df_label}.csv\"\n",
    "    return f\"datasets/{df_label}.csv\"\n",
    "#/Users/tommy/Desktop/codici/datasets/2019-Nov.csv"
   ]
  },
  {
   "cell_type": "code",
   "execution_count": 6,
   "metadata": {},
   "outputs": [],
   "source": [
    "nov_rq4 = pd.read_csv('/Users/tommy/Desktop/codici/datasets/2019-Nov.csv.rq4.csv')"
   ]
  },
  {
   "cell_type": "code",
   "execution_count": 7,
   "metadata": {},
   "outputs": [],
   "source": [
    "octo_rq4 = pd.read_csv('/Users/tommy/Desktop/codici/datasets/2019-Oct.csv.rq4.csv')"
   ]
  },
  {
   "cell_type": "code",
   "execution_count": 8,
   "metadata": {},
   "outputs": [],
   "source": [
    "tot_rq4 = pd.concat([octo_rq4,nov_rq4]) #about a minute"
   ]
  },
  {
   "cell_type": "code",
   "execution_count": 9,
   "metadata": {},
   "outputs": [],
   "source": [
    "global_revenue    =          tot_rq4[tot_rq4['event_type'] == 'purchase'].groupby('brand').price.sum()\n",
    "october_revenue   = octo_rq4[octo_rq4['event_type'] == 'purchase'].groupby('brand').price.sum()\n",
    "november_revenue  =  nov_rq4[nov_rq4 ['event_type'] == 'purchase'].groupby('brand').price.sum()"
   ]
  },
  {
   "cell_type": "code",
   "execution_count": 10,
   "metadata": {},
   "outputs": [],
   "source": [
    "\n",
    "# we have got the global revenue of each brand \n",
    "# and also the revenue of sigle month"
   ]
  },
  {
   "cell_type": "code",
   "execution_count": 11,
   "metadata": {},
   "outputs": [
    {
     "data": {
      "text/plain": [
       "False"
      ]
     },
     "execution_count": 11,
     "metadata": {},
     "output_type": "execute_result"
    }
   ],
   "source": [
    "len(global_revenue) == len(october_revenue) #not every brand present in the global are also present \n",
    "                                            #in the october or in november"
   ]
  },
  {
   "cell_type": "code",
   "execution_count": 12,
   "metadata": {},
   "outputs": [],
   "source": [
    "#november_revenue['a-derma']\n",
    "#we noted that there are some missing values"
   ]
  },
  {
   "cell_type": "code",
   "execution_count": 13,
   "metadata": {},
   "outputs": [
    {
     "data": {
      "text/plain": [
       "brand\n",
       "a-case       1083.58\n",
       "a-derma        12.36\n",
       "a-elita         8.49\n",
       "a-mega       1940.15\n",
       "aardwolf      219.10\n",
       "              ...   \n",
       "zotac        2185.57\n",
       "zte         22528.00\n",
       "zubr        16647.05\n",
       "zuru           64.20\n",
       "zvezda         11.97\n",
       "Name: price, Length: 2713, dtype: float64"
      ]
     },
     "execution_count": 13,
     "metadata": {},
     "output_type": "execute_result"
    }
   ],
   "source": [
    "#global revenues for each brand:\n",
    "global_revenue"
   ]
  },
  {
   "cell_type": "code",
   "execution_count": 14,
   "metadata": {},
   "outputs": [],
   "source": [
    "#RQ4.1\n",
    "# Write a function that given the name of a brand in input returns, for each month, its profit."
   ]
  },
  {
   "cell_type": "code",
   "execution_count": 15,
   "metadata": {},
   "outputs": [],
   "source": [
    "\n",
    "def income():\n",
    "    \n",
    "    brand = input('Input your favourit brand!')\n",
    "    try:\n",
    "        print('During October the brand',brand,'gained', round(october_revenue[brand],3))\n",
    "    except Exception as e:\n",
    "        print(f\"No sales in October\")\n",
    "    \n",
    "    try:\n",
    "        print('During November the brand',brand,'gained', round(november_revenue[brand],3))\n",
    "    except Exception as e:\n",
    "        print(f\"No Sales in November\")"
   ]
  },
  {
   "cell_type": "code",
   "execution_count": 16,
   "metadata": {},
   "outputs": [
    {
     "name": "stdout",
     "output_type": "stream",
     "text": [
      "Input your favourit brand!apple\n",
      "During October the brand apple gained 111209268.82\n",
      "During November the brand apple gained 127512524.88\n"
     ]
    }
   ],
   "source": [
    "income()"
   ]
  },
  {
   "cell_type": "code",
   "execution_count": 17,
   "metadata": {},
   "outputs": [],
   "source": [
    "#RQ4.2\n",
    "#Is the average price of products of different brands significantly different?\n",
    "# average price of product for each brand\n",
    "# we take a subset to obtain a faster code\n",
    "# after taking a subset, we group by brand and take the mean of price of each brand"
   ]
  },
  {
   "cell_type": "code",
   "execution_count": 19,
   "metadata": {},
   "outputs": [],
   "source": [
    "subRQ4 = tot_rq4"
   ]
  },
  {
   "cell_type": "code",
   "execution_count": 20,
   "metadata": {},
   "outputs": [
    {
     "data": {
      "text/html": [
       "<div>\n",
       "<style scoped>\n",
       "    .dataframe tbody tr th:only-of-type {\n",
       "        vertical-align: middle;\n",
       "    }\n",
       "\n",
       "    .dataframe tbody tr th {\n",
       "        vertical-align: top;\n",
       "    }\n",
       "\n",
       "    .dataframe thead th {\n",
       "        text-align: right;\n",
       "    }\n",
       "</style>\n",
       "<table border=\"1\" class=\"dataframe\">\n",
       "  <thead>\n",
       "    <tr style=\"text-align: right;\">\n",
       "      <th></th>\n",
       "      <th>brand</th>\n",
       "      <th>price</th>\n",
       "    </tr>\n",
       "  </thead>\n",
       "  <tbody>\n",
       "    <tr>\n",
       "      <th>0</th>\n",
       "      <td>shiseido</td>\n",
       "      <td>35.79</td>\n",
       "    </tr>\n",
       "    <tr>\n",
       "      <th>1</th>\n",
       "      <td>aqua</td>\n",
       "      <td>33.20</td>\n",
       "    </tr>\n",
       "    <tr>\n",
       "      <th>3</th>\n",
       "      <td>lenovo</td>\n",
       "      <td>251.74</td>\n",
       "    </tr>\n",
       "    <tr>\n",
       "      <th>4</th>\n",
       "      <td>apple</td>\n",
       "      <td>1081.98</td>\n",
       "    </tr>\n",
       "    <tr>\n",
       "      <th>5</th>\n",
       "      <td>pulser</td>\n",
       "      <td>908.62</td>\n",
       "    </tr>\n",
       "  </tbody>\n",
       "</table>\n",
       "</div>"
      ],
      "text/plain": [
       "      brand    price\n",
       "0  shiseido    35.79\n",
       "1      aqua    33.20\n",
       "3    lenovo   251.74\n",
       "4     apple  1081.98\n",
       "5    pulser   908.62"
      ]
     },
     "execution_count": 20,
     "metadata": {},
     "output_type": "execute_result"
    }
   ],
   "source": [
    "avg_price_df = subRQ4[['brand','price']].dropna()\n",
    "avg_price_df.head()\n"
   ]
  },
  {
   "cell_type": "code",
   "execution_count": 21,
   "metadata": {},
   "outputs": [
    {
     "data": {
      "text/html": [
       "<div>\n",
       "<style scoped>\n",
       "    .dataframe tbody tr th:only-of-type {\n",
       "        vertical-align: middle;\n",
       "    }\n",
       "\n",
       "    .dataframe tbody tr th {\n",
       "        vertical-align: top;\n",
       "    }\n",
       "\n",
       "    .dataframe thead tr th {\n",
       "        text-align: left;\n",
       "    }\n",
       "\n",
       "    .dataframe thead tr:last-of-type th {\n",
       "        text-align: right;\n",
       "    }\n",
       "</style>\n",
       "<table border=\"1\" class=\"dataframe\">\n",
       "  <thead>\n",
       "    <tr>\n",
       "      <th></th>\n",
       "      <th colspan=\"8\" halign=\"left\">price</th>\n",
       "    </tr>\n",
       "    <tr>\n",
       "      <th></th>\n",
       "      <th>count</th>\n",
       "      <th>mean</th>\n",
       "      <th>std</th>\n",
       "      <th>min</th>\n",
       "      <th>25%</th>\n",
       "      <th>50%</th>\n",
       "      <th>75%</th>\n",
       "      <th>max</th>\n",
       "    </tr>\n",
       "    <tr>\n",
       "      <th>brand</th>\n",
       "      <th></th>\n",
       "      <th></th>\n",
       "      <th></th>\n",
       "      <th></th>\n",
       "      <th></th>\n",
       "      <th></th>\n",
       "      <th></th>\n",
       "      <th></th>\n",
       "    </tr>\n",
       "  </thead>\n",
       "  <tbody>\n",
       "    <tr>\n",
       "      <th>a-case</th>\n",
       "      <td>19503.0</td>\n",
       "      <td>12.142794</td>\n",
       "      <td>26.637865</td>\n",
       "      <td>1.21</td>\n",
       "      <td>4.09</td>\n",
       "      <td>4.61</td>\n",
       "      <td>7.31</td>\n",
       "      <td>154.44</td>\n",
       "    </tr>\n",
       "    <tr>\n",
       "      <th>a-derma</th>\n",
       "      <td>729.0</td>\n",
       "      <td>13.906379</td>\n",
       "      <td>4.966100</td>\n",
       "      <td>5.15</td>\n",
       "      <td>9.78</td>\n",
       "      <td>12.48</td>\n",
       "      <td>16.47</td>\n",
       "      <td>22.39</td>\n",
       "    </tr>\n",
       "    <tr>\n",
       "      <th>a-elita</th>\n",
       "      <td>521.0</td>\n",
       "      <td>45.051727</td>\n",
       "      <td>31.722959</td>\n",
       "      <td>8.49</td>\n",
       "      <td>8.49</td>\n",
       "      <td>73.28</td>\n",
       "      <td>73.28</td>\n",
       "      <td>73.28</td>\n",
       "    </tr>\n",
       "    <tr>\n",
       "      <th>a-mega</th>\n",
       "      <td>1384.0</td>\n",
       "      <td>84.286734</td>\n",
       "      <td>53.504038</td>\n",
       "      <td>25.74</td>\n",
       "      <td>56.05</td>\n",
       "      <td>66.93</td>\n",
       "      <td>87.52</td>\n",
       "      <td>218.80</td>\n",
       "    </tr>\n",
       "    <tr>\n",
       "      <th>aardwolf</th>\n",
       "      <td>526.0</td>\n",
       "      <td>39.057414</td>\n",
       "      <td>25.503133</td>\n",
       "      <td>8.98</td>\n",
       "      <td>23.30</td>\n",
       "      <td>25.35</td>\n",
       "      <td>78.90</td>\n",
       "      <td>84.43</td>\n",
       "    </tr>\n",
       "  </tbody>\n",
       "</table>\n",
       "</div>"
      ],
      "text/plain": [
       "            price                                                          \n",
       "            count       mean        std    min    25%    50%    75%     max\n",
       "brand                                                                      \n",
       "a-case    19503.0  12.142794  26.637865   1.21   4.09   4.61   7.31  154.44\n",
       "a-derma     729.0  13.906379   4.966100   5.15   9.78  12.48  16.47   22.39\n",
       "a-elita     521.0  45.051727  31.722959   8.49   8.49  73.28  73.28   73.28\n",
       "a-mega     1384.0  84.286734  53.504038  25.74  56.05  66.93  87.52  218.80\n",
       "aardwolf    526.0  39.057414  25.503133   8.98  23.30  25.35  78.90   84.43"
      ]
     },
     "execution_count": 21,
     "metadata": {},
     "output_type": "execute_result"
    }
   ],
   "source": [
    "# description of the distribution of every brand \n",
    "avg_price_for_all_brand = avg_price_df.groupby(['brand']).describe()\n",
    "avg_price_for_all_brand.head()"
   ]
  },
  {
   "cell_type": "code",
   "execution_count": 22,
   "metadata": {},
   "outputs": [
    {
     "data": {
      "text/plain": [
       "brand\n",
       "a-case                19503.0\n",
       "a-derma                 729.0\n",
       "a-elita                 521.0\n",
       "a-mega                 1384.0\n",
       "aardwolf                526.0\n",
       "                       ...   \n",
       "zwerg                    18.0\n",
       "zwilling                149.0\n",
       "zwillingjahenckels     1136.0\n",
       "zx                        9.0\n",
       "zyxel                   760.0\n",
       "Name: count, Length: 4302, dtype: float64"
      ]
     },
     "execution_count": 22,
     "metadata": {},
     "output_type": "execute_result"
    }
   ],
   "source": [
    "avg_price_for_all_brand['price']['count']\n"
   ]
  },
  {
   "cell_type": "code",
   "execution_count": 23,
   "metadata": {},
   "outputs": [
    {
     "data": {
      "text/html": [
       "<div>\n",
       "<style scoped>\n",
       "    .dataframe tbody tr th:only-of-type {\n",
       "        vertical-align: middle;\n",
       "    }\n",
       "\n",
       "    .dataframe tbody tr th {\n",
       "        vertical-align: top;\n",
       "    }\n",
       "\n",
       "    .dataframe thead th {\n",
       "        text-align: right;\n",
       "    }\n",
       "</style>\n",
       "<table border=\"1\" class=\"dataframe\">\n",
       "  <thead>\n",
       "    <tr style=\"text-align: right;\">\n",
       "      <th></th>\n",
       "      <th>price</th>\n",
       "    </tr>\n",
       "  </thead>\n",
       "  <tbody>\n",
       "    <tr>\n",
       "      <th>count</th>\n",
       "      <td>4302.000000</td>\n",
       "    </tr>\n",
       "    <tr>\n",
       "      <th>mean</th>\n",
       "      <td>173.747521</td>\n",
       "    </tr>\n",
       "    <tr>\n",
       "      <th>std</th>\n",
       "      <td>279.311420</td>\n",
       "    </tr>\n",
       "    <tr>\n",
       "      <th>min</th>\n",
       "      <td>0.970000</td>\n",
       "    </tr>\n",
       "    <tr>\n",
       "      <th>25%</th>\n",
       "      <td>25.804224</td>\n",
       "    </tr>\n",
       "    <tr>\n",
       "      <th>50%</th>\n",
       "      <td>68.732001</td>\n",
       "    </tr>\n",
       "    <tr>\n",
       "      <th>75%</th>\n",
       "      <td>195.247329</td>\n",
       "    </tr>\n",
       "    <tr>\n",
       "      <th>max</th>\n",
       "      <td>2533.238401</td>\n",
       "    </tr>\n",
       "  </tbody>\n",
       "</table>\n",
       "</div>"
      ],
      "text/plain": [
       "             price\n",
       "count  4302.000000\n",
       "mean    173.747521\n",
       "std     279.311420\n",
       "min       0.970000\n",
       "25%      25.804224\n",
       "50%      68.732001\n",
       "75%     195.247329\n",
       "max    2533.238401"
      ]
     },
     "execution_count": 23,
     "metadata": {},
     "output_type": "execute_result"
    }
   ],
   "source": [
    "avg_price_for_brand = avg_price_df.groupby(['brand']).mean().describe()\n",
    "avg_price_for_brand"
   ]
  },
  {
   "cell_type": "code",
   "execution_count": 24,
   "metadata": {},
   "outputs": [],
   "source": [
    "# the number speak clear:\n",
    "# the mean's range is more than 2500\n",
    "# the max revenue is 2533 which is equival to the 2500 % of the min, just 0.97"
   ]
  },
  {
   "cell_type": "code",
   "execution_count": null,
   "metadata": {},
   "outputs": [],
   "source": []
  },
  {
   "cell_type": "code",
   "execution_count": 25,
   "metadata": {},
   "outputs": [],
   "source": [
    "#RQ4.3\n",
    "# Using the function you just created, find the top 3 brands that have suffered the biggest losses \n",
    "# in earnings between one month and the next, specifing \n",
    "# both the loss percentage and the 2 months (e.g., brand_1 lost 20% between march and april).\n",
    "\n",
    "losses_for_month = november_revenue.divide(october_revenue).dropna()\n",
    "rank_losses = losses_for_month.sort_values(ascending = True)"
   ]
  },
  {
   "cell_type": "code",
   "execution_count": 26,
   "metadata": {},
   "outputs": [
    {
     "data": {
      "text/plain": [
       "'jonnesway'"
      ]
     },
     "execution_count": 26,
     "metadata": {},
     "output_type": "execute_result"
    }
   ],
   "source": [
    "list_of_brand = rank_losses.axes[0].tolist()\n",
    "list_of_brand[0]"
   ]
  },
  {
   "cell_type": "code",
   "execution_count": 27,
   "metadata": {},
   "outputs": [
    {
     "data": {
      "text/plain": [
       "brand\n",
       "jonnesway       0.033757\n",
       "sunfull         0.040000\n",
       "evga            0.041003\n",
       "illumico        0.042754\n",
       "ventura         0.049566\n",
       "                ...     \n",
       "asm           108.001142\n",
       "pinskdrev     115.462580\n",
       "dinastia      133.585617\n",
       "delta         774.262125\n",
       "melitta      1936.160000\n",
       "Name: price, Length: 1756, dtype: float64"
      ]
     },
     "execution_count": 27,
     "metadata": {},
     "output_type": "execute_result"
    }
   ],
   "source": [
    "round(1-rank_losses[0],2)\n",
    "rank_losses"
   ]
  },
  {
   "cell_type": "code",
   "execution_count": null,
   "metadata": {},
   "outputs": [],
   "source": []
  },
  {
   "cell_type": "code",
   "execution_count": 28,
   "metadata": {},
   "outputs": [
    {
     "name": "stdout",
     "output_type": "stream",
     "text": [
      "jonnesway lost 97.0% beetween October and November\n",
      "sunfull lost 96.0% beetween October and November\n",
      "evga lost 96.0% beetween October and November\n"
     ]
    }
   ],
   "source": [
    "def worst_brand():\n",
    "    losses_for_month = november_revenue.divide(october_revenue).dropna()\n",
    "    rank_losses = losses_for_month.sort_values(ascending = True)\n",
    "    list_of_brand = rank_losses.axes[0].tolist()\n",
    "    print(list_of_brand[0],' lost ',round(1-rank_losses[0],2)*100,'% beetween October and November\\n',\n",
    "          list_of_brand[1],' lost ',round(1-rank_losses[1],2)*100,'% beetween October and November\\n',\n",
    "          list_of_brand[2],' lost ',round(1-rank_losses[2],2)*100,'% beetween October and November', sep = '')\n",
    "worst_brand()"
   ]
  },
  {
   "cell_type": "code",
   "execution_count": null,
   "metadata": {},
   "outputs": [],
   "source": []
  }
 ],
 "metadata": {
  "kernelspec": {
   "display_name": "Python 3",
   "language": "python",
   "name": "python3"
  },
  "language_info": {
   "codemirror_mode": {
    "name": "ipython",
    "version": 3
   },
   "file_extension": ".py",
   "mimetype": "text/x-python",
   "name": "python",
   "nbconvert_exporter": "python",
   "pygments_lexer": "ipython3",
   "version": "3.6.9"
  }
 },
 "nbformat": 4,
 "nbformat_minor": 4
}
