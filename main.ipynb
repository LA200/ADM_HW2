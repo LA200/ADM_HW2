{
 "cells": [
  {
   "cell_type": "markdown",
   "metadata": {},
   "source": [
    "# eCommerce analytics\n",
    "\n",
    "## Algorithmic Methods of Data Mining (Sc.M. in Data Science), Fall 2020\n",
    "\n",
    "**Goal:** \n",
    "answer some research questions (RQs) that may help to discover and interpret meaningful patterns in data and eventually increase the number of sales"
   ]
  },
  {
   "cell_type": "markdown",
   "metadata": {},
   "source": [
    "## Imports"
   ]
  },
  {
   "cell_type": "code",
   "execution_count": 1,
   "metadata": {},
   "outputs": [],
   "source": [
    "# It's sufficient to use basic libraries such as pandas and matplotlib for the EDA\n",
    "from IPython.display import Image\n",
    "from shared import *"
   ]
  },
  {
   "cell_type": "markdown",
   "metadata": {},
   "source": [
    "## Data retrival\n",
    "\n",
    "Input data consists of one *.csv file (dataset) per months, for example\n",
    "\n",
    "- 2019-Oct.csv for data collected in October 2019\n",
    "- 2019-Nov.csv for data collected in November 2019\n",
    "\n",
    "Each dataset is too big to be processed directly, there are a couple of approaches that can be applied to perform the analysis:\n",
    "\n",
    "1. running a **bash script** so extract partial information which is essential to reply on a particular RQ, for example:\n",
    "\n",
    "    for exploring number of purchases per category we may write a script ('*RQ2.sh*') which\n",
    "     - creates a subset that contains only rows with event_type=\"purchase\"\n",
    "     - finds all unique categories present in the subset\n",
    "     - loops through categories and for each category calculates number of lines present in the subset\n",
    "\n",
    "    We started with that approach but it required different scripts for each single sub question of any RQ, it was time consuming and limited the vision of the whole picture\n",
    "\n",
    "\n",
    "2. randomly **subsampling** dataset and perform analysis on smaller version\n",
    "    \n",
    "    can be implemented with pd.read_csv(..., **skiprows**=lambda x: ...)\n",
    "\n",
    "    if we manage to extract data which represent the whole dataset well we may concentrate on the analysis of that cutted version of the dataset to make estimations\n",
    "    \n",
    "    the disadvantage of such an approach is that we can not make accurate evaluation and it's challenging to subsample the dataset to inherit at least the same statistical characteristics of the initial dataset in case we need to extrapolate the data to evaluate absolute values\n",
    " \n",
    "3. splitting a file into **chunks** which allows to work with a dataset without overloading RAM\n",
    "    \n",
    "    In this case we don't need a powerful machine to run the code and we don't loose information by subsampling the dataset itself.\n",
    "    \n",
    "    There are two easy ways to work with chunks for a dataframe\n",
    "    \n",
    "    * by using **dash** library\n",
    "    * by using **pandas** and modying default parameters for pd.read_csv()\n",
    "    \n",
    "    We chose to proceed by using pandas\n",
    "    \n",
    "As can be seen https://pandas.pydata.org/pandas-docs/stable/reference/api/pandas.read_csv.html there are a couple of parameters changing of which allows us to speed the operation up and also set up chunksize\n",
    "\n",
    "* **usecols**: we specify only columns that are needed for a RQ\n",
    "* **dtype**: we specify the format of data in each column to choose the min suffucient type representation \n",
    "* **engine**: C parser engine is obviously faster so we stick to it\n",
    "* **na_filter**: if we switch off extra empty values handling it increases the performance\n",
    "* **memory_map**: setting it to True removes I/O overhead as file object is directly mapped onto memory\n",
    "* **chunksize**: sets chunk size of an iterable object\n",
    "* **nrows**: while testing the code we may limit number of rows we consider \n"
   ]
  },
  {
   "cell_type": "code",
   "execution_count": 2,
   "metadata": {},
   "outputs": [
    {
     "data": {
      "text/plain": [
       "['2019-Oct', '2019-Nov']"
      ]
     },
     "execution_count": 2,
     "metadata": {},
     "output_type": "execute_result"
    }
   ],
   "source": [
    "# Datasets to be analyzed\n",
    "df_labels"
   ]
  },
  {
   "cell_type": "code",
   "execution_count": 3,
   "metadata": {
    "ExecuteTime": {
     "end_time": "2020-11-08T18:41:22.535049Z",
     "start_time": "2020-11-08T18:41:22.491836Z"
    }
   },
   "outputs": [
    {
     "data": {
      "text/html": [
       "<div>\n",
       "<style scoped>\n",
       "    .dataframe tbody tr th:only-of-type {\n",
       "        vertical-align: middle;\n",
       "    }\n",
       "\n",
       "    .dataframe tbody tr th {\n",
       "        vertical-align: top;\n",
       "    }\n",
       "\n",
       "    .dataframe thead th {\n",
       "        text-align: right;\n",
       "    }\n",
       "</style>\n",
       "<table border=\"1\" class=\"dataframe\">\n",
       "  <thead>\n",
       "    <tr style=\"text-align: right;\">\n",
       "      <th></th>\n",
       "      <th>event_time</th>\n",
       "      <th>event_type</th>\n",
       "      <th>product_id</th>\n",
       "      <th>category_id</th>\n",
       "      <th>category_code</th>\n",
       "      <th>brand</th>\n",
       "      <th>price</th>\n",
       "      <th>user_id</th>\n",
       "      <th>user_session</th>\n",
       "    </tr>\n",
       "  </thead>\n",
       "  <tbody>\n",
       "    <tr>\n",
       "      <th>0</th>\n",
       "      <td>2019-10-01 00:00:00+00:00</td>\n",
       "      <td>view</td>\n",
       "      <td>44600062</td>\n",
       "      <td>2103807459595387724</td>\n",
       "      <td></td>\n",
       "      <td>shiseido</td>\n",
       "      <td>35.79</td>\n",
       "      <td>541312140</td>\n",
       "      <td>72d76fde-8bb3-4e00-8c23-a032dfed738c</td>\n",
       "    </tr>\n",
       "    <tr>\n",
       "      <th>1</th>\n",
       "      <td>2019-10-01 00:00:00+00:00</td>\n",
       "      <td>view</td>\n",
       "      <td>3900821</td>\n",
       "      <td>2053013552326770905</td>\n",
       "      <td>appliances.environment.water_heater</td>\n",
       "      <td>aqua</td>\n",
       "      <td>33.20</td>\n",
       "      <td>554748717</td>\n",
       "      <td>9333dfbd-b87a-4708-9857-6336556b0fcc</td>\n",
       "    </tr>\n",
       "    <tr>\n",
       "      <th>2</th>\n",
       "      <td>2019-10-01 00:00:01+00:00</td>\n",
       "      <td>view</td>\n",
       "      <td>17200506</td>\n",
       "      <td>2053013559792632471</td>\n",
       "      <td>furniture.living_room.sofa</td>\n",
       "      <td></td>\n",
       "      <td>543.10</td>\n",
       "      <td>519107250</td>\n",
       "      <td>566511c2-e2e3-422b-b695-cf8e6e792ca8</td>\n",
       "    </tr>\n",
       "    <tr>\n",
       "      <th>3</th>\n",
       "      <td>2019-10-01 00:00:01+00:00</td>\n",
       "      <td>view</td>\n",
       "      <td>1307067</td>\n",
       "      <td>2053013558920217191</td>\n",
       "      <td>computers.notebook</td>\n",
       "      <td>lenovo</td>\n",
       "      <td>251.74</td>\n",
       "      <td>550050854</td>\n",
       "      <td>7c90fc70-0e80-4590-96f3-13c02c18c713</td>\n",
       "    </tr>\n",
       "    <tr>\n",
       "      <th>4</th>\n",
       "      <td>2019-10-01 00:00:04+00:00</td>\n",
       "      <td>view</td>\n",
       "      <td>1004237</td>\n",
       "      <td>2053013555631882655</td>\n",
       "      <td>electronics.smartphone</td>\n",
       "      <td>apple</td>\n",
       "      <td>1081.98</td>\n",
       "      <td>535871217</td>\n",
       "      <td>c6bd7419-2748-4c56-95b4-8cec9ff8b80d</td>\n",
       "    </tr>\n",
       "  </tbody>\n",
       "</table>\n",
       "</div>"
      ],
      "text/plain": [
       "                 event_time event_type  product_id          category_id  \\\n",
       "0 2019-10-01 00:00:00+00:00       view    44600062  2103807459595387724   \n",
       "1 2019-10-01 00:00:00+00:00       view     3900821  2053013552326770905   \n",
       "2 2019-10-01 00:00:01+00:00       view    17200506  2053013559792632471   \n",
       "3 2019-10-01 00:00:01+00:00       view     1307067  2053013558920217191   \n",
       "4 2019-10-01 00:00:04+00:00       view     1004237  2053013555631882655   \n",
       "\n",
       "                         category_code     brand    price    user_id  \\\n",
       "0                                       shiseido    35.79  541312140   \n",
       "1  appliances.environment.water_heater      aqua    33.20  554748717   \n",
       "2           furniture.living_room.sofa             543.10  519107250   \n",
       "3                   computers.notebook    lenovo   251.74  550050854   \n",
       "4               electronics.smartphone     apple  1081.98  535871217   \n",
       "\n",
       "                           user_session  \n",
       "0  72d76fde-8bb3-4e00-8c23-a032dfed738c  \n",
       "1  9333dfbd-b87a-4708-9857-6336556b0fcc  \n",
       "2  566511c2-e2e3-422b-b695-cf8e6e792ca8  \n",
       "3  7c90fc70-0e80-4590-96f3-13c02c18c713  \n",
       "4  c6bd7419-2748-4c56-95b4-8cec9ff8b80d  "
      ]
     },
     "execution_count": 3,
     "metadata": {},
     "output_type": "execute_result"
    }
   ],
   "source": [
    "# Display some rows to see the dataset structure\n",
    "local_n_rows = 5\n",
    "october_df = read_csv(\n",
    "    df_label=default_file_label,\n",
    "    parse_dates=['event_time'],\n",
    "    date_parser=pd.to_datetime,\n",
    "    size_mb=None,  # without chunks\n",
    "    nrows=local_n_rows\n",
    ")\n",
    "october_df.head(local_n_rows)"
   ]
  },
  {
   "cell_type": "code",
   "execution_count": 4,
   "metadata": {},
   "outputs": [
    {
     "name": "stdout",
     "output_type": "stream",
     "text": [
      "usage: rq1.py [-h] [-l DF_LABEL] [--aws AWS] [-mb SIZE_MB] [--nrows NROWS]\r\n",
      "              {get_unique_events_types,get_complete_funnels_rate,most_repeated_operation,get_avg_n_of_views_for_view_cart_funnels,get_probability_that_if_in_cart_product_is_bought,get_avg_time_from_cart_to_purchase,get_avg_time_from_first_view_to_another_event}\r\n",
      "\r\n",
      "Data analysis for RQ1\r\n",
      "\r\n",
      "positional arguments:\r\n",
      "  {get_unique_events_types,get_complete_funnels_rate,most_repeated_operation,get_avg_n_of_views_for_view_cart_funnels,get_probability_that_if_in_cart_product_is_bought,get_avg_time_from_cart_to_purchase,get_avg_time_from_first_view_to_another_event}\r\n",
      "\r\n",
      "optional arguments:\r\n",
      "  -h, --help            show this help message and exit\r\n",
      "  -l DF_LABEL, --df-label DF_LABEL\r\n",
      "  --aws AWS\r\n",
      "  -mb SIZE_MB, --size-mb SIZE_MB\r\n",
      "  --nrows NROWS\r\n"
     ]
    }
   ],
   "source": [
    "!python3 rq1.py --help"
   ]
  },
  {
   "cell_type": "code",
   "execution_count": 5,
   "metadata": {},
   "outputs": [
    {
     "name": "stdout",
     "output_type": "stream",
     "text": [
      "\r\n",
      "2019-Oct | got the following options as an event_type: ['cart', 'purchase', 'view']\r\n"
     ]
    }
   ],
   "source": [
    "!python3 rq1.py get_unique_events_types -l '2019-Oct'"
   ]
  },
  {
   "cell_type": "code",
   "execution_count": 6,
   "metadata": {
    "ExecuteTime": {
     "end_time": "2020-11-07T18:57:12.811302Z",
     "start_time": "2020-11-07T18:53:21.440818Z"
    }
   },
   "outputs": [
    {
     "name": "stdout",
     "output_type": "stream",
     "text": [
      "\r\n",
      "2019-Nov | got the following options as an event_type: ['cart', 'purchase', 'view']\r\n"
     ]
    }
   ],
   "source": [
    "!python3 rq1.py get_unique_events_types -l '2019-Nov'"
   ]
  },
  {
   "cell_type": "markdown",
   "metadata": {},
   "source": [
    "### First observations\n",
    "\n",
    "1. As can be seen we have some **missing values** for category_code and brand. We may need to fill them in case we have other rows for the same category_id or drop them to exclude them from the analysis if there is not match found\n",
    "\n",
    "2. There are solely 3 event_type categories, there is no information about an event such as 'removed from a cart'"
   ]
  },
  {
   "cell_type": "markdown",
   "metadata": {},
   "source": [
    "# RQ1"
   ]
  },
  {
   "cell_type": "markdown",
   "metadata": {},
   "source": [
    "A marketing **funnel** describes your customer’s journey with your e-commerce. \n",
    "\n",
    "It may involve different stages, beginning when someone learns about your business, when he/she visits your website for the first time, to the purchasing stage, marketing funnels map routes to conversion and beyond.\n",
    "\n",
    "Suppose your funnel involves just three simple steps: \n",
    "\n",
    "1) view, \n",
    "2) cart, \n",
    "3) purchase. \n",
    "\n",
    "\n",
    "- **Which is the rate of complete funnels**?\n",
    "\n",
    "\n",
    "- **What’s the operation users repeat more on average within a session?** Produce a plot that shows the average number of times users perform each operation (view/removefromchart etc etc).\n",
    "\n",
    "\n",
    "- **How many times, on average, a user views a product before adding it to the cart?**\n",
    "\n",
    "\n",
    "- **What’s the probability that products added once to the cart are effectively bought?**\n",
    "\n",
    "\n",
    "- **What’s the average time an item stays in the cart before being removed?**\n",
    "\n",
    "\n",
    "- **How much time passes on average between the first view time and a purchase/addition to cart?**"
   ]
  },
  {
   "cell_type": "markdown",
   "metadata": {},
   "source": [
    "## Which is the rate of complete funnels? \n",
    "\n",
    "Theoretically if user viewed a product put in into the cart another day and purchased some other day the funnel is still complete. Session is changed every time a user come back to the store after a long pause, this column can be used for grouping.\n",
    "\n",
    "There are \"inconsistent\" funnels in the dataset where after viewing a product person can buy it without putting into a cart -> **complete** funnels are the ones that lead to a **purchase**."
   ]
  },
  {
   "cell_type": "code",
   "execution_count": 7,
   "metadata": {},
   "outputs": [
    {
     "name": "stdout",
     "output_type": "stream",
     "text": [
      ".\r\n",
      "2019-Oct | Complete funnels: 1549 out of 67767\r\n",
      "2019-Oct | Rate of complete funnels: 2%\r\n"
     ]
    }
   ],
   "source": [
    "!python3 rq1.py get_complete_funnels_rate -l '2019-Oct' --nrows 100_000"
   ]
  },
  {
   "cell_type": "code",
   "execution_count": 8,
   "metadata": {},
   "outputs": [
    {
     "name": "stdout",
     "output_type": "stream",
     "text": [
      "......\r\n",
      "2019-Oct | Complete funnels: 690372 out of 27783702\r\n",
      "2019-Oct | Rate of complete funnels: 2%\r\n"
     ]
    }
   ],
   "source": [
    "!python3 rq1.py get_complete_funnels_rate -l '2019-Oct'"
   ]
  },
  {
   "cell_type": "markdown",
   "metadata": {},
   "source": [
    "As can be seen the data is pretty homogenious and we can calculate the rate on a much smaller subset"
   ]
  },
  {
   "cell_type": "code",
   "execution_count": 9,
   "metadata": {},
   "outputs": [
    {
     "name": "stdout",
     "output_type": "stream",
     "text": [
      ".\r\n",
      "2019-Nov | Complete funnels: 1352 out of 66169\r\n",
      "2019-Nov | Rate of complete funnels: 2%\r\n"
     ]
    }
   ],
   "source": [
    "!python3 rq1.py get_complete_funnels_rate -l '2019-Nov' --nrows 100_000"
   ]
  },
  {
   "cell_type": "code",
   "execution_count": 10,
   "metadata": {},
   "outputs": [],
   "source": [
    "!python3 rq1.py get_complete_funnels_rate -l '2019-Nov' -mb 100"
   ]
  },
  {
   "cell_type": "markdown",
   "metadata": {},
   "source": [
    "## What’s the operation users repeat more on average within a session? \n",
    "Produce a plot that shows the average number of times users perform each operation (view/etc)."
   ]
  },
  {
   "cell_type": "code",
   "execution_count": 11,
   "metadata": {},
   "outputs": [
    {
     "name": "stdout",
     "output_type": "stream",
     "text": [
      "."
     ]
    },
    {
     "data": {
      "image/png": "[encoded data removed]",
      "text/plain": [
       "<Figure size 1080x360 with 1 Axes>"
      ]
     },
     "metadata": {},
     "output_type": "display_data"
    }
   ],
   "source": [
    "%run rq1.py most_repeated_operation -l '2019-Oct' --nrows 100_000"
   ]
  },
  {
   "cell_type": "code",
   "execution_count": 12,
   "metadata": {},
   "outputs": [
    {
     "name": "stdout",
     "output_type": "stream",
     "text": [
      "......"
     ]
    },
    {
     "data": {
      "image/png": "[encoded data removed]",
      "text/plain": [
       "<Figure size 1080x360 with 1 Axes>"
      ]
     },
     "metadata": {},
     "output_type": "display_data"
    }
   ],
   "source": [
    "%run rq1.py most_repeated_operation -l '2019-Oct'"
   ]
  },
  {
   "cell_type": "markdown",
   "metadata": {},
   "source": [
    "As can be seen:\n",
    " 1. results are not drastically different for a small subset comparing to the whole dataset\n",
    " 2. user performs approximatelly 4.4 views in average\n",
    " 4. only around 80% of purchases are done after placing an item to the cart"
   ]
  },
  {
   "cell_type": "code",
   "execution_count": 13,
   "metadata": {},
   "outputs": [
    {
     "name": "stdout",
     "output_type": "stream",
     "text": [
      "........"
     ]
    }
   ],
   "source": [
    "%run rq1.py most_repeated_operation -l '2019-Nov' -mb 100"
   ]
  },
  {
   "cell_type": "markdown",
   "metadata": {},
   "source": [
    "## How many times, on average, a user views a product before adding it to the cart?"
   ]
  },
  {
   "cell_type": "code",
   "execution_count": 14,
   "metadata": {},
   "outputs": [
    {
     "name": "stdout",
     "output_type": "stream",
     "text": [
      ".\r\n",
      "2019-Oct | A user views a product before adding it to the cart in average 1.984 times\r\n"
     ]
    }
   ],
   "source": [
    "!python3 rq1.py get_avg_n_of_views_for_view_cart_funnels -l '2019-Oct' --nrows 100_000"
   ]
  },
  {
   "cell_type": "code",
   "execution_count": 15,
   "metadata": {},
   "outputs": [
    {
     "name": "stdout",
     "output_type": "stream",
     "text": [
      "^C\r\n"
     ]
    }
   ],
   "source": [
    "!python3 rq1.py get_avg_n_of_views_for_view_cart_funnels -l '2019-Oct'"
   ]
  },
  {
   "cell_type": "code",
   "execution_count": 16,
   "metadata": {},
   "outputs": [],
   "source": [
    "!python3 rq1.py get_avg_n_of_views_for_view_cart_funnels -l '2019-Nov' -mb 100"
   ]
  },
  {
   "cell_type": "code",
   "execution_count": 17,
   "metadata": {
    "ExecuteTime": {
     "end_time": "2020-11-08T18:42:08.245016Z",
     "start_time": "2020-11-08T18:42:06.668789Z"
    }
   },
   "outputs": [
    {
     "name": "stdout",
     "output_type": "stream",
     "text": [
      ".......\n",
      "2019-Oct | A user views a product before adding it to the cart in average 1.984 times\n",
      ".......\n",
      "2019-Nov | A user views a product before adding it to the cart in average 2.062 times\n"
     ]
    }
   ],
   "source": [
    "for df_label in df_labels:\n",
    "    get_avg_n_of_views_for_view_cart_funnels(df_label=df_label)"
   ]
  },
  {
   "cell_type": "markdown",
   "metadata": {},
   "source": [
    "## What’s the probability that products added once to the cart are effectively bought?"
   ]
  },
  {
   "cell_type": "code",
   "execution_count": 18,
   "metadata": {},
   "outputs": [
    {
     "name": "stdout",
     "output_type": "stream",
     "text": [
      ".\r\n",
      "2019-Oct | The probability that products added once to the cart are effectively bought 42%\r\n"
     ]
    }
   ],
   "source": [
    "!python3 rq1.py get_probability_that_if_in_cart_product_is_bought -l '2019-Oct' --nrows 100_000"
   ]
  },
  {
   "cell_type": "code",
   "execution_count": 19,
   "metadata": {},
   "outputs": [],
   "source": [
    "!python3 rq1.py get_probability_that_if_in_cart_product_is_bought -l '2019-Oct'"
   ]
  },
  {
   "cell_type": "code",
   "execution_count": 20,
   "metadata": {},
   "outputs": [],
   "source": [
    "!python3 rq1.py get_probability_that_if_in_cart_product_is_bought -l '2019-Nov' -mb 100"
   ]
  },
  {
   "cell_type": "code",
   "execution_count": 21,
   "metadata": {
    "ExecuteTime": {
     "end_time": "2020-11-08T18:42:14.197026Z",
     "start_time": "2020-11-08T18:42:13.837561Z"
    }
   },
   "outputs": [
    {
     "name": "stdout",
     "output_type": "stream",
     "text": [
      ".......\n",
      "2019-Oct | The probability that products added once to the cart are effectively bought 42%\n",
      ".......\n",
      "2019-Nov | The probability that products added once to the cart are effectively bought 39%\n"
     ]
    }
   ],
   "source": [
    "for df_label in df_labels:\n",
    "    get_probability_that_if_in_cart_product_is_bought(df_label=df_label)"
   ]
  },
  {
   "cell_type": "markdown",
   "metadata": {},
   "source": [
    "## What’s the average time an item stays in the cart before being removed?\n",
    "\n",
    "As we're missing the information about the remove-from-cart events we'll calculate the average time an item stays in the cart before being purchased (which is also removing the item from the cart)\n"
   ]
  },
  {
   "cell_type": "code",
   "execution_count": 22,
   "metadata": {},
   "outputs": [
    {
     "name": "stdout",
     "output_type": "stream",
     "text": [
      ".\r\n",
      "2019-Oct | The average time an item stays in the cart before being purchased 0 days 00:57:33.991836735\r\n"
     ]
    }
   ],
   "source": [
    "!python3 rq1.py get_avg_time_from_cart_to_purchase -l '2019-Oct' --nrows 100_000"
   ]
  },
  {
   "cell_type": "code",
   "execution_count": 23,
   "metadata": {},
   "outputs": [],
   "source": [
    "!python3 rq1.py get_avg_time_from_cart_to_purchase -l '2019-Oct'"
   ]
  },
  {
   "cell_type": "code",
   "execution_count": 24,
   "metadata": {},
   "outputs": [],
   "source": [
    "!python3 rq1.py get_avg_time_from_cart_to_purchase -l '2019-Nov' -mb 100"
   ]
  },
  {
   "cell_type": "code",
   "execution_count": 25,
   "metadata": {
    "ExecuteTime": {
     "end_time": "2020-11-08T18:42:20.553910Z",
     "start_time": "2020-11-08T18:42:19.005872Z"
    }
   },
   "outputs": [
    {
     "name": "stdout",
     "output_type": "stream",
     "text": [
      ".......\n",
      "2019-Oct | The average time an item stays in the cart before being purchased 0 days 01:34:35.236607143\n",
      ".......\n",
      "2019-Nov | The average time an item stays in the cart before being purchased 0 days 00:27:44.678756477\n"
     ]
    }
   ],
   "source": [
    "for df_label in df_labels:\n",
    "    get_avg_time_from_cart_to_purchase(df_label=df_label)"
   ]
  },
  {
   "cell_type": "markdown",
   "metadata": {},
   "source": [
    "## How much time passes on average between the first view time and a purchase/addition to cart?"
   ]
  },
  {
   "cell_type": "code",
   "execution_count": 26,
   "metadata": {},
   "outputs": [
    {
     "name": "stdout",
     "output_type": "stream",
     "text": [
      ".\r\n",
      "2019-Oct | The average time between the first view time and a purchase/addition to cart 0 days 00:48:14.000623830\r\n"
     ]
    }
   ],
   "source": [
    "!python3 rq1.py get_avg_time_from_first_view_to_another_event -l '2019-Oct' --nrows 100_000"
   ]
  },
  {
   "cell_type": "code",
   "execution_count": 27,
   "metadata": {},
   "outputs": [],
   "source": [
    "!python3 rq1.py get_avg_time_from_first_view_to_another_event -l '2019-Oct'"
   ]
  },
  {
   "cell_type": "code",
   "execution_count": 28,
   "metadata": {},
   "outputs": [],
   "source": [
    "!python3 rq1.py get_avg_time_from_first_view_to_another_event -l '2019-Nov' -mb 100"
   ]
  },
  {
   "cell_type": "code",
   "execution_count": 29,
   "metadata": {
    "ExecuteTime": {
     "end_time": "2020-11-08T18:42:30.900667Z",
     "start_time": "2020-11-08T18:42:26.156804Z"
    }
   },
   "outputs": [
    {
     "name": "stdout",
     "output_type": "stream",
     "text": [
      ".......\n",
      "2019-Oct | The average time between the first view time and a purchase/addition to cart 0 days 02:00:11.825112108\n",
      ".......\n",
      "2019-Nov | The average time between the first view time and a purchase/addition to cart 0 days 01:40:49.862692565\n"
     ]
    }
   ],
   "source": [
    "for df_label in df_labels:\n",
    "    get_avg_time_from_first_view_to_another_event(df_label=df_label)"
   ]
  },
  {
   "cell_type": "code",
   "execution_count": 30,
   "metadata": {
    "ExecuteTime": {
     "end_time": "2020-11-08T16:17:27.598173Z",
     "start_time": "2020-11-08T16:16:48.903633Z"
    }
   },
   "outputs": [
    {
     "name": "stdout",
     "output_type": "stream",
     "text": [
      ".......\n",
      "2019-Oct | The average time between the first view time and a purchase/addition to cart 0 days 02:04:35.807580175\n",
      ".......\n",
      "2019-Nov | The average time between the first view time and a purchase/addition to cart 0 days 01:37:42.424810353\n"
     ]
    }
   ],
   "source": [
    "for df_label in df_labels:\n",
    "    get_avg_time_from_first_view_to_another_event(df_label=df_label)  # if we consider only the first event"
   ]
  },
  {
   "cell_type": "markdown",
   "metadata": {},
   "source": [
    "# RQ2\n",
    "\n",
    " - **What are the categories of the most trending products overall?** \n",
    "   \n",
    "   For each month visualize this information through a plot showing the number of sold products per category.  \n",
    " \n",
    "- **Plot the most visited subcategories.**\n",
    "\n",
    "\n",
    "- **What are the 10 most sold products per category?**"
   ]
  },
  {
   "cell_type": "markdown",
   "metadata": {},
   "source": [
    "## What are the categories of the most trending products overall?"
   ]
  },
  {
   "cell_type": "markdown",
   "metadata": {},
   "source": [
    "The question is misleading as categories of the most trending products may be different from the most trending categories themselves. Considering the side question asking to plot number of sold products per category, we may concentrate on categories themselves.\n",
    "\n",
    "We consider a category to be trending if its products are selling out well (the more purchases - the trendier)\n",
    " \n",
    "Category - is the first value before . separator, the rest are sub-categories"
   ]
  },
  {
   "cell_type": "code",
   "execution_count": 31,
   "metadata": {
    "ExecuteTime": {
     "end_time": "2020-11-08T18:52:05.083632Z",
     "start_time": "2020-11-08T18:43:10.899017Z"
    }
   },
   "outputs": [
    {
     "name": "stdout",
     "output_type": "stream",
     "text": [
      "......................................................."
     ]
    },
    {
     "data": {
      "image/png": "[encoded data removed]",
      "text/plain": [
       "<Figure size 1080x720 with 1 Axes>"
      ]
     },
     "metadata": {},
     "output_type": "display_data"
    },
    {
     "name": "stdout",
     "output_type": "stream",
     "text": [
      "......................................................................................"
     ]
    },
    {
     "data": {
      "image/png": "[encoded data removed]",
      "text/plain": [
       "<Figure size 1080x720 with 1 Axes>"
      ]
     },
     "metadata": {},
     "output_type": "display_data"
    }
   ],
   "source": [
    "%run rq2.py get_most_trending_products -l '2019-Oct' -mb 100\n",
    "%run rq2.py get_most_trending_products -l '2019-Nov' -mb 100"
   ]
  },
  {
   "cell_type": "markdown",
   "metadata": {
    "ExecuteTime": {
     "end_time": "2020-11-08T17:40:10.151901Z",
     "start_time": "2020-11-08T17:40:10.146637Z"
    }
   },
   "source": [
    "Using a script to perform the same data extraction can be beneficial, we could do the extraction once with a script and perform visualization in Python any time we need\n",
    "\n",
    "Indeed that can be more efficient but at the same time it takes time and effort to design proper scripts, and also requires some bash comprehension "
   ]
  },
  {
   "cell_type": "code",
   "execution_count": 32,
   "metadata": {},
   "outputs": [
    {
     "name": "stdout",
     "output_type": "stream",
     "text": [
      "2019-Nov.csv\r\n",
      "2019-Oct.csv\r\n"
     ]
    }
   ],
   "source": [
    "!bash RQ2.sh"
   ]
  },
  {
   "cell_type": "code",
   "execution_count": 33,
   "metadata": {
    "ExecuteTime": {
     "end_time": "2020-11-08T18:56:38.414245Z",
     "start_time": "2020-11-08T18:56:37.765142Z"
    }
   },
   "outputs": [
    {
     "data": {
      "image/png": "[encoded data removed]",
      "text/plain": [
       "<Figure size 1080x720 with 1 Axes>"
      ]
     },
     "metadata": {},
     "output_type": "display_data"
    },
    {
     "data": {
      "image/png": "[encoded data removed]",
      "text/plain": [
       "<Figure size 1080x720 with 1 Axes>"
      ]
     },
     "metadata": {},
     "output_type": "display_data"
    }
   ],
   "source": [
    "%run rq2.py get_most_trending_products_with_bash -l '2019-Oct'\n",
    "%run rq2.py get_most_trending_products_with_bash -l '2019-Nov'"
   ]
  },
  {
   "cell_type": "markdown",
   "metadata": {},
   "source": [
    "As can be seen, **the results are the same for both approaches** but with bash parsing is much faster and if we keep '\\*.csv.purchases-per-category.csv' results can be reproduced in less than a second"
   ]
  },
  {
   "cell_type": "markdown",
   "metadata": {},
   "source": [
    "## Plot the most visited subcategories\n",
    "\n",
    "We assume that each subcategory is composed by combination of the category and all the nested (sub) categories\n",
    " \n",
    "Category - is the first value before . separator, the rest are sub-categories\n",
    "\n",
    "For the analysis after categories we're the most interested in the first subcategory, so we'll consider it (any number of subcategories can be added as an argument of the function, there are max 3 observed subcategories in the datasets)"
   ]
  },
  {
   "cell_type": "code",
   "execution_count": 34,
   "metadata": {
    "ExecuteTime": {
     "end_time": "2020-11-08T19:10:36.110544Z",
     "start_time": "2020-11-08T19:03:12.971998Z"
    }
   },
   "outputs": [
    {
     "name": "stdout",
     "output_type": "stream",
     "text": [
      "......................................................."
     ]
    },
    {
     "data": {
      "image/png": "[encoded data removed]",
      "text/plain": [
       "<Figure size 1080x720 with 1 Axes>"
      ]
     },
     "metadata": {},
     "output_type": "display_data"
    },
    {
     "name": "stdout",
     "output_type": "stream",
     "text": [
      "......................................................................................"
     ]
    },
    {
     "data": {
      "image/png": "[encoded data removed]",
      "text/plain": [
       "<Figure size 1080x720 with 1 Axes>"
      ]
     },
     "metadata": {},
     "output_type": "display_data"
    }
   ],
   "source": [
    "%run rq2.py get_most_visited_sub_categories -l '2019-Oct' -mb 100\n",
    "%run rq2.py get_most_visited_sub_categories -l '2019-Nov' -mb 100"
   ]
  },
  {
   "cell_type": "markdown",
   "metadata": {},
   "source": [
    "## What are the 10 most sold products per category?\n",
    "\n",
    "Category - is the first value before . separator, the rest are sub-categories"
   ]
  },
  {
   "cell_type": "code",
   "execution_count": 35,
   "metadata": {
    "ExecuteTime": {
     "end_time": "2020-11-08T19:21:23.033095Z",
     "start_time": "2020-11-08T19:14:55.653432Z"
    }
   },
   "outputs": [
    {
     "name": "stdout",
     "output_type": "stream",
     "text": [
      ".......................................................\n",
      "2019-Oct | Categories: \n",
      "appliances\n",
      "furniture\n",
      "computers\n",
      "electronics\n",
      "apparel\n",
      "construction\n",
      "auto\n",
      "kids\n",
      "sport\n",
      "accessories\n",
      "medicine\n",
      "stationery\n",
      "country_yard\n",
      "......................................................................................\n",
      "2019-Nov | Categories: \n",
      "electronics\n",
      "appliances\n",
      "computers\n",
      "furniture\n",
      "apparel\n",
      "construction\n",
      "auto\n",
      "accessories\n",
      "kids\n",
      "sport\n",
      "medicine\n",
      "country_yard\n",
      "stationery\n"
     ]
    }
   ],
   "source": [
    "!python3 rq2.py get_categories -l '2019-Oct'\n",
    "!python3 rq2.py get_categories -l '2019-Nov' -mb 100"
   ]
  },
  {
   "cell_type": "code",
   "execution_count": 36,
   "metadata": {},
   "outputs": [
    {
     "name": "stdout",
     "output_type": "stream",
     "text": [
      "Please enter a category (and optionally file label, comma separated): electronics\n",
      ".\n",
      "2019-Oct | The 10 most sold products per 'electronics' are: 1004856, 1004750, 1004833, 1004246, 1002524, 4804295, 1004870, 1004767, 1005104, 4804055\n"
     ]
    }
   ],
   "source": [
    "%run -i rq2.py get_most_sold_products_per_category --nrows 10_000"
   ]
  },
  {
   "cell_type": "code",
   "execution_count": 37,
   "metadata": {},
   "outputs": [
    {
     "name": "stdout",
     "output_type": "stream",
     "text": [
      "Please enter a category (and optionally file label, comma separated): electronics, 2019-Oct\n",
      "......\n",
      "2019-Oct | The 10 most sold products per 'electronics' are: 1004856, 1004767, 1004833, 1005115, 4804056, 1004870, 1002544, 1004249, 1004836, 1005105\n"
     ]
    }
   ],
   "source": [
    "%run -i rq2.py get_most_sold_products_per_category"
   ]
  },
  {
   "cell_type": "code",
   "execution_count": 38,
   "metadata": {},
   "outputs": [
    {
     "name": "stdout",
     "output_type": "stream",
     "text": [
      "Please enter a category (and optionally file label, comma separated): electronics, 2019-Nov\n",
      ".\n",
      "2019-Nov | The 10 most sold products per 'electronics' are: 1004856, 1004767, 1005115, 1004249, 1004833, 1004870, 4804056, 1002544, 1004739, 1005105\n"
     ]
    }
   ],
   "source": [
    "%run -i rq2.py get_most_sold_products_per_category --nrows 100_000 -mb 100"
   ]
  },
  {
   "cell_type": "code",
   "execution_count": 39,
   "metadata": {},
   "outputs": [
    {
     "name": "stdout",
     "output_type": "stream",
     "text": [
      "Please enter a category (and optionally file label, comma separated): electronics, 2019-Nov\n",
      "......................................................................................\n",
      "2019-Nov | The 10 most sold products per 'electronics' are: 1004856, 1004767, 1005115, 4804056, 1004833, 1002544, 1004870, 1005100, 1004249, 1005105\n"
     ]
    }
   ],
   "source": [
    "%run -i rq2.py get_most_sold_products_per_category -mb 100"
   ]
  },
  {
   "cell_type": "markdown",
   "metadata": {},
   "source": [
    "Surprisingly the most sold product per category can be identified based on just a small subset of observations (fortunatelly we have the dataset sorted by the event time and even observing shorter but sufficiently long period of time we can get essential information to make evaluation\n",
    "\n",
    "Also as can be seen the product that is sold the most in electronics category remains the same for both October and November"
   ]
  },
  {
   "cell_type": "markdown",
   "metadata": {},
   "source": [
    "# RQ3\n",
    "\n",
    "For each category, what’s the brand whose prices are higher on average?\n",
    " \n",
    "\n",
    " - Write a function that asks the user a category in input and returns a **plot indicating the average price of the products sold by the brand.**\n",
    " \n",
    " \n",
    " - **Find, for each category, the brand with the highest average price.** \n",
    " \n",
    " \n",
    "Return all the results in ascending order by price."
   ]
  },
  {
   "cell_type": "markdown",
   "metadata": {},
   "source": [
    "## Write a function that asks the user a category in input and returns a plot indicating the average price of the products sold by the brand."
   ]
  },
  {
   "cell_type": "code",
   "execution_count": 40,
   "metadata": {},
   "outputs": [
    {
     "name": "stdout",
     "output_type": "stream",
     "text": [
      "Please enter a category (and optionally file label, comma separated): electronics\n",
      "."
     ]
    },
    {
     "data": {
      "image/png": "[encoded data removed]",
      "text/plain": [
       "<Figure size 1080x720 with 1 Axes>"
      ]
     },
     "metadata": {},
     "output_type": "display_data"
    }
   ],
   "source": [
    "%run -i rq3.py get_brands_avg_prices_per_category -mb 100 --nrows 100_000"
   ]
  },
  {
   "cell_type": "code",
   "execution_count": 42,
   "metadata": {},
   "outputs": [],
   "source": [
    "%run -i rq3.py get_brands_avg_prices_per_category -mb 100"
   ]
  },
  {
   "cell_type": "code",
   "execution_count": 43,
   "metadata": {},
   "outputs": [
    {
     "name": "stdout",
     "output_type": "stream",
     "text": [
      "Please enter a category (and optionally file label, comma separated): electronics, 2019-Nov\n",
      "."
     ]
    },
    {
     "data": {
      "image/png": "[encoded data removed]",
      "text/plain": [
       "<Figure size 1080x720 with 1 Axes>"
      ]
     },
     "metadata": {},
     "output_type": "display_data"
    }
   ],
   "source": [
    "%run -i rq3.py get_brands_avg_prices_per_category -mb 100 --nrows 100_000"
   ]
  },
  {
   "cell_type": "code",
   "execution_count": 44,
   "metadata": {},
   "outputs": [],
   "source": [
    "%run -i rq3.py get_brands_avg_prices_per_category -mb 100"
   ]
  },
  {
   "cell_type": "markdown",
   "metadata": {},
   "source": [
    "## Find, for each category, the brand with the highest average price.\n",
    "\n",
    "In the previous question we were considering only purchases, here that was not explicitly stated, so we're considering all available products (even those which have not been sold)"
   ]
  },
  {
   "cell_type": "code",
   "execution_count": 45,
   "metadata": {
    "ExecuteTime": {
     "end_time": "2020-11-08T21:28:46.781912Z",
     "start_time": "2020-11-08T21:28:46.754744Z"
    }
   },
   "outputs": [
    {
     "name": "stdout",
     "output_type": "stream",
     "text": [
      "Please enter a category (and optionally file label, comma separated): electronics\n",
      ".\n",
      "2019-Oct | For category 'electronics' the brands 'rado', 'oris', 'longines', 'blg', 'takamine', 'versace', 'electro-voice', 'vivitek', 'microsoft', 'biema' got the highest prices on average\n"
     ]
    }
   ],
   "source": [
    "%run -i rq3.py get_brand_with_highest_prices_per_category -mb 100 --nrows 500_000"
   ]
  },
  {
   "cell_type": "code",
   "execution_count": 46,
   "metadata": {},
   "outputs": [
    {
     "name": "stdout",
     "output_type": "stream",
     "text": [
      "Please enter a category (and optionally file label, comma separated): electronics, 2019-Nov\n",
      ".\n",
      "2019-Nov | For category 'electronics' the brands 'takamine', 'rado', 'longines', 'oris', 'kef', 'versace', 'neumann', 'vivitek', 'alpina', 'nikon' got the highest prices on average\n"
     ]
    }
   ],
   "source": [
    "%run -i rq3.py get_brand_with_highest_prices_per_category -mb 100 --nrows 500_000"
   ]
  },
  {
   "cell_type": "code",
   "execution_count": 47,
   "metadata": {
    "ExecuteTime": {
     "end_time": "2020-11-08T21:28:55.776061Z",
     "start_time": "2020-11-08T21:28:47.833702Z"
    }
   },
   "outputs": [
    {
     "name": "stdout",
     "output_type": "stream",
     "text": [
      "Please enter a category (and optionally file label, comma separated): electronics\n",
      ".......\n",
      "2019-Oct | For category 'electronics' the brands 'rado', 'oris', 'longines', 'blg', 'kef', 'versace', 'takamine', 'vivitek', 'jaguar', 'nikon' got the highest prices on average\n"
     ]
    }
   ],
   "source": [
    "%run -i rq3.py get_brand_with_highest_prices_per_category -mb 100"
   ]
  },
  {
   "cell_type": "code",
   "execution_count": 48,
   "metadata": {},
   "outputs": [],
   "source": [
    "%run -i rq3.py get_brand_with_highest_prices_per_category -mb 100"
   ]
  },
  {
   "cell_type": "markdown",
   "metadata": {},
   "source": [
    "As can be clearly seen, **the most expensive** (regarding the average products prices) **brands are not selling as frequent as brands with lower average price**. \n",
    "\n",
    "Considering price along with sales, we could get more representative statistics and identify the most successful brands based on profit they are making in their price group."
   ]
  },
  {
   "cell_type": "markdown",
   "metadata": {},
   "source": [
    "# RQ4"
   ]
  },
  {
   "cell_type": "markdown",
   "metadata": {},
   "source": [
    "How much does each brand earn per month? \n",
    "\n",
    "Write a function that given the name of a **brand** in input returns, for each month, its **profit**. Is the average price of products of different brands significantly different?\n",
    "\n",
    "Using the function you just created, find **the top 3 brands that have suffered the biggest losses in earnings** between one month and the next, specifing bothe the loss percentage and the 2 months (e.g., brand_1 lost 20% between march and april)."
   ]
  },
  {
   "cell_type": "code",
   "execution_count": 49,
   "metadata": {},
   "outputs": [
    {
     "name": "stdout",
     "output_type": "stream",
     "text": [
      "2019-Nov.csv\r\n",
      "2019-Oct.csv\r\n"
     ]
    }
   ],
   "source": [
    "!bash RQ4.sh"
   ]
  },
  {
   "cell_type": "markdown",
   "metadata": {},
   "source": [
    "we have got the global revenue of each brand \n",
    "and also the revenue of sigle month"
   ]
  },
  {
   "cell_type": "code",
   "execution_count": 50,
   "metadata": {},
   "outputs": [],
   "source": [
    "nov_rq4 = pd.read_csv('datasets/2019-Nov.csv.rq4.csv')"
   ]
  },
  {
   "cell_type": "code",
   "execution_count": 51,
   "metadata": {},
   "outputs": [],
   "source": [
    "octo_rq4 = pd.read_csv('datasets/2019-Oct.csv.rq4.csv')"
   ]
  },
  {
   "cell_type": "code",
   "execution_count": 52,
   "metadata": {},
   "outputs": [],
   "source": [
    "tot_rq4 = pd.concat([octo_rq4,nov_rq4]) #about a minute"
   ]
  },
  {
   "cell_type": "code",
   "execution_count": 53,
   "metadata": {},
   "outputs": [],
   "source": [
    "global_revenue    = tot_rq4[tot_rq4['event_type'] == 'purchase'].groupby('brand').price.sum()\n",
    "october_revenue   = octo_rq4[octo_rq4['event_type'] == 'purchase'].groupby('brand').price.sum()\n",
    "november_revenue  = nov_rq4[nov_rq4 ['event_type'] == 'purchase'].groupby('brand').price.sum()"
   ]
  },
  {
   "cell_type": "code",
   "execution_count": 54,
   "metadata": {},
   "outputs": [
    {
     "data": {
      "text/plain": [
       "False"
      ]
     },
     "execution_count": 54,
     "metadata": {},
     "output_type": "execute_result"
    }
   ],
   "source": [
    "len(global_revenue) == len(october_revenue) #not every brand present in the global are also present \n",
    "                                            #in the october or in november"
   ]
  },
  {
   "cell_type": "markdown",
   "metadata": {},
   "source": [
    "november_revenue['a-derma']\n",
    "we noted that there are some missing values"
   ]
  },
  {
   "cell_type": "code",
   "execution_count": 55,
   "metadata": {},
   "outputs": [
    {
     "data": {
      "text/plain": [
       "brand\n",
       "a-case       1083.58\n",
       "a-derma        12.36\n",
       "a-elita         8.49\n",
       "a-mega       1940.15\n",
       "aardwolf      219.10\n",
       "              ...   \n",
       "zotac        2185.57\n",
       "zte         22528.00\n",
       "zubr        16647.05\n",
       "zuru           64.20\n",
       "zvezda         11.97\n",
       "Name: price, Length: 2713, dtype: float64"
      ]
     },
     "execution_count": 55,
     "metadata": {},
     "output_type": "execute_result"
    }
   ],
   "source": [
    "#global revenues for each brand:\n",
    "global_revenue"
   ]
  },
  {
   "cell_type": "markdown",
   "metadata": {},
   "source": [
    "### RQ4.1\n",
    "\n",
    "Write a function that given the name of a brand in input returns, for each month, its profit."
   ]
  },
  {
   "cell_type": "code",
   "execution_count": 56,
   "metadata": {},
   "outputs": [],
   "source": [
    "def income():\n",
    "    \n",
    "    brand = input('Input your favourit brand!')\n",
    "    try:\n",
    "        print('During October the brand',brand,'gained', round(october_revenue[brand],3))\n",
    "    except Exception as e:\n",
    "        print(f\"No sales in October\")\n",
    "    \n",
    "    try:\n",
    "        print('During November the brand',brand,'gained', round(november_revenue[brand],3))\n",
    "    except Exception as e:\n",
    "        print(f\"No Sales in November\")"
   ]
  },
  {
   "cell_type": "code",
   "execution_count": 57,
   "metadata": {},
   "outputs": [
    {
     "name": "stdout",
     "output_type": "stream",
     "text": [
      "Input your favourit brand!apple\n",
      "During October the brand apple gained 111209268.82\n",
      "During November the brand apple gained 127512524.88\n"
     ]
    }
   ],
   "source": [
    "income()"
   ]
  },
  {
   "cell_type": "markdown",
   "metadata": {},
   "source": [
    "### RQ4.2\n",
    "Is the average price of products of different brands significantly different?\n",
    "average price of product for each brand\n",
    "we take a subset to obtain a faster code\n",
    "after taking a subset, we group by brand and take the mean of price of each brand"
   ]
  },
  {
   "cell_type": "code",
   "execution_count": 58,
   "metadata": {},
   "outputs": [
    {
     "data": {
      "text/html": [
       "<div>\n",
       "<style scoped>\n",
       "    .dataframe tbody tr th:only-of-type {\n",
       "        vertical-align: middle;\n",
       "    }\n",
       "\n",
       "    .dataframe tbody tr th {\n",
       "        vertical-align: top;\n",
       "    }\n",
       "\n",
       "    .dataframe thead th {\n",
       "        text-align: right;\n",
       "    }\n",
       "</style>\n",
       "<table border=\"1\" class=\"dataframe\">\n",
       "  <thead>\n",
       "    <tr style=\"text-align: right;\">\n",
       "      <th></th>\n",
       "      <th>brand</th>\n",
       "      <th>price</th>\n",
       "    </tr>\n",
       "  </thead>\n",
       "  <tbody>\n",
       "    <tr>\n",
       "      <th>0</th>\n",
       "      <td>shiseido</td>\n",
       "      <td>35.79</td>\n",
       "    </tr>\n",
       "    <tr>\n",
       "      <th>1</th>\n",
       "      <td>aqua</td>\n",
       "      <td>33.20</td>\n",
       "    </tr>\n",
       "    <tr>\n",
       "      <th>3</th>\n",
       "      <td>lenovo</td>\n",
       "      <td>251.74</td>\n",
       "    </tr>\n",
       "    <tr>\n",
       "      <th>4</th>\n",
       "      <td>apple</td>\n",
       "      <td>1081.98</td>\n",
       "    </tr>\n",
       "    <tr>\n",
       "      <th>5</th>\n",
       "      <td>pulser</td>\n",
       "      <td>908.62</td>\n",
       "    </tr>\n",
       "  </tbody>\n",
       "</table>\n",
       "</div>"
      ],
      "text/plain": [
       "      brand    price\n",
       "0  shiseido    35.79\n",
       "1      aqua    33.20\n",
       "3    lenovo   251.74\n",
       "4     apple  1081.98\n",
       "5    pulser   908.62"
      ]
     },
     "execution_count": 58,
     "metadata": {},
     "output_type": "execute_result"
    }
   ],
   "source": [
    "subRQ4 = tot_rq4\n",
    "avg_price_df = subRQ4[['brand','price']].dropna()\n",
    "avg_price_df.head()"
   ]
  },
  {
   "cell_type": "code",
   "execution_count": 59,
   "metadata": {},
   "outputs": [
    {
     "data": {
      "text/html": [
       "<div>\n",
       "<style scoped>\n",
       "    .dataframe tbody tr th:only-of-type {\n",
       "        vertical-align: middle;\n",
       "    }\n",
       "\n",
       "    .dataframe tbody tr th {\n",
       "        vertical-align: top;\n",
       "    }\n",
       "\n",
       "    .dataframe thead tr th {\n",
       "        text-align: left;\n",
       "    }\n",
       "\n",
       "    .dataframe thead tr:last-of-type th {\n",
       "        text-align: right;\n",
       "    }\n",
       "</style>\n",
       "<table border=\"1\" class=\"dataframe\">\n",
       "  <thead>\n",
       "    <tr>\n",
       "      <th></th>\n",
       "      <th colspan=\"8\" halign=\"left\">price</th>\n",
       "    </tr>\n",
       "    <tr>\n",
       "      <th></th>\n",
       "      <th>count</th>\n",
       "      <th>mean</th>\n",
       "      <th>std</th>\n",
       "      <th>min</th>\n",
       "      <th>25%</th>\n",
       "      <th>50%</th>\n",
       "      <th>75%</th>\n",
       "      <th>max</th>\n",
       "    </tr>\n",
       "    <tr>\n",
       "      <th>brand</th>\n",
       "      <th></th>\n",
       "      <th></th>\n",
       "      <th></th>\n",
       "      <th></th>\n",
       "      <th></th>\n",
       "      <th></th>\n",
       "      <th></th>\n",
       "      <th></th>\n",
       "    </tr>\n",
       "  </thead>\n",
       "  <tbody>\n",
       "    <tr>\n",
       "      <th>a-case</th>\n",
       "      <td>19503.0</td>\n",
       "      <td>12.142794</td>\n",
       "      <td>26.637865</td>\n",
       "      <td>1.21</td>\n",
       "      <td>4.09</td>\n",
       "      <td>4.61</td>\n",
       "      <td>7.31</td>\n",
       "      <td>154.44</td>\n",
       "    </tr>\n",
       "    <tr>\n",
       "      <th>a-derma</th>\n",
       "      <td>729.0</td>\n",
       "      <td>13.906379</td>\n",
       "      <td>4.966100</td>\n",
       "      <td>5.15</td>\n",
       "      <td>9.78</td>\n",
       "      <td>12.48</td>\n",
       "      <td>16.47</td>\n",
       "      <td>22.39</td>\n",
       "    </tr>\n",
       "    <tr>\n",
       "      <th>a-elita</th>\n",
       "      <td>521.0</td>\n",
       "      <td>45.051727</td>\n",
       "      <td>31.722959</td>\n",
       "      <td>8.49</td>\n",
       "      <td>8.49</td>\n",
       "      <td>73.28</td>\n",
       "      <td>73.28</td>\n",
       "      <td>73.28</td>\n",
       "    </tr>\n",
       "    <tr>\n",
       "      <th>a-mega</th>\n",
       "      <td>1384.0</td>\n",
       "      <td>84.286734</td>\n",
       "      <td>53.504038</td>\n",
       "      <td>25.74</td>\n",
       "      <td>56.05</td>\n",
       "      <td>66.93</td>\n",
       "      <td>87.52</td>\n",
       "      <td>218.80</td>\n",
       "    </tr>\n",
       "    <tr>\n",
       "      <th>aardwolf</th>\n",
       "      <td>526.0</td>\n",
       "      <td>39.057414</td>\n",
       "      <td>25.503133</td>\n",
       "      <td>8.98</td>\n",
       "      <td>23.30</td>\n",
       "      <td>25.35</td>\n",
       "      <td>78.90</td>\n",
       "      <td>84.43</td>\n",
       "    </tr>\n",
       "  </tbody>\n",
       "</table>\n",
       "</div>"
      ],
      "text/plain": [
       "            price                                                          \n",
       "            count       mean        std    min    25%    50%    75%     max\n",
       "brand                                                                      \n",
       "a-case    19503.0  12.142794  26.637865   1.21   4.09   4.61   7.31  154.44\n",
       "a-derma     729.0  13.906379   4.966100   5.15   9.78  12.48  16.47   22.39\n",
       "a-elita     521.0  45.051727  31.722959   8.49   8.49  73.28  73.28   73.28\n",
       "a-mega     1384.0  84.286734  53.504038  25.74  56.05  66.93  87.52  218.80\n",
       "aardwolf    526.0  39.057414  25.503133   8.98  23.30  25.35  78.90   84.43"
      ]
     },
     "execution_count": 59,
     "metadata": {},
     "output_type": "execute_result"
    }
   ],
   "source": [
    "# description of the distribution of every brand \n",
    "avg_price_for_all_brand = avg_price_df.groupby(['brand']).describe()\n",
    "avg_price_for_all_brand.head()"
   ]
  },
  {
   "cell_type": "code",
   "execution_count": 60,
   "metadata": {},
   "outputs": [
    {
     "data": {
      "text/plain": [
       "brand\n",
       "a-case                19503.0\n",
       "a-derma                 729.0\n",
       "a-elita                 521.0\n",
       "a-mega                 1384.0\n",
       "aardwolf                526.0\n",
       "                       ...   \n",
       "zwerg                    18.0\n",
       "zwilling                149.0\n",
       "zwillingjahenckels     1136.0\n",
       "zx                        9.0\n",
       "zyxel                   760.0\n",
       "Name: count, Length: 4302, dtype: float64"
      ]
     },
     "execution_count": 60,
     "metadata": {},
     "output_type": "execute_result"
    }
   ],
   "source": [
    "avg_price_for_all_brand['price']['count']"
   ]
  },
  {
   "cell_type": "code",
   "execution_count": 61,
   "metadata": {},
   "outputs": [
    {
     "data": {
      "text/html": [
       "<div>\n",
       "<style scoped>\n",
       "    .dataframe tbody tr th:only-of-type {\n",
       "        vertical-align: middle;\n",
       "    }\n",
       "\n",
       "    .dataframe tbody tr th {\n",
       "        vertical-align: top;\n",
       "    }\n",
       "\n",
       "    .dataframe thead th {\n",
       "        text-align: right;\n",
       "    }\n",
       "</style>\n",
       "<table border=\"1\" class=\"dataframe\">\n",
       "  <thead>\n",
       "    <tr style=\"text-align: right;\">\n",
       "      <th></th>\n",
       "      <th>price</th>\n",
       "    </tr>\n",
       "  </thead>\n",
       "  <tbody>\n",
       "    <tr>\n",
       "      <th>count</th>\n",
       "      <td>4302.000000</td>\n",
       "    </tr>\n",
       "    <tr>\n",
       "      <th>mean</th>\n",
       "      <td>173.747521</td>\n",
       "    </tr>\n",
       "    <tr>\n",
       "      <th>std</th>\n",
       "      <td>279.311420</td>\n",
       "    </tr>\n",
       "    <tr>\n",
       "      <th>min</th>\n",
       "      <td>0.970000</td>\n",
       "    </tr>\n",
       "    <tr>\n",
       "      <th>25%</th>\n",
       "      <td>25.804224</td>\n",
       "    </tr>\n",
       "    <tr>\n",
       "      <th>50%</th>\n",
       "      <td>68.732001</td>\n",
       "    </tr>\n",
       "    <tr>\n",
       "      <th>75%</th>\n",
       "      <td>195.247329</td>\n",
       "    </tr>\n",
       "    <tr>\n",
       "      <th>max</th>\n",
       "      <td>2533.238401</td>\n",
       "    </tr>\n",
       "  </tbody>\n",
       "</table>\n",
       "</div>"
      ],
      "text/plain": [
       "             price\n",
       "count  4302.000000\n",
       "mean    173.747521\n",
       "std     279.311420\n",
       "min       0.970000\n",
       "25%      25.804224\n",
       "50%      68.732001\n",
       "75%     195.247329\n",
       "max    2533.238401"
      ]
     },
     "execution_count": 61,
     "metadata": {},
     "output_type": "execute_result"
    }
   ],
   "source": [
    "avg_price_for_brand = avg_price_df.groupby(['brand']).mean().describe()\n",
    "avg_price_for_brand"
   ]
  },
  {
   "cell_type": "markdown",
   "metadata": {},
   "source": [
    "the number speak clear:\n",
    "the mean's range is more than 2500\n",
    "the max revenue is 2533 which is equival to the 2500 % of the min, just 0.97"
   ]
  },
  {
   "cell_type": "markdown",
   "metadata": {},
   "source": [
    "### RQ4.3\n",
    "\n",
    "Using the function you just created, find the top 3 brands that have suffered the biggest losses \n",
    "in earnings between one month and the next, specifing \n",
    "both the loss percentage and the 2 months (e.g., brand_1 lost 20% between march and april)."
   ]
  },
  {
   "cell_type": "code",
   "execution_count": 62,
   "metadata": {},
   "outputs": [
    {
     "data": {
      "text/plain": [
       "'jonnesway'"
      ]
     },
     "execution_count": 62,
     "metadata": {},
     "output_type": "execute_result"
    }
   ],
   "source": [
    "losses_for_month = november_revenue.divide(october_revenue).dropna()\n",
    "rank_losses = losses_for_month.sort_values(ascending = True)\n",
    "list_of_brand = rank_losses.axes[0].tolist()\n",
    "list_of_brand[0]"
   ]
  },
  {
   "cell_type": "code",
   "execution_count": 63,
   "metadata": {},
   "outputs": [
    {
     "data": {
      "text/plain": [
       "brand\n",
       "jonnesway       0.033757\n",
       "sunfull         0.040000\n",
       "evga            0.041003\n",
       "illumico        0.042754\n",
       "ventura         0.049566\n",
       "                ...     \n",
       "asm           108.001142\n",
       "pinskdrev     115.462580\n",
       "dinastia      133.585617\n",
       "delta         774.262125\n",
       "melitta      1936.160000\n",
       "Name: price, Length: 1756, dtype: float64"
      ]
     },
     "execution_count": 63,
     "metadata": {},
     "output_type": "execute_result"
    }
   ],
   "source": [
    "rank_losses"
   ]
  },
  {
   "cell_type": "code",
   "execution_count": 64,
   "metadata": {},
   "outputs": [
    {
     "name": "stdout",
     "output_type": "stream",
     "text": [
      "jonnesway lost 97.0% beetween October and November\n",
      "sunfull lost 96.0% beetween October and November\n",
      "evga lost 96.0% beetween October and November\n"
     ]
    }
   ],
   "source": [
    "def worst_brand():\n",
    "    losses_for_month = november_revenue.divide(october_revenue).dropna()\n",
    "    rank_losses = losses_for_month.sort_values(ascending = True)\n",
    "    list_of_brand = rank_losses.axes[0].tolist()\n",
    "    print(list_of_brand[0],' lost ',round(1-rank_losses[0],2)*100,'% beetween October and November\\n',\n",
    "          list_of_brand[1],' lost ',round(1-rank_losses[1],2)*100,'% beetween October and November\\n',\n",
    "          list_of_brand[2],' lost ',round(1-rank_losses[2],2)*100,'% beetween October and November', sep = '')\n",
    "worst_brand()"
   ]
  },
  {
   "cell_type": "markdown",
   "metadata": {},
   "source": [
    "# RQ5"
   ]
  },
  {
   "cell_type": "code",
   "execution_count": 65,
   "metadata": {},
   "outputs": [
    {
     "name": "stdout",
     "output_type": "stream",
     "text": [
      "2019-Nov.csv\r\n",
      "2019-Oct.csv\r\n"
     ]
    }
   ],
   "source": [
    "!bash RQ5.sh"
   ]
  },
  {
   "cell_type": "code",
   "execution_count": 66,
   "metadata": {},
   "outputs": [],
   "source": [
    "nov_rq5 = pd.read_csv('datasets/2019-Nov.csv.rq5.csv')"
   ]
  },
  {
   "cell_type": "code",
   "execution_count": 67,
   "metadata": {},
   "outputs": [],
   "source": [
    "octo_rq5 = pd.read_csv('datasets/2019-Oct.csv.rq5.csv')"
   ]
  },
  {
   "cell_type": "code",
   "execution_count": 68,
   "metadata": {},
   "outputs": [],
   "source": [
    "tot_rq5 = pd.concat([octo_rq5,nov_rq5]) #about a minute"
   ]
  },
  {
   "cell_type": "code",
   "execution_count": 69,
   "metadata": {},
   "outputs": [],
   "source": [
    "subRQ5 = tot_rq5\n",
    "views =  subRQ5[subRQ5['event_type']=='view']"
   ]
  },
  {
   "cell_type": "code",
   "execution_count": 70,
   "metadata": {},
   "outputs": [
    {
     "data": {
      "text/html": [
       "<div>\n",
       "<style scoped>\n",
       "    .dataframe tbody tr th:only-of-type {\n",
       "        vertical-align: middle;\n",
       "    }\n",
       "\n",
       "    .dataframe tbody tr th {\n",
       "        vertical-align: top;\n",
       "    }\n",
       "\n",
       "    .dataframe thead th {\n",
       "        text-align: right;\n",
       "    }\n",
       "</style>\n",
       "<table border=\"1\" class=\"dataframe\">\n",
       "  <thead>\n",
       "    <tr style=\"text-align: right;\">\n",
       "      <th></th>\n",
       "      <th>event_time</th>\n",
       "      <th>event_type</th>\n",
       "      <th>product_id</th>\n",
       "      <th>category_id</th>\n",
       "    </tr>\n",
       "  </thead>\n",
       "  <tbody>\n",
       "    <tr>\n",
       "      <th>0</th>\n",
       "      <td>2019-10-01 00:00:00 UTC</td>\n",
       "      <td>view</td>\n",
       "      <td>44600062</td>\n",
       "      <td>2103807459595387724</td>\n",
       "    </tr>\n",
       "    <tr>\n",
       "      <th>1</th>\n",
       "      <td>2019-10-01 00:00:00 UTC</td>\n",
       "      <td>view</td>\n",
       "      <td>3900821</td>\n",
       "      <td>2053013552326770905</td>\n",
       "    </tr>\n",
       "    <tr>\n",
       "      <th>2</th>\n",
       "      <td>2019-10-01 00:00:01 UTC</td>\n",
       "      <td>view</td>\n",
       "      <td>17200506</td>\n",
       "      <td>2053013559792632471</td>\n",
       "    </tr>\n",
       "    <tr>\n",
       "      <th>3</th>\n",
       "      <td>2019-10-01 00:00:01 UTC</td>\n",
       "      <td>view</td>\n",
       "      <td>1307067</td>\n",
       "      <td>2053013558920217191</td>\n",
       "    </tr>\n",
       "    <tr>\n",
       "      <th>4</th>\n",
       "      <td>2019-10-01 00:00:04 UTC</td>\n",
       "      <td>view</td>\n",
       "      <td>1004237</td>\n",
       "      <td>2053013555631882655</td>\n",
       "    </tr>\n",
       "  </tbody>\n",
       "</table>\n",
       "</div>"
      ],
      "text/plain": [
       "                event_time event_type  product_id          category_id\n",
       "0  2019-10-01 00:00:00 UTC       view    44600062  2103807459595387724\n",
       "1  2019-10-01 00:00:00 UTC       view     3900821  2053013552326770905\n",
       "2  2019-10-01 00:00:01 UTC       view    17200506  2053013559792632471\n",
       "3  2019-10-01 00:00:01 UTC       view     1307067  2053013558920217191\n",
       "4  2019-10-01 00:00:04 UTC       view     1004237  2053013555631882655"
      ]
     },
     "execution_count": 70,
     "metadata": {},
     "output_type": "execute_result"
    }
   ],
   "source": [
    "#extracting first and last rows\n",
    "subRQ5.iloc[[0, -1]]\n",
    "subRQ5.head()"
   ]
  },
  {
   "cell_type": "code",
   "execution_count": 71,
   "metadata": {},
   "outputs": [],
   "source": [
    "# through datetimeIndex we devide all events into bands\n",
    "# *** REQUIRES MUCH TIMES ***\n",
    "times = pd.DatetimeIndex(subRQ5.event_time)"
   ]
  },
  {
   "cell_type": "code",
   "execution_count": 72,
   "metadata": {},
   "outputs": [],
   "source": [
    "#we count events happen for hour\n",
    "count_per_hour = subRQ5.groupby([times.hour]).count()"
   ]
  },
  {
   "cell_type": "code",
   "execution_count": 73,
   "metadata": {},
   "outputs": [],
   "source": [
    "#we take just a column because one it s enough\n",
    "product_view_per_hour = count_per_hour['product_id']"
   ]
  },
  {
   "cell_type": "code",
   "execution_count": 74,
   "metadata": {},
   "outputs": [],
   "source": [
    "sorted_views_per_hour = product_view.sort_values(ascending=False)"
   ]
  },
  {
   "cell_type": "markdown",
   "metadata": {},
   "source": [
    "from the output we can notice that the hour with the highest \n",
    "numner of viewers is the 17th (python starts from 0 => 16+1)\n",
    "it means the from 4 to 5 pm we have the highest number of visitors\n",
    "this info could be useful when for example a brand wants to put \n",
    "its add, it can chooses the best hours\n",
    "but it s means, that of course, it will pay more than a ads in \n",
    "other hours."
   ]
  },
  {
   "cell_type": "markdown",
   "metadata": {},
   "source": [
    "now let s do the a slightly different thing \n",
    "to find the best day for our online market!"
   ]
  },
  {
   "cell_type": "code",
   "execution_count": 75,
   "metadata": {},
   "outputs": [],
   "source": [
    "count_per_day = subRQ5.groupby([times.day]).count()"
   ]
  },
  {
   "cell_type": "code",
   "execution_count": 76,
   "metadata": {},
   "outputs": [
    {
     "data": {
      "text/html": [
       "<div>\n",
       "<style scoped>\n",
       "    .dataframe tbody tr th:only-of-type {\n",
       "        vertical-align: middle;\n",
       "    }\n",
       "\n",
       "    .dataframe tbody tr th {\n",
       "        vertical-align: top;\n",
       "    }\n",
       "\n",
       "    .dataframe thead th {\n",
       "        text-align: right;\n",
       "    }\n",
       "</style>\n",
       "<table border=\"1\" class=\"dataframe\">\n",
       "  <thead>\n",
       "    <tr style=\"text-align: right;\">\n",
       "      <th></th>\n",
       "      <th>event_time</th>\n",
       "      <th>event_type</th>\n",
       "      <th>category_code</th>\n",
       "      <th>product_id</th>\n",
       "    </tr>\n",
       "    <tr>\n",
       "      <th>event_time</th>\n",
       "      <th></th>\n",
       "      <th></th>\n",
       "      <th></th>\n",
       "      <th></th>\n",
       "    </tr>\n",
       "  </thead>\n",
       "  <tbody>\n",
       "    <tr>\n",
       "      <th>1</th>\n",
       "      <td>2689605</td>\n",
       "      <td>2689605</td>\n",
       "      <td>1827091</td>\n",
       "      <td>2689605</td>\n",
       "    </tr>\n",
       "    <tr>\n",
       "      <th>2</th>\n",
       "      <td>2746866</td>\n",
       "      <td>2746866</td>\n",
       "      <td>1875385</td>\n",
       "      <td>2746866</td>\n",
       "    </tr>\n",
       "    <tr>\n",
       "      <th>3</th>\n",
       "      <td>2695077</td>\n",
       "      <td>2695077</td>\n",
       "      <td>1855443</td>\n",
       "      <td>2695077</td>\n",
       "    </tr>\n",
       "    <tr>\n",
       "      <th>4</th>\n",
       "      <td>3210318</td>\n",
       "      <td>3210318</td>\n",
       "      <td>2188665</td>\n",
       "      <td>3210318</td>\n",
       "    </tr>\n",
       "    <tr>\n",
       "      <th>5</th>\n",
       "      <td>3047583</td>\n",
       "      <td>3047583</td>\n",
       "      <td>2038214</td>\n",
       "      <td>3047583</td>\n",
       "    </tr>\n",
       "    <tr>\n",
       "      <th>6</th>\n",
       "      <td>3013200</td>\n",
       "      <td>3013200</td>\n",
       "      <td>2018128</td>\n",
       "      <td>3013200</td>\n",
       "    </tr>\n",
       "    <tr>\n",
       "      <th>7</th>\n",
       "      <td>2997364</td>\n",
       "      <td>2997364</td>\n",
       "      <td>1984888</td>\n",
       "      <td>2997364</td>\n",
       "    </tr>\n",
       "    <tr>\n",
       "      <th>8</th>\n",
       "      <td>3267035</td>\n",
       "      <td>3267035</td>\n",
       "      <td>2141771</td>\n",
       "      <td>3267035</td>\n",
       "    </tr>\n",
       "    <tr>\n",
       "      <th>9</th>\n",
       "      <td>3225449</td>\n",
       "      <td>3225449</td>\n",
       "      <td>2128405</td>\n",
       "      <td>3225449</td>\n",
       "    </tr>\n",
       "    <tr>\n",
       "      <th>10</th>\n",
       "      <td>3224652</td>\n",
       "      <td>3224652</td>\n",
       "      <td>2156889</td>\n",
       "      <td>3224652</td>\n",
       "    </tr>\n",
       "    <tr>\n",
       "      <th>11</th>\n",
       "      <td>3504733</td>\n",
       "      <td>3504733</td>\n",
       "      <td>2322981</td>\n",
       "      <td>3504733</td>\n",
       "    </tr>\n",
       "    <tr>\n",
       "      <th>12</th>\n",
       "      <td>3467465</td>\n",
       "      <td>3467465</td>\n",
       "      <td>2311802</td>\n",
       "      <td>3467465</td>\n",
       "    </tr>\n",
       "    <tr>\n",
       "      <th>13</th>\n",
       "      <td>3658236</td>\n",
       "      <td>3658236</td>\n",
       "      <td>2457878</td>\n",
       "      <td>3658236</td>\n",
       "    </tr>\n",
       "    <tr>\n",
       "      <th>14</th>\n",
       "      <td>4524428</td>\n",
       "      <td>4524428</td>\n",
       "      <td>3192931</td>\n",
       "      <td>4524428</td>\n",
       "    </tr>\n",
       "    <tr>\n",
       "      <th>15</th>\n",
       "      <td>7762641</td>\n",
       "      <td>7762641</td>\n",
       "      <td>5377210</td>\n",
       "      <td>7762641</td>\n",
       "    </tr>\n",
       "    <tr>\n",
       "      <th>16</th>\n",
       "      <td>8025347</td>\n",
       "      <td>8025347</td>\n",
       "      <td>5537037</td>\n",
       "      <td>8025347</td>\n",
       "    </tr>\n",
       "    <tr>\n",
       "      <th>17</th>\n",
       "      <td>7802384</td>\n",
       "      <td>7802384</td>\n",
       "      <td>5362472</td>\n",
       "      <td>7802384</td>\n",
       "    </tr>\n",
       "    <tr>\n",
       "      <th>18</th>\n",
       "      <td>3503311</td>\n",
       "      <td>3503311</td>\n",
       "      <td>2378445</td>\n",
       "      <td>3503311</td>\n",
       "    </tr>\n",
       "    <tr>\n",
       "      <th>19</th>\n",
       "      <td>3177834</td>\n",
       "      <td>3177834</td>\n",
       "      <td>2146990</td>\n",
       "      <td>3177834</td>\n",
       "    </tr>\n",
       "    <tr>\n",
       "      <th>20</th>\n",
       "      <td>3210078</td>\n",
       "      <td>3210078</td>\n",
       "      <td>2140752</td>\n",
       "      <td>3210078</td>\n",
       "    </tr>\n",
       "    <tr>\n",
       "      <th>21</th>\n",
       "      <td>3082752</td>\n",
       "      <td>3082752</td>\n",
       "      <td>2032340</td>\n",
       "      <td>3082752</td>\n",
       "    </tr>\n",
       "    <tr>\n",
       "      <th>22</th>\n",
       "      <td>2985115</td>\n",
       "      <td>2985115</td>\n",
       "      <td>2001218</td>\n",
       "      <td>2985115</td>\n",
       "    </tr>\n",
       "    <tr>\n",
       "      <th>23</th>\n",
       "      <td>2942842</td>\n",
       "      <td>2942842</td>\n",
       "      <td>2000020</td>\n",
       "      <td>2942842</td>\n",
       "    </tr>\n",
       "    <tr>\n",
       "      <th>24</th>\n",
       "      <td>2908266</td>\n",
       "      <td>2908266</td>\n",
       "      <td>1973989</td>\n",
       "      <td>2908266</td>\n",
       "    </tr>\n",
       "    <tr>\n",
       "      <th>25</th>\n",
       "      <td>3028910</td>\n",
       "      <td>3028910</td>\n",
       "      <td>2019939</td>\n",
       "      <td>3028910</td>\n",
       "    </tr>\n",
       "    <tr>\n",
       "      <th>26</th>\n",
       "      <td>3002147</td>\n",
       "      <td>3002147</td>\n",
       "      <td>2030859</td>\n",
       "      <td>3002147</td>\n",
       "    </tr>\n",
       "    <tr>\n",
       "      <th>27</th>\n",
       "      <td>3035009</td>\n",
       "      <td>3035009</td>\n",
       "      <td>2063207</td>\n",
       "      <td>3035009</td>\n",
       "    </tr>\n",
       "    <tr>\n",
       "      <th>28</th>\n",
       "      <td>2919258</td>\n",
       "      <td>2919258</td>\n",
       "      <td>1973544</td>\n",
       "      <td>2919258</td>\n",
       "    </tr>\n",
       "    <tr>\n",
       "      <th>29</th>\n",
       "      <td>3082336</td>\n",
       "      <td>3082336</td>\n",
       "      <td>2126937</td>\n",
       "      <td>3082336</td>\n",
       "    </tr>\n",
       "    <tr>\n",
       "      <th>30</th>\n",
       "      <td>2965023</td>\n",
       "      <td>2965023</td>\n",
       "      <td>2023284</td>\n",
       "      <td>2965023</td>\n",
       "    </tr>\n",
       "    <tr>\n",
       "      <th>31</th>\n",
       "      <td>1245479</td>\n",
       "      <td>1245479</td>\n",
       "      <td>848249</td>\n",
       "      <td>1245479</td>\n",
       "    </tr>\n",
       "  </tbody>\n",
       "</table>\n",
       "</div>"
      ],
      "text/plain": [
       "            event_time  event_type  category_code  product_id\n",
       "event_time                                                   \n",
       "1              2689605     2689605        1827091     2689605\n",
       "2              2746866     2746866        1875385     2746866\n",
       "3              2695077     2695077        1855443     2695077\n",
       "4              3210318     3210318        2188665     3210318\n",
       "5              3047583     3047583        2038214     3047583\n",
       "6              3013200     3013200        2018128     3013200\n",
       "7              2997364     2997364        1984888     2997364\n",
       "8              3267035     3267035        2141771     3267035\n",
       "9              3225449     3225449        2128405     3225449\n",
       "10             3224652     3224652        2156889     3224652\n",
       "11             3504733     3504733        2322981     3504733\n",
       "12             3467465     3467465        2311802     3467465\n",
       "13             3658236     3658236        2457878     3658236\n",
       "14             4524428     4524428        3192931     4524428\n",
       "15             7762641     7762641        5377210     7762641\n",
       "16             8025347     8025347        5537037     8025347\n",
       "17             7802384     7802384        5362472     7802384\n",
       "18             3503311     3503311        2378445     3503311\n",
       "19             3177834     3177834        2146990     3177834\n",
       "20             3210078     3210078        2140752     3210078\n",
       "21             3082752     3082752        2032340     3082752\n",
       "22             2985115     2985115        2001218     2985115\n",
       "23             2942842     2942842        2000020     2942842\n",
       "24             2908266     2908266        1973989     2908266\n",
       "25             3028910     3028910        2019939     3028910\n",
       "26             3002147     3002147        2030859     3002147\n",
       "27             3035009     3035009        2063207     3035009\n",
       "28             2919258     2919258        1973544     2919258\n",
       "29             3082336     3082336        2126937     3082336\n",
       "30             2965023     2965023        2023284     2965023\n",
       "31             1245479     1245479         848249     1245479"
      ]
     },
     "execution_count": 76,
     "metadata": {},
     "output_type": "execute_result"
    }
   ],
   "source": [
    "count_per_day\n",
    "# day of the month\n",
    "# like expected 31th data is lower cause november hasn't 31 days"
   ]
  },
  {
   "cell_type": "code",
   "execution_count": 77,
   "metadata": {},
   "outputs": [],
   "source": [
    "# day of the month\n",
    "# like expected 31th data is lower cause november hasn't 31 days\n",
    "count_per_day_of_week = product_view.dt.dayofweek"
   ]
  },
  {
   "cell_type": "code",
   "execution_count": 78,
   "metadata": {},
   "outputs": [
    {
     "data": {
      "text/html": [
       "<div>\n",
       "<style scoped>\n",
       "    .dataframe tbody tr th:only-of-type {\n",
       "        vertical-align: middle;\n",
       "    }\n",
       "\n",
       "    .dataframe tbody tr th {\n",
       "        vertical-align: top;\n",
       "    }\n",
       "\n",
       "    .dataframe thead th {\n",
       "        text-align: right;\n",
       "    }\n",
       "</style>\n",
       "<table border=\"1\" class=\"dataframe\">\n",
       "  <thead>\n",
       "    <tr style=\"text-align: right;\">\n",
       "      <th></th>\n",
       "      <th>event_time</th>\n",
       "      <th>event_type</th>\n",
       "      <th>category_code</th>\n",
       "      <th>product_id</th>\n",
       "    </tr>\n",
       "    <tr>\n",
       "      <th>event_time</th>\n",
       "      <th></th>\n",
       "      <th></th>\n",
       "      <th></th>\n",
       "      <th></th>\n",
       "    </tr>\n",
       "  </thead>\n",
       "  <tbody>\n",
       "    <tr>\n",
       "      <th>40</th>\n",
       "      <td>7628784</td>\n",
       "      <td>7628784</td>\n",
       "      <td>5246993</td>\n",
       "      <td>7628784</td>\n",
       "    </tr>\n",
       "    <tr>\n",
       "      <th>41</th>\n",
       "      <td>9817094</td>\n",
       "      <td>9817094</td>\n",
       "      <td>6389277</td>\n",
       "      <td>9817094</td>\n",
       "    </tr>\n",
       "    <tr>\n",
       "      <th>42</th>\n",
       "      <td>10367408</td>\n",
       "      <td>10367408</td>\n",
       "      <td>7240363</td>\n",
       "      <td>10367408</td>\n",
       "    </tr>\n",
       "    <tr>\n",
       "      <th>43</th>\n",
       "      <td>9691064</td>\n",
       "      <td>9691064</td>\n",
       "      <td>6702619</td>\n",
       "      <td>9691064</td>\n",
       "    </tr>\n",
       "    <tr>\n",
       "      <th>44</th>\n",
       "      <td>9513086</td>\n",
       "      <td>9513086</td>\n",
       "      <td>6466256</td>\n",
       "      <td>9513086</td>\n",
       "    </tr>\n",
       "    <tr>\n",
       "      <th>45</th>\n",
       "      <td>12716909</td>\n",
       "      <td>12716909</td>\n",
       "      <td>8490112</td>\n",
       "      <td>12716909</td>\n",
       "    </tr>\n",
       "    <tr>\n",
       "      <th>46</th>\n",
       "      <td>28204600</td>\n",
       "      <td>28204600</td>\n",
       "      <td>19385147</td>\n",
       "      <td>28204600</td>\n",
       "    </tr>\n",
       "    <tr>\n",
       "      <th>47</th>\n",
       "      <td>11849199</td>\n",
       "      <td>11849199</td>\n",
       "      <td>7785131</td>\n",
       "      <td>11849199</td>\n",
       "    </tr>\n",
       "    <tr>\n",
       "      <th>48</th>\n",
       "      <td>10162599</td>\n",
       "      <td>10162599</td>\n",
       "      <td>6831065</td>\n",
       "      <td>10162599</td>\n",
       "    </tr>\n",
       "  </tbody>\n",
       "</table>\n",
       "</div>"
      ],
      "text/plain": [
       "            event_time  event_type  category_code  product_id\n",
       "event_time                                                   \n",
       "40             7628784     7628784        5246993     7628784\n",
       "41             9817094     9817094        6389277     9817094\n",
       "42            10367408    10367408        7240363    10367408\n",
       "43             9691064     9691064        6702619     9691064\n",
       "44             9513086     9513086        6466256     9513086\n",
       "45            12716909    12716909        8490112    12716909\n",
       "46            28204600    28204600       19385147    28204600\n",
       "47            11849199    11849199        7785131    11849199\n",
       "48            10162599    10162599        6831065    10162599"
      ]
     },
     "execution_count": 78,
     "metadata": {},
     "output_type": "execute_result"
    }
   ],
   "source": [
    "count_per_week"
   ]
  },
  {
   "cell_type": "code",
   "execution_count": 79,
   "metadata": {},
   "outputs": [],
   "source": [
    "count_per_day_of_week = subRQ5.groupby([times.dayofweek]).count()\n",
    "#counting for day of week"
   ]
  },
  {
   "cell_type": "code",
   "execution_count": 80,
   "metadata": {},
   "outputs": [
    {
     "data": {
      "text/html": [
       "<div>\n",
       "<style scoped>\n",
       "    .dataframe tbody tr th:only-of-type {\n",
       "        vertical-align: middle;\n",
       "    }\n",
       "\n",
       "    .dataframe tbody tr th {\n",
       "        vertical-align: top;\n",
       "    }\n",
       "\n",
       "    .dataframe thead th {\n",
       "        text-align: right;\n",
       "    }\n",
       "</style>\n",
       "<table border=\"1\" class=\"dataframe\">\n",
       "  <thead>\n",
       "    <tr style=\"text-align: right;\">\n",
       "      <th></th>\n",
       "      <th>event_time</th>\n",
       "      <th>event_type</th>\n",
       "      <th>category_code</th>\n",
       "      <th>product_id</th>\n",
       "    </tr>\n",
       "    <tr>\n",
       "      <th>event_time</th>\n",
       "      <th></th>\n",
       "      <th></th>\n",
       "      <th></th>\n",
       "      <th></th>\n",
       "    </tr>\n",
       "  </thead>\n",
       "  <tbody>\n",
       "    <tr>\n",
       "      <th>0</th>\n",
       "      <td>12739141</td>\n",
       "      <td>12739141</td>\n",
       "      <td>8562471</td>\n",
       "      <td>12739141</td>\n",
       "    </tr>\n",
       "    <tr>\n",
       "      <th>1</th>\n",
       "      <td>13890118</td>\n",
       "      <td>13890118</td>\n",
       "      <td>9283918</td>\n",
       "      <td>13890118</td>\n",
       "    </tr>\n",
       "    <tr>\n",
       "      <th>2</th>\n",
       "      <td>13713060</td>\n",
       "      <td>13713060</td>\n",
       "      <td>9206075</td>\n",
       "      <td>13713060</td>\n",
       "    </tr>\n",
       "    <tr>\n",
       "      <th>3</th>\n",
       "      <td>14582640</td>\n",
       "      <td>14582640</td>\n",
       "      <td>9915507</td>\n",
       "      <td>14582640</td>\n",
       "    </tr>\n",
       "    <tr>\n",
       "      <th>4</th>\n",
       "      <td>18814507</td>\n",
       "      <td>18814507</td>\n",
       "      <td>12870638</td>\n",
       "      <td>18814507</td>\n",
       "    </tr>\n",
       "    <tr>\n",
       "      <th>5</th>\n",
       "      <td>18859791</td>\n",
       "      <td>18859791</td>\n",
       "      <td>12882288</td>\n",
       "      <td>18859791</td>\n",
       "    </tr>\n",
       "    <tr>\n",
       "      <th>6</th>\n",
       "      <td>17351486</td>\n",
       "      <td>17351486</td>\n",
       "      <td>11816066</td>\n",
       "      <td>17351486</td>\n",
       "    </tr>\n",
       "  </tbody>\n",
       "</table>\n",
       "</div>"
      ],
      "text/plain": [
       "            event_time  event_type  category_code  product_id\n",
       "event_time                                                   \n",
       "0             12739141    12739141        8562471    12739141\n",
       "1             13890118    13890118        9283918    13890118\n",
       "2             13713060    13713060        9206075    13713060\n",
       "3             14582640    14582640        9915507    14582640\n",
       "4             18814507    18814507       12870638    18814507\n",
       "5             18859791    18859791       12882288    18859791\n",
       "6             17351486    17351486       11816066    17351486"
      ]
     },
     "execution_count": 80,
     "metadata": {},
     "output_type": "execute_result"
    }
   ],
   "source": [
    "count_per_day_of_week"
   ]
  },
  {
   "cell_type": "code",
   "execution_count": 81,
   "metadata": {},
   "outputs": [],
   "source": [
    "product_view_per_day_of_week = count_per_day_of_week['product_id']\n"
   ]
  },
  {
   "cell_type": "code",
   "execution_count": 82,
   "metadata": {},
   "outputs": [
    {
     "data": {
      "text/plain": [
       "event_time\n",
       "5    18859791\n",
       "Name: product_id, dtype: int64"
      ]
     },
     "execution_count": 82,
     "metadata": {},
     "output_type": "execute_result"
    }
   ],
   "source": [
    "sorted_views_per_day_of_week = product_view_per_day_of_week.sort_values(ascending=False)\n",
    "sorted_views_per_day_of_week.head(1)"
   ]
  },
  {
   "cell_type": "markdown",
   "metadata": {},
   "source": [
    "according to the website \n",
    "https://pythontic.com/datetime/date/weekday\n",
    "5 corresponds to Saturday\n",
    "so saturday is the day when the store has the highest number of views"
   ]
  },
  {
   "cell_type": "markdown",
   "metadata": {},
   "source": [
    "# RQ6"
   ]
  },
  {
   "cell_type": "code",
   "execution_count": 83,
   "metadata": {},
   "outputs": [
    {
     "name": "stdout",
     "output_type": "stream",
     "text": [
      "2019-Nov.csv\r\n",
      "2019-Oct.csv\r\n"
     ]
    }
   ],
   "source": [
    "!bash RQ6.sh"
   ]
  },
  {
   "cell_type": "code",
   "execution_count": 84,
   "metadata": {},
   "outputs": [],
   "source": [
    "nov_rq6 = pd.read_csv('datasets/2019-Nov.csv.rq6.csv')"
   ]
  },
  {
   "cell_type": "code",
   "execution_count": 85,
   "metadata": {},
   "outputs": [],
   "source": [
    "octo_rq6 = pd.read_csv('datasets/2019-Oct.csv.rq6.csv')"
   ]
  },
  {
   "cell_type": "code",
   "execution_count": 86,
   "metadata": {},
   "outputs": [],
   "source": [
    "tot_rq6 = pd.concat([octo_rq6,nov_rq6]) #about a minute"
   ]
  },
  {
   "cell_type": "code",
   "execution_count": 87,
   "metadata": {},
   "outputs": [
    {
     "data": {
      "text/html": [
       "<div>\n",
       "<style scoped>\n",
       "    .dataframe tbody tr th:only-of-type {\n",
       "        vertical-align: middle;\n",
       "    }\n",
       "\n",
       "    .dataframe tbody tr th {\n",
       "        vertical-align: top;\n",
       "    }\n",
       "\n",
       "    .dataframe thead th {\n",
       "        text-align: right;\n",
       "    }\n",
       "</style>\n",
       "<table border=\"1\" class=\"dataframe\">\n",
       "  <thead>\n",
       "    <tr style=\"text-align: right;\">\n",
       "      <th></th>\n",
       "      <th>event_type</th>\n",
       "      <th>product_id</th>\n",
       "      <th>category_code</th>\n",
       "      <th>user_id</th>\n",
       "    </tr>\n",
       "  </thead>\n",
       "  <tbody>\n",
       "    <tr>\n",
       "      <th>0</th>\n",
       "      <td>view</td>\n",
       "      <td>44600062</td>\n",
       "      <td>NaN</td>\n",
       "      <td>541312140</td>\n",
       "    </tr>\n",
       "    <tr>\n",
       "      <th>1</th>\n",
       "      <td>view</td>\n",
       "      <td>3900821</td>\n",
       "      <td>appliances.environment.water_heater</td>\n",
       "      <td>554748717</td>\n",
       "    </tr>\n",
       "    <tr>\n",
       "      <th>2</th>\n",
       "      <td>view</td>\n",
       "      <td>17200506</td>\n",
       "      <td>furniture.living_room.sofa</td>\n",
       "      <td>519107250</td>\n",
       "    </tr>\n",
       "    <tr>\n",
       "      <th>3</th>\n",
       "      <td>view</td>\n",
       "      <td>1307067</td>\n",
       "      <td>computers.notebook</td>\n",
       "      <td>550050854</td>\n",
       "    </tr>\n",
       "    <tr>\n",
       "      <th>4</th>\n",
       "      <td>view</td>\n",
       "      <td>1004237</td>\n",
       "      <td>electronics.smartphone</td>\n",
       "      <td>535871217</td>\n",
       "    </tr>\n",
       "  </tbody>\n",
       "</table>\n",
       "</div>"
      ],
      "text/plain": [
       "  event_type  product_id                        category_code    user_id\n",
       "0       view    44600062                                  NaN  541312140\n",
       "1       view     3900821  appliances.environment.water_heater  554748717\n",
       "2       view    17200506           furniture.living_room.sofa  519107250\n",
       "3       view     1307067                   computers.notebook  550050854\n",
       "4       view     1004237               electronics.smartphone  535871217"
      ]
     },
     "execution_count": 87,
     "metadata": {},
     "output_type": "execute_result"
    }
   ],
   "source": [
    "tot_rq6.head()"
   ]
  },
  {
   "cell_type": "code",
   "execution_count": 88,
   "metadata": {},
   "outputs": [
    {
     "data": {
      "text/html": [
       "<div>\n",
       "<style scoped>\n",
       "    .dataframe tbody tr th:only-of-type {\n",
       "        vertical-align: middle;\n",
       "    }\n",
       "\n",
       "    .dataframe tbody tr th {\n",
       "        vertical-align: top;\n",
       "    }\n",
       "\n",
       "    .dataframe thead th {\n",
       "        text-align: right;\n",
       "    }\n",
       "</style>\n",
       "<table border=\"1\" class=\"dataframe\">\n",
       "  <thead>\n",
       "    <tr style=\"text-align: right;\">\n",
       "      <th></th>\n",
       "      <th>event_type</th>\n",
       "      <th>product_id</th>\n",
       "      <th>category_code</th>\n",
       "      <th>user_id</th>\n",
       "    </tr>\n",
       "  </thead>\n",
       "  <tbody>\n",
       "    <tr>\n",
       "      <th>0</th>\n",
       "      <td>view</td>\n",
       "      <td>44600062</td>\n",
       "      <td>NaN</td>\n",
       "      <td>541312140</td>\n",
       "    </tr>\n",
       "    <tr>\n",
       "      <th>1</th>\n",
       "      <td>view</td>\n",
       "      <td>3900821</td>\n",
       "      <td>appliances.environment.water_heater</td>\n",
       "      <td>554748717</td>\n",
       "    </tr>\n",
       "    <tr>\n",
       "      <th>2</th>\n",
       "      <td>view</td>\n",
       "      <td>17200506</td>\n",
       "      <td>furniture.living_room.sofa</td>\n",
       "      <td>519107250</td>\n",
       "    </tr>\n",
       "    <tr>\n",
       "      <th>3</th>\n",
       "      <td>view</td>\n",
       "      <td>1307067</td>\n",
       "      <td>computers.notebook</td>\n",
       "      <td>550050854</td>\n",
       "    </tr>\n",
       "    <tr>\n",
       "      <th>4</th>\n",
       "      <td>view</td>\n",
       "      <td>1004237</td>\n",
       "      <td>electronics.smartphone</td>\n",
       "      <td>535871217</td>\n",
       "    </tr>\n",
       "  </tbody>\n",
       "</table>\n",
       "</div>"
      ],
      "text/plain": [
       "  event_type  product_id                        category_code    user_id\n",
       "0       view    44600062                                  NaN  541312140\n",
       "1       view     3900821  appliances.environment.water_heater  554748717\n",
       "2       view    17200506           furniture.living_room.sofa  519107250\n",
       "3       view     1307067                   computers.notebook  550050854\n",
       "4       view     1004237               electronics.smartphone  535871217"
      ]
     },
     "execution_count": 88,
     "metadata": {},
     "output_type": "execute_result"
    }
   ],
   "source": [
    "subRQ6 = tot_rq6\n",
    "subRQ6.head()"
   ]
  },
  {
   "cell_type": "markdown",
   "metadata": {},
   "source": [
    "obtaining the number of product sold:\n",
    "by taking only rows about purchasing\n",
    "and at the end we count them (.shape[0])\n",
    "shape[0] are the rows of the dataset where the event is equal to purchase\n",
    "so it rapresents the product sold"
   ]
  },
  {
   "cell_type": "code",
   "execution_count": 89,
   "metadata": {},
   "outputs": [
    {
     "data": {
      "text/plain": [
       "1659788"
      ]
     },
     "execution_count": 89,
     "metadata": {},
     "output_type": "execute_result"
    }
   ],
   "source": [
    "df_prod_sold =  subRQ6[subRQ6['event_type']=='purchase']\n",
    "prod_sold = df_prod_sold.shape[0]\n",
    "prod_sold"
   ]
  },
  {
   "cell_type": "markdown",
   "metadata": {},
   "source": [
    "in a similar way we calculate the number of user:\n",
    "this time we group by 'user_id' so we obtain the exact users's number\n",
    "we extract that number by the command shape[0] (number of rows)"
   ]
  },
  {
   "cell_type": "code",
   "execution_count": 90,
   "metadata": {},
   "outputs": [
    {
     "data": {
      "text/plain": [
       "5316649"
      ]
     },
     "execution_count": 90,
     "metadata": {},
     "output_type": "execute_result"
    }
   ],
   "source": [
    "users = subRQ6.groupby('user_id').product_id.count().shape[0]\n",
    "users"
   ]
  },
  {
   "cell_type": "code",
   "execution_count": 91,
   "metadata": {},
   "outputs": [
    {
     "data": {
      "text/plain": [
       "0.3122"
      ]
     },
     "execution_count": 91,
     "metadata": {},
     "output_type": "execute_result"
    }
   ],
   "source": [
    "#finally we calculate the actual purchase rate value\n",
    "purchase_rate = prod_sold/users\n",
    "round(purchase_rate,4)"
   ]
  },
  {
   "cell_type": "code",
   "execution_count": 92,
   "metadata": {},
   "outputs": [],
   "source": [
    "#same think of before\n",
    "df_views = subRQ6[subRQ6['event_type']=='view']\n",
    "views = df_views.shape[0]"
   ]
  },
  {
   "cell_type": "code",
   "execution_count": 93,
   "metadata": {},
   "outputs": [
    {
     "data": {
      "text/plain": [
       "2.992144008055359e-09"
      ]
     },
     "execution_count": 93,
     "metadata": {},
     "output_type": "execute_result"
    }
   ],
   "source": [
    "#conversion rate calculated by following the previous formula\n",
    "conversion_rate = purchase_rate / views\n",
    "conversion_rate"
   ]
  },
  {
   "cell_type": "code",
   "execution_count": 94,
   "metadata": {},
   "outputs": [],
   "source": [
    "#dropping nas values for both dataframe\n",
    "df_views = df_views.dropna()\n",
    "df_prod_sold = df_prod_sold.dropna()"
   ]
  },
  {
   "cell_type": "code",
   "execution_count": 95,
   "metadata": {},
   "outputs": [],
   "source": [
    "#purchase rate of each category\n",
    "df_prod_sold['category_code'] = [el.split('.')[0] for el in list(df_prod_sold['category_code']) if type(el) == str]"
   ]
  },
  {
   "cell_type": "code",
   "execution_count": 96,
   "metadata": {},
   "outputs": [
    {
     "data": {
      "text/plain": [
       "category_code\n",
       "accessories       3741\n",
       "apparel          22217\n",
       "appliances      174022\n",
       "auto             21339\n",
       "computers        62332\n",
       "construction     16500\n",
       "country_yard       132\n",
       "electronics     916667\n",
       "furniture        19843\n",
       "kids             11648\n",
       "medicine           654\n",
       "sport             2725\n",
       "stationery         325\n",
       "Name: product_id, dtype: int64"
      ]
     },
     "execution_count": 96,
     "metadata": {},
     "output_type": "execute_result"
    }
   ],
   "source": [
    "number_of_sales = df_prod_sold.groupby('category_code').product_id.count()\n",
    "number_of_sales"
   ]
  },
  {
   "cell_type": "code",
   "execution_count": 97,
   "metadata": {},
   "outputs": [],
   "source": [
    "# obtaining number of users for each categories\n",
    "# first step: grouping for categories subRQ6\n",
    "grouped_subRQ6 = subRQ6.groupby(\"category_code\")"
   ]
  },
  {
   "cell_type": "code",
   "execution_count": 98,
   "metadata": {},
   "outputs": [
    {
     "data": {
      "text/plain": [
       "category_code\n",
       "accessories.bag         102249\n",
       "accessories.umbrella      3853\n",
       "accessories.wallet       19867\n",
       "apparel.belt              2941\n",
       "apparel.costume         145585\n",
       "                         ...  \n",
       "sport.ski                 4769\n",
       "sport.snowboard           6137\n",
       "sport.tennis              3370\n",
       "sport.trainer            24029\n",
       "stationery.cartrige       5690\n",
       "Name: user_id, Length: 129, dtype: int64"
      ]
     },
     "execution_count": 98,
     "metadata": {},
     "output_type": "execute_result"
    }
   ],
   "source": [
    "#now we want to extract the number of unique users for each category\n",
    "user_of_each_cat = grouped_subRQ6.agg({\"user_id\": \"nunique\"})\n",
    "user_of_each_cat.iloc[:,0]"
   ]
  },
  {
   "cell_type": "code",
   "execution_count": 99,
   "metadata": {},
   "outputs": [],
   "source": [
    "#converting into a series\n",
    "series_of_unique_users = user_of_each_cat.iloc[:,0]"
   ]
  },
  {
   "cell_type": "code",
   "execution_count": 100,
   "metadata": {},
   "outputs": [
    {
     "data": {
      "text/plain": [
       "category_code\n",
       "accessories            NaN\n",
       "accessories.bag        NaN\n",
       "accessories.umbrella   NaN\n",
       "accessories.wallet     NaN\n",
       "apparel                NaN\n",
       "                        ..\n",
       "sport.snowboard        NaN\n",
       "sport.tennis           NaN\n",
       "sport.trainer          NaN\n",
       "stationery             NaN\n",
       "stationery.cartrige    NaN\n",
       "Length: 142, dtype: float64"
      ]
     },
     "execution_count": 100,
     "metadata": {},
     "output_type": "execute_result"
    }
   ],
   "source": [
    "#calculating the purchase rate => \n",
    "# number of product sold for each catogory / number of unique user for each category\n",
    "purchase_rate_for_cat = number_of_sales.divide(series_of_unique_users)\n",
    "round(purchase_rate_for_cat,4).sort_values(ascending=False)\n"
   ]
  },
  {
   "cell_type": "markdown",
   "metadata": {},
   "source": [
    "now for the last step of this request \n",
    "we calculate the conversion rate of each categories\n",
    "we have yet the purchase rate of product for each category\n",
    "in a similar way we are going to calculate the numer of views\n",
    "for each category and then we simply divide them."
   ]
  },
  {
   "cell_type": "code",
   "execution_count": 101,
   "metadata": {},
   "outputs": [],
   "source": [
    "df_views['category_code'] = [el.split('.')[0] for el in list(df_views['category_code']) if type(el) == str]"
   ]
  },
  {
   "cell_type": "code",
   "execution_count": 102,
   "metadata": {},
   "outputs": [
    {
     "data": {
      "text/plain": [
       "category_code\n",
       "accessories       616475\n",
       "apparel          4477518\n",
       "appliances      12837916\n",
       "auto             2157706\n",
       "computers        6297977\n",
       "construction     1759762\n",
       "country_yard       31255\n",
       "electronics     37026582\n",
       "furniture        3295250\n",
       "kids             1292002\n",
       "medicine           34738\n",
       "sport             415087\n",
       "stationery         19323\n",
       "Name: product_id, dtype: int64"
      ]
     },
     "execution_count": 102,
     "metadata": {},
     "output_type": "execute_result"
    }
   ],
   "source": [
    "number_of_views = df_views.groupby('category_code').product_id.count()\n",
    "number_of_views"
   ]
  },
  {
   "cell_type": "code",
   "execution_count": 103,
   "metadata": {},
   "outputs": [
    {
     "data": {
      "text/plain": [
       "category_code\n",
       "accessories            NaN\n",
       "accessories.bag        NaN\n",
       "accessories.umbrella   NaN\n",
       "accessories.wallet     NaN\n",
       "apparel                NaN\n",
       "                        ..\n",
       "sport.snowboard        NaN\n",
       "sport.tennis           NaN\n",
       "sport.trainer          NaN\n",
       "stationery             NaN\n",
       "stationery.cartrige    NaN\n",
       "Length: 142, dtype: float64"
      ]
     },
     "execution_count": 103,
     "metadata": {},
     "output_type": "execute_result"
    }
   ],
   "source": [
    "coversion_rate_for_categories = purchase_rate_for_cat.divide(number_of_views)\n",
    "coversion_rate_for_categories.sort_values(ascending=False)"
   ]
  },
  {
   "cell_type": "code",
   "execution_count": 104,
   "metadata": {},
   "outputs": [],
   "source": [
    "#now we apply a traslation to plot better the results\n",
    "coversion_for_plot = ((coversion_rate_for_categories)*10**8).sort_values(ascending=False)"
   ]
  },
  {
   "cell_type": "markdown",
   "metadata": {},
   "source": [
    "# RQ7"
   ]
  },
  {
   "cell_type": "code",
   "execution_count": 105,
   "metadata": {},
   "outputs": [
    {
     "name": "stdout",
     "output_type": "stream",
     "text": [
      "2019-Nov.csv\r\n",
      "2019-Oct.csv\r\n"
     ]
    }
   ],
   "source": [
    "!bash RQ7.sh"
   ]
  },
  {
   "cell_type": "code",
   "execution_count": 106,
   "metadata": {},
   "outputs": [],
   "source": [
    "nov_rq7 = pd.read_csv('datasets/2019-Nov.csv.rq7.csv')"
   ]
  },
  {
   "cell_type": "code",
   "execution_count": 107,
   "metadata": {},
   "outputs": [],
   "source": [
    "octo_rq7 = pd.read_csv('datasets/2019-Oct.csv.rq7.csv')"
   ]
  },
  {
   "cell_type": "code",
   "execution_count": 108,
   "metadata": {},
   "outputs": [],
   "source": [
    "tot_rq7 = pd.concat([octo_rq7,nov_rq7]) #about a minute"
   ]
  },
  {
   "cell_type": "code",
   "execution_count": 109,
   "metadata": {},
   "outputs": [],
   "source": [
    "#let's take only data regarding a product sold\n",
    "consumers =  tot_rq7[tot_rq7['event_type']=='purchase']"
   ]
  },
  {
   "cell_type": "code",
   "execution_count": 110,
   "metadata": {},
   "outputs": [
    {
     "data": {
      "text/plain": [
       "505152392.76999974"
      ]
     },
     "execution_count": 110,
     "metadata": {},
     "output_type": "execute_result"
    }
   ],
   "source": [
    "total_revenues = consumers['price'].sum()\n",
    "total_revenues"
   ]
  },
  {
   "cell_type": "code",
   "execution_count": 112,
   "metadata": {},
   "outputs": [],
   "source": [
    "#calculating how much every user spent\n",
    "spent_by_user = consumers.groupby('user_id').price.sum()"
   ]
  },
  {
   "cell_type": "code",
   "execution_count": 113,
   "metadata": {},
   "outputs": [
    {
     "data": {
      "text/plain": [
       "user_id\n",
       "512386086    344153.29\n",
       "515384420    303144.24\n",
       "513117637    266331.24\n",
       "519267944    265569.52\n",
       "518514099    203986.07\n",
       "               ...    \n",
       "513377188         0.88\n",
       "517557126         0.87\n",
       "524830675         0.87\n",
       "513378422         0.79\n",
       "520573734         0.77\n",
       "Name: price, Length: 697470, dtype: float64"
      ]
     },
     "execution_count": 113,
     "metadata": {},
     "output_type": "execute_result"
    }
   ],
   "source": [
    "#ranking of consumer\n",
    "spent_by_user.sort_values(ascending = False)"
   ]
  },
  {
   "cell_type": "code",
   "execution_count": 114,
   "metadata": {},
   "outputs": [],
   "source": [
    "#sorting by the amount spend\n",
    "best_buyer = (spent_by_user.sort_values(ascending = False)).to_frame()"
   ]
  },
  {
   "cell_type": "code",
   "execution_count": 115,
   "metadata": {},
   "outputs": [
    {
     "data": {
      "text/plain": [
       "505152392.7699998"
      ]
     },
     "execution_count": 115,
     "metadata": {},
     "output_type": "execute_result"
    }
   ],
   "source": [
    "best_buyer['price'].sum()"
   ]
  },
  {
   "cell_type": "code",
   "execution_count": 116,
   "metadata": {},
   "outputs": [
    {
     "data": {
      "text/plain": [
       "697470"
      ]
     },
     "execution_count": 116,
     "metadata": {},
     "output_type": "execute_result"
    }
   ],
   "source": [
    "#how  users bought someting\n",
    "len(best_buyer)"
   ]
  },
  {
   "cell_type": "code",
   "execution_count": 117,
   "metadata": {},
   "outputs": [
    {
     "data": {
      "text/plain": [
       "139494.0"
      ]
     },
     "execution_count": 117,
     "metadata": {},
     "output_type": "execute_result"
    }
   ],
   "source": [
    "#first 20% of buyers \n",
    "len(best_buyer)*0.2"
   ]
  },
  {
   "cell_type": "code",
   "execution_count": 118,
   "metadata": {},
   "outputs": [
    {
     "data": {
      "text/plain": [
       "139493"
      ]
     },
     "execution_count": 118,
     "metadata": {},
     "output_type": "execute_result"
    }
   ],
   "source": [
    "#position of first 20 % of buyers\n",
    "top_20 = int(len(best_buyer)*0.20)-1\n",
    "top_20"
   ]
  },
  {
   "cell_type": "code",
   "execution_count": 119,
   "metadata": {},
   "outputs": [
    {
     "data": {
      "text/plain": [
       "364221373.46"
      ]
     },
     "execution_count": 119,
     "metadata": {},
     "output_type": "execute_result"
    }
   ],
   "source": [
    "#how much the best buyers spent togethere\n",
    "amount_top = best_buyer.head(top_20)['price'].sum()\n",
    "amount_top"
   ]
  },
  {
   "cell_type": "code",
   "execution_count": 120,
   "metadata": {},
   "outputs": [
    {
     "data": {
      "text/plain": [
       "72"
      ]
     },
     "execution_count": 120,
     "metadata": {},
     "output_type": "execute_result"
    }
   ],
   "source": [
    "#for november data the amount is not respected very well infact \n",
    "#the first 20% of buyers spent the  70% of the total revenues\n",
    "#not the 80%\n",
    "pareto = int(round(amount_top/total_revenues, 2) * 100)\n",
    "pareto"
   ]
  }
 ],
 "metadata": {
  "kernelspec": {
   "display_name": "Python 3",
   "language": "python",
   "name": "python3"
  },
  "language_info": {
   "codemirror_mode": {
    "name": "ipython",
    "version": 3
   },
   "file_extension": ".py",
   "mimetype": "text/x-python",
   "name": "python",
   "nbconvert_exporter": "python",
   "pygments_lexer": "ipython3",
   "version": "3.6.9"
  }
 },
 "nbformat": 4,
 "nbformat_minor": 4
}
