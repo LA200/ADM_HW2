{
 "cells": [
  {
   "cell_type": "code",
   "execution_count": 1,
   "metadata": {},
   "outputs": [],
   "source": [
    "# Requirements \n",
    "# !pip3 install pandas numpy seaborn \n",
    "import os\n",
    "import numpy as np\n",
    "import pandas as pd\n",
    "import math\n",
    "from matplotlib import pyplot as plt\n",
    "\n",
    "import seaborn as sns"
   ]
  },
  {
   "cell_type": "code",
   "execution_count": 2,
   "metadata": {},
   "outputs": [
    {
     "name": "stdout",
     "output_type": "stream",
     "text": [
      "2019-Nov.csv\n",
      "2019-Oct.csv\n"
     ]
    }
   ],
   "source": [
    "!bash RQ6_Nov19.sh\n",
    "!bash RQ6_Oct19.sh"
   ]
  },
  {
   "cell_type": "code",
   "execution_count": 3,
   "metadata": {},
   "outputs": [],
   "source": [
    "df_labels = ['2019-Oct.csv.rq6', '2019-Nov.csv.rq6']"
   ]
  },
  {
   "cell_type": "code",
   "execution_count": 4,
   "metadata": {},
   "outputs": [],
   "source": [
    "nov_rq6 = pd.read_csv('/Users/tommy/Desktop/codici/datasets/2019-Nov.csv.rq6.csv')"
   ]
  },
  {
   "cell_type": "code",
   "execution_count": 5,
   "metadata": {},
   "outputs": [],
   "source": [
    "octo_rq6 = pd.read_csv('/Users/tommy/Desktop/codici/datasets/2019-Oct.csv.rq6.csv')"
   ]
  },
  {
   "cell_type": "code",
   "execution_count": 6,
   "metadata": {},
   "outputs": [],
   "source": [
    "tot_rq6 = pd.concat([octo_rq6,nov_rq6]) #about a minute"
   ]
  },
  {
   "cell_type": "code",
   "execution_count": 7,
   "metadata": {},
   "outputs": [
    {
     "data": {
      "text/html": [
       "<div>\n",
       "<style scoped>\n",
       "    .dataframe tbody tr th:only-of-type {\n",
       "        vertical-align: middle;\n",
       "    }\n",
       "\n",
       "    .dataframe tbody tr th {\n",
       "        vertical-align: top;\n",
       "    }\n",
       "\n",
       "    .dataframe thead th {\n",
       "        text-align: right;\n",
       "    }\n",
       "</style>\n",
       "<table border=\"1\" class=\"dataframe\">\n",
       "  <thead>\n",
       "    <tr style=\"text-align: right;\">\n",
       "      <th></th>\n",
       "      <th>event_type</th>\n",
       "      <th>product_id</th>\n",
       "      <th>category_code</th>\n",
       "      <th>user_id</th>\n",
       "    </tr>\n",
       "  </thead>\n",
       "  <tbody>\n",
       "    <tr>\n",
       "      <th>0</th>\n",
       "      <td>view</td>\n",
       "      <td>44600062</td>\n",
       "      <td>NaN</td>\n",
       "      <td>541312140</td>\n",
       "    </tr>\n",
       "    <tr>\n",
       "      <th>1</th>\n",
       "      <td>view</td>\n",
       "      <td>3900821</td>\n",
       "      <td>appliances.environment.water_heater</td>\n",
       "      <td>554748717</td>\n",
       "    </tr>\n",
       "    <tr>\n",
       "      <th>2</th>\n",
       "      <td>view</td>\n",
       "      <td>17200506</td>\n",
       "      <td>furniture.living_room.sofa</td>\n",
       "      <td>519107250</td>\n",
       "    </tr>\n",
       "    <tr>\n",
       "      <th>3</th>\n",
       "      <td>view</td>\n",
       "      <td>1307067</td>\n",
       "      <td>computers.notebook</td>\n",
       "      <td>550050854</td>\n",
       "    </tr>\n",
       "    <tr>\n",
       "      <th>4</th>\n",
       "      <td>view</td>\n",
       "      <td>1004237</td>\n",
       "      <td>electronics.smartphone</td>\n",
       "      <td>535871217</td>\n",
       "    </tr>\n",
       "  </tbody>\n",
       "</table>\n",
       "</div>"
      ],
      "text/plain": [
       "  event_type  product_id                        category_code    user_id\n",
       "0       view    44600062                                  NaN  541312140\n",
       "1       view     3900821  appliances.environment.water_heater  554748717\n",
       "2       view    17200506           furniture.living_room.sofa  519107250\n",
       "3       view     1307067                   computers.notebook  550050854\n",
       "4       view     1004237               electronics.smartphone  535871217"
      ]
     },
     "execution_count": 7,
     "metadata": {},
     "output_type": "execute_result"
    }
   ],
   "source": [
    "tot_rq6.head()"
   ]
  },
  {
   "cell_type": "code",
   "execution_count": 8,
   "metadata": {},
   "outputs": [],
   "source": [
    "subRQ6 = tot_rq6"
   ]
  },
  {
   "cell_type": "code",
   "execution_count": 28,
   "metadata": {},
   "outputs": [
    {
     "name": "stderr",
     "output_type": "stream",
     "text": [
      "<ipython-input-28-a45a3751d013>:1: SettingWithCopyWarning: \n",
      "A value is trying to be set on a copy of a slice from a DataFrame.\n",
      "Try using .loc[row_indexer,col_indexer] = value instead\n",
      "\n",
      "See the caveats in the documentation: https://pandas.pydata.org/pandas-docs/stable/user_guide/indexing.html#returning-a-view-versus-a-copy\n",
      "  subRQ6['category_code'] = [el.split('.')[0] for el in list(subRQ6['category_code']) if type(el) == str]\n"
     ]
    }
   ],
   "source": [
    "subRQ6 = subRQ6.dropna()\n",
    "subRQ6['category_code'] = [el.split('.')[0] for el in list(subRQ6['category_code']) if type(el) == str]\n",
    "#df_prod_sold['category_code'] = [el.split('.')[0] for el in list(df_prod_sold['category_code']) if type(el) == str]"
   ]
  },
  {
   "cell_type": "code",
   "execution_count": 9,
   "metadata": {},
   "outputs": [
    {
     "data": {
      "text/html": [
       "<div>\n",
       "<style scoped>\n",
       "    .dataframe tbody tr th:only-of-type {\n",
       "        vertical-align: middle;\n",
       "    }\n",
       "\n",
       "    .dataframe tbody tr th {\n",
       "        vertical-align: top;\n",
       "    }\n",
       "\n",
       "    .dataframe thead th {\n",
       "        text-align: right;\n",
       "    }\n",
       "</style>\n",
       "<table border=\"1\" class=\"dataframe\">\n",
       "  <thead>\n",
       "    <tr style=\"text-align: right;\">\n",
       "      <th></th>\n",
       "      <th>event_type</th>\n",
       "      <th>product_id</th>\n",
       "      <th>category_code</th>\n",
       "      <th>user_id</th>\n",
       "    </tr>\n",
       "  </thead>\n",
       "  <tbody>\n",
       "    <tr>\n",
       "      <th>0</th>\n",
       "      <td>view</td>\n",
       "      <td>44600062</td>\n",
       "      <td>NaN</td>\n",
       "      <td>541312140</td>\n",
       "    </tr>\n",
       "    <tr>\n",
       "      <th>1</th>\n",
       "      <td>view</td>\n",
       "      <td>3900821</td>\n",
       "      <td>appliances.environment.water_heater</td>\n",
       "      <td>554748717</td>\n",
       "    </tr>\n",
       "    <tr>\n",
       "      <th>2</th>\n",
       "      <td>view</td>\n",
       "      <td>17200506</td>\n",
       "      <td>furniture.living_room.sofa</td>\n",
       "      <td>519107250</td>\n",
       "    </tr>\n",
       "    <tr>\n",
       "      <th>3</th>\n",
       "      <td>view</td>\n",
       "      <td>1307067</td>\n",
       "      <td>computers.notebook</td>\n",
       "      <td>550050854</td>\n",
       "    </tr>\n",
       "    <tr>\n",
       "      <th>4</th>\n",
       "      <td>view</td>\n",
       "      <td>1004237</td>\n",
       "      <td>electronics.smartphone</td>\n",
       "      <td>535871217</td>\n",
       "    </tr>\n",
       "  </tbody>\n",
       "</table>\n",
       "</div>"
      ],
      "text/plain": [
       "  event_type  product_id                        category_code    user_id\n",
       "0       view    44600062                                  NaN  541312140\n",
       "1       view     3900821  appliances.environment.water_heater  554748717\n",
       "2       view    17200506           furniture.living_room.sofa  519107250\n",
       "3       view     1307067                   computers.notebook  550050854\n",
       "4       view     1004237               electronics.smartphone  535871217"
      ]
     },
     "execution_count": 9,
     "metadata": {},
     "output_type": "execute_result"
    }
   ],
   "source": [
    "subRQ6.head()"
   ]
  },
  {
   "cell_type": "code",
   "execution_count": 10,
   "metadata": {},
   "outputs": [],
   "source": [
    "# obtaining the number of product sold:\n",
    "# by taking only rows about purchasing\n",
    "# and at the end we count them (.shape[0])\n",
    "# shape[0] are the rows of the dataset where the event is equal to purchase\n",
    "# so it rapresents the product sold\n",
    "\n",
    "df_prod_sold =  subRQ6[subRQ6['event_type']=='purchase']\n",
    "prod_sold = df_prod_sold.shape[0]"
   ]
  },
  {
   "cell_type": "code",
   "execution_count": 11,
   "metadata": {},
   "outputs": [
    {
     "data": {
      "text/plain": [
       "1659788"
      ]
     },
     "execution_count": 11,
     "metadata": {},
     "output_type": "execute_result"
    }
   ],
   "source": [
    "prod_sold"
   ]
  },
  {
   "cell_type": "code",
   "execution_count": 12,
   "metadata": {},
   "outputs": [],
   "source": [
    "# in a similar way we calculate the number of user:\n",
    "# this time we group by 'user_id' so we obtain the exact users's number\n",
    "# we extract that number by the command shape[0] (number of rows)\n",
    "users = subRQ6.groupby('user_id').product_id.count().shape[0]"
   ]
  },
  {
   "cell_type": "code",
   "execution_count": 13,
   "metadata": {},
   "outputs": [
    {
     "data": {
      "text/plain": [
       "5316649"
      ]
     },
     "execution_count": 13,
     "metadata": {},
     "output_type": "execute_result"
    }
   ],
   "source": [
    "users"
   ]
  },
  {
   "cell_type": "code",
   "execution_count": 14,
   "metadata": {},
   "outputs": [
    {
     "data": {
      "text/plain": [
       "0.3122"
      ]
     },
     "execution_count": 14,
     "metadata": {},
     "output_type": "execute_result"
    }
   ],
   "source": [
    "#finally we calculate the actual purchase rate value\n",
    "purchase_rate = prod_sold/users\n",
    "round(purchase_rate,4)"
   ]
  },
  {
   "cell_type": "code",
   "execution_count": 15,
   "metadata": {},
   "outputs": [],
   "source": [
    "#same think of before\n",
    "df_views = subRQ6[subRQ6['event_type']=='view']\n",
    "views = df_views.shape[0]"
   ]
  },
  {
   "cell_type": "code",
   "execution_count": 16,
   "metadata": {},
   "outputs": [
    {
     "data": {
      "text/plain": [
       "2.992144008055359e-09"
      ]
     },
     "execution_count": 16,
     "metadata": {},
     "output_type": "execute_result"
    }
   ],
   "source": [
    "#conversion rate calculated by following the previous formula\n",
    "conversion_rate = purchase_rate / views\n",
    "conversion_rate"
   ]
  },
  {
   "cell_type": "code",
   "execution_count": 17,
   "metadata": {},
   "outputs": [],
   "source": [
    "#dropping nas values for both dataframe\n",
    "df_views = df_views.dropna()\n",
    "df_prod_sold = df_prod_sold.dropna()\n"
   ]
  },
  {
   "cell_type": "code",
   "execution_count": 18,
   "metadata": {},
   "outputs": [],
   "source": [
    "#purchase rate of each category\n",
    "df_prod_sold['category_code'] = [el.split('.')[0] for el in list(df_prod_sold['category_code']) if type(el) == str]"
   ]
  },
  {
   "cell_type": "code",
   "execution_count": 19,
   "metadata": {},
   "outputs": [
    {
     "data": {
      "text/plain": [
       "category_code\n",
       "accessories       3741\n",
       "apparel          22217\n",
       "appliances      174022\n",
       "auto             21339\n",
       "computers        62332\n",
       "construction     16500\n",
       "country_yard       132\n",
       "electronics     916667\n",
       "furniture        19843\n",
       "kids             11648\n",
       "medicine           654\n",
       "sport             2725\n",
       "stationery         325\n",
       "Name: product_id, dtype: int64"
      ]
     },
     "execution_count": 19,
     "metadata": {},
     "output_type": "execute_result"
    }
   ],
   "source": [
    "number_of_sales = df_prod_sold.groupby('category_code').product_id.count()\n",
    "number_of_sales"
   ]
  },
  {
   "cell_type": "code",
   "execution_count": 29,
   "metadata": {},
   "outputs": [],
   "source": [
    "# obtaining number of users for each categories\n",
    "# first step: grouping for categories subRQ6\n",
    "grouped_subRQ6 = subRQ6.groupby(\"category_code\")"
   ]
  },
  {
   "cell_type": "code",
   "execution_count": 30,
   "metadata": {},
   "outputs": [
    {
     "data": {
      "text/plain": [
       "category_code\n",
       "accessories      115558\n",
       "apparel          625291\n",
       "appliances      1087898\n",
       "auto             287480\n",
       "computers        547379\n",
       "construction     219154\n",
       "country_yard       8221\n",
       "electronics     3108287\n",
       "furniture        432412\n",
       "kids             226201\n",
       "medicine           7566\n",
       "sport             82279\n",
       "stationery         5690\n",
       "Name: user_id, dtype: int64"
      ]
     },
     "execution_count": 30,
     "metadata": {},
     "output_type": "execute_result"
    }
   ],
   "source": [
    "#now we want to extract the number of unique users for each category\n",
    "user_of_each_cat = grouped_subRQ6.agg({\"user_id\": \"nunique\"})\n",
    "user_of_each_cat.iloc[:,0]"
   ]
  },
  {
   "cell_type": "code",
   "execution_count": 31,
   "metadata": {},
   "outputs": [],
   "source": [
    "#converting into a series\n",
    "series_of_unique_users = user_of_each_cat.iloc[:,0]"
   ]
  },
  {
   "cell_type": "code",
   "execution_count": 32,
   "metadata": {},
   "outputs": [
    {
     "data": {
      "text/plain": [
       "category_code\n",
       "electronics     0.2949\n",
       "appliances      0.1600\n",
       "computers       0.1139\n",
       "medicine        0.0864\n",
       "construction    0.0753\n",
       "auto            0.0742\n",
       "stationery      0.0571\n",
       "kids            0.0515\n",
       "furniture       0.0459\n",
       "apparel         0.0355\n",
       "sport           0.0331\n",
       "accessories     0.0324\n",
       "country_yard    0.0161\n",
       "dtype: float64"
      ]
     },
     "execution_count": 32,
     "metadata": {},
     "output_type": "execute_result"
    }
   ],
   "source": [
    "#calculating the purchase rate => \n",
    "# number of product sold for each catogory / number of unique user for each category\n",
    "purchase_rate_for_cat = number_of_sales.divide(series_of_unique_users)\n",
    "round(purchase_rate_for_cat,4).sort_values(ascending=False)\n"
   ]
  },
  {
   "cell_type": "code",
   "execution_count": 33,
   "metadata": {},
   "outputs": [],
   "source": [
    "# now for the last step of this request \n",
    "# we calculate the conversion rate of each categories\n",
    "# we have yet the purchase rate of product for each category\n",
    "# in a similar way we are going to calculate the numer of views\n",
    "# for each category and then we simply divide them.\n",
    "\n",
    "df_views['category_code'] = [el.split('.')[0] for el in list(df_views['category_code']) if type(el) == str]\n"
   ]
  },
  {
   "cell_type": "code",
   "execution_count": 34,
   "metadata": {},
   "outputs": [
    {
     "data": {
      "text/plain": [
       "category_code\n",
       "accessories       616475\n",
       "apparel          4477518\n",
       "appliances      12837916\n",
       "auto             2157706\n",
       "computers        6297977\n",
       "construction     1759762\n",
       "country_yard       31255\n",
       "electronics     37026582\n",
       "furniture        3295250\n",
       "kids             1292002\n",
       "medicine           34738\n",
       "sport             415087\n",
       "stationery         19323\n",
       "Name: product_id, dtype: int64"
      ]
     },
     "execution_count": 34,
     "metadata": {},
     "output_type": "execute_result"
    }
   ],
   "source": [
    "number_of_views = df_views.groupby('category_code').product_id.count()\n",
    "number_of_views\n"
   ]
  },
  {
   "cell_type": "code",
   "execution_count": 35,
   "metadata": {},
   "outputs": [
    {
     "data": {
      "text/plain": [
       "category_code\n",
       "stationery      2.955946e-06\n",
       "medicine        2.488322e-06\n",
       "country_yard    5.137239e-07\n",
       "sport           7.978815e-08\n",
       "accessories     5.251365e-08\n",
       "construction    4.278392e-08\n",
       "kids            3.985599e-08\n",
       "auto            3.440124e-08\n",
       "computers       1.808098e-08\n",
       "furniture       1.392583e-08\n",
       "appliances      1.246010e-08\n",
       "electronics     7.964836e-09\n",
       "apparel         7.935347e-09\n",
       "dtype: float64"
      ]
     },
     "execution_count": 35,
     "metadata": {},
     "output_type": "execute_result"
    }
   ],
   "source": [
    "coversion_rate_for_categories = purchase_rate_for_cat.divide(number_of_views)\n",
    "coversion_rate_for_categories.sort_values(ascending=False)\n"
   ]
  },
  {
   "cell_type": "code",
   "execution_count": 36,
   "metadata": {},
   "outputs": [],
   "source": [
    "#now we apply a traslation to plot better the results\n",
    "coversion_for_plot = ((coversion_rate_for_categories)*10**8).sort_values(ascending=False)\n"
   ]
  },
  {
   "cell_type": "code",
   "execution_count": 48,
   "metadata": {},
   "outputs": [
    {
     "data": {
      "text/html": [
       "<div>\n",
       "<style scoped>\n",
       "    .dataframe tbody tr th:only-of-type {\n",
       "        vertical-align: middle;\n",
       "    }\n",
       "\n",
       "    .dataframe tbody tr th {\n",
       "        vertical-align: top;\n",
       "    }\n",
       "\n",
       "    .dataframe thead th {\n",
       "        text-align: right;\n",
       "    }\n",
       "</style>\n",
       "<table border=\"1\" class=\"dataframe\">\n",
       "  <thead>\n",
       "    <tr style=\"text-align: right;\">\n",
       "      <th></th>\n",
       "      <th>0</th>\n",
       "    </tr>\n",
       "    <tr>\n",
       "      <th>category_code</th>\n",
       "      <th></th>\n",
       "    </tr>\n",
       "  </thead>\n",
       "  <tbody>\n",
       "    <tr>\n",
       "      <th>stationery</th>\n",
       "      <td>295.594630</td>\n",
       "    </tr>\n",
       "    <tr>\n",
       "      <th>medicine</th>\n",
       "      <td>248.832212</td>\n",
       "    </tr>\n",
       "    <tr>\n",
       "      <th>country_yard</th>\n",
       "      <td>51.372391</td>\n",
       "    </tr>\n",
       "    <tr>\n",
       "      <th>sport</th>\n",
       "      <td>7.978815</td>\n",
       "    </tr>\n",
       "    <tr>\n",
       "      <th>accessories</th>\n",
       "      <td>5.251365</td>\n",
       "    </tr>\n",
       "    <tr>\n",
       "      <th>construction</th>\n",
       "      <td>4.278392</td>\n",
       "    </tr>\n",
       "    <tr>\n",
       "      <th>kids</th>\n",
       "      <td>3.985599</td>\n",
       "    </tr>\n",
       "    <tr>\n",
       "      <th>auto</th>\n",
       "      <td>3.440124</td>\n",
       "    </tr>\n",
       "    <tr>\n",
       "      <th>computers</th>\n",
       "      <td>1.808098</td>\n",
       "    </tr>\n",
       "    <tr>\n",
       "      <th>furniture</th>\n",
       "      <td>1.392583</td>\n",
       "    </tr>\n",
       "    <tr>\n",
       "      <th>appliances</th>\n",
       "      <td>1.246010</td>\n",
       "    </tr>\n",
       "    <tr>\n",
       "      <th>electronics</th>\n",
       "      <td>0.796484</td>\n",
       "    </tr>\n",
       "    <tr>\n",
       "      <th>apparel</th>\n",
       "      <td>0.793535</td>\n",
       "    </tr>\n",
       "  </tbody>\n",
       "</table>\n",
       "</div>"
      ],
      "text/plain": [
       "                        0\n",
       "category_code            \n",
       "stationery     295.594630\n",
       "medicine       248.832212\n",
       "country_yard    51.372391\n",
       "sport            7.978815\n",
       "accessories      5.251365\n",
       "construction     4.278392\n",
       "kids             3.985599\n",
       "auto             3.440124\n",
       "computers        1.808098\n",
       "furniture        1.392583\n",
       "appliances       1.246010\n",
       "electronics      0.796484\n",
       "apparel          0.793535"
      ]
     },
     "execution_count": 48,
     "metadata": {},
     "output_type": "execute_result"
    }
   ],
   "source": [
    "coversion_for_plot.to_frame()"
   ]
  },
  {
   "cell_type": "code",
   "execution_count": 52,
   "metadata": {},
   "outputs": [],
   "source": [
    "from matplotlib import cm\n",
    "color = cm.inferno_r(np.linspace(.4, .8, 10))"
   ]
  },
  {
   "cell_type": "code",
   "execution_count": 53,
   "metadata": {},
   "outputs": [
    {
     "data": {
      "text/plain": [
       "<matplotlib.axes._subplots.AxesSubplot at 0x140a3fa00>"
      ]
     },
     "execution_count": 53,
     "metadata": {},
     "output_type": "execute_result"
    },
    {
     "data": {
      "image/png": "[encoded data removed]",
      "text/plain": [
       "<Figure size 432x288 with 1 Axes>"
      ]
     },
     "metadata": {
      "needs_background": "light"
     },
     "output_type": "display_data"
    }
   ],
   "source": [
    "#Series.plot(*args, **kwargs)\n",
    "coversion_for_plot.head(10).plot(kind = 'bar', title = 'Conversion Rate',\n",
    "                        color = color)"
   ]
  },
  {
   "cell_type": "code",
   "execution_count": null,
   "metadata": {},
   "outputs": [],
   "source": []
  },
  {
   "cell_type": "code",
   "execution_count": null,
   "metadata": {},
   "outputs": [],
   "source": []
  }
 ],
 "metadata": {
  "kernelspec": {
   "display_name": "Python 3",
   "language": "python",
   "name": "python3"
  },
  "language_info": {
   "codemirror_mode": {
    "name": "ipython",
    "version": 3
   },
   "file_extension": ".py",
   "mimetype": "text/x-python",
   "name": "python",
   "nbconvert_exporter": "python",
   "pygments_lexer": "ipython3",
   "version": "3.8.3"
  }
 },
 "nbformat": 4,
 "nbformat_minor": 4
}
