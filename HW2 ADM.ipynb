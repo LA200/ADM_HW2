{
 "cells": [
  {
   "cell_type": "code",
   "execution_count": 1,
   "metadata": {},
   "outputs": [],
   "source": [
    "# Requirements \n",
    "# !pip3 install pandas numpy seaborn \n",
    "# !python3 -m pip install \"dask[complete]\" --upgrade\n",
    "# !python3 -m pip install \"dask[array]\" --upgrade\n",
    "# !python3 -m pip install \"dask[bag]\" --upgrade\n",
    "# !python3 -m pip install \"dask[dataframe]\" --upgrade\n",
    "# !python3 -m pip install \"dask[delayed]\" --upgrade\n",
    "# !python3 -m pip install \"dask[distributed]\" --upgrade\n",
    "import os\n",
    "import numpy as np\n",
    "import pandas as pd\n",
    "# import dask.dataframe as dd\n",
    "import math\n",
    "from matplotlib import pyplot as plt\n",
    "import seaborn as sns"
   ]
  },
  {
   "cell_type": "code",
   "execution_count": 2,
   "metadata": {},
   "outputs": [],
   "source": [
    "# available months (file labels)\n",
    "df_labels = ['2019-Oct', '2019-Nov']"
   ]
  },
  {
   "cell_type": "code",
   "execution_count": null,
   "metadata": {},
   "outputs": [],
   "source": [
    "# Below is some stuff which is used for debug only, proceed straigt to RQ1 -------------------------------------->"
   ]
  },
  {
   "cell_type": "code",
   "execution_count": 3,
   "metadata": {
    "scrolled": true
   },
   "outputs": [
    {
     "data": {
      "text/html": [
       "<div>\n",
       "<style scoped>\n",
       "    .dataframe tbody tr th:only-of-type {\n",
       "        vertical-align: middle;\n",
       "    }\n",
       "\n",
       "    .dataframe tbody tr th {\n",
       "        vertical-align: top;\n",
       "    }\n",
       "\n",
       "    .dataframe thead th {\n",
       "        text-align: right;\n",
       "    }\n",
       "</style>\n",
       "<table border=\"1\" class=\"dataframe\">\n",
       "  <thead>\n",
       "    <tr style=\"text-align: right;\">\n",
       "      <th></th>\n",
       "      <th>event_time</th>\n",
       "      <th>event_type</th>\n",
       "      <th>product_id</th>\n",
       "      <th>category_id</th>\n",
       "      <th>category_code</th>\n",
       "      <th>brand</th>\n",
       "      <th>price</th>\n",
       "      <th>user_id</th>\n",
       "      <th>user_session</th>\n",
       "    </tr>\n",
       "  </thead>\n",
       "  <tbody>\n",
       "    <tr>\n",
       "      <th>0</th>\n",
       "      <td>2019-10-01 00:00:00+00:00</td>\n",
       "      <td>view</td>\n",
       "      <td>44600062</td>\n",
       "      <td>2103807459595387724</td>\n",
       "      <td>NaN</td>\n",
       "      <td>shiseido</td>\n",
       "      <td>35.79</td>\n",
       "      <td>541312140</td>\n",
       "      <td>72d76fde-8bb3-4e00-8c23-a032dfed738c</td>\n",
       "    </tr>\n",
       "    <tr>\n",
       "      <th>1</th>\n",
       "      <td>2019-10-01 00:00:00+00:00</td>\n",
       "      <td>view</td>\n",
       "      <td>3900821</td>\n",
       "      <td>2053013552326770905</td>\n",
       "      <td>appliances.environment.water_heater</td>\n",
       "      <td>aqua</td>\n",
       "      <td>33.20</td>\n",
       "      <td>554748717</td>\n",
       "      <td>9333dfbd-b87a-4708-9857-6336556b0fcc</td>\n",
       "    </tr>\n",
       "    <tr>\n",
       "      <th>2</th>\n",
       "      <td>2019-10-01 00:00:01+00:00</td>\n",
       "      <td>view</td>\n",
       "      <td>17200506</td>\n",
       "      <td>2053013559792632471</td>\n",
       "      <td>furniture.living_room.sofa</td>\n",
       "      <td>NaN</td>\n",
       "      <td>543.10</td>\n",
       "      <td>519107250</td>\n",
       "      <td>566511c2-e2e3-422b-b695-cf8e6e792ca8</td>\n",
       "    </tr>\n",
       "    <tr>\n",
       "      <th>3</th>\n",
       "      <td>2019-10-01 00:00:01+00:00</td>\n",
       "      <td>view</td>\n",
       "      <td>1307067</td>\n",
       "      <td>2053013558920217191</td>\n",
       "      <td>computers.notebook</td>\n",
       "      <td>lenovo</td>\n",
       "      <td>251.74</td>\n",
       "      <td>550050854</td>\n",
       "      <td>7c90fc70-0e80-4590-96f3-13c02c18c713</td>\n",
       "    </tr>\n",
       "    <tr>\n",
       "      <th>4</th>\n",
       "      <td>2019-10-01 00:00:04+00:00</td>\n",
       "      <td>view</td>\n",
       "      <td>1004237</td>\n",
       "      <td>2053013555631882655</td>\n",
       "      <td>electronics.smartphone</td>\n",
       "      <td>apple</td>\n",
       "      <td>1081.98</td>\n",
       "      <td>535871217</td>\n",
       "      <td>c6bd7419-2748-4c56-95b4-8cec9ff8b80d</td>\n",
       "    </tr>\n",
       "    <tr>\n",
       "      <th>5</th>\n",
       "      <td>2019-10-01 00:00:05+00:00</td>\n",
       "      <td>view</td>\n",
       "      <td>1480613</td>\n",
       "      <td>2053013561092866779</td>\n",
       "      <td>computers.desktop</td>\n",
       "      <td>pulser</td>\n",
       "      <td>908.62</td>\n",
       "      <td>512742880</td>\n",
       "      <td>0d0d91c2-c9c2-4e81-90a5-86594dec0db9</td>\n",
       "    </tr>\n",
       "    <tr>\n",
       "      <th>6</th>\n",
       "      <td>2019-10-01 00:00:08+00:00</td>\n",
       "      <td>view</td>\n",
       "      <td>17300353</td>\n",
       "      <td>2053013553853497655</td>\n",
       "      <td>NaN</td>\n",
       "      <td>creed</td>\n",
       "      <td>380.96</td>\n",
       "      <td>555447699</td>\n",
       "      <td>4fe811e9-91de-46da-90c3-bbd87ed3a65d</td>\n",
       "    </tr>\n",
       "    <tr>\n",
       "      <th>7</th>\n",
       "      <td>2019-10-01 00:00:08+00:00</td>\n",
       "      <td>view</td>\n",
       "      <td>31500053</td>\n",
       "      <td>2053013558031024687</td>\n",
       "      <td>NaN</td>\n",
       "      <td>luminarc</td>\n",
       "      <td>41.16</td>\n",
       "      <td>550978835</td>\n",
       "      <td>6280d577-25c8-4147-99a7-abc6048498d6</td>\n",
       "    </tr>\n",
       "    <tr>\n",
       "      <th>8</th>\n",
       "      <td>2019-10-01 00:00:10+00:00</td>\n",
       "      <td>view</td>\n",
       "      <td>28719074</td>\n",
       "      <td>2053013565480109009</td>\n",
       "      <td>apparel.shoes.keds</td>\n",
       "      <td>baden</td>\n",
       "      <td>102.71</td>\n",
       "      <td>520571932</td>\n",
       "      <td>ac1cd4e5-a3ce-4224-a2d7-ff660a105880</td>\n",
       "    </tr>\n",
       "    <tr>\n",
       "      <th>9</th>\n",
       "      <td>2019-10-01 00:00:11+00:00</td>\n",
       "      <td>view</td>\n",
       "      <td>1004545</td>\n",
       "      <td>2053013555631882655</td>\n",
       "      <td>electronics.smartphone</td>\n",
       "      <td>huawei</td>\n",
       "      <td>566.01</td>\n",
       "      <td>537918940</td>\n",
       "      <td>406c46ed-90a4-4787-a43b-59a410c1a5fb</td>\n",
       "    </tr>\n",
       "    <tr>\n",
       "      <th>10</th>\n",
       "      <td>2019-10-01 00:00:11+00:00</td>\n",
       "      <td>view</td>\n",
       "      <td>2900536</td>\n",
       "      <td>2053013554776244595</td>\n",
       "      <td>appliances.kitchen.microwave</td>\n",
       "      <td>elenberg</td>\n",
       "      <td>51.46</td>\n",
       "      <td>555158050</td>\n",
       "      <td>b5bdd0b3-4ca2-4c55-939e-9ce44bb50abd</td>\n",
       "    </tr>\n",
       "    <tr>\n",
       "      <th>11</th>\n",
       "      <td>2019-10-01 00:00:11+00:00</td>\n",
       "      <td>view</td>\n",
       "      <td>1005011</td>\n",
       "      <td>2053013555631882655</td>\n",
       "      <td>electronics.smartphone</td>\n",
       "      <td>samsung</td>\n",
       "      <td>900.64</td>\n",
       "      <td>530282093</td>\n",
       "      <td>50a293fb-5940-41b2-baf3-17af0e812101</td>\n",
       "    </tr>\n",
       "    <tr>\n",
       "      <th>12</th>\n",
       "      <td>2019-10-01 00:00:13+00:00</td>\n",
       "      <td>view</td>\n",
       "      <td>3900746</td>\n",
       "      <td>2053013552326770905</td>\n",
       "      <td>appliances.environment.water_heater</td>\n",
       "      <td>haier</td>\n",
       "      <td>102.38</td>\n",
       "      <td>555444559</td>\n",
       "      <td>98b88fa0-d8fa-4b9d-8a71-3dd403afab85</td>\n",
       "    </tr>\n",
       "    <tr>\n",
       "      <th>13</th>\n",
       "      <td>2019-10-01 00:00:15+00:00</td>\n",
       "      <td>view</td>\n",
       "      <td>44600062</td>\n",
       "      <td>2103807459595387724</td>\n",
       "      <td>NaN</td>\n",
       "      <td>shiseido</td>\n",
       "      <td>35.79</td>\n",
       "      <td>541312140</td>\n",
       "      <td>72d76fde-8bb3-4e00-8c23-a032dfed738c</td>\n",
       "    </tr>\n",
       "    <tr>\n",
       "      <th>14</th>\n",
       "      <td>2019-10-01 00:00:16+00:00</td>\n",
       "      <td>view</td>\n",
       "      <td>13500240</td>\n",
       "      <td>2053013557099889147</td>\n",
       "      <td>furniture.bedroom.bed</td>\n",
       "      <td>brw</td>\n",
       "      <td>93.18</td>\n",
       "      <td>555446365</td>\n",
       "      <td>7f0062d8-ead0-4e0a-96f6-43a0b79a2fc4</td>\n",
       "    </tr>\n",
       "    <tr>\n",
       "      <th>15</th>\n",
       "      <td>2019-10-01 00:00:17+00:00</td>\n",
       "      <td>view</td>\n",
       "      <td>23100006</td>\n",
       "      <td>2053013561638126333</td>\n",
       "      <td>NaN</td>\n",
       "      <td>NaN</td>\n",
       "      <td>357.79</td>\n",
       "      <td>513642368</td>\n",
       "      <td>17566c27-0a8f-4506-9f30-c6a2ccbf583b</td>\n",
       "    </tr>\n",
       "    <tr>\n",
       "      <th>16</th>\n",
       "      <td>2019-10-01 00:00:18+00:00</td>\n",
       "      <td>view</td>\n",
       "      <td>1801995</td>\n",
       "      <td>2053013554415534427</td>\n",
       "      <td>electronics.video.tv</td>\n",
       "      <td>haier</td>\n",
       "      <td>193.03</td>\n",
       "      <td>537192226</td>\n",
       "      <td>e3151795-c355-4efa-acf6-e1fe1bebeee5</td>\n",
       "    </tr>\n",
       "    <tr>\n",
       "      <th>17</th>\n",
       "      <td>2019-10-01 00:00:18+00:00</td>\n",
       "      <td>view</td>\n",
       "      <td>10900029</td>\n",
       "      <td>2053013555069845885</td>\n",
       "      <td>appliances.kitchen.mixer</td>\n",
       "      <td>bosch</td>\n",
       "      <td>58.95</td>\n",
       "      <td>519528062</td>\n",
       "      <td>901b9e3c-3f8f-4147-a442-c25d5c5ed332</td>\n",
       "    </tr>\n",
       "    <tr>\n",
       "      <th>18</th>\n",
       "      <td>2019-10-01 00:00:19+00:00</td>\n",
       "      <td>view</td>\n",
       "      <td>1306631</td>\n",
       "      <td>2053013558920217191</td>\n",
       "      <td>computers.notebook</td>\n",
       "      <td>hp</td>\n",
       "      <td>580.89</td>\n",
       "      <td>550050854</td>\n",
       "      <td>7c90fc70-0e80-4590-96f3-13c02c18c713</td>\n",
       "    </tr>\n",
       "    <tr>\n",
       "      <th>19</th>\n",
       "      <td>2019-10-01 00:00:19+00:00</td>\n",
       "      <td>view</td>\n",
       "      <td>1005135</td>\n",
       "      <td>2053013555631882655</td>\n",
       "      <td>electronics.smartphone</td>\n",
       "      <td>apple</td>\n",
       "      <td>1747.79</td>\n",
       "      <td>535871217</td>\n",
       "      <td>c6bd7419-2748-4c56-95b4-8cec9ff8b80d</td>\n",
       "    </tr>\n",
       "  </tbody>\n",
       "</table>\n",
       "</div>"
      ],
      "text/plain": [
       "                  event_time event_type  product_id          category_id  \\\n",
       "0  2019-10-01 00:00:00+00:00       view    44600062  2103807459595387724   \n",
       "1  2019-10-01 00:00:00+00:00       view     3900821  2053013552326770905   \n",
       "2  2019-10-01 00:00:01+00:00       view    17200506  2053013559792632471   \n",
       "3  2019-10-01 00:00:01+00:00       view     1307067  2053013558920217191   \n",
       "4  2019-10-01 00:00:04+00:00       view     1004237  2053013555631882655   \n",
       "5  2019-10-01 00:00:05+00:00       view     1480613  2053013561092866779   \n",
       "6  2019-10-01 00:00:08+00:00       view    17300353  2053013553853497655   \n",
       "7  2019-10-01 00:00:08+00:00       view    31500053  2053013558031024687   \n",
       "8  2019-10-01 00:00:10+00:00       view    28719074  2053013565480109009   \n",
       "9  2019-10-01 00:00:11+00:00       view     1004545  2053013555631882655   \n",
       "10 2019-10-01 00:00:11+00:00       view     2900536  2053013554776244595   \n",
       "11 2019-10-01 00:00:11+00:00       view     1005011  2053013555631882655   \n",
       "12 2019-10-01 00:00:13+00:00       view     3900746  2053013552326770905   \n",
       "13 2019-10-01 00:00:15+00:00       view    44600062  2103807459595387724   \n",
       "14 2019-10-01 00:00:16+00:00       view    13500240  2053013557099889147   \n",
       "15 2019-10-01 00:00:17+00:00       view    23100006  2053013561638126333   \n",
       "16 2019-10-01 00:00:18+00:00       view     1801995  2053013554415534427   \n",
       "17 2019-10-01 00:00:18+00:00       view    10900029  2053013555069845885   \n",
       "18 2019-10-01 00:00:19+00:00       view     1306631  2053013558920217191   \n",
       "19 2019-10-01 00:00:19+00:00       view     1005135  2053013555631882655   \n",
       "\n",
       "                          category_code     brand    price    user_id  \\\n",
       "0                                   NaN  shiseido    35.79  541312140   \n",
       "1   appliances.environment.water_heater      aqua    33.20  554748717   \n",
       "2            furniture.living_room.sofa       NaN   543.10  519107250   \n",
       "3                    computers.notebook    lenovo   251.74  550050854   \n",
       "4                electronics.smartphone     apple  1081.98  535871217   \n",
       "5                     computers.desktop    pulser   908.62  512742880   \n",
       "6                                   NaN     creed   380.96  555447699   \n",
       "7                                   NaN  luminarc    41.16  550978835   \n",
       "8                    apparel.shoes.keds     baden   102.71  520571932   \n",
       "9                electronics.smartphone    huawei   566.01  537918940   \n",
       "10         appliances.kitchen.microwave  elenberg    51.46  555158050   \n",
       "11               electronics.smartphone   samsung   900.64  530282093   \n",
       "12  appliances.environment.water_heater     haier   102.38  555444559   \n",
       "13                                  NaN  shiseido    35.79  541312140   \n",
       "14                furniture.bedroom.bed       brw    93.18  555446365   \n",
       "15                                  NaN       NaN   357.79  513642368   \n",
       "16                 electronics.video.tv     haier   193.03  537192226   \n",
       "17             appliances.kitchen.mixer     bosch    58.95  519528062   \n",
       "18                   computers.notebook        hp   580.89  550050854   \n",
       "19               electronics.smartphone     apple  1747.79  535871217   \n",
       "\n",
       "                            user_session  \n",
       "0   72d76fde-8bb3-4e00-8c23-a032dfed738c  \n",
       "1   9333dfbd-b87a-4708-9857-6336556b0fcc  \n",
       "2   566511c2-e2e3-422b-b695-cf8e6e792ca8  \n",
       "3   7c90fc70-0e80-4590-96f3-13c02c18c713  \n",
       "4   c6bd7419-2748-4c56-95b4-8cec9ff8b80d  \n",
       "5   0d0d91c2-c9c2-4e81-90a5-86594dec0db9  \n",
       "6   4fe811e9-91de-46da-90c3-bbd87ed3a65d  \n",
       "7   6280d577-25c8-4147-99a7-abc6048498d6  \n",
       "8   ac1cd4e5-a3ce-4224-a2d7-ff660a105880  \n",
       "9   406c46ed-90a4-4787-a43b-59a410c1a5fb  \n",
       "10  b5bdd0b3-4ca2-4c55-939e-9ce44bb50abd  \n",
       "11  50a293fb-5940-41b2-baf3-17af0e812101  \n",
       "12  98b88fa0-d8fa-4b9d-8a71-3dd403afab85  \n",
       "13  72d76fde-8bb3-4e00-8c23-a032dfed738c  \n",
       "14  7f0062d8-ead0-4e0a-96f6-43a0b79a2fc4  \n",
       "15  17566c27-0a8f-4506-9f30-c6a2ccbf583b  \n",
       "16  e3151795-c355-4efa-acf6-e1fe1bebeee5  \n",
       "17  901b9e3c-3f8f-4147-a442-c25d5c5ed332  \n",
       "18  7c90fc70-0e80-4590-96f3-13c02c18c713  \n",
       "19  c6bd7419-2748-4c56-95b4-8cec9ff8b80d  "
      ]
     },
     "execution_count": 3,
     "metadata": {},
     "output_type": "execute_result"
    }
   ],
   "source": [
    "# TO DO: remove, not used\n",
    "october_df = pd.read_csv(\n",
    "    \"datasets/2019-Oct.csv\",\n",
    "    parse_dates=['event_time'],\n",
    "    date_parser=pd.to_datetime,\n",
    "    nrows=1000\n",
    ")\n",
    "october_df.head(20)"
   ]
  },
  {
   "cell_type": "code",
   "execution_count": 8,
   "metadata": {},
   "outputs": [
    {
     "data": {
      "text/html": [
       "<div>\n",
       "<style scoped>\n",
       "    .dataframe tbody tr th:only-of-type {\n",
       "        vertical-align: middle;\n",
       "    }\n",
       "\n",
       "    .dataframe tbody tr th {\n",
       "        vertical-align: top;\n",
       "    }\n",
       "\n",
       "    .dataframe thead th {\n",
       "        text-align: right;\n",
       "    }\n",
       "</style>\n",
       "<table border=\"1\" class=\"dataframe\">\n",
       "  <thead>\n",
       "    <tr style=\"text-align: right;\">\n",
       "      <th></th>\n",
       "      <th>event_type</th>\n",
       "      <th>category_code</th>\n",
       "      <th>counts</th>\n",
       "    </tr>\n",
       "  </thead>\n",
       "  <tbody>\n",
       "    <tr>\n",
       "      <th>0</th>\n",
       "      <td>cart</td>\n",
       "      <td>electronics.audio.headphone</td>\n",
       "      <td>1</td>\n",
       "    </tr>\n",
       "    <tr>\n",
       "      <th>1</th>\n",
       "      <td>cart</td>\n",
       "      <td>electronics.smartphone</td>\n",
       "      <td>1</td>\n",
       "    </tr>\n",
       "    <tr>\n",
       "      <th>2</th>\n",
       "      <td>purchase</td>\n",
       "      <td>appliances.environment.air_heater</td>\n",
       "      <td>1</td>\n",
       "    </tr>\n",
       "    <tr>\n",
       "      <th>3</th>\n",
       "      <td>purchase</td>\n",
       "      <td>electronics.audio.headphone</td>\n",
       "      <td>3</td>\n",
       "    </tr>\n",
       "    <tr>\n",
       "      <th>4</th>\n",
       "      <td>purchase</td>\n",
       "      <td>electronics.smartphone</td>\n",
       "      <td>4</td>\n",
       "    </tr>\n",
       "    <tr>\n",
       "      <th>5</th>\n",
       "      <td>purchase</td>\n",
       "      <td>furniture.bathroom.toilet</td>\n",
       "      <td>1</td>\n",
       "    </tr>\n",
       "    <tr>\n",
       "      <th>6</th>\n",
       "      <td>view</td>\n",
       "      <td>accessories.bag</td>\n",
       "      <td>1</td>\n",
       "    </tr>\n",
       "    <tr>\n",
       "      <th>7</th>\n",
       "      <td>view</td>\n",
       "      <td>apparel.shoes</td>\n",
       "      <td>11</td>\n",
       "    </tr>\n",
       "    <tr>\n",
       "      <th>8</th>\n",
       "      <td>view</td>\n",
       "      <td>apparel.shoes.keds</td>\n",
       "      <td>14</td>\n",
       "    </tr>\n",
       "    <tr>\n",
       "      <th>9</th>\n",
       "      <td>view</td>\n",
       "      <td>apparel.shoes.slipons</td>\n",
       "      <td>1</td>\n",
       "    </tr>\n",
       "    <tr>\n",
       "      <th>10</th>\n",
       "      <td>view</td>\n",
       "      <td>apparel.sock</td>\n",
       "      <td>1</td>\n",
       "    </tr>\n",
       "    <tr>\n",
       "      <th>11</th>\n",
       "      <td>view</td>\n",
       "      <td>appliances.environment.air_conditioner</td>\n",
       "      <td>8</td>\n",
       "    </tr>\n",
       "    <tr>\n",
       "      <th>12</th>\n",
       "      <td>view</td>\n",
       "      <td>appliances.environment.air_heater</td>\n",
       "      <td>40</td>\n",
       "    </tr>\n",
       "    <tr>\n",
       "      <th>13</th>\n",
       "      <td>view</td>\n",
       "      <td>appliances.environment.vacuum</td>\n",
       "      <td>15</td>\n",
       "    </tr>\n",
       "    <tr>\n",
       "      <th>14</th>\n",
       "      <td>view</td>\n",
       "      <td>appliances.environment.water_heater</td>\n",
       "      <td>16</td>\n",
       "    </tr>\n",
       "    <tr>\n",
       "      <th>15</th>\n",
       "      <td>view</td>\n",
       "      <td>appliances.kitchen.blender</td>\n",
       "      <td>1</td>\n",
       "    </tr>\n",
       "    <tr>\n",
       "      <th>16</th>\n",
       "      <td>view</td>\n",
       "      <td>appliances.kitchen.coffee_machine</td>\n",
       "      <td>2</td>\n",
       "    </tr>\n",
       "    <tr>\n",
       "      <th>17</th>\n",
       "      <td>view</td>\n",
       "      <td>appliances.kitchen.dishwasher</td>\n",
       "      <td>2</td>\n",
       "    </tr>\n",
       "    <tr>\n",
       "      <th>18</th>\n",
       "      <td>view</td>\n",
       "      <td>appliances.kitchen.grill</td>\n",
       "      <td>4</td>\n",
       "    </tr>\n",
       "    <tr>\n",
       "      <th>19</th>\n",
       "      <td>view</td>\n",
       "      <td>appliances.kitchen.kettle</td>\n",
       "      <td>1</td>\n",
       "    </tr>\n",
       "    <tr>\n",
       "      <th>20</th>\n",
       "      <td>view</td>\n",
       "      <td>appliances.kitchen.meat_grinder</td>\n",
       "      <td>6</td>\n",
       "    </tr>\n",
       "    <tr>\n",
       "      <th>21</th>\n",
       "      <td>view</td>\n",
       "      <td>appliances.kitchen.microwave</td>\n",
       "      <td>6</td>\n",
       "    </tr>\n",
       "    <tr>\n",
       "      <th>22</th>\n",
       "      <td>view</td>\n",
       "      <td>appliances.kitchen.mixer</td>\n",
       "      <td>4</td>\n",
       "    </tr>\n",
       "    <tr>\n",
       "      <th>23</th>\n",
       "      <td>view</td>\n",
       "      <td>appliances.kitchen.refrigerators</td>\n",
       "      <td>19</td>\n",
       "    </tr>\n",
       "    <tr>\n",
       "      <th>24</th>\n",
       "      <td>view</td>\n",
       "      <td>appliances.kitchen.washer</td>\n",
       "      <td>25</td>\n",
       "    </tr>\n",
       "    <tr>\n",
       "      <th>25</th>\n",
       "      <td>view</td>\n",
       "      <td>appliances.personal.hair_cutter</td>\n",
       "      <td>1</td>\n",
       "    </tr>\n",
       "    <tr>\n",
       "      <th>26</th>\n",
       "      <td>view</td>\n",
       "      <td>appliances.sewing_machine</td>\n",
       "      <td>1</td>\n",
       "    </tr>\n",
       "    <tr>\n",
       "      <th>27</th>\n",
       "      <td>view</td>\n",
       "      <td>auto.accessories.alarm</td>\n",
       "      <td>2</td>\n",
       "    </tr>\n",
       "    <tr>\n",
       "      <th>28</th>\n",
       "      <td>view</td>\n",
       "      <td>auto.accessories.compressor</td>\n",
       "      <td>2</td>\n",
       "    </tr>\n",
       "    <tr>\n",
       "      <th>29</th>\n",
       "      <td>view</td>\n",
       "      <td>auto.accessories.player</td>\n",
       "      <td>4</td>\n",
       "    </tr>\n",
       "    <tr>\n",
       "      <th>30</th>\n",
       "      <td>view</td>\n",
       "      <td>auto.accessories.videoregister</td>\n",
       "      <td>1</td>\n",
       "    </tr>\n",
       "    <tr>\n",
       "      <th>31</th>\n",
       "      <td>view</td>\n",
       "      <td>computers.components.videocards</td>\n",
       "      <td>3</td>\n",
       "    </tr>\n",
       "    <tr>\n",
       "      <th>32</th>\n",
       "      <td>view</td>\n",
       "      <td>computers.desktop</td>\n",
       "      <td>23</td>\n",
       "    </tr>\n",
       "    <tr>\n",
       "      <th>33</th>\n",
       "      <td>view</td>\n",
       "      <td>computers.notebook</td>\n",
       "      <td>29</td>\n",
       "    </tr>\n",
       "    <tr>\n",
       "      <th>34</th>\n",
       "      <td>view</td>\n",
       "      <td>computers.peripherals.monitor</td>\n",
       "      <td>1</td>\n",
       "    </tr>\n",
       "    <tr>\n",
       "      <th>35</th>\n",
       "      <td>view</td>\n",
       "      <td>construction.tools.drill</td>\n",
       "      <td>3</td>\n",
       "    </tr>\n",
       "    <tr>\n",
       "      <th>36</th>\n",
       "      <td>view</td>\n",
       "      <td>construction.tools.pump</td>\n",
       "      <td>9</td>\n",
       "    </tr>\n",
       "    <tr>\n",
       "      <th>37</th>\n",
       "      <td>view</td>\n",
       "      <td>construction.tools.welding</td>\n",
       "      <td>5</td>\n",
       "    </tr>\n",
       "    <tr>\n",
       "      <th>38</th>\n",
       "      <td>view</td>\n",
       "      <td>electronics.audio.headphone</td>\n",
       "      <td>28</td>\n",
       "    </tr>\n",
       "    <tr>\n",
       "      <th>39</th>\n",
       "      <td>view</td>\n",
       "      <td>electronics.audio.subwoofer</td>\n",
       "      <td>5</td>\n",
       "    </tr>\n",
       "    <tr>\n",
       "      <th>40</th>\n",
       "      <td>view</td>\n",
       "      <td>electronics.camera.video</td>\n",
       "      <td>2</td>\n",
       "    </tr>\n",
       "    <tr>\n",
       "      <th>41</th>\n",
       "      <td>view</td>\n",
       "      <td>electronics.clocks</td>\n",
       "      <td>19</td>\n",
       "    </tr>\n",
       "    <tr>\n",
       "      <th>42</th>\n",
       "      <td>view</td>\n",
       "      <td>electronics.smartphone</td>\n",
       "      <td>262</td>\n",
       "    </tr>\n",
       "    <tr>\n",
       "      <th>43</th>\n",
       "      <td>view</td>\n",
       "      <td>electronics.tablet</td>\n",
       "      <td>6</td>\n",
       "    </tr>\n",
       "    <tr>\n",
       "      <th>44</th>\n",
       "      <td>view</td>\n",
       "      <td>electronics.telephone</td>\n",
       "      <td>1</td>\n",
       "    </tr>\n",
       "    <tr>\n",
       "      <th>45</th>\n",
       "      <td>view</td>\n",
       "      <td>electronics.video.tv</td>\n",
       "      <td>10</td>\n",
       "    </tr>\n",
       "    <tr>\n",
       "      <th>46</th>\n",
       "      <td>view</td>\n",
       "      <td>furniture.bathroom.toilet</td>\n",
       "      <td>1</td>\n",
       "    </tr>\n",
       "    <tr>\n",
       "      <th>47</th>\n",
       "      <td>view</td>\n",
       "      <td>furniture.bedroom.bed</td>\n",
       "      <td>5</td>\n",
       "    </tr>\n",
       "    <tr>\n",
       "      <th>48</th>\n",
       "      <td>view</td>\n",
       "      <td>furniture.kitchen.table</td>\n",
       "      <td>12</td>\n",
       "    </tr>\n",
       "    <tr>\n",
       "      <th>49</th>\n",
       "      <td>view</td>\n",
       "      <td>furniture.living_room.cabinet</td>\n",
       "      <td>1</td>\n",
       "    </tr>\n",
       "    <tr>\n",
       "      <th>50</th>\n",
       "      <td>view</td>\n",
       "      <td>furniture.living_room.chair</td>\n",
       "      <td>2</td>\n",
       "    </tr>\n",
       "    <tr>\n",
       "      <th>51</th>\n",
       "      <td>view</td>\n",
       "      <td>furniture.living_room.sofa</td>\n",
       "      <td>4</td>\n",
       "    </tr>\n",
       "    <tr>\n",
       "      <th>52</th>\n",
       "      <td>view</td>\n",
       "      <td>kids.skates</td>\n",
       "      <td>2</td>\n",
       "    </tr>\n",
       "    <tr>\n",
       "      <th>53</th>\n",
       "      <td>view</td>\n",
       "      <td>kids.toys</td>\n",
       "      <td>1</td>\n",
       "    </tr>\n",
       "    <tr>\n",
       "      <th>54</th>\n",
       "      <td>view</td>\n",
       "      <td>sport.trainer</td>\n",
       "      <td>1</td>\n",
       "    </tr>\n",
       "  </tbody>\n",
       "</table>\n",
       "</div>"
      ],
      "text/plain": [
       "   event_type                           category_code  counts\n",
       "0        cart             electronics.audio.headphone       1\n",
       "1        cart                  electronics.smartphone       1\n",
       "2    purchase       appliances.environment.air_heater       1\n",
       "3    purchase             electronics.audio.headphone       3\n",
       "4    purchase                  electronics.smartphone       4\n",
       "5    purchase               furniture.bathroom.toilet       1\n",
       "6        view                         accessories.bag       1\n",
       "7        view                           apparel.shoes      11\n",
       "8        view                      apparel.shoes.keds      14\n",
       "9        view                   apparel.shoes.slipons       1\n",
       "10       view                            apparel.sock       1\n",
       "11       view  appliances.environment.air_conditioner       8\n",
       "12       view       appliances.environment.air_heater      40\n",
       "13       view           appliances.environment.vacuum      15\n",
       "14       view     appliances.environment.water_heater      16\n",
       "15       view              appliances.kitchen.blender       1\n",
       "16       view       appliances.kitchen.coffee_machine       2\n",
       "17       view           appliances.kitchen.dishwasher       2\n",
       "18       view                appliances.kitchen.grill       4\n",
       "19       view               appliances.kitchen.kettle       1\n",
       "20       view         appliances.kitchen.meat_grinder       6\n",
       "21       view            appliances.kitchen.microwave       6\n",
       "22       view                appliances.kitchen.mixer       4\n",
       "23       view        appliances.kitchen.refrigerators      19\n",
       "24       view               appliances.kitchen.washer      25\n",
       "25       view         appliances.personal.hair_cutter       1\n",
       "26       view               appliances.sewing_machine       1\n",
       "27       view                  auto.accessories.alarm       2\n",
       "28       view             auto.accessories.compressor       2\n",
       "29       view                 auto.accessories.player       4\n",
       "30       view          auto.accessories.videoregister       1\n",
       "31       view         computers.components.videocards       3\n",
       "32       view                       computers.desktop      23\n",
       "33       view                      computers.notebook      29\n",
       "34       view           computers.peripherals.monitor       1\n",
       "35       view                construction.tools.drill       3\n",
       "36       view                 construction.tools.pump       9\n",
       "37       view              construction.tools.welding       5\n",
       "38       view             electronics.audio.headphone      28\n",
       "39       view             electronics.audio.subwoofer       5\n",
       "40       view                electronics.camera.video       2\n",
       "41       view                      electronics.clocks      19\n",
       "42       view                  electronics.smartphone     262\n",
       "43       view                      electronics.tablet       6\n",
       "44       view                   electronics.telephone       1\n",
       "45       view                    electronics.video.tv      10\n",
       "46       view               furniture.bathroom.toilet       1\n",
       "47       view                   furniture.bedroom.bed       5\n",
       "48       view                 furniture.kitchen.table      12\n",
       "49       view           furniture.living_room.cabinet       1\n",
       "50       view             furniture.living_room.chair       2\n",
       "51       view              furniture.living_room.sofa       4\n",
       "52       view                             kids.skates       2\n",
       "53       view                               kids.toys       1\n",
       "54       view                           sport.trainer       1"
      ]
     },
     "execution_count": 8,
     "metadata": {},
     "output_type": "execute_result"
    }
   ],
   "source": [
    "# TODO: remove, not used, may be useful\n",
    "october_df.groupby(['event_type', 'category_code']).size().reset_index(name='counts')"
   ]
  },
  {
   "cell_type": "code",
   "execution_count": 17,
   "metadata": {},
   "outputs": [
    {
     "data": {
      "text/html": [
       "<div>\n",
       "<style scoped>\n",
       "    .dataframe tbody tr th:only-of-type {\n",
       "        vertical-align: middle;\n",
       "    }\n",
       "\n",
       "    .dataframe tbody tr th {\n",
       "        vertical-align: top;\n",
       "    }\n",
       "\n",
       "    .dataframe thead th {\n",
       "        text-align: right;\n",
       "    }\n",
       "</style>\n",
       "<table border=\"1\" class=\"dataframe\">\n",
       "  <thead>\n",
       "    <tr style=\"text-align: right;\">\n",
       "      <th></th>\n",
       "      <th>0</th>\n",
       "      <th>1</th>\n",
       "      <th>2</th>\n",
       "      <th>3</th>\n",
       "    </tr>\n",
       "  </thead>\n",
       "  <tbody>\n",
       "    <tr>\n",
       "      <th>90</th>\n",
       "      <td>accessories</td>\n",
       "      <td>bag</td>\n",
       "      <td>None</td>\n",
       "      <td>None</td>\n",
       "    </tr>\n",
       "    <tr>\n",
       "      <th>1504</th>\n",
       "      <td>accessories</td>\n",
       "      <td>wallet</td>\n",
       "      <td>None</td>\n",
       "      <td>None</td>\n",
       "    </tr>\n",
       "    <tr>\n",
       "      <th>259</th>\n",
       "      <td>apparel</td>\n",
       "      <td>costume</td>\n",
       "      <td>None</td>\n",
       "      <td>None</td>\n",
       "    </tr>\n",
       "    <tr>\n",
       "      <th>1869</th>\n",
       "      <td>apparel</td>\n",
       "      <td>dress</td>\n",
       "      <td>None</td>\n",
       "      <td>None</td>\n",
       "    </tr>\n",
       "    <tr>\n",
       "      <th>53</th>\n",
       "      <td>apparel</td>\n",
       "      <td>jeans</td>\n",
       "      <td>None</td>\n",
       "      <td>None</td>\n",
       "    </tr>\n",
       "    <tr>\n",
       "      <th>1898</th>\n",
       "      <td>apparel</td>\n",
       "      <td>jumper</td>\n",
       "      <td>None</td>\n",
       "      <td>None</td>\n",
       "    </tr>\n",
       "    <tr>\n",
       "      <th>197</th>\n",
       "      <td>apparel</td>\n",
       "      <td>shirt</td>\n",
       "      <td>None</td>\n",
       "      <td>None</td>\n",
       "    </tr>\n",
       "    <tr>\n",
       "      <th>3415</th>\n",
       "      <td>apparel</td>\n",
       "      <td>shoes</td>\n",
       "      <td>ballet_shoes</td>\n",
       "      <td>None</td>\n",
       "    </tr>\n",
       "    <tr>\n",
       "      <th>803</th>\n",
       "      <td>apparel</td>\n",
       "      <td>shoes</td>\n",
       "      <td>keds</td>\n",
       "      <td>None</td>\n",
       "    </tr>\n",
       "    <tr>\n",
       "      <th>890</th>\n",
       "      <td>apparel</td>\n",
       "      <td>shoes</td>\n",
       "      <td>moccasins</td>\n",
       "      <td>None</td>\n",
       "    </tr>\n",
       "    <tr>\n",
       "      <th>184</th>\n",
       "      <td>apparel</td>\n",
       "      <td>shoes</td>\n",
       "      <td>None</td>\n",
       "      <td>None</td>\n",
       "    </tr>\n",
       "    <tr>\n",
       "      <th>409</th>\n",
       "      <td>apparel</td>\n",
       "      <td>trousers</td>\n",
       "      <td>None</td>\n",
       "      <td>None</td>\n",
       "    </tr>\n",
       "    <tr>\n",
       "      <th>52</th>\n",
       "      <td>apparel</td>\n",
       "      <td>tshirt</td>\n",
       "      <td>None</td>\n",
       "      <td>None</td>\n",
       "    </tr>\n",
       "    <tr>\n",
       "      <th>938</th>\n",
       "      <td>apparel</td>\n",
       "      <td>underwear</td>\n",
       "      <td>None</td>\n",
       "      <td>None</td>\n",
       "    </tr>\n",
       "    <tr>\n",
       "      <th>824</th>\n",
       "      <td>appliances</td>\n",
       "      <td>environment</td>\n",
       "      <td>air_conditioner</td>\n",
       "      <td>None</td>\n",
       "    </tr>\n",
       "    <tr>\n",
       "      <th>5480</th>\n",
       "      <td>appliances</td>\n",
       "      <td>environment</td>\n",
       "      <td>air_heater</td>\n",
       "      <td>None</td>\n",
       "    </tr>\n",
       "    <tr>\n",
       "      <th>38</th>\n",
       "      <td>appliances</td>\n",
       "      <td>environment</td>\n",
       "      <td>vacuum</td>\n",
       "      <td>None</td>\n",
       "    </tr>\n",
       "    <tr>\n",
       "      <th>43</th>\n",
       "      <td>appliances</td>\n",
       "      <td>environment</td>\n",
       "      <td>water_heater</td>\n",
       "      <td>None</td>\n",
       "    </tr>\n",
       "    <tr>\n",
       "      <th>2126</th>\n",
       "      <td>appliances</td>\n",
       "      <td>iron</td>\n",
       "      <td>None</td>\n",
       "      <td>None</td>\n",
       "    </tr>\n",
       "    <tr>\n",
       "      <th>5443</th>\n",
       "      <td>appliances</td>\n",
       "      <td>ironing_board</td>\n",
       "      <td>None</td>\n",
       "      <td>None</td>\n",
       "    </tr>\n",
       "  </tbody>\n",
       "</table>\n",
       "</div>"
      ],
      "text/plain": [
       "                0              1                2     3\n",
       "90    accessories            bag             None  None\n",
       "1504  accessories         wallet             None  None\n",
       "259       apparel        costume             None  None\n",
       "1869      apparel          dress             None  None\n",
       "53        apparel          jeans             None  None\n",
       "1898      apparel         jumper             None  None\n",
       "197       apparel          shirt             None  None\n",
       "3415      apparel          shoes     ballet_shoes  None\n",
       "803       apparel          shoes             keds  None\n",
       "890       apparel          shoes        moccasins  None\n",
       "184       apparel          shoes             None  None\n",
       "409       apparel       trousers             None  None\n",
       "52        apparel         tshirt             None  None\n",
       "938       apparel      underwear             None  None\n",
       "824    appliances    environment  air_conditioner  None\n",
       "5480   appliances    environment       air_heater  None\n",
       "38     appliances    environment           vacuum  None\n",
       "43     appliances    environment     water_heater  None\n",
       "2126   appliances           iron             None  None\n",
       "5443   appliances  ironing_board             None  None"
      ]
     },
     "execution_count": 17,
     "metadata": {},
     "output_type": "execute_result"
    }
   ],
   "source": [
    "# TODO: remove, not used\n",
    "# Categories are composed of multiple subcategories, from NaN up to 4\n",
    "nov_categories = november_df.copy()\n",
    "# nov_categories['category_code'].dropna().str.split('.', expand=True)\n",
    "nov_categories['category_code'].str.split('.', expand=True).drop_duplicates().sort_values(\n",
    "    by=list(range(4)), ascending=True\n",
    ").head(20)"
   ]
  },
  {
   "cell_type": "code",
   "execution_count": 337,
   "metadata": {},
   "outputs": [],
   "source": [
    "# <-------------------------------------------------------------------------- Debug has ended here"
   ]
  },
  {
   "cell_type": "markdown",
   "metadata": {},
   "source": [
    "# RQ1"
   ]
  },
  {
   "cell_type": "markdown",
   "metadata": {},
   "source": [
    "A marketing **funnel** describes your customer’s journey with your e-commerce. \n",
    "\n",
    "It may involve different stages, beginning when someone learns about your business, when he/she visits your website for the first time, to the purchasing stage, marketing funnels map routes to conversion and beyond.\n",
    "\n",
    "Suppose your funnel involves just three simple steps: \n",
    "\n",
    "1) view, \n",
    "2) cart, \n",
    "3) purchase. \n",
    "\n",
    "\n",
    "- **Which is the rate of complete funnels**?\n",
    "\n",
    "\n",
    "- **What’s the operation users repeat more on average within a session?** Produce a plot that shows the average number of times users perform each operation (view/removefromchart etc etc).\n",
    "\n",
    "\n",
    "- **How many times, on average, a user views a product before adding it to the cart?**\n",
    "\n",
    "\n",
    "- **What’s the probability that products added once to the cart are effectively bought?**\n",
    "\n",
    "\n",
    "- **What’s the average time an item stays in the cart before being removed?**\n",
    "\n",
    "\n",
    "- **How much time passes on average between the first view time and a purchase/addition to cart?**"
   ]
  },
  {
   "cell_type": "markdown",
   "metadata": {},
   "source": [
    "## Which is the rate of complete funnels? \n",
    "\n",
    "We should sort by event time, consider user id, product id and event type\n",
    "\n",
    "\n",
    "Theoretically if user viewed a product put in into the cart another day and purchased another day the funnel is still complete, only order matters\n",
    "\n",
    "There are inconsistent funnels where after viewing person can buy it without putting into a cart -> complete funnels are the ones that lead to a purchase"
   ]
  },
  {
   "cell_type": "code",
   "execution_count": 88,
   "metadata": {},
   "outputs": [],
   "source": [
    "def get_complete_funnels_rate(df_label='2019-Oct', chunksize=1_000):\n",
    "    # Take only needed columns such as 'user_id', 'product_id', 'event_time'\n",
    "    # user_id, product_id: np.uint16 ~ [0, 4294967295] | could take less space if would have been normalized\n",
    "    # dataset have been already sorted by event_time, we can skip uploading that column\n",
    "    reader = pd.read_csv(\n",
    "        f\"datasets/{df_label}.csv\",\n",
    "        usecols=['user_id', 'product_id', 'event_type'],\n",
    "        dtype={'user_id': np.uint32, 'product_id': np.uint32, 'event_type': str},\n",
    "        engine='c',\n",
    "        na_filter=False,\n",
    "        memory_map=True,\n",
    "        chunksize=chunksize,\n",
    "        nrows=10_000\n",
    "    )\n",
    "    events_handler = pd.DataFrame()\n",
    "    i = 0\n",
    "    for chunk in reader:\n",
    "        print(f\"Processing a chunk #{i}\")\n",
    "        events_operations = chunk[chunk['event_type'].isin(['view', 'purchase'])].groupby(\n",
    "            ['user_id', 'product_id', 'event_type']\n",
    "        ).event_type.count().to_frame().rename(\n",
    "            columns={'event_type': 'n_events'}\n",
    "        )\n",
    "        if events_handler.empty:\n",
    "            events_handler = events_operations\n",
    "        else:\n",
    "            events_handler = events_handler.add(events_operations, fill_value=0).astype(np.uint32)\n",
    "        i += 1\n",
    "    events_handler = events_handler.reset_index()\n",
    "    complete_funnel = sum(events_handler['event_type'] == 'purchase')\n",
    "    product_user_pairs = sum(events_handler['event_type'] == 'view')\n",
    "    print(f\"{df_label + ' | ' if df_label else ''}Complete funnels: {complete_funnel} out of {product_user_pairs}\")\n",
    "    rate = int(round(complete_funnel / product_user_pairs, 2) * 100) if product_user_pairs > 0 else 0\n",
    "    print(f\"{df_label + ' | ' if df_label else ''}Rate of complete funnels: {rate}%\")"
   ]
  },
  {
   "cell_type": "code",
   "execution_count": 89,
   "metadata": {},
   "outputs": [
    {
     "name": "stdout",
     "output_type": "stream",
     "text": [
      "Processing a chunk #0\n",
      "Processing a chunk #1\n",
      "Processing a chunk #2\n",
      "Processing a chunk #3\n",
      "Processing a chunk #4\n",
      "Processing a chunk #5\n",
      "Processing a chunk #6\n",
      "Processing a chunk #7\n",
      "Processing a chunk #8\n",
      "Processing a chunk #9\n",
      "2019-Oct | Complete funnels: 117 out of 7026\n",
      "2019-Oct | Rate of complete funnels: 2%\n",
      "Processing a chunk #0\n",
      "Processing a chunk #1\n",
      "Processing a chunk #2\n",
      "Processing a chunk #3\n",
      "Processing a chunk #4\n",
      "Processing a chunk #5\n",
      "Processing a chunk #6\n",
      "Processing a chunk #7\n",
      "Processing a chunk #8\n",
      "Processing a chunk #9\n",
      "2019-Nov | Complete funnels: 86 out of 6723\n",
      "2019-Nov | Rate of complete funnels: 1%\n"
     ]
    }
   ],
   "source": [
    "for df_label in df_labels:\n",
    "    get_complete_funnels_rate(df_label=df_label)"
   ]
  },
  {
   "cell_type": "markdown",
   "metadata": {},
   "source": [
    "## What’s the operation users repeat more on average within a session? \n",
    "Produce a plot that shows the average number of times users perform each operation (view/etc)."
   ]
  },
  {
   "cell_type": "code",
   "execution_count": 203,
   "metadata": {},
   "outputs": [],
   "source": [
    "def most_repeated_operation(df_label='2019-Oct', chunksize=1_000):\n",
    "    reader = pd.read_csv(\n",
    "        f\"datasets/{df_label}.csv\",\n",
    "        usecols=['user_session', 'event_type'],\n",
    "        dtype={'user_id': str, 'product_id': np.uint32},\n",
    "        engine='c',\n",
    "        na_filter=False,\n",
    "        memory_map=True,\n",
    "        chunksize=chunksize,\n",
    "        nrows=10_000\n",
    "    )\n",
    "    sessions_handler = pd.DataFrame()\n",
    "    i = 0\n",
    "    for chunk in reader:\n",
    "        print(f\"Processing a chunk #{i}\")        \n",
    "        session_operations = chunk.groupby(\n",
    "            ['user_session', 'event_type']\n",
    "        ).event_type.count().to_frame().rename(\n",
    "            columns={'event_type': 'n_events'}\n",
    "        )\n",
    "        # important to fill with 0 absent events\n",
    "        session_operations = session_operations.reindex(\n",
    "            pd.MultiIndex.from_product(\n",
    "                [session_operations.index.levels[0], ['view', 'cart', 'purchase']], \n",
    "                names=['user_session', 'event_type']\n",
    "            ),\n",
    "            fill_value=0\n",
    "        )\n",
    "        \n",
    "        if sessions_handler.empty:\n",
    "            sessions_handler = session_operations\n",
    "        else:\n",
    "            sessions_handler = sessions_handler.add(session_operations, fill_value=0).astype(np.uint32)\n",
    "        i += 1\n",
    "    sessions_handler = sessions_handler.reset_index()\n",
    "    # Average number of times users perform each operation (within a session)\n",
    "    session_operations_avg = sessions_handler.groupby(\n",
    "        ['event_type']\n",
    "    ).n_events.mean().to_frame().reset_index().sort_values(by=['n_events'], ascending=False)\n",
    "    print(f\"{df_label + ' | ' if df_label else ''}Summary\")\n",
    "    print(session_operations_avg.head(5))\n",
    "    _ = sns.barplot(data=session_operations_avg, x=\"event_type\", y=\"n_events\")\n",
    "    plt.show()"
   ]
  },
  {
   "cell_type": "code",
   "execution_count": 204,
   "metadata": {},
   "outputs": [
    {
     "name": "stdout",
     "output_type": "stream",
     "text": [
      "Processing a chunk #0\n",
      "Processing a chunk #1\n",
      "Processing a chunk #2\n",
      "Processing a chunk #3\n",
      "Processing a chunk #4\n",
      "Processing a chunk #5\n",
      "Processing a chunk #6\n",
      "Processing a chunk #7\n",
      "Processing a chunk #8\n",
      "Processing a chunk #9\n",
      "2019-Oct | Summary\n",
      "  event_type  n_events\n",
      "2       view  3.069322\n",
      "1   purchase  0.037014\n",
      "0       cart  0.030427\n"
     ]
    },
    {
     "data": {
      "image/png": "[encoded data removed]",
      "text/plain": [
       "<Figure size 432x288 with 1 Axes>"
      ]
     },
     "metadata": {
      "needs_background": "light"
     },
     "output_type": "display_data"
    },
    {
     "name": "stdout",
     "output_type": "stream",
     "text": [
      "Processing a chunk #0\n",
      "Processing a chunk #1\n",
      "Processing a chunk #2\n",
      "Processing a chunk #3\n",
      "Processing a chunk #4\n",
      "Processing a chunk #5\n",
      "Processing a chunk #6\n",
      "Processing a chunk #7\n",
      "Processing a chunk #8\n",
      "Processing a chunk #9\n",
      "2019-Nov | Summary\n",
      "  event_type  n_events\n",
      "2       view  4.002041\n",
      "1   purchase  0.041633\n",
      "0       cart  0.037959\n"
     ]
    },
    {
     "data": {
      "image/png": "[encoded data removed]",
      "text/plain": [
       "<Figure size 432x288 with 1 Axes>"
      ]
     },
     "metadata": {
      "needs_background": "light"
     },
     "output_type": "display_data"
    }
   ],
   "source": [
    "for df_label in df_labels:\n",
    "    most_repeated_operation(df_label=df_label)"
   ]
  },
  {
   "cell_type": "markdown",
   "metadata": {},
   "source": [
    "## How many times, on average, a user views a product before adding it to the cart?"
   ]
  },
  {
   "cell_type": "code",
   "execution_count": 201,
   "metadata": {},
   "outputs": [],
   "source": [
    "def get_avg_n_of_views_for_view_cart_funnels(df_label='2019-Oct', chunksize=1_000):\n",
    "    reader = pd.read_csv(\n",
    "        f\"datasets/{df_label}.csv\",\n",
    "        usecols=['user_id', 'product_id', 'event_type'],\n",
    "        dtype={'user_id': np.uint32, 'product_id': np.uint32, 'event_type': str},\n",
    "        engine='c',\n",
    "        na_filter=False,\n",
    "        memory_map=True,\n",
    "        chunksize=chunksize,\n",
    "        nrows=10_000\n",
    "    )\n",
    "    events_handler = pd.DataFrame()\n",
    "    i = 0\n",
    "    for chunk in reader:\n",
    "        print(f\"Processing a chunk #{i}\")\n",
    "        events_operations = chunk[chunk['event_type'].isin(['view', 'cart'])].groupby(\n",
    "            ['user_id', 'product_id', 'event_type']\n",
    "        ).event_type.count().to_frame().rename(\n",
    "            columns={'event_type': 'n_events'}\n",
    "        )\n",
    "        if events_handler.empty:\n",
    "            events_handler = events_operations\n",
    "        else:\n",
    "            events_handler = events_handler.add(events_operations, fill_value=0).astype(np.uint32)\n",
    "        i += 1\n",
    "    events_handler = events_handler.reset_index(level=2)\n",
    "    events_handler = events_handler.loc[events_handler[events_handler['event_type'] == 'cart'].index, :]\n",
    "    # normalize by number of times product has been put into a cart and find mean\n",
    "    avg_n_times_viewed_before_cart = (\n",
    "        events_handler.loc[events_handler['event_type'] == 'view', 'n_events'] \n",
    "        / events_handler.loc[events_handler['event_type'] == 'cart', 'n_events']\n",
    "    ).mean()\n",
    "    print(\n",
    "        f\"{df_label + ' | ' if df_label else ''}\"\n",
    "        f\"A user views a product before adding it to the cart in average \"\n",
    "        f\"{round(avg_n_times_viewed_before_cart, 3)} times\"\n",
    "    )"
   ]
  },
  {
   "cell_type": "code",
   "execution_count": 202,
   "metadata": {},
   "outputs": [
    {
     "name": "stdout",
     "output_type": "stream",
     "text": [
      "Processing a chunk #0\n",
      "Processing a chunk #1\n",
      "Processing a chunk #2\n",
      "Processing a chunk #3\n",
      "Processing a chunk #4\n",
      "Processing a chunk #5\n",
      "Processing a chunk #6\n",
      "Processing a chunk #7\n",
      "Processing a chunk #8\n",
      "Processing a chunk #9\n",
      "2019-Oct | A user views a product before adding it to the cart in average 1.994 times\n",
      "Processing a chunk #0\n",
      "Processing a chunk #1\n",
      "Processing a chunk #2\n",
      "Processing a chunk #3\n",
      "Processing a chunk #4\n",
      "Processing a chunk #5\n",
      "Processing a chunk #6\n",
      "Processing a chunk #7\n",
      "Processing a chunk #8\n",
      "Processing a chunk #9\n",
      "2019-Nov | A user views a product before adding it to the cart in average 2.286 times\n"
     ]
    }
   ],
   "source": [
    "for df_label in df_labels:\n",
    "    get_avg_n_of_views_for_view_cart_funnels(df_label=df_label)"
   ]
  },
  {
   "cell_type": "markdown",
   "metadata": {},
   "source": [
    "## What’s the probability that products added once to the cart are effectively bought?"
   ]
  },
  {
   "cell_type": "code",
   "execution_count": 209,
   "metadata": {},
   "outputs": [],
   "source": [
    "def get_probability_that_if_in_cart_product_is_bought(df_label='2019-Oct', chunksize=1_000):\n",
    "    reader = pd.read_csv(\n",
    "        f\"datasets/{df_label}.csv\",\n",
    "        usecols=['user_id', 'product_id', 'event_type'],\n",
    "        dtype={'user_id': np.uint32, 'product_id': np.uint32, 'event_type': str},\n",
    "        engine='c',\n",
    "        na_filter=False,\n",
    "        memory_map=True,\n",
    "        chunksize=chunksize,\n",
    "        nrows=10_000\n",
    "    )\n",
    "    events_handler = pd.DataFrame()\n",
    "    i = 0\n",
    "    for chunk in reader:\n",
    "        print(f\"Processing a chunk #{i}\")\n",
    "        events_operations = chunk[chunk['event_type'].isin(['purchase', 'cart'])].groupby(\n",
    "            ['user_id', 'product_id', 'event_type']\n",
    "        ).event_type.count().to_frame().rename(\n",
    "            columns={'event_type': 'n_events'}\n",
    "        )\n",
    "        if events_handler.empty:\n",
    "            events_handler = events_operations\n",
    "        else:\n",
    "            events_handler = events_handler.add(events_operations, fill_value=0).astype(np.uint32)\n",
    "        i += 1\n",
    "    events_handler = events_handler.reset_index(level=2)\n",
    "    events_handler = events_handler.loc[events_handler[events_handler['event_type'] == 'cart'].index, :]\n",
    "    events_sum = events_handler.groupby(\n",
    "        ['event_type']\n",
    "    ).n_events.sum().to_frame()\n",
    "    n_success_events = events_sum.query(\"event_type == 'purchase'\").values[0][0]\n",
    "    n_total_events = events_sum.query(\"event_type == 'cart'\").values[0][0]\n",
    "    print(\n",
    "        f\"{df_label + ' | ' if df_label else ''}\"\n",
    "        f\"The probability that products added once to the cart are effectively bought \"\n",
    "        f\"{round(n_success_events / n_total_events * 100) if n_total_events > 0 else 0}%\"\n",
    "    )"
   ]
  },
  {
   "cell_type": "code",
   "execution_count": 211,
   "metadata": {},
   "outputs": [
    {
     "name": "stdout",
     "output_type": "stream",
     "text": [
      "Processing a chunk #0\n",
      "Processing a chunk #1\n",
      "Processing a chunk #2\n",
      "Processing a chunk #3\n",
      "Processing a chunk #4\n",
      "Processing a chunk #5\n",
      "Processing a chunk #6\n",
      "Processing a chunk #7\n",
      "Processing a chunk #8\n",
      "Processing a chunk #9\n",
      "2019-Oct | The probability that products added once to the cart are effectively bought 36%\n",
      "Processing a chunk #0\n",
      "Processing a chunk #1\n",
      "Processing a chunk #2\n",
      "Processing a chunk #3\n",
      "Processing a chunk #4\n",
      "Processing a chunk #5\n",
      "Processing a chunk #6\n",
      "Processing a chunk #7\n",
      "Processing a chunk #8\n",
      "Processing a chunk #9\n",
      "2019-Nov | The probability that products added once to the cart are effectively bought 46%\n"
     ]
    }
   ],
   "source": [
    "for df_label in df_labels:\n",
    "    get_probability_that_if_in_cart_product_is_bought(df_label=df_label)"
   ]
  },
  {
   "cell_type": "markdown",
   "metadata": {},
   "source": [
    "## What’s the average time an item stays in the cart before being removed?"
   ]
  },
  {
   "cell_type": "code",
   "execution_count": 212,
   "metadata": {},
   "outputs": [],
   "source": [
    "# TODO: have to deal with time"
   ]
  },
  {
   "cell_type": "markdown",
   "metadata": {},
   "source": [
    "## How much time passes on average between the first view time and a purchase/addition to cart?"
   ]
  },
  {
   "cell_type": "code",
   "execution_count": 213,
   "metadata": {},
   "outputs": [],
   "source": [
    "# TODO: have to deal with time"
   ]
  },
  {
   "cell_type": "markdown",
   "metadata": {},
   "source": [
    "# RQ2\n",
    "\n",
    " - **What are the categories of the most trending products overall?** For each month visualize this information through a plot showing the number of sold products per category.  \n",
    " \n",
    "- **Plot the most visited subcategories.**\n",
    "\n",
    "\n",
    "- **What are the 10 most sold products per category?**"
   ]
  },
  {
   "cell_type": "markdown",
   "metadata": {},
   "source": [
    "## What are the categories of the most trending products overall?"
   ]
  },
  {
   "cell_type": "markdown",
   "metadata": {},
   "source": [
    "We consider a product to be tranding if it's selling out well\n",
    "\n",
    "The initial dataset is too big to be processed directly in pandas, we use a script '*generate_subset_with_n_purchases_per_category.sh*' which\n",
    " - makes a subset that contains only purchases\n",
    " - finds all unique categories present in the subset\n",
    " - for each category calculates number of lines present in the subset\n",
    " \n",
    "Category - is the first value before . separator, the rest are sub-categories"
   ]
  },
  {
   "cell_type": "code",
   "execution_count": 242,
   "metadata": {},
   "outputs": [],
   "source": [
    "def show_values_on_bars(axs, h_v=\"v\", space=0.4):\n",
    "    \"\"\" Helper to display actual values on barplot \"\"\"\n",
    "    def _show_on_single_plot(ax):\n",
    "        if h_v == \"v\":\n",
    "            for p in ax.patches:\n",
    "                _x = p.get_x() + p.get_width() / 2\n",
    "                _y = p.get_y() + p.get_height()\n",
    "                value = int(p.get_height())\n",
    "                ax.text(_x, _y, value, ha=\"center\") \n",
    "        elif h_v == \"h\":\n",
    "            for p in ax.patches:\n",
    "                _x = p.get_x() + p.get_width()\n",
    "                _y = p.get_y() + p.get_height() - float(space)\n",
    "                value = int(p.get_width())\n",
    "                ax.text(_x, _y, value, ha=\"left\")\n",
    "\n",
    "    if isinstance(axs, np.ndarray):\n",
    "        for idx, ax in np.ndenumerate(axs):\n",
    "            _show_on_single_plot(ax)\n",
    "    else:\n",
    "        _show_on_single_plot(axs)"
   ]
  },
  {
   "cell_type": "code",
   "execution_count": 291,
   "metadata": {},
   "outputs": [],
   "source": [
    "def get_most_trending_products(df_label='2019-Oct', chunksize=100_000):\n",
    "    reader = pd.read_csv(\n",
    "        f\"datasets/{df_label}.csv\",\n",
    "        usecols=['category_code', 'event_type'],\n",
    "        dtype={'category_code': str, 'event_type': str},\n",
    "        engine='c',\n",
    "        na_filter=False,\n",
    "        memory_map=True,\n",
    "        chunksize=chunksize\n",
    "    )\n",
    "    most_trending_products = pd.DataFrame()\n",
    "    i = 0\n",
    "    for chunk in reader:\n",
    "        # print(f\"Processing a chunk #{i}\")\n",
    "        # take only the category\n",
    "        chunk.loc[:, 'category_code'] = chunk.category_code.str.split('.').str[0]\n",
    "        events_operations = chunk[\n",
    "            chunk['event_type'].isin(['purchase']) & ~(chunk['category_code'] == '')\n",
    "        ].dropna().groupby(\n",
    "            ['category_code']\n",
    "        ).event_type.count().to_frame().rename(\n",
    "            columns={'event_type': 'n_purchases'}\n",
    "        )\n",
    "        if most_trending_products.empty:\n",
    "            most_trending_products = events_operations\n",
    "        else:\n",
    "            most_trending_products = most_trending_products.add(events_operations, fill_value=0).astype(np.uint32)\n",
    "        i += 1\n",
    "    most_trending_products.reset_index(inplace=True)\n",
    "    # sort in descending order\n",
    "    most_trending_products.sort_values(by=['n_purchases'], ascending=False, inplace=True)\n",
    "    # plot results\n",
    "    fig, ax = plt.subplots(figsize=(15, 10))\n",
    "    bar_plt = sns.barplot(data=most_trending_products, x=\"n_purchases\", y=\"category_code\", palette='tab10')\n",
    "    bar_plt.set(\n",
    "        ylabel='Category', \n",
    "        xlabel='Number of purchases', \n",
    "        title=f\"{df_label + ': ' if df_label else ''}Number of sold products per category\"\n",
    "    )\n",
    "    show_values_on_bars(ax, \"h\", 0.3)\n",
    "    plt.show()"
   ]
  },
  {
   "cell_type": "code",
   "execution_count": 292,
   "metadata": {},
   "outputs": [
    {
     "data": {
      "image/png": "[encoded data removed]",
      "text/plain": [
       "<Figure size 1080x720 with 1 Axes>"
      ]
     },
     "metadata": {
      "needs_background": "light"
     },
     "output_type": "display_data"
    },
    {
     "data": {
      "image/png": "[encoded data removed]",
      "text/plain": [
       "<Figure size 1080x720 with 1 Axes>"
      ]
     },
     "metadata": {
      "needs_background": "light"
     },
     "output_type": "display_data"
    }
   ],
   "source": [
    "for df_label in df_labels:\n",
    "    get_most_trending_products(df_label=df_label)"
   ]
  },
  {
   "cell_type": "code",
   "execution_count": 4,
   "metadata": {},
   "outputs": [],
   "source": [
    "# plan B: use dash library to paralelize the computation\n",
    "# plan C: do the parsing with bash script | generate_subset_with_n_purchases_per_category.sh\n",
    "def get_most_trending_products_bash(df_label='2019-Oct'):\n",
    "    # print(f\"{df_label + ' | ' if df_label else ''}most trending products categories\")\n",
    "    # read output of the script with category - n_of_purchases columns\n",
    "    most_trending_products_df = pd.read_csv(\n",
    "        f\"purchases/{df_label}.csv.purchases-per-category.csv\"\n",
    "    )\n",
    "    # split categories from sub categories (leave only categories)\n",
    "    most_trending_products_df.loc[:, 'category'] = \\\n",
    "        most_trending_products_df['category'].str.split('.').str[0]\n",
    "    # sum up all sails in a category\n",
    "    most_trending_categories_df = most_trending_products_df.groupby('category').sum()\n",
    "    most_trending_categories_df.reset_index(inplace=True)\n",
    "    # sort in descending order\n",
    "    most_trending_categories_df.sort_values(by=['n_purchases'], ascending=False, inplace=True)\n",
    "    # print(most_trending_categories_df)\n",
    "    fig, ax = plt.subplots(figsize=(15, 10))\n",
    "    bar_plt = sns.barplot(data=most_trending_categories_df, x=\"n_purchases\", y=\"category\", palette='tab10')\n",
    "    bar_plt.set(\n",
    "        ylabel='Category', \n",
    "        xlabel='Number of purchases', \n",
    "        title=f\"{df_label + ': ' if df_label else ''}Number of sold products per category\"\n",
    "    )\n",
    "    show_values_on_bars(ax, \"h\", 0.3)"
   ]
  },
  {
   "cell_type": "markdown",
   "metadata": {},
   "source": [
    "## Plot the most visited subcategories\n",
    "\n",
    "We assume that each subcategory is composed by combination of the category and all the nested (sub) categories\n",
    "\n",
    "The initial dataset is too big to be processed directly in pandas, we use a script '*generate_subset_with_n_views_per_category.sh*' which\n",
    " - makes a subset that contains only views (quite big as well)\n",
    " - finds all unique categories present in the subset\n",
    " - for each category calculates number of lines present in the subset\n",
    " \n",
    "Category - is the first value before . separator, the rest are sub-categories"
   ]
  },
  {
   "cell_type": "code",
   "execution_count": 334,
   "metadata": {},
   "outputs": [],
   "source": [
    "def get_most_visited_sub_categories(df_label='2019-Oct', chunksize=1_000, top_n=10):\n",
    "    reader = pd.read_csv(\n",
    "        f\"datasets/{df_label}.csv\",\n",
    "        usecols=['category_code', 'event_type'],\n",
    "        dtype={'category_code': str, 'event_type': str},\n",
    "        engine='c',\n",
    "        na_filter=False,\n",
    "        memory_map=True,\n",
    "        chunksize=chunksize,\n",
    "        nrows=10_000\n",
    "    )\n",
    "    most_visited_sub_categories = pd.DataFrame()\n",
    "    i = 0\n",
    "    for chunk in reader:\n",
    "        # print(f\"Processing a chunk #{i}\")\n",
    "        events_operations = chunk[\n",
    "            chunk['event_type'].isin(['view']) & ~(chunk['category_code'] == '')\n",
    "        ].dropna().groupby(\n",
    "            ['category_code']\n",
    "        ).event_type.count().to_frame().rename(\n",
    "            columns={'event_type': 'n_visits'}\n",
    "        )\n",
    "        if most_visited_sub_categories.empty:\n",
    "            most_visited_sub_categories = events_operations\n",
    "        else:\n",
    "            most_visited_sub_categories = \\\n",
    "                most_visited_sub_categories.add(events_operations, fill_value=0).astype(np.uint32)\n",
    "        i += 1\n",
    "    most_visited_sub_categories.reset_index(inplace=True)\n",
    "    # sort in descending order\n",
    "    most_visited_sub_categories.sort_values(by=['n_visits'], ascending=False, inplace=True)\n",
    "    if top_n is not None and top_n > 0:\n",
    "        most_visited_sub_categories = most_visited_sub_categories.iloc[:top_n, :]\n",
    "    # plot results\n",
    "    fig, ax = plt.subplots(figsize=(15, 10 if top_n is not None else 25))\n",
    "    bar_plt = sns.barplot(data=most_visited_sub_categories, x=\"n_visits\", y=\"category_code\", palette='tab10')\n",
    "    sns.set(rc={'figure.figsize': (15, 10 if top_n is not None else 25)})\n",
    "    bar_plt.set(\n",
    "        ylabel='Category', \n",
    "        xlabel='Number of visits', \n",
    "        title=f\"{df_label + ': ' if df_label else ''}Number of visits per sub category\"\n",
    "        f\"{'| top #' + str(top_n) + ' sub categories' if top_n is not None else ''}\"\n",
    "    )\n",
    "    show_values_on_bars(ax, \"h\", 0.3)\n",
    "    plt.show()"
   ]
  },
  {
   "cell_type": "code",
   "execution_count": 335,
   "metadata": {},
   "outputs": [
    {
     "data": {
      "image/png": "[encoded data removed]",
      "text/plain": [
       "<Figure size 1080x720 with 1 Axes>"
      ]
     },
     "metadata": {},
     "output_type": "display_data"
    },
    {
     "data": {
      "image/png": "[encoded data removed]",
      "text/plain": [
       "<Figure size 1080x720 with 1 Axes>"
      ]
     },
     "metadata": {},
     "output_type": "display_data"
    }
   ],
   "source": [
    "for df_label in df_labels:\n",
    "    get_most_visited_sub_categories(df_label=df_label, top_n=25)"
   ]
  },
  {
   "cell_type": "markdown",
   "metadata": {},
   "source": [
    "## What are the 10 most sold products per category?\n",
    "\n",
    "Category - is the first value before . separator, the rest are sub-categories"
   ]
  },
  {
   "cell_type": "code",
   "execution_count": 368,
   "metadata": {},
   "outputs": [],
   "source": [
    "# bash script is faster, can be used instead\n",
    "def get_categories(df_label='2019-Oct', chunksize=100_000):\n",
    "    reader = pd.read_csv(\n",
    "        f\"datasets/{df_label}.csv\",\n",
    "        usecols=['category_code'],\n",
    "        dtype={'category_code': str},\n",
    "        engine='c',\n",
    "        na_filter=False,\n",
    "        memory_map=True,\n",
    "        chunksize=chunksize,\n",
    "        nrows=300_000\n",
    "    )\n",
    "    all_categories = pd.DataFrame()\n",
    "    for chunk in reader:\n",
    "        chunk = chunk.replace('', np.nan).dropna()\n",
    "        # take only the category\n",
    "        chunk.loc[:, 'category_code'] = chunk.category_code.str.split('.').str[0]\n",
    "        chunk.drop_duplicates(inplace=True)\n",
    "        if all_categories.empty:\n",
    "            all_categories = chunk\n",
    "        else:\n",
    "            all_categories = pd.concat([all_categories, chunk])\n",
    "    all_categories = list(all_categories.category_code.unique())\n",
    "    print(\n",
    "        f\"{df_label + ' | ' if df_label else ''}\"\n",
    "        f\"Categories: \"\n",
    "    )\n",
    "    print(all_categories)\n",
    "    return all_categories"
   ]
  },
  {
   "cell_type": "code",
   "execution_count": 369,
   "metadata": {},
   "outputs": [
    {
     "name": "stdout",
     "output_type": "stream",
     "text": [
      "2019-Oct | Categories: \n",
      "['appliances', 'furniture', 'computers', 'electronics', 'apparel', 'construction', 'auto', 'kids', 'sport', 'accessories', 'medicine', 'stationery', 'country_yard']\n",
      "2019-Nov | Categories: \n",
      "['electronics', 'appliances', 'computers', 'furniture', 'apparel', 'construction', 'auto', 'accessories', 'kids', 'sport', 'medicine', 'country_yard', 'stationery']\n"
     ]
    }
   ],
   "source": [
    "categories_dict = dict()\n",
    "for df_label in df_labels:\n",
    "    categories_dict[df_label] = get_categories(df_label=df_label)"
   ]
  },
  {
   "cell_type": "code",
   "execution_count": 377,
   "metadata": {},
   "outputs": [],
   "source": [
    "def get_most_sold_products_per_category(category, df_label='2019-Oct', chunksize=100_000, top_n=10):\n",
    "    reader = pd.read_csv(\n",
    "        f\"datasets/{df_label}.csv\",\n",
    "        usecols=['category_code', 'event_type', 'product_id'],\n",
    "        dtype={'category_code': str, 'event_type': str, 'product_id': np.uint32},\n",
    "        engine='c',\n",
    "        na_filter=False,\n",
    "        memory_map=True,\n",
    "        chunksize=chunksize,\n",
    "        nrows=300_000\n",
    "    )\n",
    "    most_sold_products = pd.DataFrame()\n",
    "    i = 0\n",
    "    for chunk in reader:\n",
    "        # print(f\"Processing a chunk #{i}\")\n",
    "        # take only the category\n",
    "        chunk.loc[:, 'category_code'] = chunk.category_code.str.split('.').str[0]\n",
    "        events_operations = chunk[\n",
    "            chunk['event_type'].isin(['purchase']) \n",
    "            & (chunk['category_code'] == category)\n",
    "        ].dropna().groupby(\n",
    "            ['category_code', 'product_id']\n",
    "        ).event_type.count().to_frame().rename(\n",
    "            columns={'event_type': 'n_purchases'}\n",
    "        )\n",
    "        if most_sold_products.empty:\n",
    "            most_sold_products = events_operations\n",
    "        else:\n",
    "            most_sold_products = \\\n",
    "                most_sold_products.add(events_operations, fill_value=0).astype(np.uint32)\n",
    "        i += 1\n",
    "    most_sold_products.reset_index(inplace=True)\n",
    "    most_sold_products = most_sold_products.sort_values(by='n_purchases', ascending=False).head(top_n)\n",
    "    top_n_sold_products = list(most_sold_products.product_id.values)\n",
    "    print(\n",
    "        f\"{df_label + ' | ' if df_label else ''}\"\n",
    "        f\"The 10 most sold products per '{category}' are:\"\n",
    "    )\n",
    "    print(top_n_sold_products)\n",
    "    print(most_sold_products)\n",
    "        \n",
    "    return top_n_sold_products"
   ]
  },
  {
   "cell_type": "code",
   "execution_count": 378,
   "metadata": {},
   "outputs": [
    {
     "name": "stdout",
     "output_type": "stream",
     "text": [
      "2019-Oct | The 10 most sold products per 'appliances' are:\n",
      "[3900815, 3700926, 3600661, 3601244, 3601485, 3701134, 3601405, 3600163, 6300465, 3900003]\n",
      "    category_code  product_id  n_purchases\n",
      "252    appliances     3900815           18\n",
      "193    appliances     3700926           17\n",
      "130    appliances     3600661           15\n",
      "140    appliances     3601244           10\n",
      "158    appliances     3601485            9\n",
      "204    appliances     3701134            8\n",
      "148    appliances     3601405            7\n",
      "123    appliances     3600163            7\n",
      "313    appliances     6300465            7\n",
      "238    appliances     3900003            7\n",
      "2019-Nov | The 10 most sold products per 'electronics' are:\n",
      "[1004856, 1004767, 1005115, 1004833, 4804056, 1004249, 1002544, 1004870, 1005105, 1004873]\n",
      "    category_code  product_id  n_purchases\n",
      "139   electronics     1004856          241\n",
      "117   electronics     1004767          163\n",
      "204   electronics     1005115          138\n",
      "131   electronics     1004833          106\n",
      "398   electronics     4804056           88\n",
      "68    electronics     1004249           83\n",
      "7     electronics     1002544           79\n",
      "144   electronics     1004870           67\n",
      "197   electronics     1005105           66\n",
      "147   electronics     1004873           62\n"
     ]
    }
   ],
   "source": [
    "for df_label in df_labels:\n",
    "    for category in categories_dict.get(df_label, list())[:1]:\n",
    "        get_most_sold_products_per_category(category=category, df_label=df_label, top_n=10)"
   ]
  },
  {
   "cell_type": "markdown",
   "metadata": {},
   "source": [
    "# RQ3\n",
    "\n",
    " - For each category, **what’s the brand whose prices are higher on average?**\n",
    " \n",
    "\n",
    " - Write a function that asks the user a category in input and returns a **plot indicating the average price of the products sold by the brand.**\n",
    " \n",
    " \n",
    " - **Find, for each category, the brand with the highest average price.** \n",
    " \n",
    "   Return all the results in ascending order by price."
   ]
  },
  {
   "cell_type": "markdown",
   "metadata": {},
   "source": [
    "## For each category, what’s the brand whose prices are higher on average?"
   ]
  },
  {
   "cell_type": "code",
   "execution_count": null,
   "metadata": {},
   "outputs": [],
   "source": [
    "# TODO"
   ]
  },
  {
   "cell_type": "markdown",
   "metadata": {},
   "source": [
    "## Write a function that asks the user a category in input and returns a plot indicating the average price of the products sold by the brand."
   ]
  },
  {
   "cell_type": "code",
   "execution_count": null,
   "metadata": {},
   "outputs": [],
   "source": [
    "# TODO"
   ]
  },
  {
   "cell_type": "markdown",
   "metadata": {},
   "source": [
    "## Find, for each category, the brand with the highest average price."
   ]
  },
  {
   "cell_type": "code",
   "execution_count": null,
   "metadata": {},
   "outputs": [],
   "source": [
    "# TODO"
   ]
  },
  {
   "cell_type": "markdown",
   "metadata": {},
   "source": [
    "# RQ4"
   ]
  },
  {
   "cell_type": "code",
   "execution_count": null,
   "metadata": {},
   "outputs": [],
   "source": [
    "# Add to the notebook"
   ]
  },
  {
   "cell_type": "markdown",
   "metadata": {},
   "source": [
    "# RQ5"
   ]
  },
  {
   "cell_type": "code",
   "execution_count": null,
   "metadata": {},
   "outputs": [],
   "source": [
    "# Add to the notebook"
   ]
  },
  {
   "cell_type": "markdown",
   "metadata": {},
   "source": [
    "# RQ6"
   ]
  },
  {
   "cell_type": "code",
   "execution_count": null,
   "metadata": {},
   "outputs": [],
   "source": [
    "# Add to the notebook"
   ]
  },
  {
   "cell_type": "code",
   "execution_count": 296,
   "metadata": {},
   "outputs": [],
   "source": [
    "#coversion rate => (#purchase)/(#view)\n",
    "#we can esealy use the subdataframe of RQ2\n",
    "\n",
    "#sales is a sub that contain only purchased product\n",
    "#sales = subRQ2[subRQ2['event_type']=='purchase']\n",
    "product_sold = len(sales)\n"
   ]
  },
  {
   "cell_type": "code",
   "execution_count": 297,
   "metadata": {},
   "outputs": [
    {
     "data": {
      "text/plain": [
       "682721"
      ]
     },
     "execution_count": 297,
     "metadata": {},
     "output_type": "execute_result"
    }
   ],
   "source": [
    "product_sold"
   ]
  },
  {
   "cell_type": "code",
   "execution_count": 298,
   "metadata": {},
   "outputs": [],
   "source": [
    "#while visited cointain only visited product\n",
    "#visited = subRQ2[subRQ2['event_type']=='view']\n",
    "product_watched = len(visited)"
   ]
  },
  {
   "cell_type": "code",
   "execution_count": 299,
   "metadata": {},
   "outputs": [
    {
     "data": {
      "text/plain": [
       "0.015982"
      ]
     },
     "execution_count": 299,
     "metadata": {},
     "output_type": "execute_result"
    }
   ],
   "source": [
    "overall_conversion_rate = product_sold/product_watched\n",
    "round(overall_conversion_rate,6)"
   ]
  },
  {
   "cell_type": "code",
   "execution_count": null,
   "metadata": {},
   "outputs": [],
   "source": []
  },
  {
   "cell_type": "code",
   "execution_count": 246,
   "metadata": {},
   "outputs": [],
   "source": [
    "#RQ6.1 rate for each categories\n"
   ]
  },
  {
   "cell_type": "code",
   "execution_count": 300,
   "metadata": {},
   "outputs": [
    {
     "data": {
      "text/plain": [
       "category_code\n",
       "accessories       2154\n",
       "apparel          14215\n",
       "appliances       99026\n",
       "auto             10719\n",
       "computers        34477\n",
       "construction      8699\n",
       "country_yard        60\n",
       "electronics     493639\n",
       "furniture        11542\n",
       "kids              6166\n",
       "medicine           344\n",
       "sport             1489\n",
       "stationery         191\n",
       "Name: product_id, dtype: int64"
      ]
     },
     "execution_count": 300,
     "metadata": {},
     "output_type": "execute_result"
    }
   ],
   "source": [
    "# number of sales (calculated in RQ2)\n",
    "number_of_sales\n",
    "#we obtained a pandas series with the number of products sold"
   ]
  },
  {
   "cell_type": "code",
   "execution_count": null,
   "metadata": {},
   "outputs": [],
   "source": []
  },
  {
   "cell_type": "code",
   "execution_count": 301,
   "metadata": {},
   "outputs": [],
   "source": [
    "watched = subRQ2[subRQ2['event_type']=='view']"
   ]
  },
  {
   "cell_type": "code",
   "execution_count": 302,
   "metadata": {},
   "outputs": [
    {
     "data": {
      "text/html": [
       "<div>\n",
       "<style scoped>\n",
       "    .dataframe tbody tr th:only-of-type {\n",
       "        vertical-align: middle;\n",
       "    }\n",
       "\n",
       "    .dataframe tbody tr th {\n",
       "        vertical-align: top;\n",
       "    }\n",
       "\n",
       "    .dataframe thead th {\n",
       "        text-align: right;\n",
       "    }\n",
       "</style>\n",
       "<table border=\"1\" class=\"dataframe\">\n",
       "  <thead>\n",
       "    <tr style=\"text-align: right;\">\n",
       "      <th></th>\n",
       "      <th>event_type</th>\n",
       "      <th>product_id</th>\n",
       "      <th>category_code</th>\n",
       "    </tr>\n",
       "  </thead>\n",
       "  <tbody>\n",
       "    <tr>\n",
       "      <th>0</th>\n",
       "      <td>view</td>\n",
       "      <td>1003461</td>\n",
       "      <td>electronics.smartphone</td>\n",
       "    </tr>\n",
       "    <tr>\n",
       "      <th>1</th>\n",
       "      <td>view</td>\n",
       "      <td>5000088</td>\n",
       "      <td>appliances.sewing_machine</td>\n",
       "    </tr>\n",
       "    <tr>\n",
       "      <th>3</th>\n",
       "      <td>view</td>\n",
       "      <td>3601530</td>\n",
       "      <td>appliances.kitchen.washer</td>\n",
       "    </tr>\n",
       "    <tr>\n",
       "      <th>4</th>\n",
       "      <td>view</td>\n",
       "      <td>1004775</td>\n",
       "      <td>electronics.smartphone</td>\n",
       "    </tr>\n",
       "    <tr>\n",
       "      <th>5</th>\n",
       "      <td>view</td>\n",
       "      <td>1306894</td>\n",
       "      <td>computers.notebook</td>\n",
       "    </tr>\n",
       "  </tbody>\n",
       "</table>\n",
       "</div>"
      ],
      "text/plain": [
       "  event_type  product_id              category_code\n",
       "0       view     1003461     electronics.smartphone\n",
       "1       view     5000088  appliances.sewing_machine\n",
       "3       view     3601530  appliances.kitchen.washer\n",
       "4       view     1004775     electronics.smartphone\n",
       "5       view     1306894         computers.notebook"
      ]
     },
     "execution_count": 302,
     "metadata": {},
     "output_type": "execute_result"
    }
   ],
   "source": [
    "watched.head()"
   ]
  },
  {
   "cell_type": "code",
   "execution_count": null,
   "metadata": {},
   "outputs": [],
   "source": [
    "#s.str.split()"
   ]
  },
  {
   "cell_type": "code",
   "execution_count": 311,
   "metadata": {},
   "outputs": [
    {
     "data": {
      "text/plain": [
       "0       electronics.smartphone\n",
       "1    appliances.sewing_machine\n",
       "3    appliances.kitchen.washer\n",
       "4       electronics.smartphone\n",
       "5           computers.notebook\n",
       "Name: category_code, dtype: object"
      ]
     },
     "execution_count": 311,
     "metadata": {},
     "output_type": "execute_result"
    }
   ],
   "source": [
    "watched['category_code'].head()"
   ]
  },
  {
   "cell_type": "code",
   "execution_count": 308,
   "metadata": {},
   "outputs": [],
   "source": [
    "#watched['category_code'].str.split('.')"
   ]
  },
  {
   "cell_type": "code",
   "execution_count": 309,
   "metadata": {},
   "outputs": [],
   "source": [
    "#watched['category_code']= watched['category_code'].str.split()[0]"
   ]
  },
  {
   "cell_type": "code",
   "execution_count": null,
   "metadata": {},
   "outputs": [],
   "source": []
  },
  {
   "cell_type": "code",
   "execution_count": null,
   "metadata": {},
   "outputs": [],
   "source": []
  },
  {
   "cell_type": "code",
   "execution_count": 312,
   "metadata": {},
   "outputs": [
    {
     "name": "stderr",
     "output_type": "stream",
     "text": [
      "<ipython-input-312-d69c0d1f5796>:1: SettingWithCopyWarning: \n",
      "A value is trying to be set on a copy of a slice from a DataFrame.\n",
      "Try using .loc[row_indexer,col_indexer] = value instead\n",
      "\n",
      "See the caveats in the documentation: https://pandas.pydata.org/pandas-docs/stable/user_guide/indexing.html#returning-a-view-versus-a-copy\n",
      "  watched['category_code'] = [el.split('.')[0] for el in list(watched['category_code']) if type(el) == str]\n"
     ]
    }
   ],
   "source": [
    "watched['category_code'] = [el.split('.')[0] for el in list(watched['category_code']) if type(el) == str]"
   ]
  },
  {
   "cell_type": "code",
   "execution_count": 313,
   "metadata": {},
   "outputs": [
    {
     "data": {
      "text/html": [
       "<div>\n",
       "<style scoped>\n",
       "    .dataframe tbody tr th:only-of-type {\n",
       "        vertical-align: middle;\n",
       "    }\n",
       "\n",
       "    .dataframe tbody tr th {\n",
       "        vertical-align: top;\n",
       "    }\n",
       "\n",
       "    .dataframe thead th {\n",
       "        text-align: right;\n",
       "    }\n",
       "</style>\n",
       "<table border=\"1\" class=\"dataframe\">\n",
       "  <thead>\n",
       "    <tr style=\"text-align: right;\">\n",
       "      <th></th>\n",
       "      <th>event_type</th>\n",
       "      <th>product_id</th>\n",
       "      <th>category_code</th>\n",
       "    </tr>\n",
       "  </thead>\n",
       "  <tbody>\n",
       "    <tr>\n",
       "      <th>0</th>\n",
       "      <td>view</td>\n",
       "      <td>1003461</td>\n",
       "      <td>electronics</td>\n",
       "    </tr>\n",
       "    <tr>\n",
       "      <th>1</th>\n",
       "      <td>view</td>\n",
       "      <td>5000088</td>\n",
       "      <td>appliances</td>\n",
       "    </tr>\n",
       "    <tr>\n",
       "      <th>3</th>\n",
       "      <td>view</td>\n",
       "      <td>3601530</td>\n",
       "      <td>appliances</td>\n",
       "    </tr>\n",
       "    <tr>\n",
       "      <th>4</th>\n",
       "      <td>view</td>\n",
       "      <td>1004775</td>\n",
       "      <td>electronics</td>\n",
       "    </tr>\n",
       "    <tr>\n",
       "      <th>5</th>\n",
       "      <td>view</td>\n",
       "      <td>1306894</td>\n",
       "      <td>computers</td>\n",
       "    </tr>\n",
       "  </tbody>\n",
       "</table>\n",
       "</div>"
      ],
      "text/plain": [
       "  event_type  product_id category_code\n",
       "0       view     1003461   electronics\n",
       "1       view     5000088    appliances\n",
       "3       view     3601530    appliances\n",
       "4       view     1004775   electronics\n",
       "5       view     1306894     computers"
      ]
     },
     "execution_count": 313,
     "metadata": {},
     "output_type": "execute_result"
    }
   ],
   "source": [
    "watched.head()"
   ]
  },
  {
   "cell_type": "code",
   "execution_count": 314,
   "metadata": {},
   "outputs": [],
   "source": [
    "times_watched = watched.groupby('category_code').product_id.count()"
   ]
  },
  {
   "cell_type": "code",
   "execution_count": 381,
   "metadata": {},
   "outputs": [
    {
     "data": {
      "text/plain": [
       "category_code\n",
       "accessories       380373\n",
       "apparel          2942622\n",
       "appliances       8037980\n",
       "auto             1164278\n",
       "computers        4029049\n",
       "construction     1047072\n",
       "country_yard       17299\n",
       "electronics     21988192\n",
       "furniture        2058798\n",
       "kids              779517\n",
       "medicine           20764\n",
       "sport             240763\n",
       "stationery         11943\n",
       "Name: product_id, dtype: int64"
      ]
     },
     "execution_count": 381,
     "metadata": {},
     "output_type": "execute_result"
    }
   ],
   "source": [
    "times_watched\n",
    "#we obtained a pandas series with the number o product view for aech category "
   ]
  },
  {
   "cell_type": "code",
   "execution_count": 376,
   "metadata": {},
   "outputs": [
    {
     "data": {
      "text/plain": [
       "category_code\n",
       "accessories     380373\n",
       "apparel        2942622\n",
       "appliances     8037980\n",
       "auto           1164278\n",
       "computers      4029049\n",
       "Name: product_id, dtype: int64"
      ]
     },
     "execution_count": 376,
     "metadata": {},
     "output_type": "execute_result"
    }
   ],
   "source": [
    "times_watched.head()"
   ]
  },
  {
   "cell_type": "code",
   "execution_count": 318,
   "metadata": {},
   "outputs": [
    {
     "data": {
      "text/plain": [
       "category_code\n",
       "accessories     2154\n",
       "apparel        14215\n",
       "appliances     99026\n",
       "auto           10719\n",
       "computers      34477\n",
       "Name: product_id, dtype: int64"
      ]
     },
     "execution_count": 318,
     "metadata": {},
     "output_type": "execute_result"
    }
   ],
   "source": [
    "number_of_sales.head()"
   ]
  },
  {
   "cell_type": "code",
   "execution_count": 317,
   "metadata": {},
   "outputs": [
    {
     "data": {
      "text/plain": [
       "True"
      ]
     },
     "execution_count": 317,
     "metadata": {},
     "output_type": "execute_result"
    }
   ],
   "source": [
    "type(number_of_sales) == type(times_watched) \n",
    "#both elements are pandas series so we can just deviding them by using devide() command"
   ]
  },
  {
   "cell_type": "code",
   "execution_count": 383,
   "metadata": {},
   "outputs": [
    {
     "data": {
      "text/plain": [
       "category_code\n",
       "accessories     0.005663\n",
       "apparel         0.004831\n",
       "appliances      0.012320\n",
       "auto            0.009207\n",
       "computers       0.008557\n",
       "construction    0.008308\n",
       "country_yard    0.003468\n",
       "electronics     0.022450\n",
       "furniture       0.005606\n",
       "kids            0.007910\n",
       "medicine        0.016567\n",
       "sport           0.006185\n",
       "stationery      0.015993\n",
       "Name: product_id, dtype: float64"
      ]
     },
     "execution_count": 383,
     "metadata": {},
     "output_type": "execute_result"
    }
   ],
   "source": [
    "#purchase rate of each category\n",
    "purchase_rate = number_of_sales.divide(times_watched)\n",
    "purchase_rate"
   ]
  },
  {
   "cell_type": "code",
   "execution_count": null,
   "metadata": {},
   "outputs": [],
   "source": [
    "#TODO recheck purchase rate vs conversion rate\n",
    "#TODO plot "
   ]
  },
  {
   "cell_type": "markdown",
   "metadata": {},
   "source": [
    "# RQ7"
   ]
  },
  {
   "cell_type": "code",
   "execution_count": null,
   "metadata": {},
   "outputs": [],
   "source": []
  }
 ],
 "metadata": {
  "kernelspec": {
   "display_name": "Python 3",
   "language": "python",
   "name": "python3"
  },
  "language_info": {
   "codemirror_mode": {
    "name": "ipython",
    "version": 3
   },
   "file_extension": ".py",
   "mimetype": "text/x-python",
   "name": "python",
   "nbconvert_exporter": "python",
   "pygments_lexer": "ipython3",
   "version": "3.8.5"
  }
 },
 "nbformat": 4,
 "nbformat_minor": 4
}
