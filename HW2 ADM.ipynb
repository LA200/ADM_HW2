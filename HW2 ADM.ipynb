{
 "cells": [
  {
   "cell_type": "code",
   "execution_count": 121,
   "metadata": {},
   "outputs": [],
   "source": [
    "import pandas as pd\n",
    "import numpy as np\n",
    "import math"
   ]
  },
  {
   "cell_type": "code",
   "execution_count": 4,
   "metadata": {},
   "outputs": [],
   "source": [
    "#path's csv file, \n",
    "nov = pd.read_csv('/Users/tommy/Desktop/codici/archive/2019-Nov.csv', header='infer',\n",
    "parse_dates=['event_time'],\n",
    "date_parser=pd.to_datetime)"
   ]
  },
  {
   "cell_type": "code",
   "execution_count": 6,
   "metadata": {},
   "outputs": [
    {
     "name": "stdout",
     "output_type": "stream",
     "text": [
      "<class 'pandas.core.frame.DataFrame'>\n",
      "RangeIndex: 67501979 entries, 0 to 67501978\n",
      "Data columns (total 9 columns):\n",
      " #   Column         Dtype              \n",
      "---  ------         -----              \n",
      " 0   event_time     datetime64[ns, UTC]\n",
      " 1   event_type     object             \n",
      " 2   product_id     int64              \n",
      " 3   category_id    int64              \n",
      " 4   category_code  object             \n",
      " 5   brand          object             \n",
      " 6   price          float64            \n",
      " 7   user_id        int64              \n",
      " 8   user_session   object             \n",
      "dtypes: datetime64[ns, UTC](1), float64(1), int64(3), object(4)\n",
      "memory usage: 4.5+ GB\n"
     ]
    }
   ],
   "source": [
    "nov.info()"
   ]
  },
  {
   "cell_type": "code",
   "execution_count": 30,
   "metadata": {},
   "outputs": [],
   "source": [
    "#taking single event \n",
    "allType = pd.unique(nov['event_type'])"
   ]
  },
  {
   "cell_type": "code",
   "execution_count": 38,
   "metadata": {},
   "outputs": [
    {
     "data": {
      "text/plain": [
       "array(['view', 'cart', 'purchase'], dtype=object)"
      ]
     },
     "execution_count": 38,
     "metadata": {},
     "output_type": "execute_result"
    }
   ],
   "source": [
    "allType\n",
    "#this variable tells us that for november we have got 3 different events\n",
    "#could be useful \n",
    "# wiew\n",
    "# cart\n",
    "# purchase"
   ]
  },
  {
   "cell_type": "code",
   "execution_count": 34,
   "metadata": {},
   "outputs": [
    {
     "data": {
      "text/plain": [
       "numpy.ndarray"
      ]
     },
     "execution_count": 34,
     "metadata": {},
     "output_type": "execute_result"
    }
   ],
   "source": [
    "type(allType)"
   ]
  },
  {
   "cell_type": "code",
   "execution_count": 37,
   "metadata": {},
   "outputs": [
    {
     "data": {
      "text/plain": [
       "3"
      ]
     },
     "execution_count": 37,
     "metadata": {},
     "output_type": "execute_result"
    }
   ],
   "source": [
    "Type = allType.tolist()\n",
    "len(Type)"
   ]
  },
  {
   "cell_type": "code",
   "execution_count": 26,
   "metadata": {},
   "outputs": [
    {
     "data": {
      "text/html": [
       "<div>\n",
       "<style scoped>\n",
       "    .dataframe tbody tr th:only-of-type {\n",
       "        vertical-align: middle;\n",
       "    }\n",
       "\n",
       "    .dataframe tbody tr th {\n",
       "        vertical-align: top;\n",
       "    }\n",
       "\n",
       "    .dataframe thead th {\n",
       "        text-align: right;\n",
       "    }\n",
       "</style>\n",
       "<table border=\"1\" class=\"dataframe\">\n",
       "  <thead>\n",
       "    <tr style=\"text-align: right;\">\n",
       "      <th></th>\n",
       "      <th>event_time</th>\n",
       "      <th>event_type</th>\n",
       "      <th>product_id</th>\n",
       "      <th>category_id</th>\n",
       "      <th>category_code</th>\n",
       "      <th>brand</th>\n",
       "      <th>price</th>\n",
       "      <th>user_id</th>\n",
       "      <th>user_session</th>\n",
       "    </tr>\n",
       "  </thead>\n",
       "  <tbody>\n",
       "    <tr>\n",
       "      <th>0</th>\n",
       "      <td>2019-11-01 00:00:00+00:00</td>\n",
       "      <td>view</td>\n",
       "      <td>1003461</td>\n",
       "      <td>2053013555631882655</td>\n",
       "      <td>electronics.smartphone</td>\n",
       "      <td>xiaomi</td>\n",
       "      <td>489.07</td>\n",
       "      <td>520088904</td>\n",
       "      <td>4d3b30da-a5e4-49df-b1a8-ba5943f1dd33</td>\n",
       "    </tr>\n",
       "    <tr>\n",
       "      <th>1</th>\n",
       "      <td>2019-11-01 00:00:00+00:00</td>\n",
       "      <td>view</td>\n",
       "      <td>5000088</td>\n",
       "      <td>2053013566100866035</td>\n",
       "      <td>appliances.sewing_machine</td>\n",
       "      <td>janome</td>\n",
       "      <td>293.65</td>\n",
       "      <td>530496790</td>\n",
       "      <td>8e5f4f83-366c-4f70-860e-ca7417414283</td>\n",
       "    </tr>\n",
       "    <tr>\n",
       "      <th>2</th>\n",
       "      <td>2019-11-01 00:00:01+00:00</td>\n",
       "      <td>view</td>\n",
       "      <td>17302664</td>\n",
       "      <td>2053013553853497655</td>\n",
       "      <td>NaN</td>\n",
       "      <td>creed</td>\n",
       "      <td>28.31</td>\n",
       "      <td>561587266</td>\n",
       "      <td>755422e7-9040-477b-9bd2-6a6e8fd97387</td>\n",
       "    </tr>\n",
       "    <tr>\n",
       "      <th>3</th>\n",
       "      <td>2019-11-01 00:00:01+00:00</td>\n",
       "      <td>view</td>\n",
       "      <td>3601530</td>\n",
       "      <td>2053013563810775923</td>\n",
       "      <td>appliances.kitchen.washer</td>\n",
       "      <td>lg</td>\n",
       "      <td>712.87</td>\n",
       "      <td>518085591</td>\n",
       "      <td>3bfb58cd-7892-48cc-8020-2f17e6de6e7f</td>\n",
       "    </tr>\n",
       "    <tr>\n",
       "      <th>4</th>\n",
       "      <td>2019-11-01 00:00:01+00:00</td>\n",
       "      <td>view</td>\n",
       "      <td>1004775</td>\n",
       "      <td>2053013555631882655</td>\n",
       "      <td>electronics.smartphone</td>\n",
       "      <td>xiaomi</td>\n",
       "      <td>183.27</td>\n",
       "      <td>558856683</td>\n",
       "      <td>313628f1-68b8-460d-84f6-cec7a8796ef2</td>\n",
       "    </tr>\n",
       "  </tbody>\n",
       "</table>\n",
       "</div>"
      ],
      "text/plain": [
       "                 event_time event_type  product_id          category_id  \\\n",
       "0 2019-11-01 00:00:00+00:00       view     1003461  2053013555631882655   \n",
       "1 2019-11-01 00:00:00+00:00       view     5000088  2053013566100866035   \n",
       "2 2019-11-01 00:00:01+00:00       view    17302664  2053013553853497655   \n",
       "3 2019-11-01 00:00:01+00:00       view     3601530  2053013563810775923   \n",
       "4 2019-11-01 00:00:01+00:00       view     1004775  2053013555631882655   \n",
       "\n",
       "               category_code   brand   price    user_id  \\\n",
       "0     electronics.smartphone  xiaomi  489.07  520088904   \n",
       "1  appliances.sewing_machine  janome  293.65  530496790   \n",
       "2                        NaN   creed   28.31  561587266   \n",
       "3  appliances.kitchen.washer      lg  712.87  518085591   \n",
       "4     electronics.smartphone  xiaomi  183.27  558856683   \n",
       "\n",
       "                           user_session  \n",
       "0  4d3b30da-a5e4-49df-b1a8-ba5943f1dd33  \n",
       "1  8e5f4f83-366c-4f70-860e-ca7417414283  \n",
       "2  755422e7-9040-477b-9bd2-6a6e8fd97387  \n",
       "3  3bfb58cd-7892-48cc-8020-2f17e6de6e7f  \n",
       "4  313628f1-68b8-460d-84f6-cec7a8796ef2  "
      ]
     },
     "execution_count": 26,
     "metadata": {},
     "output_type": "execute_result"
    }
   ],
   "source": [
    "nov.head()"
   ]
  },
  {
   "cell_type": "code",
   "execution_count": 155,
   "metadata": {},
   "outputs": [],
   "source": [
    "#number of operation per each user\n",
    "#could be useful for RQ8\n",
    "a = nov.groupby('user_id').event_type.count()"
   ]
  },
  {
   "cell_type": "code",
   "execution_count": 156,
   "metadata": {},
   "outputs": [
    {
     "data": {
      "text/plain": [
       "user_id\n",
       "10300217      1\n",
       "29515875     11\n",
       "31198833     20\n",
       "34916060      1\n",
       "41798457      1\n",
       "             ..\n",
       "579969605     1\n",
       "579969658     1\n",
       "579969711     3\n",
       "579969767     1\n",
       "579969851     1\n",
       "Name: event_type, Length: 3696117, dtype: int64"
      ]
     },
     "execution_count": 156,
     "metadata": {},
     "output_type": "execute_result"
    }
   ],
   "source": [
    "a"
   ]
  },
  {
   "cell_type": "code",
   "execution_count": 18,
   "metadata": {},
   "outputs": [
    {
     "data": {
      "text/plain": [
       "pandas.core.series.Series"
      ]
     },
     "execution_count": 18,
     "metadata": {},
     "output_type": "execute_result"
    }
   ],
   "source": [
    "# show which kind of obj a is\n",
    "type(a)"
   ]
  },
  {
   "cell_type": "code",
   "execution_count": 20,
   "metadata": {},
   "outputs": [
    {
     "data": {
      "text/plain": [
       "user_id\n",
       "10300217     1\n",
       "29515875    11\n",
       "31198833    20\n",
       "34916060     1\n",
       "41798457     1\n",
       "Name: event_type, dtype: int64"
      ]
     },
     "execution_count": 20,
     "metadata": {},
     "output_type": "execute_result"
    }
   ],
   "source": [
    "#converting a into a dataframe\n",
    "a.to_frame()\n",
    "a.head()"
   ]
  },
  {
   "cell_type": "code",
   "execution_count": 97,
   "metadata": {},
   "outputs": [],
   "source": [
    "#different type of categories\n",
    "categories = pd.unique(nov['category_code'])"
   ]
  },
  {
   "cell_type": "code",
   "execution_count": 141,
   "metadata": {},
   "outputs": [],
   "source": [
    "categories\n",
    "cat = categories.tolist()"
   ]
  },
  {
   "cell_type": "code",
   "execution_count": 142,
   "metadata": {},
   "outputs": [
    {
     "data": {
      "text/plain": [
       "['electronics.smartphone',\n",
       " 'appliances.sewing_machine',\n",
       " nan,\n",
       " 'appliances.kitchen.washer',\n",
       " 'computers.notebook',\n",
       " 'furniture.living_room.sofa',\n",
       " 'appliances.kitchen.refrigerators',\n",
       " 'furniture.kitchen.chair',\n",
       " 'appliances.kitchen.dishwasher',\n",
       " 'electronics.audio.headphone',\n",
       " 'appliances.environment.vacuum',\n",
       " 'appliances.environment.water_heater',\n",
       " 'electronics.camera.video',\n",
       " 'electronics.clocks',\n",
       " 'electronics.video.tv',\n",
       " 'apparel.tshirt',\n",
       " 'apparel.jeans',\n",
       " 'construction.tools.drill',\n",
       " 'auto.accessories.compressor',\n",
       " 'computers.components.motherboard',\n",
       " 'computers.peripherals.printer',\n",
       " 'computers.desktop',\n",
       " 'auto.accessories.player',\n",
       " 'accessories.bag',\n",
       " 'computers.components.videocards',\n",
       " 'furniture.bedroom.bed',\n",
       " 'furniture.bathroom.bath',\n",
       " 'electronics.audio.subwoofer',\n",
       " 'construction.tools.welding',\n",
       " 'construction.tools.saw',\n",
       " 'furniture.kitchen.table',\n",
       " 'apparel.shoes',\n",
       " 'construction.tools.light',\n",
       " 'apparel.shirt',\n",
       " 'construction.tools.painting',\n",
       " 'furniture.living_room.cabinet',\n",
       " 'appliances.personal.massager',\n",
       " 'apparel.costume',\n",
       " 'computers.peripherals.keyboard',\n",
       " 'kids.toys',\n",
       " 'computers.components.memory',\n",
       " 'electronics.tablet',\n",
       " 'appliances.kitchen.hood',\n",
       " 'kids.dolls',\n",
       " 'apparel.trousers',\n",
       " 'kids.carriage',\n",
       " 'sport.bicycle',\n",
       " 'electronics.telephone',\n",
       " 'computers.components.hdd',\n",
       " 'computers.components.cpu',\n",
       " 'auto.accessories.videoregister',\n",
       " 'apparel.shoes.keds',\n",
       " 'appliances.environment.air_conditioner',\n",
       " 'appliances.kitchen.blender',\n",
       " 'electronics.audio.music_tools.piano',\n",
       " 'apparel.shoes.moccasins',\n",
       " 'apparel.underwear',\n",
       " 'appliances.personal.scales',\n",
       " 'electronics.audio.acoustic',\n",
       " 'auto.accessories.winch',\n",
       " 'accessories.wallet',\n",
       " 'appliances.kitchen.microwave',\n",
       " 'computers.components.cooler',\n",
       " 'appliances.kitchen.meat_grinder',\n",
       " 'apparel.dress',\n",
       " 'appliances.kitchen.oven',\n",
       " 'apparel.jumper',\n",
       " 'computers.peripherals.mouse',\n",
       " 'computers.peripherals.monitor',\n",
       " 'appliances.iron',\n",
       " 'construction.tools.pump',\n",
       " 'auto.accessories.alarm',\n",
       " 'appliances.kitchen.coffee_machine',\n",
       " 'kids.skates',\n",
       " 'construction.tools.generator',\n",
       " 'appliances.kitchen.mixer',\n",
       " 'furniture.bedroom.pillow',\n",
       " 'sport.trainer',\n",
       " 'furniture.bathroom.toilet',\n",
       " 'apparel.shoes.ballet_shoes',\n",
       " 'computers.components.power_supply',\n",
       " 'construction.components.faucet',\n",
       " 'electronics.video.projector',\n",
       " 'furniture.living_room.chair',\n",
       " 'sport.snowboard',\n",
       " 'appliances.kitchen.hob',\n",
       " 'auto.accessories.radar',\n",
       " 'appliances.kitchen.grill',\n",
       " 'appliances.kitchen.kettle',\n",
       " 'appliances.personal.hair_cutter',\n",
       " 'appliances.ironing_board',\n",
       " 'appliances.environment.air_heater',\n",
       " 'auto.accessories.parktronic',\n",
       " 'kids.fmcg.diapers',\n",
       " 'electronics.audio.microphone',\n",
       " 'appliances.kitchen.steam_cooker',\n",
       " 'medicine.tools.tonometer',\n",
       " 'appliances.kitchen.toster',\n",
       " 'appliances.kitchen.juicer',\n",
       " 'computers.ebooks',\n",
       " 'country_yard.cultivator',\n",
       " 'appliances.kitchen.coffee_grinder',\n",
       " 'furniture.universal.light',\n",
       " 'sport.ski',\n",
       " 'apparel.shoes.slipons',\n",
       " 'apparel.scarf',\n",
       " 'furniture.bedroom.blanket',\n",
       " 'accessories.umbrella',\n",
       " 'kids.swing',\n",
       " 'apparel.belt',\n",
       " 'auto.accessories.anti_freeze',\n",
       " 'electronics.camera.photo',\n",
       " 'computers.peripherals.camera',\n",
       " 'stationery.cartrige',\n",
       " 'construction.tools.soldering',\n",
       " 'sport.tennis',\n",
       " 'country_yard.furniture.hammok',\n",
       " 'apparel.shoes.sandals',\n",
       " 'country_yard.lawn_mower',\n",
       " 'apparel.shoes.espadrilles',\n",
       " 'appliances.environment.fan',\n",
       " 'apparel.shoes.step_ins',\n",
       " 'apparel.sock',\n",
       " 'apparel.shorts',\n",
       " 'country_yard.furniture.bench',\n",
       " 'apparel.glove',\n",
       " 'apparel.skirt',\n",
       " 'apparel.jacket',\n",
       " 'construction.tools.screw',\n",
       " 'appliances.kitchen.fryer']"
      ]
     },
     "execution_count": 142,
     "metadata": {},
     "output_type": "execute_result"
    }
   ],
   "source": [
    "cat"
   ]
  },
  {
   "cell_type": "code",
   "execution_count": null,
   "metadata": {},
   "outputs": [],
   "source": [
    "#idea of subcategories / categories \n",
    "#take the unique of part before the point of cat\n",
    "# subcategories = lock the category and then take into account the second part\n",
    "# for doing that we split using s1.split('.')[0] comand"
   ]
  },
  {
   "cell_type": "code",
   "execution_count": 143,
   "metadata": {},
   "outputs": [],
   "source": [
    "cat1 = [el.split('.')[0] for el in cat if type(el) == str]\n",
    "# list comprehension to create a list with only categories"
   ]
  },
  {
   "cell_type": "code",
   "execution_count": 144,
   "metadata": {},
   "outputs": [
    {
     "data": {
      "text/plain": [
       "['furniture',\n",
       " 'apparel',\n",
       " 'kids',\n",
       " 'accessories',\n",
       " 'electronics',\n",
       " 'appliances',\n",
       " 'sport',\n",
       " 'auto',\n",
       " 'country_yard',\n",
       " 'medicine',\n",
       " 'stationery',\n",
       " 'construction',\n",
       " 'computers']"
      ]
     },
     "execution_count": 144,
     "metadata": {},
     "output_type": "execute_result"
    }
   ],
   "source": [
    "cat1 = list(set(cat1))\n",
    "cat1\n",
    "#taking unique categories using set's propertiss of uniqueness"
   ]
  },
  {
   "cell_type": "code",
   "execution_count": null,
   "metadata": {},
   "outputs": [],
   "source": [
    "#RQ1 RATE OF COMPLETE FUNNELS => WIEW, CART, PURCHASE\n",
    "#idea to be completed: making a dict that has user_id and product_id for keys\n",
    "#and check if the funnel is completed by appending a list with actions\n",
    "\n",
    "#TODO check if some person purchase the product without viewing it"
   ]
  },
  {
   "cell_type": "code",
   "execution_count": 82,
   "metadata": {},
   "outputs": [],
   "source": [
    "#subset of nov \n",
    "sub_nov = nov[['event_type','product_id','user_session','user_id']]"
   ]
  },
  {
   "cell_type": "code",
   "execution_count": 83,
   "metadata": {},
   "outputs": [],
   "source": [
    "#other idea to discuss toghethere \n",
    "#to check if there was a complete funnel the idea is to \n",
    "#group by user_session, and if after a wiew there is a cart\n",
    "#and finally a purchase we have a funnel"
   ]
  },
  {
   "cell_type": "code",
   "execution_count": 84,
   "metadata": {},
   "outputs": [],
   "source": [
    "sub_grouped = sub_nov.groupby('user_session').head()"
   ]
  },
  {
   "cell_type": "code",
   "execution_count": 86,
   "metadata": {},
   "outputs": [],
   "source": [
    "sub_user_funnel = sub_nov.groupby('user_id').head()"
   ]
  },
  {
   "cell_type": "code",
   "execution_count": 87,
   "metadata": {},
   "outputs": [
    {
     "data": {
      "text/plain": [
       "(13340459, 4)"
      ]
     },
     "execution_count": 87,
     "metadata": {},
     "output_type": "execute_result"
    }
   ],
   "source": [
    "sub_user_funnel.shape "
   ]
  },
  {
   "cell_type": "code",
   "execution_count": 212,
   "metadata": {},
   "outputs": [
    {
     "data": {
      "text/html": [
       "<div>\n",
       "<style scoped>\n",
       "    .dataframe tbody tr th:only-of-type {\n",
       "        vertical-align: middle;\n",
       "    }\n",
       "\n",
       "    .dataframe tbody tr th {\n",
       "        vertical-align: top;\n",
       "    }\n",
       "\n",
       "    .dataframe thead th {\n",
       "        text-align: right;\n",
       "    }\n",
       "</style>\n",
       "<table border=\"1\" class=\"dataframe\">\n",
       "  <thead>\n",
       "    <tr style=\"text-align: right;\">\n",
       "      <th></th>\n",
       "      <th>event_type</th>\n",
       "      <th>product_id</th>\n",
       "      <th>user_session</th>\n",
       "      <th>user_id</th>\n",
       "    </tr>\n",
       "  </thead>\n",
       "  <tbody>\n",
       "    <tr>\n",
       "      <th>0</th>\n",
       "      <td>view</td>\n",
       "      <td>1003461</td>\n",
       "      <td>4d3b30da-a5e4-49df-b1a8-ba5943f1dd33</td>\n",
       "      <td>520088904</td>\n",
       "    </tr>\n",
       "    <tr>\n",
       "      <th>1</th>\n",
       "      <td>view</td>\n",
       "      <td>5000088</td>\n",
       "      <td>8e5f4f83-366c-4f70-860e-ca7417414283</td>\n",
       "      <td>530496790</td>\n",
       "    </tr>\n",
       "    <tr>\n",
       "      <th>2</th>\n",
       "      <td>view</td>\n",
       "      <td>17302664</td>\n",
       "      <td>755422e7-9040-477b-9bd2-6a6e8fd97387</td>\n",
       "      <td>561587266</td>\n",
       "    </tr>\n",
       "    <tr>\n",
       "      <th>3</th>\n",
       "      <td>view</td>\n",
       "      <td>3601530</td>\n",
       "      <td>3bfb58cd-7892-48cc-8020-2f17e6de6e7f</td>\n",
       "      <td>518085591</td>\n",
       "    </tr>\n",
       "    <tr>\n",
       "      <th>4</th>\n",
       "      <td>view</td>\n",
       "      <td>1004775</td>\n",
       "      <td>313628f1-68b8-460d-84f6-cec7a8796ef2</td>\n",
       "      <td>558856683</td>\n",
       "    </tr>\n",
       "    <tr>\n",
       "      <th>...</th>\n",
       "      <td>...</td>\n",
       "      <td>...</td>\n",
       "      <td>...</td>\n",
       "      <td>...</td>\n",
       "    </tr>\n",
       "    <tr>\n",
       "      <th>67501961</th>\n",
       "      <td>view</td>\n",
       "      <td>1801766</td>\n",
       "      <td>dd9470f9-c563-4290-8dd4-b3a60ad6ef27</td>\n",
       "      <td>579969533</td>\n",
       "    </tr>\n",
       "    <tr>\n",
       "      <th>67501964</th>\n",
       "      <td>view</td>\n",
       "      <td>12711053</td>\n",
       "      <td>8da3b70a-13fd-4769-8e7e-3f9c289fe830</td>\n",
       "      <td>552749164</td>\n",
       "    </tr>\n",
       "    <tr>\n",
       "      <th>67501966</th>\n",
       "      <td>view</td>\n",
       "      <td>1005174</td>\n",
       "      <td>180a7f1f-ed0c-485a-b145-a980716d6abb</td>\n",
       "      <td>579969525</td>\n",
       "    </tr>\n",
       "    <tr>\n",
       "      <th>67501971</th>\n",
       "      <td>view</td>\n",
       "      <td>8800713</td>\n",
       "      <td>e4bfecbc-8a99-437d-b6b8-b5dfbd87bf78</td>\n",
       "      <td>579968742</td>\n",
       "    </tr>\n",
       "    <tr>\n",
       "      <th>67501978</th>\n",
       "      <td>view</td>\n",
       "      <td>1004233</td>\n",
       "      <td>90aca71c-ed8a-4670-866a-761ebacb732d</td>\n",
       "      <td>579969851</td>\n",
       "    </tr>\n",
       "  </tbody>\n",
       "</table>\n",
       "<p>13340459 rows × 4 columns</p>\n",
       "</div>"
      ],
      "text/plain": [
       "         event_type  product_id                          user_session  \\\n",
       "0              view     1003461  4d3b30da-a5e4-49df-b1a8-ba5943f1dd33   \n",
       "1              view     5000088  8e5f4f83-366c-4f70-860e-ca7417414283   \n",
       "2              view    17302664  755422e7-9040-477b-9bd2-6a6e8fd97387   \n",
       "3              view     3601530  3bfb58cd-7892-48cc-8020-2f17e6de6e7f   \n",
       "4              view     1004775  313628f1-68b8-460d-84f6-cec7a8796ef2   \n",
       "...             ...         ...                                   ...   \n",
       "67501961       view     1801766  dd9470f9-c563-4290-8dd4-b3a60ad6ef27   \n",
       "67501964       view    12711053  8da3b70a-13fd-4769-8e7e-3f9c289fe830   \n",
       "67501966       view     1005174  180a7f1f-ed0c-485a-b145-a980716d6abb   \n",
       "67501971       view     8800713  e4bfecbc-8a99-437d-b6b8-b5dfbd87bf78   \n",
       "67501978       view     1004233  90aca71c-ed8a-4670-866a-761ebacb732d   \n",
       "\n",
       "            user_id  \n",
       "0         520088904  \n",
       "1         530496790  \n",
       "2         561587266  \n",
       "3         518085591  \n",
       "4         558856683  \n",
       "...             ...  \n",
       "67501961  579969533  \n",
       "67501964  552749164  \n",
       "67501966  579969525  \n",
       "67501971  579968742  \n",
       "67501978  579969851  \n",
       "\n",
       "[13340459 rows x 4 columns]"
      ]
     },
     "execution_count": 212,
     "metadata": {},
     "output_type": "execute_result"
    }
   ],
   "source": [
    "#other idea for funnels\n",
    "#check if a user has (view,cart,purchase) for a product\n",
    "\n",
    "#try to reduce the number of rows by taking only users wich compair\n",
    "#more then 2 times\n",
    "sub_user_funnel "
   ]
  },
  {
   "cell_type": "code",
   "execution_count": 93,
   "metadata": {},
   "outputs": [],
   "source": [
    "#sub_user_funnel.sort_index()\n",
    "#df.sort_index()\n",
    "sortedFunnel = sub_user_funnel.sort_values(by='user_id')"
   ]
  },
  {
   "cell_type": "code",
   "execution_count": 96,
   "metadata": {},
   "outputs": [
    {
     "data": {
      "text/html": [
       "<div>\n",
       "<style scoped>\n",
       "    .dataframe tbody tr th:only-of-type {\n",
       "        vertical-align: middle;\n",
       "    }\n",
       "\n",
       "    .dataframe tbody tr th {\n",
       "        vertical-align: top;\n",
       "    }\n",
       "\n",
       "    .dataframe thead th {\n",
       "        text-align: right;\n",
       "    }\n",
       "</style>\n",
       "<table border=\"1\" class=\"dataframe\">\n",
       "  <thead>\n",
       "    <tr style=\"text-align: right;\">\n",
       "      <th></th>\n",
       "      <th>event_type</th>\n",
       "      <th>product_id</th>\n",
       "      <th>user_session</th>\n",
       "      <th>user_id</th>\n",
       "    </tr>\n",
       "  </thead>\n",
       "  <tbody>\n",
       "    <tr>\n",
       "      <th>8425249</th>\n",
       "      <td>view</td>\n",
       "      <td>26300219</td>\n",
       "      <td>d1fdcbf1-bb1f-434b-8f1a-4b77f29a84a0</td>\n",
       "      <td>10300217</td>\n",
       "    </tr>\n",
       "    <tr>\n",
       "      <th>19418937</th>\n",
       "      <td>view</td>\n",
       "      <td>13200917</td>\n",
       "      <td>1552ef43-4001-4ab7-a9c7-44e99f1730a9</td>\n",
       "      <td>29515875</td>\n",
       "    </tr>\n",
       "    <tr>\n",
       "      <th>15378293</th>\n",
       "      <td>view</td>\n",
       "      <td>13200917</td>\n",
       "      <td>5dd49822-9349-42d6-a165-cd4642ee606b</td>\n",
       "      <td>29515875</td>\n",
       "    </tr>\n",
       "    <tr>\n",
       "      <th>19418807</th>\n",
       "      <td>view</td>\n",
       "      <td>13200917</td>\n",
       "      <td>1552ef43-4001-4ab7-a9c7-44e99f1730a9</td>\n",
       "      <td>29515875</td>\n",
       "    </tr>\n",
       "    <tr>\n",
       "      <th>19422558</th>\n",
       "      <td>view</td>\n",
       "      <td>13200026</td>\n",
       "      <td>643be73e-13d4-4021-ac44-ca14f0833cd9</td>\n",
       "      <td>29515875</td>\n",
       "    </tr>\n",
       "    <tr>\n",
       "      <th>...</th>\n",
       "      <td>...</td>\n",
       "      <td>...</td>\n",
       "      <td>...</td>\n",
       "      <td>...</td>\n",
       "    </tr>\n",
       "    <tr>\n",
       "      <th>67501908</th>\n",
       "      <td>view</td>\n",
       "      <td>2600400</td>\n",
       "      <td>6f2aeb5c-6276-462b-b4cb-767131a7081b</td>\n",
       "      <td>579969711</td>\n",
       "    </tr>\n",
       "    <tr>\n",
       "      <th>67501927</th>\n",
       "      <td>view</td>\n",
       "      <td>2600400</td>\n",
       "      <td>6f2aeb5c-6276-462b-b4cb-767131a7081b</td>\n",
       "      <td>579969711</td>\n",
       "    </tr>\n",
       "    <tr>\n",
       "      <th>67501893</th>\n",
       "      <td>view</td>\n",
       "      <td>2600400</td>\n",
       "      <td>6f2aeb5c-6276-462b-b4cb-767131a7081b</td>\n",
       "      <td>579969711</td>\n",
       "    </tr>\n",
       "    <tr>\n",
       "      <th>67501929</th>\n",
       "      <td>view</td>\n",
       "      <td>4804718</td>\n",
       "      <td>e159d1a1-6668-4777-985d-26ac82afd9ba</td>\n",
       "      <td>579969767</td>\n",
       "    </tr>\n",
       "    <tr>\n",
       "      <th>67501978</th>\n",
       "      <td>view</td>\n",
       "      <td>1004233</td>\n",
       "      <td>90aca71c-ed8a-4670-866a-761ebacb732d</td>\n",
       "      <td>579969851</td>\n",
       "    </tr>\n",
       "  </tbody>\n",
       "</table>\n",
       "<p>13340459 rows × 4 columns</p>\n",
       "</div>"
      ],
      "text/plain": [
       "         event_type  product_id                          user_session  \\\n",
       "8425249        view    26300219  d1fdcbf1-bb1f-434b-8f1a-4b77f29a84a0   \n",
       "19418937       view    13200917  1552ef43-4001-4ab7-a9c7-44e99f1730a9   \n",
       "15378293       view    13200917  5dd49822-9349-42d6-a165-cd4642ee606b   \n",
       "19418807       view    13200917  1552ef43-4001-4ab7-a9c7-44e99f1730a9   \n",
       "19422558       view    13200026  643be73e-13d4-4021-ac44-ca14f0833cd9   \n",
       "...             ...         ...                                   ...   \n",
       "67501908       view     2600400  6f2aeb5c-6276-462b-b4cb-767131a7081b   \n",
       "67501927       view     2600400  6f2aeb5c-6276-462b-b4cb-767131a7081b   \n",
       "67501893       view     2600400  6f2aeb5c-6276-462b-b4cb-767131a7081b   \n",
       "67501929       view     4804718  e159d1a1-6668-4777-985d-26ac82afd9ba   \n",
       "67501978       view     1004233  90aca71c-ed8a-4670-866a-761ebacb732d   \n",
       "\n",
       "            user_id  \n",
       "8425249    10300217  \n",
       "19418937   29515875  \n",
       "15378293   29515875  \n",
       "19418807   29515875  \n",
       "19422558   29515875  \n",
       "...             ...  \n",
       "67501908  579969711  \n",
       "67501927  579969711  \n",
       "67501893  579969711  \n",
       "67501929  579969767  \n",
       "67501978  579969851  \n",
       "\n",
       "[13340459 rows x 4 columns]"
      ]
     },
     "execution_count": 96,
     "metadata": {},
     "output_type": "execute_result"
    }
   ],
   "source": [
    "sortedFunnel"
   ]
  },
  {
   "cell_type": "code",
   "execution_count": null,
   "metadata": {},
   "outputs": [],
   "source": []
  },
  {
   "cell_type": "code",
   "execution_count": null,
   "metadata": {},
   "outputs": [],
   "source": []
  },
  {
   "cell_type": "markdown",
   "metadata": {},
   "source": [
    "RQ2"
   ]
  },
  {
   "cell_type": "code",
   "execution_count": null,
   "metadata": {},
   "outputs": [],
   "source": [
    "#we remove obj without categories"
   ]
  },
  {
   "cell_type": "code",
   "execution_count": 294,
   "metadata": {},
   "outputs": [],
   "source": [
    "#subsetting to obtai a faster solution\n",
    "subRQ2 = nov[['event_type','product_id','category_code']]"
   ]
  },
  {
   "cell_type": "code",
   "execution_count": 295,
   "metadata": {},
   "outputs": [],
   "source": [
    "#removing NA\n",
    "subRQ2 = subRQ2.dropna()"
   ]
  },
  {
   "cell_type": "code",
   "execution_count": 211,
   "metadata": {},
   "outputs": [
    {
     "data": {
      "text/html": [
       "<div>\n",
       "<style scoped>\n",
       "    .dataframe tbody tr th:only-of-type {\n",
       "        vertical-align: middle;\n",
       "    }\n",
       "\n",
       "    .dataframe tbody tr th {\n",
       "        vertical-align: top;\n",
       "    }\n",
       "\n",
       "    .dataframe thead th {\n",
       "        text-align: right;\n",
       "    }\n",
       "</style>\n",
       "<table border=\"1\" class=\"dataframe\">\n",
       "  <thead>\n",
       "    <tr style=\"text-align: right;\">\n",
       "      <th></th>\n",
       "      <th>event_type</th>\n",
       "      <th>product_id</th>\n",
       "      <th>category_code</th>\n",
       "      <th>product_id</th>\n",
       "    </tr>\n",
       "  </thead>\n",
       "  <tbody>\n",
       "    <tr>\n",
       "      <th>0</th>\n",
       "      <td>view</td>\n",
       "      <td>1003461</td>\n",
       "      <td>electronics.smartphone</td>\n",
       "      <td>1003461</td>\n",
       "    </tr>\n",
       "    <tr>\n",
       "      <th>1</th>\n",
       "      <td>view</td>\n",
       "      <td>5000088</td>\n",
       "      <td>appliances.sewing_machine</td>\n",
       "      <td>5000088</td>\n",
       "    </tr>\n",
       "    <tr>\n",
       "      <th>3</th>\n",
       "      <td>view</td>\n",
       "      <td>3601530</td>\n",
       "      <td>appliances.kitchen.washer</td>\n",
       "      <td>3601530</td>\n",
       "    </tr>\n",
       "    <tr>\n",
       "      <th>4</th>\n",
       "      <td>view</td>\n",
       "      <td>1004775</td>\n",
       "      <td>electronics.smartphone</td>\n",
       "      <td>1004775</td>\n",
       "    </tr>\n",
       "    <tr>\n",
       "      <th>5</th>\n",
       "      <td>view</td>\n",
       "      <td>1306894</td>\n",
       "      <td>computers.notebook</td>\n",
       "      <td>1306894</td>\n",
       "    </tr>\n",
       "  </tbody>\n",
       "</table>\n",
       "</div>"
      ],
      "text/plain": [
       "  event_type  product_id              category_code  product_id\n",
       "0       view     1003461     electronics.smartphone     1003461\n",
       "1       view     5000088  appliances.sewing_machine     5000088\n",
       "3       view     3601530  appliances.kitchen.washer     3601530\n",
       "4       view     1004775     electronics.smartphone     1004775\n",
       "5       view     1306894         computers.notebook     1306894"
      ]
     },
     "execution_count": 211,
     "metadata": {},
     "output_type": "execute_result"
    }
   ],
   "source": [
    "subRQ2.head()"
   ]
  },
  {
   "cell_type": "code",
   "execution_count": 201,
   "metadata": {},
   "outputs": [],
   "source": [
    "#subsetting of sales \n",
    "sales = subRQ2[subRQ2['event_type']=='purchase']\n"
   ]
  },
  {
   "cell_type": "code",
   "execution_count": 282,
   "metadata": {},
   "outputs": [
    {
     "data": {
      "text/html": [
       "<div>\n",
       "<style scoped>\n",
       "    .dataframe tbody tr th:only-of-type {\n",
       "        vertical-align: middle;\n",
       "    }\n",
       "\n",
       "    .dataframe tbody tr th {\n",
       "        vertical-align: top;\n",
       "    }\n",
       "\n",
       "    .dataframe thead th {\n",
       "        text-align: right;\n",
       "    }\n",
       "</style>\n",
       "<table border=\"1\" class=\"dataframe\">\n",
       "  <thead>\n",
       "    <tr style=\"text-align: right;\">\n",
       "      <th></th>\n",
       "      <th>event_type</th>\n",
       "      <th>product_id</th>\n",
       "      <th>category_code</th>\n",
       "    </tr>\n",
       "  </thead>\n",
       "  <tbody>\n",
       "    <tr>\n",
       "      <th>107</th>\n",
       "      <td>purchase</td>\n",
       "      <td>13200605</td>\n",
       "      <td>furniture</td>\n",
       "    </tr>\n",
       "    <tr>\n",
       "      <th>168</th>\n",
       "      <td>purchase</td>\n",
       "      <td>1005161</td>\n",
       "      <td>electronics</td>\n",
       "    </tr>\n",
       "    <tr>\n",
       "      <th>707</th>\n",
       "      <td>purchase</td>\n",
       "      <td>1004856</td>\n",
       "      <td>electronics</td>\n",
       "    </tr>\n",
       "    <tr>\n",
       "      <th>939</th>\n",
       "      <td>purchase</td>\n",
       "      <td>1801881</td>\n",
       "      <td>electronics</td>\n",
       "    </tr>\n",
       "    <tr>\n",
       "      <th>942</th>\n",
       "      <td>purchase</td>\n",
       "      <td>5800823</td>\n",
       "      <td>electronics</td>\n",
       "    </tr>\n",
       "  </tbody>\n",
       "</table>\n",
       "</div>"
      ],
      "text/plain": [
       "    event_type  product_id category_code\n",
       "107   purchase    13200605     furniture\n",
       "168   purchase     1005161   electronics\n",
       "707   purchase     1004856   electronics\n",
       "939   purchase     1801881   electronics\n",
       "942   purchase     5800823   electronics"
      ]
     },
     "execution_count": 282,
     "metadata": {},
     "output_type": "execute_result"
    }
   ],
   "source": [
    "sales.head()"
   ]
  },
  {
   "cell_type": "code",
   "execution_count": 202,
   "metadata": {},
   "outputs": [
    {
     "name": "stderr",
     "output_type": "stream",
     "text": [
      "<ipython-input-202-c6c4eb04b3c7>:3: SettingWithCopyWarning: \n",
      "A value is trying to be set on a copy of a slice from a DataFrame.\n",
      "Try using .loc[row_indexer,col_indexer] = value instead\n",
      "\n",
      "See the caveats in the documentation: https://pandas.pydata.org/pandas-docs/stable/user_guide/indexing.html#returning-a-view-versus-a-copy\n",
      "  sales['category_code'] = [el.split('.')[0] for el in list(sales['category_code']) if type(el) == str]\n"
     ]
    }
   ],
   "source": [
    "#rename categpories\n",
    "#extracting categories from the dataset\n",
    "\n",
    "#TODO implement pandas function \n",
    "sales['category_code'] = [el.split('.')[0] for el in list(sales['category_code']) if type(el) == str]"
   ]
  },
  {
   "cell_type": "code",
   "execution_count": 181,
   "metadata": {},
   "outputs": [],
   "source": []
  },
  {
   "cell_type": "code",
   "execution_count": 217,
   "metadata": {},
   "outputs": [],
   "source": [
    "#in this way we directly count \n",
    "number_of_sales = sales.groupby('category_code').product_id.count()"
   ]
  },
  {
   "cell_type": "code",
   "execution_count": 291,
   "metadata": {},
   "outputs": [
    {
     "data": {
      "text/plain": [
       "category_code\n",
       "electronics     493639\n",
       "appliances       99026\n",
       "computers        34477\n",
       "apparel          14215\n",
       "furniture        11542\n",
       "auto             10719\n",
       "construction      8699\n",
       "kids              6166\n",
       "accessories       2154\n",
       "sport             1489\n",
       "medicine           344\n",
       "stationery         191\n",
       "country_yard        60\n",
       "Name: product_id, dtype: int64"
      ]
     },
     "execution_count": 291,
     "metadata": {},
     "output_type": "execute_result"
    }
   ],
   "source": [
    "#RQ2.0\n",
    "#number of product sold for each categories\n",
    "number_of_sales\n",
    "number_of_sales.sort_values(ascending=False)\n",
    "\n",
    "#TODO plot "
   ]
  },
  {
   "cell_type": "code",
   "execution_count": null,
   "metadata": {},
   "outputs": [],
   "source": []
  },
  {
   "cell_type": "markdown",
   "metadata": {},
   "source": [
    "#most visited categories\n",
    "some thing of sales, but now we are interested in view not in purchase"
   ]
  },
  {
   "cell_type": "code",
   "execution_count": 205,
   "metadata": {},
   "outputs": [],
   "source": [
    "visited = subRQ2[subRQ2['event_type']=='view']"
   ]
  },
  {
   "cell_type": "code",
   "execution_count": 206,
   "metadata": {},
   "outputs": [
    {
     "name": "stderr",
     "output_type": "stream",
     "text": [
      "<ipython-input-206-d5c109c6bdf3>:1: SettingWithCopyWarning: \n",
      "A value is trying to be set on a copy of a slice from a DataFrame.\n",
      "Try using .loc[row_indexer,col_indexer] = value instead\n",
      "\n",
      "See the caveats in the documentation: https://pandas.pydata.org/pandas-docs/stable/user_guide/indexing.html#returning-a-view-versus-a-copy\n",
      "  visited['category_code'] = [el.split('.')[1] for el in list(visited['category_code']) if type(el) == str]\n"
     ]
    }
   ],
   "source": [
    "#TODO change split\n",
    "#TODO check subcategories\n",
    "visited['category_code'] = [el.split('.')[1] for el in list(visited['category_code']) if type(el) == str]"
   ]
  },
  {
   "cell_type": "code",
   "execution_count": 207,
   "metadata": {},
   "outputs": [
    {
     "data": {
      "text/html": [
       "<div>\n",
       "<style scoped>\n",
       "    .dataframe tbody tr th:only-of-type {\n",
       "        vertical-align: middle;\n",
       "    }\n",
       "\n",
       "    .dataframe tbody tr th {\n",
       "        vertical-align: top;\n",
       "    }\n",
       "\n",
       "    .dataframe thead th {\n",
       "        text-align: right;\n",
       "    }\n",
       "</style>\n",
       "<table border=\"1\" class=\"dataframe\">\n",
       "  <thead>\n",
       "    <tr style=\"text-align: right;\">\n",
       "      <th></th>\n",
       "      <th>event_type</th>\n",
       "      <th>product_id</th>\n",
       "      <th>category_code</th>\n",
       "    </tr>\n",
       "  </thead>\n",
       "  <tbody>\n",
       "    <tr>\n",
       "      <th>0</th>\n",
       "      <td>view</td>\n",
       "      <td>1003461</td>\n",
       "      <td>smartphone</td>\n",
       "    </tr>\n",
       "    <tr>\n",
       "      <th>1</th>\n",
       "      <td>view</td>\n",
       "      <td>5000088</td>\n",
       "      <td>sewing_machine</td>\n",
       "    </tr>\n",
       "    <tr>\n",
       "      <th>3</th>\n",
       "      <td>view</td>\n",
       "      <td>3601530</td>\n",
       "      <td>kitchen</td>\n",
       "    </tr>\n",
       "    <tr>\n",
       "      <th>4</th>\n",
       "      <td>view</td>\n",
       "      <td>1004775</td>\n",
       "      <td>smartphone</td>\n",
       "    </tr>\n",
       "    <tr>\n",
       "      <th>5</th>\n",
       "      <td>view</td>\n",
       "      <td>1306894</td>\n",
       "      <td>notebook</td>\n",
       "    </tr>\n",
       "  </tbody>\n",
       "</table>\n",
       "</div>"
      ],
      "text/plain": [
       "  event_type  product_id   category_code\n",
       "0       view     1003461      smartphone\n",
       "1       view     5000088  sewing_machine\n",
       "3       view     3601530         kitchen\n",
       "4       view     1004775      smartphone\n",
       "5       view     1306894        notebook"
      ]
     },
     "execution_count": 207,
     "metadata": {},
     "output_type": "execute_result"
    }
   ],
   "source": [
    "visited.head()"
   ]
  },
  {
   "cell_type": "code",
   "execution_count": 229,
   "metadata": {},
   "outputs": [
    {
     "data": {
      "text/plain": [
       "category_code\n",
       "smartphone    14832387\n",
       "kitchen        5580742\n",
       "shoes          2353170\n",
       "audio          2193152\n",
       "notebook       2103024\n",
       "Name: product_id, dtype: int64"
      ]
     },
     "execution_count": 229,
     "metadata": {},
     "output_type": "execute_result"
    }
   ],
   "source": [
    "times_visited = visited.groupby('category_code').product_id.count()\n"
   ]
  },
  {
   "cell_type": "code",
   "execution_count": 230,
   "metadata": {},
   "outputs": [
    {
     "data": {
      "text/plain": [
       "category_code\n",
       "smartphone    14832387\n",
       "kitchen        5580742\n",
       "shoes          2353170\n",
       "audio          2193152\n",
       "notebook       2103024\n",
       "Name: product_id, dtype: int64"
      ]
     },
     "execution_count": 230,
     "metadata": {},
     "output_type": "execute_result"
    }
   ],
   "source": [
    "#RQ2.1 most visited subcategories\n",
    "times_visited.sort_values(ascending=False).head() #miss the plot "
   ]
  },
  {
   "cell_type": "code",
   "execution_count": null,
   "metadata": {},
   "outputs": [],
   "source": []
  },
  {
   "cell_type": "code",
   "execution_count": null,
   "metadata": {},
   "outputs": [],
   "source": [
    "#RQ2.2 What are the 10 most sold products per category?"
   ]
  },
  {
   "cell_type": "code",
   "execution_count": null,
   "metadata": {},
   "outputs": [],
   "source": []
  },
  {
   "cell_type": "markdown",
   "metadata": {},
   "source": [
    "RQ3"
   ]
  },
  {
   "cell_type": "code",
   "execution_count": null,
   "metadata": {},
   "outputs": [],
   "source": []
  },
  {
   "cell_type": "code",
   "execution_count": null,
   "metadata": {},
   "outputs": [],
   "source": []
  },
  {
   "cell_type": "markdown",
   "metadata": {},
   "source": [
    "RQ6"
   ]
  },
  {
   "cell_type": "code",
   "execution_count": 296,
   "metadata": {},
   "outputs": [],
   "source": [
    "#coversion rate => (#purchase)/(#view)\n",
    "#we can esealy use the subdataframe of RQ2\n",
    "\n",
    "#sales is a sub that contain only purchased product\n",
    "#sales = subRQ2[subRQ2['event_type']=='purchase']\n",
    "product_sold = len(sales)\n"
   ]
  },
  {
   "cell_type": "code",
   "execution_count": 297,
   "metadata": {},
   "outputs": [
    {
     "data": {
      "text/plain": [
       "682721"
      ]
     },
     "execution_count": 297,
     "metadata": {},
     "output_type": "execute_result"
    }
   ],
   "source": [
    "product_sold"
   ]
  },
  {
   "cell_type": "code",
   "execution_count": 298,
   "metadata": {},
   "outputs": [],
   "source": [
    "#while visited cointain only visited product\n",
    "#visited = subRQ2[subRQ2['event_type']=='view']\n",
    "product_watched = len(visited)"
   ]
  },
  {
   "cell_type": "code",
   "execution_count": 299,
   "metadata": {},
   "outputs": [
    {
     "data": {
      "text/plain": [
       "0.015982"
      ]
     },
     "execution_count": 299,
     "metadata": {},
     "output_type": "execute_result"
    }
   ],
   "source": [
    "overall_conversion_rate = product_sold/product_watched\n",
    "round(overall_conversion_rate,6)"
   ]
  },
  {
   "cell_type": "code",
   "execution_count": null,
   "metadata": {},
   "outputs": [],
   "source": []
  },
  {
   "cell_type": "code",
   "execution_count": 246,
   "metadata": {},
   "outputs": [],
   "source": [
    "#RQ6.1 rate for each categories\n"
   ]
  },
  {
   "cell_type": "code",
   "execution_count": 300,
   "metadata": {},
   "outputs": [
    {
     "data": {
      "text/plain": [
       "category_code\n",
       "accessories       2154\n",
       "apparel          14215\n",
       "appliances       99026\n",
       "auto             10719\n",
       "computers        34477\n",
       "construction      8699\n",
       "country_yard        60\n",
       "electronics     493639\n",
       "furniture        11542\n",
       "kids              6166\n",
       "medicine           344\n",
       "sport             1489\n",
       "stationery         191\n",
       "Name: product_id, dtype: int64"
      ]
     },
     "execution_count": 300,
     "metadata": {},
     "output_type": "execute_result"
    }
   ],
   "source": [
    "# number of sales (calculated in RQ2)\n",
    "number_of_sales\n",
    "#we obtained a pandas series with the number of products sold"
   ]
  },
  {
   "cell_type": "code",
   "execution_count": null,
   "metadata": {},
   "outputs": [],
   "source": []
  },
  {
   "cell_type": "code",
   "execution_count": 301,
   "metadata": {},
   "outputs": [],
   "source": [
    "watched = subRQ2[subRQ2['event_type']=='view']"
   ]
  },
  {
   "cell_type": "code",
   "execution_count": 302,
   "metadata": {},
   "outputs": [
    {
     "data": {
      "text/html": [
       "<div>\n",
       "<style scoped>\n",
       "    .dataframe tbody tr th:only-of-type {\n",
       "        vertical-align: middle;\n",
       "    }\n",
       "\n",
       "    .dataframe tbody tr th {\n",
       "        vertical-align: top;\n",
       "    }\n",
       "\n",
       "    .dataframe thead th {\n",
       "        text-align: right;\n",
       "    }\n",
       "</style>\n",
       "<table border=\"1\" class=\"dataframe\">\n",
       "  <thead>\n",
       "    <tr style=\"text-align: right;\">\n",
       "      <th></th>\n",
       "      <th>event_type</th>\n",
       "      <th>product_id</th>\n",
       "      <th>category_code</th>\n",
       "    </tr>\n",
       "  </thead>\n",
       "  <tbody>\n",
       "    <tr>\n",
       "      <th>0</th>\n",
       "      <td>view</td>\n",
       "      <td>1003461</td>\n",
       "      <td>electronics.smartphone</td>\n",
       "    </tr>\n",
       "    <tr>\n",
       "      <th>1</th>\n",
       "      <td>view</td>\n",
       "      <td>5000088</td>\n",
       "      <td>appliances.sewing_machine</td>\n",
       "    </tr>\n",
       "    <tr>\n",
       "      <th>3</th>\n",
       "      <td>view</td>\n",
       "      <td>3601530</td>\n",
       "      <td>appliances.kitchen.washer</td>\n",
       "    </tr>\n",
       "    <tr>\n",
       "      <th>4</th>\n",
       "      <td>view</td>\n",
       "      <td>1004775</td>\n",
       "      <td>electronics.smartphone</td>\n",
       "    </tr>\n",
       "    <tr>\n",
       "      <th>5</th>\n",
       "      <td>view</td>\n",
       "      <td>1306894</td>\n",
       "      <td>computers.notebook</td>\n",
       "    </tr>\n",
       "  </tbody>\n",
       "</table>\n",
       "</div>"
      ],
      "text/plain": [
       "  event_type  product_id              category_code\n",
       "0       view     1003461     electronics.smartphone\n",
       "1       view     5000088  appliances.sewing_machine\n",
       "3       view     3601530  appliances.kitchen.washer\n",
       "4       view     1004775     electronics.smartphone\n",
       "5       view     1306894         computers.notebook"
      ]
     },
     "execution_count": 302,
     "metadata": {},
     "output_type": "execute_result"
    }
   ],
   "source": [
    "watched.head()"
   ]
  },
  {
   "cell_type": "code",
   "execution_count": null,
   "metadata": {},
   "outputs": [],
   "source": [
    "#s.str.split()"
   ]
  },
  {
   "cell_type": "code",
   "execution_count": 311,
   "metadata": {},
   "outputs": [
    {
     "data": {
      "text/plain": [
       "0       electronics.smartphone\n",
       "1    appliances.sewing_machine\n",
       "3    appliances.kitchen.washer\n",
       "4       electronics.smartphone\n",
       "5           computers.notebook\n",
       "Name: category_code, dtype: object"
      ]
     },
     "execution_count": 311,
     "metadata": {},
     "output_type": "execute_result"
    }
   ],
   "source": [
    "watched['category_code'].head()"
   ]
  },
  {
   "cell_type": "code",
   "execution_count": 308,
   "metadata": {},
   "outputs": [],
   "source": [
    "#watched['category_code'].str.split('.')"
   ]
  },
  {
   "cell_type": "code",
   "execution_count": 309,
   "metadata": {},
   "outputs": [],
   "source": [
    "#watched['category_code']= watched['category_code'].str.split()[0]"
   ]
  },
  {
   "cell_type": "code",
   "execution_count": null,
   "metadata": {},
   "outputs": [],
   "source": []
  },
  {
   "cell_type": "code",
   "execution_count": null,
   "metadata": {},
   "outputs": [],
   "source": []
  },
  {
   "cell_type": "code",
   "execution_count": 312,
   "metadata": {},
   "outputs": [
    {
     "name": "stderr",
     "output_type": "stream",
     "text": [
      "<ipython-input-312-d69c0d1f5796>:1: SettingWithCopyWarning: \n",
      "A value is trying to be set on a copy of a slice from a DataFrame.\n",
      "Try using .loc[row_indexer,col_indexer] = value instead\n",
      "\n",
      "See the caveats in the documentation: https://pandas.pydata.org/pandas-docs/stable/user_guide/indexing.html#returning-a-view-versus-a-copy\n",
      "  watched['category_code'] = [el.split('.')[0] for el in list(watched['category_code']) if type(el) == str]\n"
     ]
    }
   ],
   "source": [
    "watched['category_code'] = [el.split('.')[0] for el in list(watched['category_code']) if type(el) == str]"
   ]
  },
  {
   "cell_type": "code",
   "execution_count": 313,
   "metadata": {},
   "outputs": [
    {
     "data": {
      "text/html": [
       "<div>\n",
       "<style scoped>\n",
       "    .dataframe tbody tr th:only-of-type {\n",
       "        vertical-align: middle;\n",
       "    }\n",
       "\n",
       "    .dataframe tbody tr th {\n",
       "        vertical-align: top;\n",
       "    }\n",
       "\n",
       "    .dataframe thead th {\n",
       "        text-align: right;\n",
       "    }\n",
       "</style>\n",
       "<table border=\"1\" class=\"dataframe\">\n",
       "  <thead>\n",
       "    <tr style=\"text-align: right;\">\n",
       "      <th></th>\n",
       "      <th>event_type</th>\n",
       "      <th>product_id</th>\n",
       "      <th>category_code</th>\n",
       "    </tr>\n",
       "  </thead>\n",
       "  <tbody>\n",
       "    <tr>\n",
       "      <th>0</th>\n",
       "      <td>view</td>\n",
       "      <td>1003461</td>\n",
       "      <td>electronics</td>\n",
       "    </tr>\n",
       "    <tr>\n",
       "      <th>1</th>\n",
       "      <td>view</td>\n",
       "      <td>5000088</td>\n",
       "      <td>appliances</td>\n",
       "    </tr>\n",
       "    <tr>\n",
       "      <th>3</th>\n",
       "      <td>view</td>\n",
       "      <td>3601530</td>\n",
       "      <td>appliances</td>\n",
       "    </tr>\n",
       "    <tr>\n",
       "      <th>4</th>\n",
       "      <td>view</td>\n",
       "      <td>1004775</td>\n",
       "      <td>electronics</td>\n",
       "    </tr>\n",
       "    <tr>\n",
       "      <th>5</th>\n",
       "      <td>view</td>\n",
       "      <td>1306894</td>\n",
       "      <td>computers</td>\n",
       "    </tr>\n",
       "  </tbody>\n",
       "</table>\n",
       "</div>"
      ],
      "text/plain": [
       "  event_type  product_id category_code\n",
       "0       view     1003461   electronics\n",
       "1       view     5000088    appliances\n",
       "3       view     3601530    appliances\n",
       "4       view     1004775   electronics\n",
       "5       view     1306894     computers"
      ]
     },
     "execution_count": 313,
     "metadata": {},
     "output_type": "execute_result"
    }
   ],
   "source": [
    "watched.head()"
   ]
  },
  {
   "cell_type": "code",
   "execution_count": 314,
   "metadata": {},
   "outputs": [],
   "source": [
    "times_watched = watched.groupby('category_code').product_id.count()"
   ]
  },
  {
   "cell_type": "code",
   "execution_count": 381,
   "metadata": {},
   "outputs": [
    {
     "data": {
      "text/plain": [
       "category_code\n",
       "accessories       380373\n",
       "apparel          2942622\n",
       "appliances       8037980\n",
       "auto             1164278\n",
       "computers        4029049\n",
       "construction     1047072\n",
       "country_yard       17299\n",
       "electronics     21988192\n",
       "furniture        2058798\n",
       "kids              779517\n",
       "medicine           20764\n",
       "sport             240763\n",
       "stationery         11943\n",
       "Name: product_id, dtype: int64"
      ]
     },
     "execution_count": 381,
     "metadata": {},
     "output_type": "execute_result"
    }
   ],
   "source": [
    "times_watched\n",
    "#we obtained a pandas series with the number o product view for aech category "
   ]
  },
  {
   "cell_type": "code",
   "execution_count": 376,
   "metadata": {},
   "outputs": [
    {
     "data": {
      "text/plain": [
       "category_code\n",
       "accessories     380373\n",
       "apparel        2942622\n",
       "appliances     8037980\n",
       "auto           1164278\n",
       "computers      4029049\n",
       "Name: product_id, dtype: int64"
      ]
     },
     "execution_count": 376,
     "metadata": {},
     "output_type": "execute_result"
    }
   ],
   "source": [
    "times_watched.head()"
   ]
  },
  {
   "cell_type": "code",
   "execution_count": 318,
   "metadata": {},
   "outputs": [
    {
     "data": {
      "text/plain": [
       "category_code\n",
       "accessories     2154\n",
       "apparel        14215\n",
       "appliances     99026\n",
       "auto           10719\n",
       "computers      34477\n",
       "Name: product_id, dtype: int64"
      ]
     },
     "execution_count": 318,
     "metadata": {},
     "output_type": "execute_result"
    }
   ],
   "source": [
    "number_of_sales.head()"
   ]
  },
  {
   "cell_type": "code",
   "execution_count": 317,
   "metadata": {},
   "outputs": [
    {
     "data": {
      "text/plain": [
       "True"
      ]
     },
     "execution_count": 317,
     "metadata": {},
     "output_type": "execute_result"
    }
   ],
   "source": [
    "type(number_of_sales) == type(times_watched) \n",
    "#both elements are pandas series so we can just deviding them by using devide() command"
   ]
  },
  {
   "cell_type": "code",
   "execution_count": 383,
   "metadata": {},
   "outputs": [
    {
     "data": {
      "text/plain": [
       "category_code\n",
       "accessories     0.005663\n",
       "apparel         0.004831\n",
       "appliances      0.012320\n",
       "auto            0.009207\n",
       "computers       0.008557\n",
       "construction    0.008308\n",
       "country_yard    0.003468\n",
       "electronics     0.022450\n",
       "furniture       0.005606\n",
       "kids            0.007910\n",
       "medicine        0.016567\n",
       "sport           0.006185\n",
       "stationery      0.015993\n",
       "Name: product_id, dtype: float64"
      ]
     },
     "execution_count": 383,
     "metadata": {},
     "output_type": "execute_result"
    }
   ],
   "source": [
    "#purchase rate of each category\n",
    "purchase_rate = number_of_sales.divide(times_watched)\n",
    "purchase_rate"
   ]
  },
  {
   "cell_type": "code",
   "execution_count": null,
   "metadata": {},
   "outputs": [],
   "source": [
    "#TODO recheck purchase rate vs conversion rate\n",
    "#TODO plot "
   ]
  },
  {
   "cell_type": "code",
   "execution_count": null,
   "metadata": {},
   "outputs": [],
   "source": []
  },
  {
   "cell_type": "code",
   "execution_count": null,
   "metadata": {},
   "outputs": [],
   "source": []
  },
  {
   "cell_type": "code",
   "execution_count": null,
   "metadata": {},
   "outputs": [],
   "source": []
  }
 ],
 "metadata": {
  "kernelspec": {
   "display_name": "Python 3",
   "language": "python",
   "name": "python3"
  },
  "language_info": {
   "codemirror_mode": {
    "name": "ipython",
    "version": 3
   },
   "file_extension": ".py",
   "mimetype": "text/x-python",
   "name": "python",
   "nbconvert_exporter": "python",
   "pygments_lexer": "ipython3",
   "version": "3.8.3"
  }
 },
 "nbformat": 4,
 "nbformat_minor": 4
}
