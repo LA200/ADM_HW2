{
 "cells": [
  {
   "cell_type": "code",
   "execution_count": 75,
   "metadata": {},
   "outputs": [],
   "source": [
    "# Requirements \n",
    "# !pip3 install pandas numpy seaborn\n",
    "import pandas as pd\n",
    "import numpy as np\n",
    "import math\n",
    "import seaborn as sns"
   ]
  },
  {
   "cell_type": "markdown",
   "metadata": {},
   "source": [
    "# Importing the data"
   ]
  },
  {
   "cell_type": "code",
   "execution_count": 14,
   "metadata": {},
   "outputs": [],
   "source": [
    "# dataset for October\n",
    "# oct_df = pd.read_csv('2019-Oct.csv', header='infer', parse_dates=['event_time'], date_parser=pd.to_datetime)\n",
    "# dataset for Nobember  # TODO: IMPORTANT remove nrows to consider the full dataset\n",
    "nov = pd.read_csv('2019-Nov.csv', nrows=100000, header='infer', parse_dates=['event_time'], date_parser=pd.to_datetime)"
   ]
  },
  {
   "cell_type": "code",
   "execution_count": 4,
   "metadata": {},
   "outputs": [
    {
     "name": "stdout",
     "output_type": "stream",
     "text": [
      "<class 'pandas.core.frame.DataFrame'>\n",
      "RangeIndex: 1000 entries, 0 to 999\n",
      "Data columns (total 9 columns):\n",
      " #   Column         Non-Null Count  Dtype              \n",
      "---  ------         --------------  -----              \n",
      " 0   event_time     1000 non-null   datetime64[ns, UTC]\n",
      " 1   event_type     1000 non-null   object             \n",
      " 2   product_id     1000 non-null   int64              \n",
      " 3   category_id    1000 non-null   int64              \n",
      " 4   category_code  617 non-null    object             \n",
      " 5   brand          819 non-null    object             \n",
      " 6   price          1000 non-null   float64            \n",
      " 7   user_id        1000 non-null   int64              \n",
      " 8   user_session   1000 non-null   object             \n",
      "dtypes: datetime64[ns, UTC](1), float64(1), int64(3), object(4)\n",
      "memory usage: 70.4+ KB\n"
     ]
    }
   ],
   "source": [
    "nov.info()"
   ]
  },
  {
   "cell_type": "code",
   "execution_count": 5,
   "metadata": {},
   "outputs": [
    {
     "data": {
      "text/plain": [
       "array(['view', 'cart', 'purchase'], dtype=object)"
      ]
     },
     "execution_count": 5,
     "metadata": {},
     "output_type": "execute_result"
    }
   ],
   "source": [
    "#taking single event \n",
    "allType = pd.unique(nov['event_type'])\n",
    "# this variable tells us that for november we have got 3 different events\n",
    "allType"
   ]
  },
  {
   "cell_type": "code",
   "execution_count": 6,
   "metadata": {},
   "outputs": [
    {
     "data": {
      "text/html": [
       "<div>\n",
       "<style scoped>\n",
       "    .dataframe tbody tr th:only-of-type {\n",
       "        vertical-align: middle;\n",
       "    }\n",
       "\n",
       "    .dataframe tbody tr th {\n",
       "        vertical-align: top;\n",
       "    }\n",
       "\n",
       "    .dataframe thead th {\n",
       "        text-align: right;\n",
       "    }\n",
       "</style>\n",
       "<table border=\"1\" class=\"dataframe\">\n",
       "  <thead>\n",
       "    <tr style=\"text-align: right;\">\n",
       "      <th></th>\n",
       "      <th>event_time</th>\n",
       "      <th>event_type</th>\n",
       "      <th>product_id</th>\n",
       "      <th>category_id</th>\n",
       "      <th>category_code</th>\n",
       "      <th>brand</th>\n",
       "      <th>price</th>\n",
       "      <th>user_id</th>\n",
       "      <th>user_session</th>\n",
       "    </tr>\n",
       "  </thead>\n",
       "  <tbody>\n",
       "    <tr>\n",
       "      <th>0</th>\n",
       "      <td>2019-11-01 00:00:00+00:00</td>\n",
       "      <td>view</td>\n",
       "      <td>1003461</td>\n",
       "      <td>2053013555631882655</td>\n",
       "      <td>electronics.smartphone</td>\n",
       "      <td>xiaomi</td>\n",
       "      <td>489.07</td>\n",
       "      <td>520088904</td>\n",
       "      <td>4d3b30da-a5e4-49df-b1a8-ba5943f1dd33</td>\n",
       "    </tr>\n",
       "    <tr>\n",
       "      <th>1</th>\n",
       "      <td>2019-11-01 00:00:00+00:00</td>\n",
       "      <td>view</td>\n",
       "      <td>5000088</td>\n",
       "      <td>2053013566100866035</td>\n",
       "      <td>appliances.sewing_machine</td>\n",
       "      <td>janome</td>\n",
       "      <td>293.65</td>\n",
       "      <td>530496790</td>\n",
       "      <td>8e5f4f83-366c-4f70-860e-ca7417414283</td>\n",
       "    </tr>\n",
       "    <tr>\n",
       "      <th>2</th>\n",
       "      <td>2019-11-01 00:00:01+00:00</td>\n",
       "      <td>view</td>\n",
       "      <td>17302664</td>\n",
       "      <td>2053013553853497655</td>\n",
       "      <td>NaN</td>\n",
       "      <td>creed</td>\n",
       "      <td>28.31</td>\n",
       "      <td>561587266</td>\n",
       "      <td>755422e7-9040-477b-9bd2-6a6e8fd97387</td>\n",
       "    </tr>\n",
       "    <tr>\n",
       "      <th>3</th>\n",
       "      <td>2019-11-01 00:00:01+00:00</td>\n",
       "      <td>view</td>\n",
       "      <td>3601530</td>\n",
       "      <td>2053013563810775923</td>\n",
       "      <td>appliances.kitchen.washer</td>\n",
       "      <td>lg</td>\n",
       "      <td>712.87</td>\n",
       "      <td>518085591</td>\n",
       "      <td>3bfb58cd-7892-48cc-8020-2f17e6de6e7f</td>\n",
       "    </tr>\n",
       "    <tr>\n",
       "      <th>4</th>\n",
       "      <td>2019-11-01 00:00:01+00:00</td>\n",
       "      <td>view</td>\n",
       "      <td>1004775</td>\n",
       "      <td>2053013555631882655</td>\n",
       "      <td>electronics.smartphone</td>\n",
       "      <td>xiaomi</td>\n",
       "      <td>183.27</td>\n",
       "      <td>558856683</td>\n",
       "      <td>313628f1-68b8-460d-84f6-cec7a8796ef2</td>\n",
       "    </tr>\n",
       "  </tbody>\n",
       "</table>\n",
       "</div>"
      ],
      "text/plain": [
       "                 event_time event_type  product_id          category_id  \\\n",
       "0 2019-11-01 00:00:00+00:00       view     1003461  2053013555631882655   \n",
       "1 2019-11-01 00:00:00+00:00       view     5000088  2053013566100866035   \n",
       "2 2019-11-01 00:00:01+00:00       view    17302664  2053013553853497655   \n",
       "3 2019-11-01 00:00:01+00:00       view     3601530  2053013563810775923   \n",
       "4 2019-11-01 00:00:01+00:00       view     1004775  2053013555631882655   \n",
       "\n",
       "               category_code   brand   price    user_id  \\\n",
       "0     electronics.smartphone  xiaomi  489.07  520088904   \n",
       "1  appliances.sewing_machine  janome  293.65  530496790   \n",
       "2                        NaN   creed   28.31  561587266   \n",
       "3  appliances.kitchen.washer      lg  712.87  518085591   \n",
       "4     electronics.smartphone  xiaomi  183.27  558856683   \n",
       "\n",
       "                           user_session  \n",
       "0  4d3b30da-a5e4-49df-b1a8-ba5943f1dd33  \n",
       "1  8e5f4f83-366c-4f70-860e-ca7417414283  \n",
       "2  755422e7-9040-477b-9bd2-6a6e8fd97387  \n",
       "3  3bfb58cd-7892-48cc-8020-2f17e6de6e7f  \n",
       "4  313628f1-68b8-460d-84f6-cec7a8796ef2  "
      ]
     },
     "execution_count": 6,
     "metadata": {},
     "output_type": "execute_result"
    }
   ],
   "source": [
    "nov.head()"
   ]
  },
  {
   "cell_type": "code",
   "execution_count": 26,
   "metadata": {},
   "outputs": [
    {
     "data": {
      "text/html": [
       "<div>\n",
       "<style scoped>\n",
       "    .dataframe tbody tr th:only-of-type {\n",
       "        vertical-align: middle;\n",
       "    }\n",
       "\n",
       "    .dataframe tbody tr th {\n",
       "        vertical-align: top;\n",
       "    }\n",
       "\n",
       "    .dataframe thead th {\n",
       "        text-align: right;\n",
       "    }\n",
       "</style>\n",
       "<table border=\"1\" class=\"dataframe\">\n",
       "  <thead>\n",
       "    <tr style=\"text-align: right;\">\n",
       "      <th></th>\n",
       "      <th>event_type</th>\n",
       "    </tr>\n",
       "    <tr>\n",
       "      <th>user_id</th>\n",
       "      <th></th>\n",
       "    </tr>\n",
       "  </thead>\n",
       "  <tbody>\n",
       "    <tr>\n",
       "      <th>436701163</th>\n",
       "      <td>1</td>\n",
       "    </tr>\n",
       "    <tr>\n",
       "      <th>512370912</th>\n",
       "      <td>5</td>\n",
       "    </tr>\n",
       "    <tr>\n",
       "      <th>512376444</th>\n",
       "      <td>4</td>\n",
       "    </tr>\n",
       "    <tr>\n",
       "      <th>512416379</th>\n",
       "      <td>15</td>\n",
       "    </tr>\n",
       "    <tr>\n",
       "      <th>512436886</th>\n",
       "      <td>6</td>\n",
       "    </tr>\n",
       "  </tbody>\n",
       "</table>\n",
       "</div>"
      ],
      "text/plain": [
       "           event_type\n",
       "user_id              \n",
       "436701163           1\n",
       "512370912           5\n",
       "512376444           4\n",
       "512416379          15\n",
       "512436886           6"
      ]
     },
     "execution_count": 26,
     "metadata": {},
     "output_type": "execute_result"
    }
   ],
   "source": [
    "# number of operation per each user\n",
    "# could be useful for RQ7\n",
    "a = nov.groupby('user_id').event_type.count()\n",
    "a.to_frame().head()"
   ]
  },
  {
   "cell_type": "code",
   "execution_count": 33,
   "metadata": {},
   "outputs": [
    {
     "data": {
      "text/html": [
       "<div>\n",
       "<style scoped>\n",
       "    .dataframe tbody tr th:only-of-type {\n",
       "        vertical-align: middle;\n",
       "    }\n",
       "\n",
       "    .dataframe tbody tr th {\n",
       "        vertical-align: top;\n",
       "    }\n",
       "\n",
       "    .dataframe thead th {\n",
       "        text-align: right;\n",
       "    }\n",
       "</style>\n",
       "<table border=\"1\" class=\"dataframe\">\n",
       "  <thead>\n",
       "    <tr style=\"text-align: right;\">\n",
       "      <th></th>\n",
       "      <th>0</th>\n",
       "      <th>1</th>\n",
       "      <th>2</th>\n",
       "      <th>3</th>\n",
       "    </tr>\n",
       "  </thead>\n",
       "  <tbody>\n",
       "    <tr>\n",
       "      <th>90</th>\n",
       "      <td>accessories</td>\n",
       "      <td>bag</td>\n",
       "      <td>None</td>\n",
       "      <td>None</td>\n",
       "    </tr>\n",
       "    <tr>\n",
       "      <th>259</th>\n",
       "      <td>apparel</td>\n",
       "      <td>costume</td>\n",
       "      <td>None</td>\n",
       "      <td>None</td>\n",
       "    </tr>\n",
       "    <tr>\n",
       "      <th>53</th>\n",
       "      <td>apparel</td>\n",
       "      <td>jeans</td>\n",
       "      <td>None</td>\n",
       "      <td>None</td>\n",
       "    </tr>\n",
       "    <tr>\n",
       "      <th>197</th>\n",
       "      <td>apparel</td>\n",
       "      <td>shirt</td>\n",
       "      <td>None</td>\n",
       "      <td>None</td>\n",
       "    </tr>\n",
       "    <tr>\n",
       "      <th>803</th>\n",
       "      <td>apparel</td>\n",
       "      <td>shoes</td>\n",
       "      <td>keds</td>\n",
       "      <td>None</td>\n",
       "    </tr>\n",
       "    <tr>\n",
       "      <th>890</th>\n",
       "      <td>apparel</td>\n",
       "      <td>shoes</td>\n",
       "      <td>moccasins</td>\n",
       "      <td>None</td>\n",
       "    </tr>\n",
       "    <tr>\n",
       "      <th>184</th>\n",
       "      <td>apparel</td>\n",
       "      <td>shoes</td>\n",
       "      <td>None</td>\n",
       "      <td>None</td>\n",
       "    </tr>\n",
       "    <tr>\n",
       "      <th>409</th>\n",
       "      <td>apparel</td>\n",
       "      <td>trousers</td>\n",
       "      <td>None</td>\n",
       "      <td>None</td>\n",
       "    </tr>\n",
       "    <tr>\n",
       "      <th>52</th>\n",
       "      <td>apparel</td>\n",
       "      <td>tshirt</td>\n",
       "      <td>None</td>\n",
       "      <td>None</td>\n",
       "    </tr>\n",
       "    <tr>\n",
       "      <th>938</th>\n",
       "      <td>apparel</td>\n",
       "      <td>underwear</td>\n",
       "      <td>None</td>\n",
       "      <td>None</td>\n",
       "    </tr>\n",
       "    <tr>\n",
       "      <th>824</th>\n",
       "      <td>appliances</td>\n",
       "      <td>environment</td>\n",
       "      <td>air_conditioner</td>\n",
       "      <td>None</td>\n",
       "    </tr>\n",
       "    <tr>\n",
       "      <th>38</th>\n",
       "      <td>appliances</td>\n",
       "      <td>environment</td>\n",
       "      <td>vacuum</td>\n",
       "      <td>None</td>\n",
       "    </tr>\n",
       "    <tr>\n",
       "      <th>43</th>\n",
       "      <td>appliances</td>\n",
       "      <td>environment</td>\n",
       "      <td>water_heater</td>\n",
       "      <td>None</td>\n",
       "    </tr>\n",
       "    <tr>\n",
       "      <th>851</th>\n",
       "      <td>appliances</td>\n",
       "      <td>kitchen</td>\n",
       "      <td>blender</td>\n",
       "      <td>None</td>\n",
       "    </tr>\n",
       "    <tr>\n",
       "      <th>14</th>\n",
       "      <td>appliances</td>\n",
       "      <td>kitchen</td>\n",
       "      <td>dishwasher</td>\n",
       "      <td>None</td>\n",
       "    </tr>\n",
       "    <tr>\n",
       "      <th>368</th>\n",
       "      <td>appliances</td>\n",
       "      <td>kitchen</td>\n",
       "      <td>hood</td>\n",
       "      <td>None</td>\n",
       "    </tr>\n",
       "    <tr>\n",
       "      <th>11</th>\n",
       "      <td>appliances</td>\n",
       "      <td>kitchen</td>\n",
       "      <td>refrigerators</td>\n",
       "      <td>None</td>\n",
       "    </tr>\n",
       "    <tr>\n",
       "      <th>3</th>\n",
       "      <td>appliances</td>\n",
       "      <td>kitchen</td>\n",
       "      <td>washer</td>\n",
       "      <td>None</td>\n",
       "    </tr>\n",
       "    <tr>\n",
       "      <th>258</th>\n",
       "      <td>appliances</td>\n",
       "      <td>personal</td>\n",
       "      <td>massager</td>\n",
       "      <td>None</td>\n",
       "    </tr>\n",
       "    <tr>\n",
       "      <th>1</th>\n",
       "      <td>appliances</td>\n",
       "      <td>sewing_machine</td>\n",
       "      <td>None</td>\n",
       "      <td>None</td>\n",
       "    </tr>\n",
       "    <tr>\n",
       "      <th>71</th>\n",
       "      <td>auto</td>\n",
       "      <td>accessories</td>\n",
       "      <td>compressor</td>\n",
       "      <td>None</td>\n",
       "    </tr>\n",
       "    <tr>\n",
       "      <th>86</th>\n",
       "      <td>auto</td>\n",
       "      <td>accessories</td>\n",
       "      <td>player</td>\n",
       "      <td>None</td>\n",
       "    </tr>\n",
       "    <tr>\n",
       "      <th>787</th>\n",
       "      <td>auto</td>\n",
       "      <td>accessories</td>\n",
       "      <td>videoregister</td>\n",
       "      <td>None</td>\n",
       "    </tr>\n",
       "    <tr>\n",
       "      <th>767</th>\n",
       "      <td>computers</td>\n",
       "      <td>components</td>\n",
       "      <td>cpu</td>\n",
       "      <td>None</td>\n",
       "    </tr>\n",
       "    <tr>\n",
       "      <th>758</th>\n",
       "      <td>computers</td>\n",
       "      <td>components</td>\n",
       "      <td>hdd</td>\n",
       "      <td>None</td>\n",
       "    </tr>\n",
       "    <tr>\n",
       "      <th>322</th>\n",
       "      <td>computers</td>\n",
       "      <td>components</td>\n",
       "      <td>memory</td>\n",
       "      <td>None</td>\n",
       "    </tr>\n",
       "    <tr>\n",
       "      <th>75</th>\n",
       "      <td>computers</td>\n",
       "      <td>components</td>\n",
       "      <td>motherboard</td>\n",
       "      <td>None</td>\n",
       "    </tr>\n",
       "    <tr>\n",
       "      <th>100</th>\n",
       "      <td>computers</td>\n",
       "      <td>components</td>\n",
       "      <td>videocards</td>\n",
       "      <td>None</td>\n",
       "    </tr>\n",
       "    <tr>\n",
       "      <th>85</th>\n",
       "      <td>computers</td>\n",
       "      <td>desktop</td>\n",
       "      <td>None</td>\n",
       "      <td>None</td>\n",
       "    </tr>\n",
       "    <tr>\n",
       "      <th>5</th>\n",
       "      <td>computers</td>\n",
       "      <td>notebook</td>\n",
       "      <td>None</td>\n",
       "      <td>None</td>\n",
       "    </tr>\n",
       "    <tr>\n",
       "      <th>261</th>\n",
       "      <td>computers</td>\n",
       "      <td>peripherals</td>\n",
       "      <td>keyboard</td>\n",
       "      <td>None</td>\n",
       "    </tr>\n",
       "    <tr>\n",
       "      <th>77</th>\n",
       "      <td>computers</td>\n",
       "      <td>peripherals</td>\n",
       "      <td>printer</td>\n",
       "      <td>None</td>\n",
       "    </tr>\n",
       "    <tr>\n",
       "      <th>68</th>\n",
       "      <td>construction</td>\n",
       "      <td>tools</td>\n",
       "      <td>drill</td>\n",
       "      <td>None</td>\n",
       "    </tr>\n",
       "    <tr>\n",
       "      <th>190</th>\n",
       "      <td>construction</td>\n",
       "      <td>tools</td>\n",
       "      <td>light</td>\n",
       "      <td>None</td>\n",
       "    </tr>\n",
       "    <tr>\n",
       "      <th>198</th>\n",
       "      <td>construction</td>\n",
       "      <td>tools</td>\n",
       "      <td>painting</td>\n",
       "      <td>None</td>\n",
       "    </tr>\n",
       "    <tr>\n",
       "      <th>164</th>\n",
       "      <td>construction</td>\n",
       "      <td>tools</td>\n",
       "      <td>saw</td>\n",
       "      <td>None</td>\n",
       "    </tr>\n",
       "    <tr>\n",
       "      <th>145</th>\n",
       "      <td>construction</td>\n",
       "      <td>tools</td>\n",
       "      <td>welding</td>\n",
       "      <td>None</td>\n",
       "    </tr>\n",
       "    <tr>\n",
       "      <th>37</th>\n",
       "      <td>electronics</td>\n",
       "      <td>audio</td>\n",
       "      <td>headphone</td>\n",
       "      <td>None</td>\n",
       "    </tr>\n",
       "    <tr>\n",
       "      <th>854</th>\n",
       "      <td>electronics</td>\n",
       "      <td>audio</td>\n",
       "      <td>music_tools</td>\n",
       "      <td>piano</td>\n",
       "    </tr>\n",
       "    <tr>\n",
       "      <th>129</th>\n",
       "      <td>electronics</td>\n",
       "      <td>audio</td>\n",
       "      <td>subwoofer</td>\n",
       "      <td>None</td>\n",
       "    </tr>\n",
       "    <tr>\n",
       "      <th>47</th>\n",
       "      <td>electronics</td>\n",
       "      <td>camera</td>\n",
       "      <td>video</td>\n",
       "      <td>None</td>\n",
       "    </tr>\n",
       "    <tr>\n",
       "      <th>50</th>\n",
       "      <td>electronics</td>\n",
       "      <td>clocks</td>\n",
       "      <td>None</td>\n",
       "      <td>None</td>\n",
       "    </tr>\n",
       "    <tr>\n",
       "      <th>0</th>\n",
       "      <td>electronics</td>\n",
       "      <td>smartphone</td>\n",
       "      <td>None</td>\n",
       "      <td>None</td>\n",
       "    </tr>\n",
       "    <tr>\n",
       "      <th>335</th>\n",
       "      <td>electronics</td>\n",
       "      <td>tablet</td>\n",
       "      <td>None</td>\n",
       "      <td>None</td>\n",
       "    </tr>\n",
       "    <tr>\n",
       "      <th>606</th>\n",
       "      <td>electronics</td>\n",
       "      <td>telephone</td>\n",
       "      <td>None</td>\n",
       "      <td>None</td>\n",
       "    </tr>\n",
       "    <tr>\n",
       "      <th>51</th>\n",
       "      <td>electronics</td>\n",
       "      <td>video</td>\n",
       "      <td>tv</td>\n",
       "      <td>None</td>\n",
       "    </tr>\n",
       "    <tr>\n",
       "      <th>122</th>\n",
       "      <td>furniture</td>\n",
       "      <td>bathroom</td>\n",
       "      <td>bath</td>\n",
       "      <td>None</td>\n",
       "    </tr>\n",
       "    <tr>\n",
       "      <th>107</th>\n",
       "      <td>furniture</td>\n",
       "      <td>bedroom</td>\n",
       "      <td>bed</td>\n",
       "      <td>None</td>\n",
       "    </tr>\n",
       "    <tr>\n",
       "      <th>12</th>\n",
       "      <td>furniture</td>\n",
       "      <td>kitchen</td>\n",
       "      <td>chair</td>\n",
       "      <td>None</td>\n",
       "    </tr>\n",
       "    <tr>\n",
       "      <th>177</th>\n",
       "      <td>furniture</td>\n",
       "      <td>kitchen</td>\n",
       "      <td>table</td>\n",
       "      <td>None</td>\n",
       "    </tr>\n",
       "    <tr>\n",
       "      <th>240</th>\n",
       "      <td>furniture</td>\n",
       "      <td>living_room</td>\n",
       "      <td>cabinet</td>\n",
       "      <td>None</td>\n",
       "    </tr>\n",
       "    <tr>\n",
       "      <th>10</th>\n",
       "      <td>furniture</td>\n",
       "      <td>living_room</td>\n",
       "      <td>sofa</td>\n",
       "      <td>None</td>\n",
       "    </tr>\n",
       "    <tr>\n",
       "      <th>460</th>\n",
       "      <td>kids</td>\n",
       "      <td>carriage</td>\n",
       "      <td>None</td>\n",
       "      <td>None</td>\n",
       "    </tr>\n",
       "    <tr>\n",
       "      <th>394</th>\n",
       "      <td>kids</td>\n",
       "      <td>dolls</td>\n",
       "      <td>None</td>\n",
       "      <td>None</td>\n",
       "    </tr>\n",
       "    <tr>\n",
       "      <th>307</th>\n",
       "      <td>kids</td>\n",
       "      <td>toys</td>\n",
       "      <td>None</td>\n",
       "      <td>None</td>\n",
       "    </tr>\n",
       "    <tr>\n",
       "      <th>566</th>\n",
       "      <td>sport</td>\n",
       "      <td>bicycle</td>\n",
       "      <td>None</td>\n",
       "      <td>None</td>\n",
       "    </tr>\n",
       "    <tr>\n",
       "      <th>2</th>\n",
       "      <td>NaN</td>\n",
       "      <td>NaN</td>\n",
       "      <td>NaN</td>\n",
       "      <td>NaN</td>\n",
       "    </tr>\n",
       "  </tbody>\n",
       "</table>\n",
       "</div>"
      ],
      "text/plain": [
       "                0               1                2      3\n",
       "90    accessories             bag             None   None\n",
       "259       apparel         costume             None   None\n",
       "53        apparel           jeans             None   None\n",
       "197       apparel           shirt             None   None\n",
       "803       apparel           shoes             keds   None\n",
       "890       apparel           shoes        moccasins   None\n",
       "184       apparel           shoes             None   None\n",
       "409       apparel        trousers             None   None\n",
       "52        apparel          tshirt             None   None\n",
       "938       apparel       underwear             None   None\n",
       "824    appliances     environment  air_conditioner   None\n",
       "38     appliances     environment           vacuum   None\n",
       "43     appliances     environment     water_heater   None\n",
       "851    appliances         kitchen          blender   None\n",
       "14     appliances         kitchen       dishwasher   None\n",
       "368    appliances         kitchen             hood   None\n",
       "11     appliances         kitchen    refrigerators   None\n",
       "3      appliances         kitchen           washer   None\n",
       "258    appliances        personal         massager   None\n",
       "1      appliances  sewing_machine             None   None\n",
       "71           auto     accessories       compressor   None\n",
       "86           auto     accessories           player   None\n",
       "787          auto     accessories    videoregister   None\n",
       "767     computers      components              cpu   None\n",
       "758     computers      components              hdd   None\n",
       "322     computers      components           memory   None\n",
       "75      computers      components      motherboard   None\n",
       "100     computers      components       videocards   None\n",
       "85      computers         desktop             None   None\n",
       "5       computers        notebook             None   None\n",
       "261     computers     peripherals         keyboard   None\n",
       "77      computers     peripherals          printer   None\n",
       "68   construction           tools            drill   None\n",
       "190  construction           tools            light   None\n",
       "198  construction           tools         painting   None\n",
       "164  construction           tools              saw   None\n",
       "145  construction           tools          welding   None\n",
       "37    electronics           audio        headphone   None\n",
       "854   electronics           audio      music_tools  piano\n",
       "129   electronics           audio        subwoofer   None\n",
       "47    electronics          camera            video   None\n",
       "50    electronics          clocks             None   None\n",
       "0     electronics      smartphone             None   None\n",
       "335   electronics          tablet             None   None\n",
       "606   electronics       telephone             None   None\n",
       "51    electronics           video               tv   None\n",
       "122     furniture        bathroom             bath   None\n",
       "107     furniture         bedroom              bed   None\n",
       "12      furniture         kitchen            chair   None\n",
       "177     furniture         kitchen            table   None\n",
       "240     furniture     living_room          cabinet   None\n",
       "10      furniture     living_room             sofa   None\n",
       "460          kids        carriage             None   None\n",
       "394          kids           dolls             None   None\n",
       "307          kids            toys             None   None\n",
       "566         sport         bicycle             None   None\n",
       "2             NaN             NaN              NaN    NaN"
      ]
     },
     "execution_count": 33,
     "metadata": {},
     "output_type": "execute_result"
    }
   ],
   "source": [
    "# Categories are composed of multiple subcategories, from NaN up to 4\n",
    "nov_categories = nov.copy()\n",
    "# nov_categories['category_code'].dropna().str.split('.', expand=True)\n",
    "nov_categories['category_code'].str.split('.', expand=True).drop_duplicates().sort_values(\n",
    "    by=list(range(4)), ascending=True\n",
    ")"
   ]
  },
  {
   "cell_type": "markdown",
   "metadata": {},
   "source": [
    "# RQ1"
   ]
  },
  {
   "cell_type": "markdown",
   "metadata": {},
   "source": [
    "A marketing funnel describes your customer’s journey with your e-commerce. \n",
    "\n",
    "It may involve different stages, beginning when someone learns about your business, when he/she visits your website for the first time, to the purchasing stage, marketing funnels map routes to conversion and beyond.\n",
    "\n",
    "Suppose your funnel involves just three simple steps: \n",
    "\n",
    "1) view, \n",
    "2) cart, \n",
    "3) purchase. \n",
    "\n",
    "\n",
    "- Which is the rate of complete funnels?\n",
    "\n",
    "\n",
    "- What’s the operation users repeat more on average within a session? Produce a plot that shows the average number of times users perform each operation (view/removefromchart etc etc).\n",
    "\n",
    "\n",
    "- How many times, on average, a user views a product before adding it to the cart?\n",
    "\n",
    "\n",
    "- What’s the probability that products added once to the cart are effectively bought?\n",
    "\n",
    "\n",
    "- What’s the average time an item stays in the cart before being removed?\n",
    "\n",
    "\n",
    "- How much time passes on average between the first view time and a purchase/addition to cart?"
   ]
  },
  {
   "cell_type": "markdown",
   "metadata": {},
   "source": [
    "## Which is the rate of complete funnels? \n",
    "\n",
    "We should sort by event time, consider user id, product id and event type\n",
    "\n",
    "\n",
    "Theoretically if user viewed a product put in into the cart another day and purchased another day the funnel is still complete, only order matters\n",
    "\n",
    "There are inconsistent funnels where after viewing person can buy it without putting into a cart -> complete funnels are the ones that lead to a purchase"
   ]
  },
  {
   "cell_type": "code",
   "execution_count": 53,
   "metadata": {},
   "outputs": [
    {
     "name": "stdout",
     "output_type": "stream",
     "text": [
      "Complete funnels: 168 out of 10001\n",
      "Rate of complete funnels: 2%\n"
     ]
    }
   ],
   "source": [
    "# Assume a compelte funnel is any funnel leading to a purchase, even if cart step has been skipped\n",
    "complete_funnel = 0  # implies VIEW -> ... -> PURCHASE\n",
    "product_user_pairs = 0  # total number of user-product interractions\n",
    "for _, user_product_group in nov_sub_funnel.groupby(['user_id', 'product_id']):\n",
    "    user_product_event = user_product_group.sort_values(\n",
    "        by=['event_time']\n",
    "    )[['event_type']].drop_duplicates(keep='last')\n",
    "    # calculate all purchases in case if in one session person does two purchases one by one\n",
    "    purchase_events = user_product_event['event_type'].isin(['purchase']).sum()\n",
    "    if purchase_events > 0:\n",
    "        complete_funnel += purchase_events\n",
    "    product_user_pairs += max(purchase_events, 1)\n",
    "print(f\"Complete funnels: {complete_funnel} out of {product_user_pairs}\")\n",
    "print(f\"Rate of complete funnels: {int(round(complete_funnel / product_user_pairs, 2) * 100)}%\")"
   ]
  },
  {
   "cell_type": "code",
   "execution_count": 50,
   "metadata": {},
   "outputs": [],
   "source": [
    "# TODO: optimize code and rewrite it on pandas without a loop?"
   ]
  },
  {
   "cell_type": "code",
   "execution_count": 212,
   "metadata": {},
   "outputs": [
    {
     "data": {
      "text/html": [
       "<div>\n",
       "<style scoped>\n",
       "    .dataframe tbody tr th:only-of-type {\n",
       "        vertical-align: middle;\n",
       "    }\n",
       "\n",
       "    .dataframe tbody tr th {\n",
       "        vertical-align: top;\n",
       "    }\n",
       "\n",
       "    .dataframe thead th {\n",
       "        text-align: right;\n",
       "    }\n",
       "</style>\n",
       "<table border=\"1\" class=\"dataframe\">\n",
       "  <thead>\n",
       "    <tr style=\"text-align: right;\">\n",
       "      <th></th>\n",
       "      <th>event_type</th>\n",
       "      <th>product_id</th>\n",
       "      <th>user_session</th>\n",
       "      <th>user_id</th>\n",
       "    </tr>\n",
       "  </thead>\n",
       "  <tbody>\n",
       "    <tr>\n",
       "      <th>0</th>\n",
       "      <td>view</td>\n",
       "      <td>1003461</td>\n",
       "      <td>4d3b30da-a5e4-49df-b1a8-ba5943f1dd33</td>\n",
       "      <td>520088904</td>\n",
       "    </tr>\n",
       "    <tr>\n",
       "      <th>1</th>\n",
       "      <td>view</td>\n",
       "      <td>5000088</td>\n",
       "      <td>8e5f4f83-366c-4f70-860e-ca7417414283</td>\n",
       "      <td>530496790</td>\n",
       "    </tr>\n",
       "    <tr>\n",
       "      <th>2</th>\n",
       "      <td>view</td>\n",
       "      <td>17302664</td>\n",
       "      <td>755422e7-9040-477b-9bd2-6a6e8fd97387</td>\n",
       "      <td>561587266</td>\n",
       "    </tr>\n",
       "    <tr>\n",
       "      <th>3</th>\n",
       "      <td>view</td>\n",
       "      <td>3601530</td>\n",
       "      <td>3bfb58cd-7892-48cc-8020-2f17e6de6e7f</td>\n",
       "      <td>518085591</td>\n",
       "    </tr>\n",
       "    <tr>\n",
       "      <th>4</th>\n",
       "      <td>view</td>\n",
       "      <td>1004775</td>\n",
       "      <td>313628f1-68b8-460d-84f6-cec7a8796ef2</td>\n",
       "      <td>558856683</td>\n",
       "    </tr>\n",
       "    <tr>\n",
       "      <th>...</th>\n",
       "      <td>...</td>\n",
       "      <td>...</td>\n",
       "      <td>...</td>\n",
       "      <td>...</td>\n",
       "    </tr>\n",
       "    <tr>\n",
       "      <th>67501961</th>\n",
       "      <td>view</td>\n",
       "      <td>1801766</td>\n",
       "      <td>dd9470f9-c563-4290-8dd4-b3a60ad6ef27</td>\n",
       "      <td>579969533</td>\n",
       "    </tr>\n",
       "    <tr>\n",
       "      <th>67501964</th>\n",
       "      <td>view</td>\n",
       "      <td>12711053</td>\n",
       "      <td>8da3b70a-13fd-4769-8e7e-3f9c289fe830</td>\n",
       "      <td>552749164</td>\n",
       "    </tr>\n",
       "    <tr>\n",
       "      <th>67501966</th>\n",
       "      <td>view</td>\n",
       "      <td>1005174</td>\n",
       "      <td>180a7f1f-ed0c-485a-b145-a980716d6abb</td>\n",
       "      <td>579969525</td>\n",
       "    </tr>\n",
       "    <tr>\n",
       "      <th>67501971</th>\n",
       "      <td>view</td>\n",
       "      <td>8800713</td>\n",
       "      <td>e4bfecbc-8a99-437d-b6b8-b5dfbd87bf78</td>\n",
       "      <td>579968742</td>\n",
       "    </tr>\n",
       "    <tr>\n",
       "      <th>67501978</th>\n",
       "      <td>view</td>\n",
       "      <td>1004233</td>\n",
       "      <td>90aca71c-ed8a-4670-866a-761ebacb732d</td>\n",
       "      <td>579969851</td>\n",
       "    </tr>\n",
       "  </tbody>\n",
       "</table>\n",
       "<p>13340459 rows × 4 columns</p>\n",
       "</div>"
      ],
      "text/plain": [
       "         event_type  product_id                          user_session  \\\n",
       "0              view     1003461  4d3b30da-a5e4-49df-b1a8-ba5943f1dd33   \n",
       "1              view     5000088  8e5f4f83-366c-4f70-860e-ca7417414283   \n",
       "2              view    17302664  755422e7-9040-477b-9bd2-6a6e8fd97387   \n",
       "3              view     3601530  3bfb58cd-7892-48cc-8020-2f17e6de6e7f   \n",
       "4              view     1004775  313628f1-68b8-460d-84f6-cec7a8796ef2   \n",
       "...             ...         ...                                   ...   \n",
       "67501961       view     1801766  dd9470f9-c563-4290-8dd4-b3a60ad6ef27   \n",
       "67501964       view    12711053  8da3b70a-13fd-4769-8e7e-3f9c289fe830   \n",
       "67501966       view     1005174  180a7f1f-ed0c-485a-b145-a980716d6abb   \n",
       "67501971       view     8800713  e4bfecbc-8a99-437d-b6b8-b5dfbd87bf78   \n",
       "67501978       view     1004233  90aca71c-ed8a-4670-866a-761ebacb732d   \n",
       "\n",
       "            user_id  \n",
       "0         520088904  \n",
       "1         530496790  \n",
       "2         561587266  \n",
       "3         518085591  \n",
       "4         558856683  \n",
       "...             ...  \n",
       "67501961  579969533  \n",
       "67501964  552749164  \n",
       "67501966  579969525  \n",
       "67501971  579968742  \n",
       "67501978  579969851  \n",
       "\n",
       "[13340459 rows x 4 columns]"
      ]
     },
     "execution_count": 212,
     "metadata": {},
     "output_type": "execute_result"
    }
   ],
   "source": [
    "#other idea for funnels\n",
    "#check if a user has (view,cart,purchase) for a product\n",
    "\n",
    "#try to reduce the number of rows by taking only users wich compair\n",
    "#more then 2 times\n",
    "sub_user_funnel "
   ]
  },
  {
   "cell_type": "markdown",
   "metadata": {},
   "source": [
    "## What’s the operation users repeat more on average within a session? \n",
    "Produce a plot that shows the average number of times users perform each operation (view/etc)."
   ]
  },
  {
   "cell_type": "code",
   "execution_count": 112,
   "metadata": {},
   "outputs": [
    {
     "data": {
      "text/html": [
       "<div>\n",
       "<style scoped>\n",
       "    .dataframe tbody tr th:only-of-type {\n",
       "        vertical-align: middle;\n",
       "    }\n",
       "\n",
       "    .dataframe tbody tr th {\n",
       "        vertical-align: top;\n",
       "    }\n",
       "\n",
       "    .dataframe thead th {\n",
       "        text-align: right;\n",
       "    }\n",
       "</style>\n",
       "<table border=\"1\" class=\"dataframe\">\n",
       "  <thead>\n",
       "    <tr style=\"text-align: right;\">\n",
       "      <th></th>\n",
       "      <th>user_session</th>\n",
       "      <th>event_type</th>\n",
       "      <th>n_events</th>\n",
       "    </tr>\n",
       "  </thead>\n",
       "  <tbody>\n",
       "    <tr>\n",
       "      <th>0</th>\n",
       "      <td>000201a5-a363-4fd2-9228-ab8148c528c1</td>\n",
       "      <td>view</td>\n",
       "      <td>1</td>\n",
       "    </tr>\n",
       "    <tr>\n",
       "      <th>1</th>\n",
       "      <td>000201a5-a363-4fd2-9228-ab8148c528c1</td>\n",
       "      <td>cart</td>\n",
       "      <td>0</td>\n",
       "    </tr>\n",
       "    <tr>\n",
       "      <th>2</th>\n",
       "      <td>000201a5-a363-4fd2-9228-ab8148c528c1</td>\n",
       "      <td>purchase</td>\n",
       "      <td>0</td>\n",
       "    </tr>\n",
       "    <tr>\n",
       "      <th>3</th>\n",
       "      <td>00020305-cbad-48d4-8ead-d9bd2fae9678</td>\n",
       "      <td>view</td>\n",
       "      <td>2</td>\n",
       "    </tr>\n",
       "    <tr>\n",
       "      <th>4</th>\n",
       "      <td>00020305-cbad-48d4-8ead-d9bd2fae9678</td>\n",
       "      <td>cart</td>\n",
       "      <td>0</td>\n",
       "    </tr>\n",
       "    <tr>\n",
       "      <th>5</th>\n",
       "      <td>00020305-cbad-48d4-8ead-d9bd2fae9678</td>\n",
       "      <td>purchase</td>\n",
       "      <td>0</td>\n",
       "    </tr>\n",
       "    <tr>\n",
       "      <th>6</th>\n",
       "      <td>0008f678-9531-4d1e-a22a-4b39d1b7e79c</td>\n",
       "      <td>view</td>\n",
       "      <td>1</td>\n",
       "    </tr>\n",
       "    <tr>\n",
       "      <th>7</th>\n",
       "      <td>0008f678-9531-4d1e-a22a-4b39d1b7e79c</td>\n",
       "      <td>cart</td>\n",
       "      <td>0</td>\n",
       "    </tr>\n",
       "    <tr>\n",
       "      <th>8</th>\n",
       "      <td>0008f678-9531-4d1e-a22a-4b39d1b7e79c</td>\n",
       "      <td>purchase</td>\n",
       "      <td>0</td>\n",
       "    </tr>\n",
       "    <tr>\n",
       "      <th>9</th>\n",
       "      <td>00092ee4-0243-4bda-8ffd-5b905a086c7f</td>\n",
       "      <td>view</td>\n",
       "      <td>5</td>\n",
       "    </tr>\n",
       "    <tr>\n",
       "      <th>10</th>\n",
       "      <td>00092ee4-0243-4bda-8ffd-5b905a086c7f</td>\n",
       "      <td>cart</td>\n",
       "      <td>0</td>\n",
       "    </tr>\n",
       "    <tr>\n",
       "      <th>11</th>\n",
       "      <td>00092ee4-0243-4bda-8ffd-5b905a086c7f</td>\n",
       "      <td>purchase</td>\n",
       "      <td>2</td>\n",
       "    </tr>\n",
       "    <tr>\n",
       "      <th>12</th>\n",
       "      <td>000af23c-7e34-4134-b8f1-dce83d875e01</td>\n",
       "      <td>view</td>\n",
       "      <td>1</td>\n",
       "    </tr>\n",
       "    <tr>\n",
       "      <th>13</th>\n",
       "      <td>000af23c-7e34-4134-b8f1-dce83d875e01</td>\n",
       "      <td>cart</td>\n",
       "      <td>0</td>\n",
       "    </tr>\n",
       "    <tr>\n",
       "      <th>14</th>\n",
       "      <td>000af23c-7e34-4134-b8f1-dce83d875e01</td>\n",
       "      <td>purchase</td>\n",
       "      <td>0</td>\n",
       "    </tr>\n",
       "    <tr>\n",
       "      <th>15</th>\n",
       "      <td>000ed366-740e-4feb-b734-862d66f65e92</td>\n",
       "      <td>view</td>\n",
       "      <td>1</td>\n",
       "    </tr>\n",
       "    <tr>\n",
       "      <th>16</th>\n",
       "      <td>000ed366-740e-4feb-b734-862d66f65e92</td>\n",
       "      <td>cart</td>\n",
       "      <td>0</td>\n",
       "    </tr>\n",
       "    <tr>\n",
       "      <th>17</th>\n",
       "      <td>000ed366-740e-4feb-b734-862d66f65e92</td>\n",
       "      <td>purchase</td>\n",
       "      <td>0</td>\n",
       "    </tr>\n",
       "    <tr>\n",
       "      <th>18</th>\n",
       "      <td>000f9ef6-a0d4-4106-87c1-c16debc61758</td>\n",
       "      <td>view</td>\n",
       "      <td>1</td>\n",
       "    </tr>\n",
       "    <tr>\n",
       "      <th>19</th>\n",
       "      <td>000f9ef6-a0d4-4106-87c1-c16debc61758</td>\n",
       "      <td>cart</td>\n",
       "      <td>0</td>\n",
       "    </tr>\n",
       "  </tbody>\n",
       "</table>\n",
       "</div>"
      ],
      "text/plain": [
       "                            user_session event_type  n_events\n",
       "0   000201a5-a363-4fd2-9228-ab8148c528c1       view         1\n",
       "1   000201a5-a363-4fd2-9228-ab8148c528c1       cart         0\n",
       "2   000201a5-a363-4fd2-9228-ab8148c528c1   purchase         0\n",
       "3   00020305-cbad-48d4-8ead-d9bd2fae9678       view         2\n",
       "4   00020305-cbad-48d4-8ead-d9bd2fae9678       cart         0\n",
       "5   00020305-cbad-48d4-8ead-d9bd2fae9678   purchase         0\n",
       "6   0008f678-9531-4d1e-a22a-4b39d1b7e79c       view         1\n",
       "7   0008f678-9531-4d1e-a22a-4b39d1b7e79c       cart         0\n",
       "8   0008f678-9531-4d1e-a22a-4b39d1b7e79c   purchase         0\n",
       "9   00092ee4-0243-4bda-8ffd-5b905a086c7f       view         5\n",
       "10  00092ee4-0243-4bda-8ffd-5b905a086c7f       cart         0\n",
       "11  00092ee4-0243-4bda-8ffd-5b905a086c7f   purchase         2\n",
       "12  000af23c-7e34-4134-b8f1-dce83d875e01       view         1\n",
       "13  000af23c-7e34-4134-b8f1-dce83d875e01       cart         0\n",
       "14  000af23c-7e34-4134-b8f1-dce83d875e01   purchase         0\n",
       "15  000ed366-740e-4feb-b734-862d66f65e92       view         1\n",
       "16  000ed366-740e-4feb-b734-862d66f65e92       cart         0\n",
       "17  000ed366-740e-4feb-b734-862d66f65e92   purchase         0\n",
       "18  000f9ef6-a0d4-4106-87c1-c16debc61758       view         1\n",
       "19  000f9ef6-a0d4-4106-87c1-c16debc61758       cart         0"
      ]
     },
     "execution_count": 112,
     "metadata": {},
     "output_type": "execute_result"
    }
   ],
   "source": [
    "session_operations = nov.groupby(\n",
    "    ['user_session', 'event_type']\n",
    ").event_type.count().to_frame().rename(\n",
    "    columns={'event_type': 'n_events'}\n",
    ")\n",
    "session_operations = session_operations.reindex(\n",
    "    pd.MultiIndex.from_product(\n",
    "        [session_operations.index.levels[0], ['view', 'cart', 'purchase']], \n",
    "        names=['user_session', 'event_type']\n",
    "    ),\n",
    "    fill_value=0\n",
    ")\n",
    "session_operations = session_operations.reset_index()\n",
    "session_operations.head(20)"
   ]
  },
  {
   "cell_type": "code",
   "execution_count": 113,
   "metadata": {},
   "outputs": [
    {
     "data": {
      "text/html": [
       "<div>\n",
       "<style scoped>\n",
       "    .dataframe tbody tr th:only-of-type {\n",
       "        vertical-align: middle;\n",
       "    }\n",
       "\n",
       "    .dataframe tbody tr th {\n",
       "        vertical-align: top;\n",
       "    }\n",
       "\n",
       "    .dataframe thead th {\n",
       "        text-align: right;\n",
       "    }\n",
       "</style>\n",
       "<table border=\"1\" class=\"dataframe\">\n",
       "  <thead>\n",
       "    <tr style=\"text-align: right;\">\n",
       "      <th></th>\n",
       "      <th>event_type</th>\n",
       "      <th>n_events</th>\n",
       "    </tr>\n",
       "  </thead>\n",
       "  <tbody>\n",
       "    <tr>\n",
       "      <th>2</th>\n",
       "      <td>view</td>\n",
       "      <td>3.916951</td>\n",
       "    </tr>\n",
       "    <tr>\n",
       "      <th>1</th>\n",
       "      <td>purchase</td>\n",
       "      <td>0.057134</td>\n",
       "    </tr>\n",
       "    <tr>\n",
       "      <th>0</th>\n",
       "      <td>cart</td>\n",
       "      <td>0.043754</td>\n",
       "    </tr>\n",
       "  </tbody>\n",
       "</table>\n",
       "</div>"
      ],
      "text/plain": [
       "  event_type  n_events\n",
       "2       view  3.916951\n",
       "1   purchase  0.057134\n",
       "0       cart  0.043754"
      ]
     },
     "execution_count": 113,
     "metadata": {},
     "output_type": "execute_result"
    }
   ],
   "source": [
    "# Average number of times users perform each operation (within a session)\n",
    "session_operations_avg = session_operations.groupby(\n",
    "    ['event_type']\n",
    ").n_events.mean().to_frame().reset_index().sort_values(by=['n_events'], ascending=False)\n",
    "session_operations_avg.head(5)"
   ]
  },
  {
   "cell_type": "code",
   "execution_count": 114,
   "metadata": {},
   "outputs": [
    {
     "data": {
      "image/png": "[encoded data removed]",
      "text/plain": [
       "<Figure size 432x288 with 1 Axes>"
      ]
     },
     "metadata": {
      "needs_background": "light"
     },
     "output_type": "display_data"
    }
   ],
   "source": [
    "_ = sns.barplot(data=session_operations_avg, x=\"event_type\", y=\"n_events\")"
   ]
  },
  {
   "cell_type": "markdown",
   "metadata": {},
   "source": [
    "## How many times, on average, a user views a product before adding it to the cart?"
   ]
  },
  {
   "cell_type": "code",
   "execution_count": null,
   "metadata": {},
   "outputs": [],
   "source": []
  },
  {
   "cell_type": "markdown",
   "metadata": {},
   "source": [
    "## What’s the probability that products added once to the cart are effectively bought?"
   ]
  },
  {
   "cell_type": "code",
   "execution_count": null,
   "metadata": {},
   "outputs": [],
   "source": []
  },
  {
   "cell_type": "markdown",
   "metadata": {},
   "source": [
    "## What’s the average time an item stays in the cart before being removed?"
   ]
  },
  {
   "cell_type": "code",
   "execution_count": null,
   "metadata": {},
   "outputs": [],
   "source": []
  },
  {
   "cell_type": "markdown",
   "metadata": {},
   "source": [
    "## How much time passes on average between the first view time and a purchase/addition to cart?"
   ]
  },
  {
   "cell_type": "code",
   "execution_count": null,
   "metadata": {},
   "outputs": [],
   "source": []
  },
  {
   "cell_type": "markdown",
   "metadata": {},
   "source": [
    "# RQ2"
   ]
  },
  {
   "cell_type": "code",
   "execution_count": null,
   "metadata": {},
   "outputs": [],
   "source": [
    "#we remove obj without categories"
   ]
  },
  {
   "cell_type": "code",
   "execution_count": 294,
   "metadata": {},
   "outputs": [],
   "source": [
    "#subsetting to obtai a faster solution\n",
    "subRQ2 = nov[['event_type','product_id','category_code']]"
   ]
  },
  {
   "cell_type": "code",
   "execution_count": 295,
   "metadata": {},
   "outputs": [],
   "source": [
    "#removing NA\n",
    "subRQ2 = subRQ2.dropna()"
   ]
  },
  {
   "cell_type": "code",
   "execution_count": 211,
   "metadata": {},
   "outputs": [
    {
     "data": {
      "text/html": [
       "<div>\n",
       "<style scoped>\n",
       "    .dataframe tbody tr th:only-of-type {\n",
       "        vertical-align: middle;\n",
       "    }\n",
       "\n",
       "    .dataframe tbody tr th {\n",
       "        vertical-align: top;\n",
       "    }\n",
       "\n",
       "    .dataframe thead th {\n",
       "        text-align: right;\n",
       "    }\n",
       "</style>\n",
       "<table border=\"1\" class=\"dataframe\">\n",
       "  <thead>\n",
       "    <tr style=\"text-align: right;\">\n",
       "      <th></th>\n",
       "      <th>event_type</th>\n",
       "      <th>product_id</th>\n",
       "      <th>category_code</th>\n",
       "      <th>product_id</th>\n",
       "    </tr>\n",
       "  </thead>\n",
       "  <tbody>\n",
       "    <tr>\n",
       "      <th>0</th>\n",
       "      <td>view</td>\n",
       "      <td>1003461</td>\n",
       "      <td>electronics.smartphone</td>\n",
       "      <td>1003461</td>\n",
       "    </tr>\n",
       "    <tr>\n",
       "      <th>1</th>\n",
       "      <td>view</td>\n",
       "      <td>5000088</td>\n",
       "      <td>appliances.sewing_machine</td>\n",
       "      <td>5000088</td>\n",
       "    </tr>\n",
       "    <tr>\n",
       "      <th>3</th>\n",
       "      <td>view</td>\n",
       "      <td>3601530</td>\n",
       "      <td>appliances.kitchen.washer</td>\n",
       "      <td>3601530</td>\n",
       "    </tr>\n",
       "    <tr>\n",
       "      <th>4</th>\n",
       "      <td>view</td>\n",
       "      <td>1004775</td>\n",
       "      <td>electronics.smartphone</td>\n",
       "      <td>1004775</td>\n",
       "    </tr>\n",
       "    <tr>\n",
       "      <th>5</th>\n",
       "      <td>view</td>\n",
       "      <td>1306894</td>\n",
       "      <td>computers.notebook</td>\n",
       "      <td>1306894</td>\n",
       "    </tr>\n",
       "  </tbody>\n",
       "</table>\n",
       "</div>"
      ],
      "text/plain": [
       "  event_type  product_id              category_code  product_id\n",
       "0       view     1003461     electronics.smartphone     1003461\n",
       "1       view     5000088  appliances.sewing_machine     5000088\n",
       "3       view     3601530  appliances.kitchen.washer     3601530\n",
       "4       view     1004775     electronics.smartphone     1004775\n",
       "5       view     1306894         computers.notebook     1306894"
      ]
     },
     "execution_count": 211,
     "metadata": {},
     "output_type": "execute_result"
    }
   ],
   "source": [
    "subRQ2.head()"
   ]
  },
  {
   "cell_type": "code",
   "execution_count": 201,
   "metadata": {},
   "outputs": [],
   "source": [
    "#subsetting of sales \n",
    "sales = subRQ2[subRQ2['event_type']=='purchase']\n"
   ]
  },
  {
   "cell_type": "code",
   "execution_count": 282,
   "metadata": {},
   "outputs": [
    {
     "data": {
      "text/html": [
       "<div>\n",
       "<style scoped>\n",
       "    .dataframe tbody tr th:only-of-type {\n",
       "        vertical-align: middle;\n",
       "    }\n",
       "\n",
       "    .dataframe tbody tr th {\n",
       "        vertical-align: top;\n",
       "    }\n",
       "\n",
       "    .dataframe thead th {\n",
       "        text-align: right;\n",
       "    }\n",
       "</style>\n",
       "<table border=\"1\" class=\"dataframe\">\n",
       "  <thead>\n",
       "    <tr style=\"text-align: right;\">\n",
       "      <th></th>\n",
       "      <th>event_type</th>\n",
       "      <th>product_id</th>\n",
       "      <th>category_code</th>\n",
       "    </tr>\n",
       "  </thead>\n",
       "  <tbody>\n",
       "    <tr>\n",
       "      <th>107</th>\n",
       "      <td>purchase</td>\n",
       "      <td>13200605</td>\n",
       "      <td>furniture</td>\n",
       "    </tr>\n",
       "    <tr>\n",
       "      <th>168</th>\n",
       "      <td>purchase</td>\n",
       "      <td>1005161</td>\n",
       "      <td>electronics</td>\n",
       "    </tr>\n",
       "    <tr>\n",
       "      <th>707</th>\n",
       "      <td>purchase</td>\n",
       "      <td>1004856</td>\n",
       "      <td>electronics</td>\n",
       "    </tr>\n",
       "    <tr>\n",
       "      <th>939</th>\n",
       "      <td>purchase</td>\n",
       "      <td>1801881</td>\n",
       "      <td>electronics</td>\n",
       "    </tr>\n",
       "    <tr>\n",
       "      <th>942</th>\n",
       "      <td>purchase</td>\n",
       "      <td>5800823</td>\n",
       "      <td>electronics</td>\n",
       "    </tr>\n",
       "  </tbody>\n",
       "</table>\n",
       "</div>"
      ],
      "text/plain": [
       "    event_type  product_id category_code\n",
       "107   purchase    13200605     furniture\n",
       "168   purchase     1005161   electronics\n",
       "707   purchase     1004856   electronics\n",
       "939   purchase     1801881   electronics\n",
       "942   purchase     5800823   electronics"
      ]
     },
     "execution_count": 282,
     "metadata": {},
     "output_type": "execute_result"
    }
   ],
   "source": [
    "sales.head()"
   ]
  },
  {
   "cell_type": "code",
   "execution_count": 202,
   "metadata": {},
   "outputs": [
    {
     "name": "stderr",
     "output_type": "stream",
     "text": [
      "<ipython-input-202-c6c4eb04b3c7>:3: SettingWithCopyWarning: \n",
      "A value is trying to be set on a copy of a slice from a DataFrame.\n",
      "Try using .loc[row_indexer,col_indexer] = value instead\n",
      "\n",
      "See the caveats in the documentation: https://pandas.pydata.org/pandas-docs/stable/user_guide/indexing.html#returning-a-view-versus-a-copy\n",
      "  sales['category_code'] = [el.split('.')[0] for el in list(sales['category_code']) if type(el) == str]\n"
     ]
    }
   ],
   "source": [
    "#rename categpories\n",
    "#extracting categories from the dataset\n",
    "\n",
    "#TODO implement pandas function \n",
    "sales['category_code'] = [el.split('.')[0] for el in list(sales['category_code']) if type(el) == str]"
   ]
  },
  {
   "cell_type": "code",
   "execution_count": 181,
   "metadata": {},
   "outputs": [],
   "source": []
  },
  {
   "cell_type": "code",
   "execution_count": 217,
   "metadata": {},
   "outputs": [],
   "source": [
    "#in this way we directly count \n",
    "number_of_sales = sales.groupby('category_code').product_id.count()"
   ]
  },
  {
   "cell_type": "code",
   "execution_count": 291,
   "metadata": {},
   "outputs": [
    {
     "data": {
      "text/plain": [
       "category_code\n",
       "electronics     493639\n",
       "appliances       99026\n",
       "computers        34477\n",
       "apparel          14215\n",
       "furniture        11542\n",
       "auto             10719\n",
       "construction      8699\n",
       "kids              6166\n",
       "accessories       2154\n",
       "sport             1489\n",
       "medicine           344\n",
       "stationery         191\n",
       "country_yard        60\n",
       "Name: product_id, dtype: int64"
      ]
     },
     "execution_count": 291,
     "metadata": {},
     "output_type": "execute_result"
    }
   ],
   "source": [
    "#RQ2.0\n",
    "#number of product sold for each categories\n",
    "number_of_sales\n",
    "number_of_sales.sort_values(ascending=False)\n",
    "\n",
    "#TODO plot "
   ]
  },
  {
   "cell_type": "code",
   "execution_count": null,
   "metadata": {},
   "outputs": [],
   "source": []
  },
  {
   "cell_type": "markdown",
   "metadata": {},
   "source": [
    "#most visited categories\n",
    "some thing of sales, but now we are interested in view not in purchase"
   ]
  },
  {
   "cell_type": "code",
   "execution_count": 205,
   "metadata": {},
   "outputs": [],
   "source": [
    "visited = subRQ2[subRQ2['event_type']=='view']"
   ]
  },
  {
   "cell_type": "code",
   "execution_count": 206,
   "metadata": {},
   "outputs": [
    {
     "name": "stderr",
     "output_type": "stream",
     "text": [
      "<ipython-input-206-d5c109c6bdf3>:1: SettingWithCopyWarning: \n",
      "A value is trying to be set on a copy of a slice from a DataFrame.\n",
      "Try using .loc[row_indexer,col_indexer] = value instead\n",
      "\n",
      "See the caveats in the documentation: https://pandas.pydata.org/pandas-docs/stable/user_guide/indexing.html#returning-a-view-versus-a-copy\n",
      "  visited['category_code'] = [el.split('.')[1] for el in list(visited['category_code']) if type(el) == str]\n"
     ]
    }
   ],
   "source": [
    "#TODO change split\n",
    "#TODO check subcategories\n",
    "visited['category_code'] = [el.split('.')[1] for el in list(visited['category_code']) if type(el) == str]"
   ]
  },
  {
   "cell_type": "code",
   "execution_count": 207,
   "metadata": {},
   "outputs": [
    {
     "data": {
      "text/html": [
       "<div>\n",
       "<style scoped>\n",
       "    .dataframe tbody tr th:only-of-type {\n",
       "        vertical-align: middle;\n",
       "    }\n",
       "\n",
       "    .dataframe tbody tr th {\n",
       "        vertical-align: top;\n",
       "    }\n",
       "\n",
       "    .dataframe thead th {\n",
       "        text-align: right;\n",
       "    }\n",
       "</style>\n",
       "<table border=\"1\" class=\"dataframe\">\n",
       "  <thead>\n",
       "    <tr style=\"text-align: right;\">\n",
       "      <th></th>\n",
       "      <th>event_type</th>\n",
       "      <th>product_id</th>\n",
       "      <th>category_code</th>\n",
       "    </tr>\n",
       "  </thead>\n",
       "  <tbody>\n",
       "    <tr>\n",
       "      <th>0</th>\n",
       "      <td>view</td>\n",
       "      <td>1003461</td>\n",
       "      <td>smartphone</td>\n",
       "    </tr>\n",
       "    <tr>\n",
       "      <th>1</th>\n",
       "      <td>view</td>\n",
       "      <td>5000088</td>\n",
       "      <td>sewing_machine</td>\n",
       "    </tr>\n",
       "    <tr>\n",
       "      <th>3</th>\n",
       "      <td>view</td>\n",
       "      <td>3601530</td>\n",
       "      <td>kitchen</td>\n",
       "    </tr>\n",
       "    <tr>\n",
       "      <th>4</th>\n",
       "      <td>view</td>\n",
       "      <td>1004775</td>\n",
       "      <td>smartphone</td>\n",
       "    </tr>\n",
       "    <tr>\n",
       "      <th>5</th>\n",
       "      <td>view</td>\n",
       "      <td>1306894</td>\n",
       "      <td>notebook</td>\n",
       "    </tr>\n",
       "  </tbody>\n",
       "</table>\n",
       "</div>"
      ],
      "text/plain": [
       "  event_type  product_id   category_code\n",
       "0       view     1003461      smartphone\n",
       "1       view     5000088  sewing_machine\n",
       "3       view     3601530         kitchen\n",
       "4       view     1004775      smartphone\n",
       "5       view     1306894        notebook"
      ]
     },
     "execution_count": 207,
     "metadata": {},
     "output_type": "execute_result"
    }
   ],
   "source": [
    "visited.head()"
   ]
  },
  {
   "cell_type": "code",
   "execution_count": 229,
   "metadata": {},
   "outputs": [
    {
     "data": {
      "text/plain": [
       "category_code\n",
       "smartphone    14832387\n",
       "kitchen        5580742\n",
       "shoes          2353170\n",
       "audio          2193152\n",
       "notebook       2103024\n",
       "Name: product_id, dtype: int64"
      ]
     },
     "execution_count": 229,
     "metadata": {},
     "output_type": "execute_result"
    }
   ],
   "source": [
    "times_visited = visited.groupby('category_code').product_id.count()\n"
   ]
  },
  {
   "cell_type": "code",
   "execution_count": 230,
   "metadata": {},
   "outputs": [
    {
     "data": {
      "text/plain": [
       "category_code\n",
       "smartphone    14832387\n",
       "kitchen        5580742\n",
       "shoes          2353170\n",
       "audio          2193152\n",
       "notebook       2103024\n",
       "Name: product_id, dtype: int64"
      ]
     },
     "execution_count": 230,
     "metadata": {},
     "output_type": "execute_result"
    }
   ],
   "source": [
    "#RQ2.1 most visited subcategories\n",
    "times_visited.sort_values(ascending=False).head() #miss the plot "
   ]
  },
  {
   "cell_type": "code",
   "execution_count": null,
   "metadata": {},
   "outputs": [],
   "source": []
  },
  {
   "cell_type": "code",
   "execution_count": null,
   "metadata": {},
   "outputs": [],
   "source": [
    "#RQ2.2 What are the 10 most sold products per category?"
   ]
  },
  {
   "cell_type": "code",
   "execution_count": null,
   "metadata": {},
   "outputs": [],
   "source": []
  },
  {
   "cell_type": "markdown",
   "metadata": {},
   "source": [
    "RQ3"
   ]
  },
  {
   "cell_type": "code",
   "execution_count": null,
   "metadata": {},
   "outputs": [],
   "source": []
  },
  {
   "cell_type": "code",
   "execution_count": null,
   "metadata": {},
   "outputs": [],
   "source": []
  },
  {
   "cell_type": "markdown",
   "metadata": {},
   "source": [
    "RQ6"
   ]
  },
  {
   "cell_type": "code",
   "execution_count": 296,
   "metadata": {},
   "outputs": [],
   "source": [
    "#coversion rate => (#purchase)/(#view)\n",
    "#we can esealy use the subdataframe of RQ2\n",
    "\n",
    "#sales is a sub that contain only purchased product\n",
    "#sales = subRQ2[subRQ2['event_type']=='purchase']\n",
    "product_sold = len(sales)\n"
   ]
  },
  {
   "cell_type": "code",
   "execution_count": 297,
   "metadata": {},
   "outputs": [
    {
     "data": {
      "text/plain": [
       "682721"
      ]
     },
     "execution_count": 297,
     "metadata": {},
     "output_type": "execute_result"
    }
   ],
   "source": [
    "product_sold"
   ]
  },
  {
   "cell_type": "code",
   "execution_count": 298,
   "metadata": {},
   "outputs": [],
   "source": [
    "#while visited cointain only visited product\n",
    "#visited = subRQ2[subRQ2['event_type']=='view']\n",
    "product_watched = len(visited)"
   ]
  },
  {
   "cell_type": "code",
   "execution_count": 299,
   "metadata": {},
   "outputs": [
    {
     "data": {
      "text/plain": [
       "0.015982"
      ]
     },
     "execution_count": 299,
     "metadata": {},
     "output_type": "execute_result"
    }
   ],
   "source": [
    "overall_conversion_rate = product_sold/product_watched\n",
    "round(overall_conversion_rate,6)"
   ]
  },
  {
   "cell_type": "code",
   "execution_count": null,
   "metadata": {},
   "outputs": [],
   "source": []
  },
  {
   "cell_type": "code",
   "execution_count": 246,
   "metadata": {},
   "outputs": [],
   "source": [
    "#RQ6.1 rate for each categories\n"
   ]
  },
  {
   "cell_type": "code",
   "execution_count": 300,
   "metadata": {},
   "outputs": [
    {
     "data": {
      "text/plain": [
       "category_code\n",
       "accessories       2154\n",
       "apparel          14215\n",
       "appliances       99026\n",
       "auto             10719\n",
       "computers        34477\n",
       "construction      8699\n",
       "country_yard        60\n",
       "electronics     493639\n",
       "furniture        11542\n",
       "kids              6166\n",
       "medicine           344\n",
       "sport             1489\n",
       "stationery         191\n",
       "Name: product_id, dtype: int64"
      ]
     },
     "execution_count": 300,
     "metadata": {},
     "output_type": "execute_result"
    }
   ],
   "source": [
    "# number of sales (calculated in RQ2)\n",
    "number_of_sales\n",
    "#we obtained a pandas series with the number of products sold"
   ]
  },
  {
   "cell_type": "code",
   "execution_count": null,
   "metadata": {},
   "outputs": [],
   "source": []
  },
  {
   "cell_type": "code",
   "execution_count": 301,
   "metadata": {},
   "outputs": [],
   "source": [
    "watched = subRQ2[subRQ2['event_type']=='view']"
   ]
  },
  {
   "cell_type": "code",
   "execution_count": 302,
   "metadata": {},
   "outputs": [
    {
     "data": {
      "text/html": [
       "<div>\n",
       "<style scoped>\n",
       "    .dataframe tbody tr th:only-of-type {\n",
       "        vertical-align: middle;\n",
       "    }\n",
       "\n",
       "    .dataframe tbody tr th {\n",
       "        vertical-align: top;\n",
       "    }\n",
       "\n",
       "    .dataframe thead th {\n",
       "        text-align: right;\n",
       "    }\n",
       "</style>\n",
       "<table border=\"1\" class=\"dataframe\">\n",
       "  <thead>\n",
       "    <tr style=\"text-align: right;\">\n",
       "      <th></th>\n",
       "      <th>event_type</th>\n",
       "      <th>product_id</th>\n",
       "      <th>category_code</th>\n",
       "    </tr>\n",
       "  </thead>\n",
       "  <tbody>\n",
       "    <tr>\n",
       "      <th>0</th>\n",
       "      <td>view</td>\n",
       "      <td>1003461</td>\n",
       "      <td>electronics.smartphone</td>\n",
       "    </tr>\n",
       "    <tr>\n",
       "      <th>1</th>\n",
       "      <td>view</td>\n",
       "      <td>5000088</td>\n",
       "      <td>appliances.sewing_machine</td>\n",
       "    </tr>\n",
       "    <tr>\n",
       "      <th>3</th>\n",
       "      <td>view</td>\n",
       "      <td>3601530</td>\n",
       "      <td>appliances.kitchen.washer</td>\n",
       "    </tr>\n",
       "    <tr>\n",
       "      <th>4</th>\n",
       "      <td>view</td>\n",
       "      <td>1004775</td>\n",
       "      <td>electronics.smartphone</td>\n",
       "    </tr>\n",
       "    <tr>\n",
       "      <th>5</th>\n",
       "      <td>view</td>\n",
       "      <td>1306894</td>\n",
       "      <td>computers.notebook</td>\n",
       "    </tr>\n",
       "  </tbody>\n",
       "</table>\n",
       "</div>"
      ],
      "text/plain": [
       "  event_type  product_id              category_code\n",
       "0       view     1003461     electronics.smartphone\n",
       "1       view     5000088  appliances.sewing_machine\n",
       "3       view     3601530  appliances.kitchen.washer\n",
       "4       view     1004775     electronics.smartphone\n",
       "5       view     1306894         computers.notebook"
      ]
     },
     "execution_count": 302,
     "metadata": {},
     "output_type": "execute_result"
    }
   ],
   "source": [
    "watched.head()"
   ]
  },
  {
   "cell_type": "code",
   "execution_count": null,
   "metadata": {},
   "outputs": [],
   "source": [
    "#s.str.split()"
   ]
  },
  {
   "cell_type": "code",
   "execution_count": 311,
   "metadata": {},
   "outputs": [
    {
     "data": {
      "text/plain": [
       "0       electronics.smartphone\n",
       "1    appliances.sewing_machine\n",
       "3    appliances.kitchen.washer\n",
       "4       electronics.smartphone\n",
       "5           computers.notebook\n",
       "Name: category_code, dtype: object"
      ]
     },
     "execution_count": 311,
     "metadata": {},
     "output_type": "execute_result"
    }
   ],
   "source": [
    "watched['category_code'].head()"
   ]
  },
  {
   "cell_type": "code",
   "execution_count": 308,
   "metadata": {},
   "outputs": [],
   "source": [
    "#watched['category_code'].str.split('.')"
   ]
  },
  {
   "cell_type": "code",
   "execution_count": 309,
   "metadata": {},
   "outputs": [],
   "source": [
    "#watched['category_code']= watched['category_code'].str.split()[0]"
   ]
  },
  {
   "cell_type": "code",
   "execution_count": null,
   "metadata": {},
   "outputs": [],
   "source": []
  },
  {
   "cell_type": "code",
   "execution_count": null,
   "metadata": {},
   "outputs": [],
   "source": []
  },
  {
   "cell_type": "code",
   "execution_count": 312,
   "metadata": {},
   "outputs": [
    {
     "name": "stderr",
     "output_type": "stream",
     "text": [
      "<ipython-input-312-d69c0d1f5796>:1: SettingWithCopyWarning: \n",
      "A value is trying to be set on a copy of a slice from a DataFrame.\n",
      "Try using .loc[row_indexer,col_indexer] = value instead\n",
      "\n",
      "See the caveats in the documentation: https://pandas.pydata.org/pandas-docs/stable/user_guide/indexing.html#returning-a-view-versus-a-copy\n",
      "  watched['category_code'] = [el.split('.')[0] for el in list(watched['category_code']) if type(el) == str]\n"
     ]
    }
   ],
   "source": [
    "watched['category_code'] = [el.split('.')[0] for el in list(watched['category_code']) if type(el) == str]"
   ]
  },
  {
   "cell_type": "code",
   "execution_count": 313,
   "metadata": {},
   "outputs": [
    {
     "data": {
      "text/html": [
       "<div>\n",
       "<style scoped>\n",
       "    .dataframe tbody tr th:only-of-type {\n",
       "        vertical-align: middle;\n",
       "    }\n",
       "\n",
       "    .dataframe tbody tr th {\n",
       "        vertical-align: top;\n",
       "    }\n",
       "\n",
       "    .dataframe thead th {\n",
       "        text-align: right;\n",
       "    }\n",
       "</style>\n",
       "<table border=\"1\" class=\"dataframe\">\n",
       "  <thead>\n",
       "    <tr style=\"text-align: right;\">\n",
       "      <th></th>\n",
       "      <th>event_type</th>\n",
       "      <th>product_id</th>\n",
       "      <th>category_code</th>\n",
       "    </tr>\n",
       "  </thead>\n",
       "  <tbody>\n",
       "    <tr>\n",
       "      <th>0</th>\n",
       "      <td>view</td>\n",
       "      <td>1003461</td>\n",
       "      <td>electronics</td>\n",
       "    </tr>\n",
       "    <tr>\n",
       "      <th>1</th>\n",
       "      <td>view</td>\n",
       "      <td>5000088</td>\n",
       "      <td>appliances</td>\n",
       "    </tr>\n",
       "    <tr>\n",
       "      <th>3</th>\n",
       "      <td>view</td>\n",
       "      <td>3601530</td>\n",
       "      <td>appliances</td>\n",
       "    </tr>\n",
       "    <tr>\n",
       "      <th>4</th>\n",
       "      <td>view</td>\n",
       "      <td>1004775</td>\n",
       "      <td>electronics</td>\n",
       "    </tr>\n",
       "    <tr>\n",
       "      <th>5</th>\n",
       "      <td>view</td>\n",
       "      <td>1306894</td>\n",
       "      <td>computers</td>\n",
       "    </tr>\n",
       "  </tbody>\n",
       "</table>\n",
       "</div>"
      ],
      "text/plain": [
       "  event_type  product_id category_code\n",
       "0       view     1003461   electronics\n",
       "1       view     5000088    appliances\n",
       "3       view     3601530    appliances\n",
       "4       view     1004775   electronics\n",
       "5       view     1306894     computers"
      ]
     },
     "execution_count": 313,
     "metadata": {},
     "output_type": "execute_result"
    }
   ],
   "source": [
    "watched.head()"
   ]
  },
  {
   "cell_type": "code",
   "execution_count": 314,
   "metadata": {},
   "outputs": [],
   "source": [
    "times_watched = watched.groupby('category_code').product_id.count()"
   ]
  },
  {
   "cell_type": "code",
   "execution_count": 381,
   "metadata": {},
   "outputs": [
    {
     "data": {
      "text/plain": [
       "category_code\n",
       "accessories       380373\n",
       "apparel          2942622\n",
       "appliances       8037980\n",
       "auto             1164278\n",
       "computers        4029049\n",
       "construction     1047072\n",
       "country_yard       17299\n",
       "electronics     21988192\n",
       "furniture        2058798\n",
       "kids              779517\n",
       "medicine           20764\n",
       "sport             240763\n",
       "stationery         11943\n",
       "Name: product_id, dtype: int64"
      ]
     },
     "execution_count": 381,
     "metadata": {},
     "output_type": "execute_result"
    }
   ],
   "source": [
    "times_watched\n",
    "#we obtained a pandas series with the number o product view for aech category "
   ]
  },
  {
   "cell_type": "code",
   "execution_count": 376,
   "metadata": {},
   "outputs": [
    {
     "data": {
      "text/plain": [
       "category_code\n",
       "accessories     380373\n",
       "apparel        2942622\n",
       "appliances     8037980\n",
       "auto           1164278\n",
       "computers      4029049\n",
       "Name: product_id, dtype: int64"
      ]
     },
     "execution_count": 376,
     "metadata": {},
     "output_type": "execute_result"
    }
   ],
   "source": [
    "times_watched.head()"
   ]
  },
  {
   "cell_type": "code",
   "execution_count": 318,
   "metadata": {},
   "outputs": [
    {
     "data": {
      "text/plain": [
       "category_code\n",
       "accessories     2154\n",
       "apparel        14215\n",
       "appliances     99026\n",
       "auto           10719\n",
       "computers      34477\n",
       "Name: product_id, dtype: int64"
      ]
     },
     "execution_count": 318,
     "metadata": {},
     "output_type": "execute_result"
    }
   ],
   "source": [
    "number_of_sales.head()"
   ]
  },
  {
   "cell_type": "code",
   "execution_count": 317,
   "metadata": {},
   "outputs": [
    {
     "data": {
      "text/plain": [
       "True"
      ]
     },
     "execution_count": 317,
     "metadata": {},
     "output_type": "execute_result"
    }
   ],
   "source": [
    "type(number_of_sales) == type(times_watched) \n",
    "#both elements are pandas series so we can just deviding them by using devide() command"
   ]
  },
  {
   "cell_type": "code",
   "execution_count": 383,
   "metadata": {},
   "outputs": [
    {
     "data": {
      "text/plain": [
       "category_code\n",
       "accessories     0.005663\n",
       "apparel         0.004831\n",
       "appliances      0.012320\n",
       "auto            0.009207\n",
       "computers       0.008557\n",
       "construction    0.008308\n",
       "country_yard    0.003468\n",
       "electronics     0.022450\n",
       "furniture       0.005606\n",
       "kids            0.007910\n",
       "medicine        0.016567\n",
       "sport           0.006185\n",
       "stationery      0.015993\n",
       "Name: product_id, dtype: float64"
      ]
     },
     "execution_count": 383,
     "metadata": {},
     "output_type": "execute_result"
    }
   ],
   "source": [
    "#purchase rate of each category\n",
    "purchase_rate = number_of_sales.divide(times_watched)\n",
    "purchase_rate"
   ]
  },
  {
   "cell_type": "code",
   "execution_count": null,
   "metadata": {},
   "outputs": [],
   "source": [
    "#TODO recheck purchase rate vs conversion rate\n",
    "#TODO plot "
   ]
  },
  {
   "cell_type": "code",
   "execution_count": null,
   "metadata": {},
   "outputs": [],
   "source": []
  },
  {
   "cell_type": "code",
   "execution_count": null,
   "metadata": {},
   "outputs": [],
   "source": []
  },
  {
   "cell_type": "code",
   "execution_count": null,
   "metadata": {},
   "outputs": [],
   "source": []
  }
 ],
 "metadata": {
  "kernelspec": {
   "display_name": "Python 3",
   "language": "python",
   "name": "python3"
  },
  "language_info": {
   "codemirror_mode": {
    "name": "ipython",
    "version": 3
   },
   "file_extension": ".py",
   "mimetype": "text/x-python",
   "name": "python",
   "nbconvert_exporter": "python",
   "pygments_lexer": "ipython3",
   "version": "3.6.9"
  }
 },
 "nbformat": 4,
 "nbformat_minor": 4
}
