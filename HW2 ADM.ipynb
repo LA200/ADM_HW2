{
 "cells": [
  {
   "cell_type": "markdown",
   "metadata": {},
   "source": [
    "# eCommerce analytics\n",
    "\n",
    "## Algorithmic Methods of Data Mining (Sc.M. in Data Science), Fall 2020\n",
    "\n",
    "**Goal:** \n",
    "answer some research questions (RQs) that may help to discover and interpret meaningful patterns in data and eventually increase the number of sales"
   ]
  },
  {
   "cell_type": "markdown",
   "metadata": {},
   "source": [
    "## Imports"
   ]
  },
  {
   "cell_type": "code",
   "execution_count": 1,
   "metadata": {
    "ExecuteTime": {
     "end_time": "2020-11-07T22:48:13.550139Z",
     "start_time": "2020-11-07T22:48:12.043304Z"
    }
   },
   "outputs": [],
   "source": [
    "# It's sufficient to use basic libraries such as pandas and matplotlib for the EDA \n",
    "# !pip3 install pandas numpy matplotlib seaborn \n",
    "import os\n",
    "import numpy as np\n",
    "import pandas as pd\n",
    "import math\n",
    "from matplotlib import pyplot as plt\n",
    "import seaborn as sns"
   ]
  },
  {
   "cell_type": "code",
   "execution_count": 3,
   "metadata": {
    "ExecuteTime": {
     "end_time": "2020-11-07T19:23:52.742415Z",
     "start_time": "2020-11-07T19:23:52.737534Z"
    }
   },
   "outputs": [],
   "source": [
    "## In case we prefer dash to pandas we should install it using the following commands:\n",
    "# !python3 -m pip install \"dask[complete]\" --upgrade\n",
    "# !python3 -m pip install \"dask[array]\" --upgrade\n",
    "# !python3 -m pip install \"dask[bag]\" --upgrade\n",
    "# !python3 -m pip install \"dask[dataframe]\" --upgrade\n",
    "# !python3 -m pip install \"dask[delayed]\" --upgrade\n",
    "# !python3 -m pip install \"dask[distributed]\" --upgrade\n",
    "# import dask.dataframe as dd  \n",
    "## Now we can call similar functions we would use in pandas but in memory efficient way"
   ]
  },
  {
   "cell_type": "markdown",
   "metadata": {},
   "source": [
    "## Data retrival\n",
    "\n",
    "Input data consists of one *.csv file (dataset) per months, for example\n",
    "\n",
    "- 2019-Oct.csv for data collected in October 2019\n",
    "- 2019-Nov.csv for data collected in November 2019\n",
    "\n",
    "Each dataset is too big to be processed directly, there are a couple of approaches that can be applied to perform the analysis:\n",
    "\n",
    "1. running a **bash script** so extract partial information which is essential to reply on a particular RQ, for example:\n",
    "\n",
    "    for exploring number of purchases per category we may write a script ('*generate_subset_with_n_purchases_per_category.sh*') which\n",
    "     - creates a subset that contains only rows with event_type=\"purchase\"\n",
    "     - finds all unique categories present in the subset\n",
    "     - loops through categories and for each category calculates number of lines present in the subset\n",
    "\n",
    "    We started with that approach but it required different scripts for each single sub question of any RQ, it was time consuming and limited the vision of the whole picture\n",
    "\n",
    "\n",
    "2. randomly **subsampling** dataset and perform analysis on smaller version\n",
    "    \n",
    "    can be implemented with pd.read_csv(..., **skiprows**=lambda x: ...)\n",
    "\n",
    "    if we manage to extract data which represent the whole dataset well we may concentrate on the analysis of that cutted version of the dataset to make estimations\n",
    "    \n",
    "    the disadvantage of such an approach is that we can not make accurate evaluation and it's challenging to subsample the dataset to inherit at least the same statistical characteristics of the initial dataset in case we need to extrapolate the data to evaluate absolute values\n",
    " \n",
    "3. splitting a file into **chunks** which allows to work with a dataset without overloading RAM\n",
    "    \n",
    "    In this case we don't need a powerful machine to run the code and we don't loose information by subsampling the dataset itself.\n",
    "    \n",
    "    There are two easy ways to work with chunks for a dataframe\n",
    "    \n",
    "    * by using **dash** library\n",
    "    * by using **pandas** and modying default parameters for pd.read_csv()\n",
    "    \n",
    "    We chose to proceed by using pandas\n",
    "    \n",
    "As can be seen https://pandas.pydata.org/pandas-docs/stable/reference/api/pandas.read_csv.html there are a couple of parameters changing of which allows us to speed the operation up and also set up chunksize\n",
    "\n",
    "* **usecols**: we specify only columns that are needed for a RQ\n",
    "* **dtype**: we specify the format of data in each column to choose the min suffucient type representation \n",
    "* **engine**: C parser engine is obviously faster so we stick to it\n",
    "* **na_filter**: if we switch off extra empty values handling it increases the performance\n",
    "* **memory_map**: setting it to True removes I/O overhead as file object is directly mapped onto memory\n",
    "* **chunksize**: sets chunk size of an iterable object\n",
    "* **nrows**: while testing the code we may limit number of rows we consider \n"
   ]
  },
  {
   "cell_type": "code",
   "execution_count": 2,
   "metadata": {
    "ExecuteTime": {
     "end_time": "2020-11-07T22:48:17.355336Z",
     "start_time": "2020-11-07T22:48:17.351247Z"
    }
   },
   "outputs": [],
   "source": [
    "# Datasets to be analyzed\n",
    "df_labels = ['2019-Oct', '2019-Nov']"
   ]
  },
  {
   "cell_type": "code",
   "execution_count": 3,
   "metadata": {
    "ExecuteTime": {
     "end_time": "2020-11-07T22:48:18.503324Z",
     "start_time": "2020-11-07T22:48:18.499427Z"
    }
   },
   "outputs": [],
   "source": [
    "# Set up defaults that are to be used by functions corresponsing to different RQs\n",
    "default_nrows = 100_000\n",
    "deafult_size_mb = 2  # 500\n",
    "default_file_label = df_labels[0]\n",
    "default_aws = False"
   ]
  },
  {
   "cell_type": "code",
   "execution_count": 4,
   "metadata": {
    "ExecuteTime": {
     "end_time": "2020-11-07T22:48:20.532427Z",
     "start_time": "2020-11-07T22:48:20.525171Z"
    }
   },
   "outputs": [],
   "source": [
    "dataset_info = {\n",
    "    '2019-Oct': {\n",
    "        'total_n_rows': 42_448_764,\n",
    "        'total_size_mb': 5407\n",
    "    },\n",
    "    '2019-Nov': {\n",
    "        'total_n_rows': 67_501_979,\n",
    "        'total_size_mb': 8590\n",
    "    },\n",
    "}\n",
    "\n",
    "def get_chunksize(df_label=default_file_label, size_mb=deafult_size_mb):\n",
    "    \"\"\"\n",
    "    Function to calculate chunk size based on memory we're ready to allocate while processing the file\n",
    "    \"\"\"\n",
    "    if size_mb is not None:\n",
    "        total_size_mb = dataset_info.get(df_label, dict()).get('total_size_mb', 7000)\n",
    "        n_chunks = max(1, np.ceil(total_size_mb / size_mb))\n",
    "        total_n_rows = dataset_info.get(df_label, dict()).get('total_n_rows', None)\n",
    "        if total_n_rows:\n",
    "            return int(np.ceil(total_n_rows / n_chunks))\n",
    "    return None"
   ]
  },
  {
   "cell_type": "code",
   "execution_count": 5,
   "metadata": {
    "ExecuteTime": {
     "end_time": "2020-11-07T22:48:22.357590Z",
     "start_time": "2020-11-07T22:48:22.352278Z"
    }
   },
   "outputs": [],
   "source": [
    "def get_file_path(df_label=default_file_label, aws=False):\n",
    "    \"\"\"\n",
    "    Function to retrive by a label either *.csv path of a file stored locally \n",
    "    or request downloading from a file located on AWS S3\n",
    "    \"\"\"\n",
    "    if aws:\n",
    "        return f\"s3://sapienza2020adm/ecommerce/{df_label}.csv\"\n",
    "    return f\"datasets/{df_label}.csv\""
   ]
  },
  {
   "cell_type": "code",
   "execution_count": 6,
   "metadata": {
    "ExecuteTime": {
     "end_time": "2020-11-07T22:48:23.672891Z",
     "start_time": "2020-11-07T22:48:23.666149Z"
    }
   },
   "outputs": [],
   "source": [
    "def read_csv(\n",
    "    df_label: str = default_file_label,\n",
    "    aws: bool = default_aws,\n",
    "    size_mb: float = deafult_size_mb,\n",
    "    nrows: int = default_nrows,\n",
    "    usecols: list = None, \n",
    "    dtype: dict = None, \n",
    "    parse_dates: list = False,\n",
    "    date_parser=None\n",
    "):\n",
    "    \"\"\"\n",
    "    Key function to retrive data (in chunks by default)\n",
    "    \"\"\"\n",
    "    return pd.read_csv(\n",
    "        get_file_path(df_label=df_label, aws=aws),\n",
    "        usecols=usecols,\n",
    "        dtype=dtype,\n",
    "        engine='c',\n",
    "        na_filter=False,\n",
    "        memory_map=True,\n",
    "        chunksize=get_chunksize(df_label=df_label, size_mb=size_mb),\n",
    "        nrows=nrows,\n",
    "        parse_dates=parse_dates,\n",
    "        date_parser=date_parser\n",
    "    )"
   ]
  },
  {
   "cell_type": "code",
   "execution_count": 7,
   "metadata": {
    "ExecuteTime": {
     "end_time": "2020-11-07T22:48:25.236201Z",
     "start_time": "2020-11-07T22:48:25.207735Z"
    }
   },
   "outputs": [
    {
     "data": {
      "text/html": [
       "<div>\n",
       "<style scoped>\n",
       "    .dataframe tbody tr th:only-of-type {\n",
       "        vertical-align: middle;\n",
       "    }\n",
       "\n",
       "    .dataframe tbody tr th {\n",
       "        vertical-align: top;\n",
       "    }\n",
       "\n",
       "    .dataframe thead th {\n",
       "        text-align: right;\n",
       "    }\n",
       "</style>\n",
       "<table border=\"1\" class=\"dataframe\">\n",
       "  <thead>\n",
       "    <tr style=\"text-align: right;\">\n",
       "      <th></th>\n",
       "      <th>event_time</th>\n",
       "      <th>event_type</th>\n",
       "      <th>product_id</th>\n",
       "      <th>category_id</th>\n",
       "      <th>category_code</th>\n",
       "      <th>brand</th>\n",
       "      <th>price</th>\n",
       "      <th>user_id</th>\n",
       "      <th>user_session</th>\n",
       "    </tr>\n",
       "  </thead>\n",
       "  <tbody>\n",
       "    <tr>\n",
       "      <th>0</th>\n",
       "      <td>2019-10-01 00:00:00+00:00</td>\n",
       "      <td>view</td>\n",
       "      <td>44600062</td>\n",
       "      <td>2103807459595387724</td>\n",
       "      <td></td>\n",
       "      <td>shiseido</td>\n",
       "      <td>35.79</td>\n",
       "      <td>541312140</td>\n",
       "      <td>72d76fde-8bb3-4e00-8c23-a032dfed738c</td>\n",
       "    </tr>\n",
       "    <tr>\n",
       "      <th>1</th>\n",
       "      <td>2019-10-01 00:00:00+00:00</td>\n",
       "      <td>view</td>\n",
       "      <td>3900821</td>\n",
       "      <td>2053013552326770905</td>\n",
       "      <td>appliances.environment.water_heater</td>\n",
       "      <td>aqua</td>\n",
       "      <td>33.20</td>\n",
       "      <td>554748717</td>\n",
       "      <td>9333dfbd-b87a-4708-9857-6336556b0fcc</td>\n",
       "    </tr>\n",
       "    <tr>\n",
       "      <th>2</th>\n",
       "      <td>2019-10-01 00:00:01+00:00</td>\n",
       "      <td>view</td>\n",
       "      <td>17200506</td>\n",
       "      <td>2053013559792632471</td>\n",
       "      <td>furniture.living_room.sofa</td>\n",
       "      <td></td>\n",
       "      <td>543.10</td>\n",
       "      <td>519107250</td>\n",
       "      <td>566511c2-e2e3-422b-b695-cf8e6e792ca8</td>\n",
       "    </tr>\n",
       "    <tr>\n",
       "      <th>3</th>\n",
       "      <td>2019-10-01 00:00:01+00:00</td>\n",
       "      <td>view</td>\n",
       "      <td>1307067</td>\n",
       "      <td>2053013558920217191</td>\n",
       "      <td>computers.notebook</td>\n",
       "      <td>lenovo</td>\n",
       "      <td>251.74</td>\n",
       "      <td>550050854</td>\n",
       "      <td>7c90fc70-0e80-4590-96f3-13c02c18c713</td>\n",
       "    </tr>\n",
       "    <tr>\n",
       "      <th>4</th>\n",
       "      <td>2019-10-01 00:00:04+00:00</td>\n",
       "      <td>view</td>\n",
       "      <td>1004237</td>\n",
       "      <td>2053013555631882655</td>\n",
       "      <td>electronics.smartphone</td>\n",
       "      <td>apple</td>\n",
       "      <td>1081.98</td>\n",
       "      <td>535871217</td>\n",
       "      <td>c6bd7419-2748-4c56-95b4-8cec9ff8b80d</td>\n",
       "    </tr>\n",
       "  </tbody>\n",
       "</table>\n",
       "</div>"
      ],
      "text/plain": [
       "                 event_time event_type  product_id          category_id  \\\n",
       "0 2019-10-01 00:00:00+00:00       view    44600062  2103807459595387724   \n",
       "1 2019-10-01 00:00:00+00:00       view     3900821  2053013552326770905   \n",
       "2 2019-10-01 00:00:01+00:00       view    17200506  2053013559792632471   \n",
       "3 2019-10-01 00:00:01+00:00       view     1307067  2053013558920217191   \n",
       "4 2019-10-01 00:00:04+00:00       view     1004237  2053013555631882655   \n",
       "\n",
       "                         category_code     brand    price    user_id  \\\n",
       "0                                       shiseido    35.79  541312140   \n",
       "1  appliances.environment.water_heater      aqua    33.20  554748717   \n",
       "2           furniture.living_room.sofa             543.10  519107250   \n",
       "3                   computers.notebook    lenovo   251.74  550050854   \n",
       "4               electronics.smartphone     apple  1081.98  535871217   \n",
       "\n",
       "                           user_session  \n",
       "0  72d76fde-8bb3-4e00-8c23-a032dfed738c  \n",
       "1  9333dfbd-b87a-4708-9857-6336556b0fcc  \n",
       "2  566511c2-e2e3-422b-b695-cf8e6e792ca8  \n",
       "3  7c90fc70-0e80-4590-96f3-13c02c18c713  \n",
       "4  c6bd7419-2748-4c56-95b4-8cec9ff8b80d  "
      ]
     },
     "execution_count": 7,
     "metadata": {},
     "output_type": "execute_result"
    }
   ],
   "source": [
    "# Display some rows to see the dataset structure\n",
    "local_n_rows = 5\n",
    "october_df = read_csv(\n",
    "    df_label=default_file_label,\n",
    "    parse_dates=['event_time'],\n",
    "    date_parser=pd.to_datetime,\n",
    "    size_mb=None,  # without chunks\n",
    "    nrows=local_n_rows\n",
    ")\n",
    "october_df.head(local_n_rows)"
   ]
  },
  {
   "cell_type": "code",
   "execution_count": 8,
   "metadata": {
    "ExecuteTime": {
     "end_time": "2020-11-07T22:48:29.834345Z",
     "start_time": "2020-11-07T22:48:29.828194Z"
    }
   },
   "outputs": [],
   "source": [
    "def get_unique_events_types(\n",
    "    df_label: str = default_file_label,\n",
    "    aws: bool = default_aws,\n",
    "    size_mb: float = deafult_size_mb,\n",
    "    nrows: int = default_nrows,\n",
    "):\n",
    "    # Take only needed columns such as 'event_type'\n",
    "    reader = read_csv(\n",
    "        df_label=df_label, \n",
    "        aws=aws,\n",
    "        size_mb=size_mb,\n",
    "        nrows=nrows,\n",
    "        usecols=['event_type'],\n",
    "        dtype={'event_type': str}\n",
    "    )\n",
    "    events_types = list()\n",
    "    for chunk in reader:\n",
    "        print(\".\", end=\"\")\n",
    "        events_types += list(chunk['event_type'].unique())\n",
    "    print(\n",
    "        f\"\\n{df_label + ' | ' if df_label else ''}got the following options as an event_type: \"\n",
    "        f\"{list(set(events_types))}\"\n",
    "    )"
   ]
  },
  {
   "cell_type": "code",
   "execution_count": 11,
   "metadata": {
    "ExecuteTime": {
     "end_time": "2020-11-07T18:57:12.811302Z",
     "start_time": "2020-11-07T18:53:21.440818Z"
    }
   },
   "outputs": [
    {
     "name": "stdout",
     "output_type": "stream",
     "text": [
      "...........\n",
      "2019-Oct | got the following options as an event_type: ['view', 'cart', 'purchase']\n",
      "..................\n",
      "2019-Nov | got the following options as an event_type: ['view', 'cart', 'purchase']\n"
     ]
    }
   ],
   "source": [
    "for df_label in df_labels:\n",
    "    get_unique_events_types(df_label=df_label, nrows=None)  # perform for the whole DS"
   ]
  },
  {
   "cell_type": "markdown",
   "metadata": {},
   "source": [
    "### First observations\n",
    "\n",
    "1. As can be seen we have some **missing values** for category_code and brand. We may need to fill them in case we have other rows for the same category_id or drop them to exclude them from the analysis if there is not match found\n",
    "\n",
    "2. There are solely 3 event_type categories, there is no information about an event such as 'removed from a cart'"
   ]
  },
  {
   "cell_type": "markdown",
   "metadata": {},
   "source": [
    "# RQ1"
   ]
  },
  {
   "cell_type": "markdown",
   "metadata": {},
   "source": [
    "A marketing **funnel** describes your customer’s journey with your e-commerce. \n",
    "\n",
    "It may involve different stages, beginning when someone learns about your business, when he/she visits your website for the first time, to the purchasing stage, marketing funnels map routes to conversion and beyond.\n",
    "\n",
    "Suppose your funnel involves just three simple steps: \n",
    "\n",
    "1) view, \n",
    "2) cart, \n",
    "3) purchase. \n",
    "\n",
    "\n",
    "- **Which is the rate of complete funnels**?\n",
    "\n",
    "\n",
    "- **What’s the operation users repeat more on average within a session?** Produce a plot that shows the average number of times users perform each operation (view/removefromchart etc etc).\n",
    "\n",
    "\n",
    "- **How many times, on average, a user views a product before adding it to the cart?**\n",
    "\n",
    "\n",
    "- **What’s the probability that products added once to the cart are effectively bought?**\n",
    "\n",
    "\n",
    "- **What’s the average time an item stays in the cart before being removed?**\n",
    "\n",
    "\n",
    "- **How much time passes on average between the first view time and a purchase/addition to cart?**"
   ]
  },
  {
   "cell_type": "markdown",
   "metadata": {},
   "source": [
    "## Which is the rate of complete funnels? \n",
    "\n",
    "Theoretically if user viewed a product put in into the cart another day and purchased some other day the funnel is still complete. Session is changed every time a user come back to the store after a long pause, this column can be used for grouping.\n",
    "\n",
    "There are \"inconsistent\" funnels in the dataset where after viewing a product person can buy it without putting into a cart -> **complete** funnels are the ones that lead to a **purchase**."
   ]
  },
  {
   "cell_type": "code",
   "execution_count": 9,
   "metadata": {
    "ExecuteTime": {
     "end_time": "2020-11-07T22:48:38.201996Z",
     "start_time": "2020-11-07T22:48:38.154644Z"
    }
   },
   "outputs": [],
   "source": [
    "def get_complete_funnels_rate(\n",
    "    df_label: str = default_file_label,\n",
    "    aws: bool = default_aws,\n",
    "    size_mb: float = deafult_size_mb,\n",
    "    nrows: int = default_nrows\n",
    "):\n",
    "    # Take only needed columns such as 'user_session', 'product_id', 'event_time'\n",
    "    # product_id: np.uint16 ~ [0, 4294967295] | could take less space if would have been normalized\n",
    "    # dataset have been already sorted by event_time, we can skip uploading that column\n",
    "    reader = read_csv(\n",
    "        df_label=df_label, \n",
    "        aws=aws,\n",
    "        size_mb=size_mb,\n",
    "        nrows=nrows,\n",
    "        usecols=['user_session', 'product_id', 'event_type'],\n",
    "        dtype={'user_session': str, 'product_id': np.uint32, 'event_type': str}\n",
    "    )\n",
    "    events_handler = pd.DataFrame()\n",
    "    for chunk in reader:\n",
    "        print(\".\", end=\"\")\n",
    "        # group by and count events of both types 'view' and 'purchase'\n",
    "        events_operations = chunk[chunk['event_type'].isin(['view', 'purchase'])].groupby(\n",
    "            ['user_session', 'product_id', 'event_type']\n",
    "        ).event_type.count().to_frame().rename(\n",
    "            columns={'event_type': 'n_events'}\n",
    "        )\n",
    "        if events_handler.empty:\n",
    "            events_handler = events_operations\n",
    "        else:\n",
    "            events_handler = events_handler.add(events_operations, fill_value=0).astype(np.uint32)\n",
    "    events_handler = events_handler.reset_index()\n",
    "    # sum up and divide\n",
    "    complete_funnel = sum(events_handler['event_type'] == 'purchase')\n",
    "    product_user_pairs = sum(events_handler['event_type'] == 'view')\n",
    "    print(\n",
    "        f\"\\n{df_label + ' | ' if df_label else ''}Complete funnels: \"\n",
    "        f\"{complete_funnel} out of {product_user_pairs}\"\n",
    "    )\n",
    "    rate = int(round(complete_funnel / product_user_pairs, 2) * 100) if product_user_pairs > 0 else 0\n",
    "    print(f\"{df_label + ' | ' if df_label else ''}Rate of complete funnels: {rate}%\")"
   ]
  },
  {
   "cell_type": "code",
   "execution_count": 10,
   "metadata": {
    "ExecuteTime": {
     "end_time": "2020-11-07T22:48:48.782604Z",
     "start_time": "2020-11-07T22:48:47.252463Z"
    }
   },
   "outputs": [
    {
     "name": "stdout",
     "output_type": "stream",
     "text": [
      ".......\n",
      "2019-Oct | Complete funnels: 1549 out of 67767\n",
      "2019-Oct | Rate of complete funnels: 2%\n",
      ".......\n",
      "2019-Nov | Complete funnels: 1352 out of 66169\n",
      "2019-Nov | Rate of complete funnels: 2%\n"
     ]
    }
   ],
   "source": [
    "for df_label in df_labels:\n",
    "    get_complete_funnels_rate(df_label=df_label)"
   ]
  },
  {
   "cell_type": "markdown",
   "metadata": {},
   "source": [
    "## What’s the operation users repeat more on average within a session? \n",
    "Produce a plot that shows the average number of times users perform each operation (view/etc)."
   ]
  },
  {
   "cell_type": "code",
   "execution_count": 15,
   "metadata": {
    "ExecuteTime": {
     "end_time": "2020-11-07T22:49:57.759298Z",
     "start_time": "2020-11-07T22:49:57.748756Z"
    }
   },
   "outputs": [],
   "source": [
    "def most_repeated_operation(\n",
    "    df_label: str = default_file_label,\n",
    "    aws: bool = default_aws,\n",
    "    size_mb: float = deafult_size_mb,\n",
    "    nrows: int = default_nrows\n",
    "):\n",
    "    reader = read_csv(\n",
    "        df_label=df_label,\n",
    "        aws=aws,\n",
    "        size_mb=size_mb,\n",
    "        nrows=nrows,\n",
    "        usecols=['user_session', 'event_type'],\n",
    "        dtype={'user_session': str, 'event_type': str}\n",
    "    )\n",
    "    sessions_handler = pd.DataFrame()\n",
    "    for chunk in reader:\n",
    "        print(\".\", end=\"\")\n",
    "        # group by session and event type, count events for each event type\n",
    "        session_operations = chunk.groupby(\n",
    "            ['user_session', 'event_type']\n",
    "        ).event_type.count().to_frame().rename(\n",
    "            columns={'event_type': 'n_events'}\n",
    "        )\n",
    "        # important to fill with 0 absent events\n",
    "        session_operations = session_operations.reindex(\n",
    "            pd.MultiIndex.from_product(\n",
    "                [session_operations.index.levels[0], ['view', 'cart', 'purchase']], \n",
    "                names=['user_session', 'event_type']\n",
    "            ),\n",
    "            fill_value=0\n",
    "        )\n",
    "        if sessions_handler.empty:\n",
    "            sessions_handler = session_operations\n",
    "        else:\n",
    "            sessions_handler = sessions_handler.add(session_operations, fill_value=0).astype(np.uint32)\n",
    "    sessions_handler = sessions_handler.reset_index()\n",
    "    # Average number of times users perform each operation (within a session)\n",
    "    session_operations_avg = sessions_handler.groupby(\n",
    "        ['event_type']\n",
    "    ).n_events.mean().to_frame().reset_index().sort_values(by=['n_events'], ascending=False)\n",
    "    plot = sns.barplot(data=session_operations_avg, x=\"event_type\", y=\"n_events\")\n",
    "    for p in plot.patches:\n",
    "        plot.annotate(\n",
    "            format(p.get_height(), ',.3f'),\n",
    "            (p.get_x() + p.get_width() / 2., p.get_height()),\n",
    "            ha = 'center',\n",
    "            va = 'center', \n",
    "            xytext = (0, 10), \n",
    "            textcoords = 'offset points'\n",
    "        )\n",
    "\n",
    "    plt.title(f\"\\n{df_label + ' | ' if df_label else ''}Number of events by type\")\n",
    "    plt.xlabel('')\n",
    "    plt.ylabel('Number of events')\n",
    "    plt.ylim(0, session_operations_avg['n_events'].max() * 1.1)\n",
    "    plt.show()"
   ]
  },
  {
   "cell_type": "code",
   "execution_count": 14,
   "metadata": {
    "ExecuteTime": {
     "end_time": "2020-11-07T22:49:32.902279Z",
     "start_time": "2020-11-07T22:49:29.112052Z"
    }
   },
   "outputs": [
    {
     "name": "stdout",
     "output_type": "stream",
     "text": [
      "......."
     ]
    },
    {
     "data": {
      "image/png": "[encoded data removed]",
      "text/plain": [
       "<Figure size 432x288 with 1 Axes>"
      ]
     },
     "metadata": {
      "needs_background": "light"
     },
     "output_type": "display_data"
    },
    {
     "name": "stdout",
     "output_type": "stream",
     "text": [
      "......."
     ]
    },
    {
     "data": {
      "image/png": "[encoded data removed]",
      "text/plain": [
       "<Figure size 432x288 with 1 Axes>"
      ]
     },
     "metadata": {
      "needs_background": "light"
     },
     "output_type": "display_data"
    }
   ],
   "source": [
    "for df_label in df_labels:\n",
    "    most_repeated_operation(df_label=df_label)"
   ]
  },
  {
   "cell_type": "markdown",
   "metadata": {},
   "source": [
    "## How many times, on average, a user views a product before adding it to the cart?"
   ]
  },
  {
   "cell_type": "code",
   "execution_count": 16,
   "metadata": {
    "ExecuteTime": {
     "end_time": "2020-11-07T22:50:12.071500Z",
     "start_time": "2020-11-07T22:50:12.062858Z"
    }
   },
   "outputs": [],
   "source": [
    "def get_avg_n_of_views_for_view_cart_funnels(\n",
    "    df_label: str = default_file_label,\n",
    "    aws: bool = default_aws,\n",
    "    size_mb: float = deafult_size_mb,\n",
    "    nrows: int = default_nrows\n",
    "):\n",
    "    reader = read_csv(\n",
    "        df_label=df_label,\n",
    "        aws=aws,\n",
    "        size_mb=size_mb,\n",
    "        nrows=nrows,\n",
    "        usecols=['user_session', 'product_id', 'event_type'],\n",
    "        dtype={'user_session': str, 'product_id': np.uint32, 'event_type': str}\n",
    "    )\n",
    "    events_handler = pd.DataFrame()\n",
    "    for chunk in reader:\n",
    "        print(\".\", end=\"\")\n",
    "        # group by user, product and event type, count events\n",
    "        events_operations = chunk[chunk['event_type'].isin(['view', 'cart'])].groupby(\n",
    "            ['user_session', 'product_id', 'event_type']\n",
    "        ).event_type.count().to_frame().rename(\n",
    "            columns={'event_type': 'n_events'}\n",
    "        )\n",
    "        if events_handler.empty:\n",
    "            events_handler = events_operations\n",
    "        else:\n",
    "            events_handler = events_handler.add(events_operations, fill_value=0).astype(np.uint32)\n",
    "    # unstack event_type\n",
    "    events_handler = events_handler.unstack(level=-1)\n",
    "    events_handler.columns = events_handler.columns.droplevel()\n",
    "    # drop user-product pairs where product has not been added to a cart\n",
    "    events_handler = events_handler.dropna(subset=['cart'])\n",
    "    # fill missing view with 0\n",
    "    events_handler = events_handler.fillna(0).astype(np.uint32)\n",
    "    # calculate number of views per cart event for user-product pair and find mean\n",
    "    avg_n_times_viewed_before_cart = (events_handler.view / events_handler.cart).mean()\n",
    "    print(\n",
    "        f\"\\n{df_label + ' | ' if df_label else ''}\"\n",
    "        f\"A user views a product before adding it to the cart in average \"\n",
    "        f\"{round(avg_n_times_viewed_before_cart, 3)} times\"\n",
    "    )"
   ]
  },
  {
   "cell_type": "code",
   "execution_count": 17,
   "metadata": {
    "ExecuteTime": {
     "end_time": "2020-11-07T22:50:16.066372Z",
     "start_time": "2020-11-07T22:50:14.514561Z"
    }
   },
   "outputs": [
    {
     "name": "stdout",
     "output_type": "stream",
     "text": [
      ".......\n",
      "2019-Oct | A user views a product before adding it to the cart in average 1.984 times\n",
      ".......\n",
      "2019-Nov | A user views a product before adding it to the cart in average 2.062 times\n"
     ]
    }
   ],
   "source": [
    "for df_label in df_labels:\n",
    "    get_avg_n_of_views_for_view_cart_funnels(df_label=df_label)"
   ]
  },
  {
   "cell_type": "markdown",
   "metadata": {},
   "source": [
    "## What’s the probability that products added once to the cart are effectively bought?"
   ]
  },
  {
   "cell_type": "code",
   "execution_count": 18,
   "metadata": {
    "ExecuteTime": {
     "end_time": "2020-11-07T22:50:30.150964Z",
     "start_time": "2020-11-07T22:50:30.142145Z"
    }
   },
   "outputs": [],
   "source": [
    "def get_probability_that_if_in_cart_product_is_bought(\n",
    "    df_label: str = default_file_label,\n",
    "    aws: bool = default_aws,\n",
    "    size_mb: float = deafult_size_mb,\n",
    "    nrows: int = default_nrows\n",
    "):\n",
    "    reader = read_csv(\n",
    "        df_label=df_label,\n",
    "        aws=aws,\n",
    "        size_mb=size_mb,\n",
    "        nrows=nrows,\n",
    "        usecols=['user_session', 'product_id', 'event_type'],\n",
    "        dtype={'user_session': str, 'product_id': np.uint32, 'event_type': str}\n",
    "    )\n",
    "    events_handler = pd.DataFrame()\n",
    "    for chunk in reader:\n",
    "        print(\".\", end=\"\")\n",
    "        events_operations = chunk[chunk['event_type'].isin(['purchase', 'cart'])].groupby(\n",
    "            ['user_session', 'product_id', 'event_type']\n",
    "        ).event_type.count().to_frame().rename(\n",
    "            columns={'event_type': 'n_events'}\n",
    "        )\n",
    "        if events_handler.empty:\n",
    "            events_handler = events_operations\n",
    "        else:\n",
    "            events_handler = events_handler.add(events_operations, fill_value=0).astype(np.uint32)\n",
    "    # unstack event_type column\n",
    "    events_handler = events_handler.unstack(level=-1)\n",
    "    events_handler.columns = events_handler.columns.droplevel()\n",
    "    # drop user-product pairs where product has not been added to a cart\n",
    "    events_handler = events_handler.dropna(subset=['cart'])\n",
    "    # fill missing purchases with 0\n",
    "    events_handler = events_handler.fillna(0).astype(np.uint32)\n",
    "    # calculate number of purchases per cart event for user-product pair and find mean\n",
    "    prob_if_in_cart_bought = (events_handler.purchase / events_handler.cart).mean()\n",
    "    print(\n",
    "        f\"\\n{df_label + ' | ' if df_label else ''}\"\n",
    "        f\"The probability that products added once to the cart are effectively bought \"\n",
    "        f\"{round(prob_if_in_cart_bought * 100)}%\"\n",
    "    )"
   ]
  },
  {
   "cell_type": "code",
   "execution_count": 19,
   "metadata": {
    "ExecuteTime": {
     "end_time": "2020-11-07T22:50:34.370039Z",
     "start_time": "2020-11-07T22:50:34.025227Z"
    }
   },
   "outputs": [
    {
     "name": "stdout",
     "output_type": "stream",
     "text": [
      ".......\n",
      "2019-Oct | The probability that products added once to the cart are effectively bought 48%\n",
      ".......\n",
      "2019-Nov | The probability that products added once to the cart are effectively bought 46%\n"
     ]
    }
   ],
   "source": [
    "for df_label in df_labels:\n",
    "    get_probability_that_if_in_cart_product_is_bought(df_label=df_label)"
   ]
  },
  {
   "cell_type": "markdown",
   "metadata": {},
   "source": [
    "## What’s the average time an item stays in the cart before being removed?\n",
    "\n",
    "As we're missing the information about the remove-from-cart events we'll calculate the average time an item stays in the cart before being purchased (which is also removing the item from the cart)\n"
   ]
  },
  {
   "cell_type": "code",
   "execution_count": 100,
   "metadata": {
    "ExecuteTime": {
     "end_time": "2020-11-07T23:34:35.910933Z",
     "start_time": "2020-11-07T23:34:35.901024Z"
    },
    "code_folding": []
   },
   "outputs": [],
   "source": [
    "def get_avg_time_from_cart_to_purchase(\n",
    "    df_label: str = default_file_label,\n",
    "    aws: bool = default_aws,\n",
    "    size_mb: float = deafult_size_mb,\n",
    "    nrows: int = default_nrows\n",
    "):\n",
    "    reader = read_csv(\n",
    "        df_label=df_label,\n",
    "        aws=aws,\n",
    "        size_mb=size_mb,\n",
    "        nrows=nrows,\n",
    "        usecols=['event_time', 'event_type', 'product_id', 'user_session'],\n",
    "        dtype={'user_session': str, 'product_id': np.uint32, 'event_type': str, 'event_time': str}\n",
    "    )\n",
    "    time_from_cart_to_purchase_list = list()\n",
    "    for chunk in reader:\n",
    "        print(\".\", end=\"\")\n",
    "        # filter only 'purchase' and 'view' events (in case we'd have 'remove' type we could consider it)\n",
    "        chunk = chunk[chunk['event_type'].isin(['purchase', 'cart'])]\n",
    "        # drop timezone\n",
    "        chunk['event_time']=pd.to_datetime(chunk['event_time']).dt.tz_convert(None)\n",
    "        # add fake key in case of duplicates (several purchases/cart events per session)\n",
    "        chunk['key'] = chunk.groupby([\"user_session\", \"product_id\", \"event_type\"]).cumcount()\n",
    "        #  create pivot table\n",
    "        chunk = chunk.pivot_table(\n",
    "            index=[\"user_session\", \"product_id\", \"key\"], \n",
    "            columns=[\"event_type\"], \n",
    "            values=[\"event_time\"], \n",
    "            aggfunc='max'\n",
    "        )\n",
    "        chunk.columns = chunk.columns.droplevel()\n",
    "        # convert time difference into seconds\n",
    "        chunk['delta'] = (chunk.purchase - chunk.cart).dt.seconds\n",
    "        # keep only rows where we actually can calculate the difference\n",
    "        chunk = chunk.dropna()\n",
    "        # record all delta\n",
    "        chunk['delta'] = chunk['delta'].astype(int).apply(lambda x: [x])\n",
    "        chunk = chunk.drop(columns=['cart', 'purchase']).groupby(\n",
    "            ['user_session', 'product_id']\n",
    "        ).delta.sum().to_list()  # sum appends to array\n",
    "        chunk = itertools.chain.from_iterable(chunk)\n",
    "        time_from_cart_to_purchase_list.extend(chunk)\n",
    "    # calculate mean of all delta\n",
    "    avg_time_from_cart_to_purchase = np.array(time_from_cart_to_purchase_list).mean()\n",
    "    print(\n",
    "        f\"\\n{df_label + ' | ' if df_label else ''}\"\n",
    "        f\"The average time an item stays in the cart before being purchased \"\n",
    "        f\"{pd.to_timedelta(avg_time_from_cart_to_purchase, unit='s')}\"\n",
    "    )"
   ]
  },
  {
   "cell_type": "code",
   "execution_count": 101,
   "metadata": {
    "ExecuteTime": {
     "end_time": "2020-11-07T23:34:38.502973Z",
     "start_time": "2020-11-07T23:34:37.018069Z"
    }
   },
   "outputs": [
    {
     "name": "stdout",
     "output_type": "stream",
     "text": [
      ".......\n",
      "2019-Oct | The average time an item stays in the cart before being purchased 0 days 01:34:35.236607143\n",
      ".......\n",
      "2019-Nov | The average time an item stays in the cart before being purchased 0 days 00:27:44.678756477\n"
     ]
    }
   ],
   "source": [
    "for df_label in df_labels:\n",
    "    get_avg_time_from_cart_to_purchase(df_label=df_label)"
   ]
  },
  {
   "cell_type": "markdown",
   "metadata": {},
   "source": [
    "## How much time passes on average between the first view time and a purchase/addition to cart?"
   ]
  },
  {
   "cell_type": "code",
   "execution_count": 159,
   "metadata": {
    "ExecuteTime": {
     "end_time": "2020-11-07T21:28:11.880439Z",
     "start_time": "2020-11-07T21:28:11.859671Z"
    }
   },
   "outputs": [
    {
     "data": {
      "text/html": [
       "<div>\n",
       "<style scoped>\n",
       "    .dataframe tbody tr th:only-of-type {\n",
       "        vertical-align: middle;\n",
       "    }\n",
       "\n",
       "    .dataframe tbody tr th {\n",
       "        vertical-align: top;\n",
       "    }\n",
       "\n",
       "    .dataframe thead th {\n",
       "        text-align: right;\n",
       "    }\n",
       "</style>\n",
       "<table border=\"1\" class=\"dataframe\">\n",
       "  <thead>\n",
       "    <tr style=\"text-align: right;\">\n",
       "      <th></th>\n",
       "      <th>event_time</th>\n",
       "      <th>event_type</th>\n",
       "      <th>product_id</th>\n",
       "      <th>category_id</th>\n",
       "      <th>category_code</th>\n",
       "      <th>brand</th>\n",
       "      <th>price</th>\n",
       "      <th>user_id</th>\n",
       "      <th>user_session</th>\n",
       "    </tr>\n",
       "  </thead>\n",
       "  <tbody>\n",
       "    <tr>\n",
       "      <th>0</th>\n",
       "      <td>2019-10-01 00:00:00+00:00</td>\n",
       "      <td>view</td>\n",
       "      <td>44600062</td>\n",
       "      <td>2103807459595387724</td>\n",
       "      <td></td>\n",
       "      <td>shiseido</td>\n",
       "      <td>35.79</td>\n",
       "      <td>541312140</td>\n",
       "      <td>72d76fde-8bb3-4e00-8c23-a032dfed738c</td>\n",
       "    </tr>\n",
       "    <tr>\n",
       "      <th>1</th>\n",
       "      <td>2019-10-01 00:00:00+00:00</td>\n",
       "      <td>view</td>\n",
       "      <td>3900821</td>\n",
       "      <td>2053013552326770905</td>\n",
       "      <td>appliances.environment.water_heater</td>\n",
       "      <td>aqua</td>\n",
       "      <td>33.20</td>\n",
       "      <td>554748717</td>\n",
       "      <td>9333dfbd-b87a-4708-9857-6336556b0fcc</td>\n",
       "    </tr>\n",
       "    <tr>\n",
       "      <th>2</th>\n",
       "      <td>2019-10-01 00:00:01+00:00</td>\n",
       "      <td>view</td>\n",
       "      <td>17200506</td>\n",
       "      <td>2053013559792632471</td>\n",
       "      <td>furniture.living_room.sofa</td>\n",
       "      <td></td>\n",
       "      <td>543.10</td>\n",
       "      <td>519107250</td>\n",
       "      <td>566511c2-e2e3-422b-b695-cf8e6e792ca8</td>\n",
       "    </tr>\n",
       "    <tr>\n",
       "      <th>3</th>\n",
       "      <td>2019-10-01 00:00:01+00:00</td>\n",
       "      <td>view</td>\n",
       "      <td>1307067</td>\n",
       "      <td>2053013558920217191</td>\n",
       "      <td>computers.notebook</td>\n",
       "      <td>lenovo</td>\n",
       "      <td>251.74</td>\n",
       "      <td>550050854</td>\n",
       "      <td>7c90fc70-0e80-4590-96f3-13c02c18c713</td>\n",
       "    </tr>\n",
       "    <tr>\n",
       "      <th>4</th>\n",
       "      <td>2019-10-01 00:00:04+00:00</td>\n",
       "      <td>view</td>\n",
       "      <td>1004237</td>\n",
       "      <td>2053013555631882655</td>\n",
       "      <td>electronics.smartphone</td>\n",
       "      <td>apple</td>\n",
       "      <td>1081.98</td>\n",
       "      <td>535871217</td>\n",
       "      <td>c6bd7419-2748-4c56-95b4-8cec9ff8b80d</td>\n",
       "    </tr>\n",
       "  </tbody>\n",
       "</table>\n",
       "</div>"
      ],
      "text/plain": [
       "                 event_time event_type  product_id          category_id  \\\n",
       "0 2019-10-01 00:00:00+00:00       view    44600062  2103807459595387724   \n",
       "1 2019-10-01 00:00:00+00:00       view     3900821  2053013552326770905   \n",
       "2 2019-10-01 00:00:01+00:00       view    17200506  2053013559792632471   \n",
       "3 2019-10-01 00:00:01+00:00       view     1307067  2053013558920217191   \n",
       "4 2019-10-01 00:00:04+00:00       view     1004237  2053013555631882655   \n",
       "\n",
       "                         category_code     brand    price    user_id  \\\n",
       "0                                       shiseido    35.79  541312140   \n",
       "1  appliances.environment.water_heater      aqua    33.20  554748717   \n",
       "2           furniture.living_room.sofa             543.10  519107250   \n",
       "3                   computers.notebook    lenovo   251.74  550050854   \n",
       "4               electronics.smartphone     apple  1081.98  535871217   \n",
       "\n",
       "                           user_session  \n",
       "0  72d76fde-8bb3-4e00-8c23-a032dfed738c  \n",
       "1  9333dfbd-b87a-4708-9857-6336556b0fcc  \n",
       "2  566511c2-e2e3-422b-b695-cf8e6e792ca8  \n",
       "3  7c90fc70-0e80-4590-96f3-13c02c18c713  \n",
       "4  c6bd7419-2748-4c56-95b4-8cec9ff8b80d  "
      ]
     },
     "execution_count": 159,
     "metadata": {},
     "output_type": "execute_result"
    }
   ],
   "source": [
    "# Display some rows to see the dataset structure\n",
    "local_n_rows = 5\n",
    "october_df = read_csv(\n",
    "    df_label=default_file_label,\n",
    "    parse_dates=['event_time'],\n",
    "    date_parser=pd.to_datetime,\n",
    "    size_mb=None,  # without chunks\n",
    "    nrows=local_n_rows\n",
    ")\n",
    "october_df.head(local_n_rows)"
   ]
  },
  {
   "cell_type": "code",
   "execution_count": 114,
   "metadata": {
    "ExecuteTime": {
     "end_time": "2020-11-07T23:52:55.622001Z",
     "start_time": "2020-11-07T23:52:54.116809Z"
    }
   },
   "outputs": [
    {
     "data": {
      "text/html": [
       "<div>\n",
       "<style scoped>\n",
       "    .dataframe tbody tr th:only-of-type {\n",
       "        vertical-align: middle;\n",
       "    }\n",
       "\n",
       "    .dataframe tbody tr th {\n",
       "        vertical-align: top;\n",
       "    }\n",
       "\n",
       "    .dataframe thead th {\n",
       "        text-align: right;\n",
       "    }\n",
       "</style>\n",
       "<table border=\"1\" class=\"dataframe\">\n",
       "  <thead>\n",
       "    <tr style=\"text-align: right;\">\n",
       "      <th></th>\n",
       "      <th></th>\n",
       "      <th>event_time</th>\n",
       "      <th>event_type</th>\n",
       "    </tr>\n",
       "    <tr>\n",
       "      <th>user_session</th>\n",
       "      <th>product_id</th>\n",
       "      <th></th>\n",
       "      <th></th>\n",
       "    </tr>\n",
       "  </thead>\n",
       "  <tbody>\n",
       "    <tr>\n",
       "      <th>72d76fde-8bb3-4e00-8c23-a032dfed738c</th>\n",
       "      <th>44600062</th>\n",
       "      <td>2019-10-01 00:00:00</td>\n",
       "      <td>0</td>\n",
       "    </tr>\n",
       "    <tr>\n",
       "      <th>9333dfbd-b87a-4708-9857-6336556b0fcc</th>\n",
       "      <th>3900821</th>\n",
       "      <td>2019-10-01 00:00:00</td>\n",
       "      <td>0</td>\n",
       "    </tr>\n",
       "    <tr>\n",
       "      <th>566511c2-e2e3-422b-b695-cf8e6e792ca8</th>\n",
       "      <th>17200506</th>\n",
       "      <td>2019-10-01 00:00:01</td>\n",
       "      <td>0</td>\n",
       "    </tr>\n",
       "    <tr>\n",
       "      <th>7c90fc70-0e80-4590-96f3-13c02c18c713</th>\n",
       "      <th>1307067</th>\n",
       "      <td>2019-10-01 00:00:01</td>\n",
       "      <td>0</td>\n",
       "    </tr>\n",
       "    <tr>\n",
       "      <th>c6bd7419-2748-4c56-95b4-8cec9ff8b80d</th>\n",
       "      <th>1004237</th>\n",
       "      <td>2019-10-01 00:00:04</td>\n",
       "      <td>0</td>\n",
       "    </tr>\n",
       "    <tr>\n",
       "      <th>0d0d91c2-c9c2-4e81-90a5-86594dec0db9</th>\n",
       "      <th>1480613</th>\n",
       "      <td>2019-10-01 00:00:05</td>\n",
       "      <td>0</td>\n",
       "    </tr>\n",
       "    <tr>\n",
       "      <th>4fe811e9-91de-46da-90c3-bbd87ed3a65d</th>\n",
       "      <th>17300353</th>\n",
       "      <td>2019-10-01 00:00:08</td>\n",
       "      <td>0</td>\n",
       "    </tr>\n",
       "    <tr>\n",
       "      <th>6280d577-25c8-4147-99a7-abc6048498d6</th>\n",
       "      <th>31500053</th>\n",
       "      <td>2019-10-01 00:00:08</td>\n",
       "      <td>0</td>\n",
       "    </tr>\n",
       "    <tr>\n",
       "      <th>ac1cd4e5-a3ce-4224-a2d7-ff660a105880</th>\n",
       "      <th>28719074</th>\n",
       "      <td>2019-10-01 00:00:10</td>\n",
       "      <td>0</td>\n",
       "    </tr>\n",
       "    <tr>\n",
       "      <th>406c46ed-90a4-4787-a43b-59a410c1a5fb</th>\n",
       "      <th>1004545</th>\n",
       "      <td>2019-10-01 00:00:11</td>\n",
       "      <td>0</td>\n",
       "    </tr>\n",
       "    <tr>\n",
       "      <th>b5bdd0b3-4ca2-4c55-939e-9ce44bb50abd</th>\n",
       "      <th>2900536</th>\n",
       "      <td>2019-10-01 00:00:11</td>\n",
       "      <td>0</td>\n",
       "    </tr>\n",
       "    <tr>\n",
       "      <th>50a293fb-5940-41b2-baf3-17af0e812101</th>\n",
       "      <th>1005011</th>\n",
       "      <td>2019-10-01 00:00:11</td>\n",
       "      <td>0</td>\n",
       "    </tr>\n",
       "    <tr>\n",
       "      <th>98b88fa0-d8fa-4b9d-8a71-3dd403afab85</th>\n",
       "      <th>3900746</th>\n",
       "      <td>2019-10-01 00:00:13</td>\n",
       "      <td>0</td>\n",
       "    </tr>\n",
       "    <tr>\n",
       "      <th>72d76fde-8bb3-4e00-8c23-a032dfed738c</th>\n",
       "      <th>44600062</th>\n",
       "      <td>2019-10-01 00:00:15</td>\n",
       "      <td>0</td>\n",
       "    </tr>\n",
       "    <tr>\n",
       "      <th>7f0062d8-ead0-4e0a-96f6-43a0b79a2fc4</th>\n",
       "      <th>13500240</th>\n",
       "      <td>2019-10-01 00:00:16</td>\n",
       "      <td>0</td>\n",
       "    </tr>\n",
       "    <tr>\n",
       "      <th>17566c27-0a8f-4506-9f30-c6a2ccbf583b</th>\n",
       "      <th>23100006</th>\n",
       "      <td>2019-10-01 00:00:17</td>\n",
       "      <td>0</td>\n",
       "    </tr>\n",
       "    <tr>\n",
       "      <th>e3151795-c355-4efa-acf6-e1fe1bebeee5</th>\n",
       "      <th>1801995</th>\n",
       "      <td>2019-10-01 00:00:18</td>\n",
       "      <td>0</td>\n",
       "    </tr>\n",
       "    <tr>\n",
       "      <th>901b9e3c-3f8f-4147-a442-c25d5c5ed332</th>\n",
       "      <th>10900029</th>\n",
       "      <td>2019-10-01 00:00:18</td>\n",
       "      <td>0</td>\n",
       "    </tr>\n",
       "    <tr>\n",
       "      <th>7c90fc70-0e80-4590-96f3-13c02c18c713</th>\n",
       "      <th>1306631</th>\n",
       "      <td>2019-10-01 00:00:19</td>\n",
       "      <td>0</td>\n",
       "    </tr>\n",
       "    <tr>\n",
       "      <th>c6bd7419-2748-4c56-95b4-8cec9ff8b80d</th>\n",
       "      <th>1005135</th>\n",
       "      <td>2019-10-01 00:00:19</td>\n",
       "      <td>0</td>\n",
       "    </tr>\n",
       "    <tr>\n",
       "      <th>6ec635da-ea15-4a5d-96b4-c8ca9d38f89f</th>\n",
       "      <th>1003306</th>\n",
       "      <td>2019-10-01 00:00:20</td>\n",
       "      <td>0</td>\n",
       "    </tr>\n",
       "    <tr>\n",
       "      <th>8a6afed4-77f8-40c9-8e76-e062b28216ce</th>\n",
       "      <th>4803399</th>\n",
       "      <td>2019-10-01 00:00:20</td>\n",
       "      <td>0</td>\n",
       "    </tr>\n",
       "    <tr>\n",
       "      <th>0d0d91c2-c9c2-4e81-90a5-86594dec0db9</th>\n",
       "      <th>1480714</th>\n",
       "      <td>2019-10-01 00:00:22</td>\n",
       "      <td>0</td>\n",
       "    </tr>\n",
       "    <tr>\n",
       "      <th>9882d21f-2c5f-496b-90d4-a1503edb6562</th>\n",
       "      <th>1004739</th>\n",
       "      <td>2019-10-01 00:00:23</td>\n",
       "      <td>0</td>\n",
       "    </tr>\n",
       "    <tr>\n",
       "      <th>7d9a8784-7b6c-426e-9924-9f688812fd71</th>\n",
       "      <th>6200260</th>\n",
       "      <td>2019-10-01 00:00:23</td>\n",
       "      <td>0</td>\n",
       "    </tr>\n",
       "    <tr>\n",
       "      <th>6ec635da-ea15-4a5d-96b4-c8ca9d38f89f</th>\n",
       "      <th>1003306</th>\n",
       "      <td>2019-10-01 00:00:24</td>\n",
       "      <td>0</td>\n",
       "    </tr>\n",
       "    <tr>\n",
       "      <th>f27a45f8-fb98-459a-96a6-45271f56a987</th>\n",
       "      <th>34700031</th>\n",
       "      <td>2019-10-01 00:00:24</td>\n",
       "      <td>0</td>\n",
       "    </tr>\n",
       "    <tr>\n",
       "      <th>5459fbe4-2aa5-42b9-9064-05f853218fe0</th>\n",
       "      <th>3900990</th>\n",
       "      <td>2019-10-01 00:00:25</td>\n",
       "      <td>0</td>\n",
       "    </tr>\n",
       "    <tr>\n",
       "      <th>74d40a28-41f9-4325-bbae-b179bd2c0a38</th>\n",
       "      <th>27500014</th>\n",
       "      <td>2019-10-01 00:00:25</td>\n",
       "      <td>0</td>\n",
       "    </tr>\n",
       "    <tr>\n",
       "      <th>83f584ed-c7f7-442e-8ae9-713cb27fdece</th>\n",
       "      <th>19001139</th>\n",
       "      <td>2019-10-01 00:00:25</td>\n",
       "      <td>0</td>\n",
       "    </tr>\n",
       "  </tbody>\n",
       "</table>\n",
       "</div>"
      ],
      "text/plain": [
       "                                                         event_time  \\\n",
       "user_session                         product_id                       \n",
       "72d76fde-8bb3-4e00-8c23-a032dfed738c 44600062   2019-10-01 00:00:00   \n",
       "9333dfbd-b87a-4708-9857-6336556b0fcc 3900821    2019-10-01 00:00:00   \n",
       "566511c2-e2e3-422b-b695-cf8e6e792ca8 17200506   2019-10-01 00:00:01   \n",
       "7c90fc70-0e80-4590-96f3-13c02c18c713 1307067    2019-10-01 00:00:01   \n",
       "c6bd7419-2748-4c56-95b4-8cec9ff8b80d 1004237    2019-10-01 00:00:04   \n",
       "0d0d91c2-c9c2-4e81-90a5-86594dec0db9 1480613    2019-10-01 00:00:05   \n",
       "4fe811e9-91de-46da-90c3-bbd87ed3a65d 17300353   2019-10-01 00:00:08   \n",
       "6280d577-25c8-4147-99a7-abc6048498d6 31500053   2019-10-01 00:00:08   \n",
       "ac1cd4e5-a3ce-4224-a2d7-ff660a105880 28719074   2019-10-01 00:00:10   \n",
       "406c46ed-90a4-4787-a43b-59a410c1a5fb 1004545    2019-10-01 00:00:11   \n",
       "b5bdd0b3-4ca2-4c55-939e-9ce44bb50abd 2900536    2019-10-01 00:00:11   \n",
       "50a293fb-5940-41b2-baf3-17af0e812101 1005011    2019-10-01 00:00:11   \n",
       "98b88fa0-d8fa-4b9d-8a71-3dd403afab85 3900746    2019-10-01 00:00:13   \n",
       "72d76fde-8bb3-4e00-8c23-a032dfed738c 44600062   2019-10-01 00:00:15   \n",
       "7f0062d8-ead0-4e0a-96f6-43a0b79a2fc4 13500240   2019-10-01 00:00:16   \n",
       "17566c27-0a8f-4506-9f30-c6a2ccbf583b 23100006   2019-10-01 00:00:17   \n",
       "e3151795-c355-4efa-acf6-e1fe1bebeee5 1801995    2019-10-01 00:00:18   \n",
       "901b9e3c-3f8f-4147-a442-c25d5c5ed332 10900029   2019-10-01 00:00:18   \n",
       "7c90fc70-0e80-4590-96f3-13c02c18c713 1306631    2019-10-01 00:00:19   \n",
       "c6bd7419-2748-4c56-95b4-8cec9ff8b80d 1005135    2019-10-01 00:00:19   \n",
       "6ec635da-ea15-4a5d-96b4-c8ca9d38f89f 1003306    2019-10-01 00:00:20   \n",
       "8a6afed4-77f8-40c9-8e76-e062b28216ce 4803399    2019-10-01 00:00:20   \n",
       "0d0d91c2-c9c2-4e81-90a5-86594dec0db9 1480714    2019-10-01 00:00:22   \n",
       "9882d21f-2c5f-496b-90d4-a1503edb6562 1004739    2019-10-01 00:00:23   \n",
       "7d9a8784-7b6c-426e-9924-9f688812fd71 6200260    2019-10-01 00:00:23   \n",
       "6ec635da-ea15-4a5d-96b4-c8ca9d38f89f 1003306    2019-10-01 00:00:24   \n",
       "f27a45f8-fb98-459a-96a6-45271f56a987 34700031   2019-10-01 00:00:24   \n",
       "5459fbe4-2aa5-42b9-9064-05f853218fe0 3900990    2019-10-01 00:00:25   \n",
       "74d40a28-41f9-4325-bbae-b179bd2c0a38 27500014   2019-10-01 00:00:25   \n",
       "83f584ed-c7f7-442e-8ae9-713cb27fdece 19001139   2019-10-01 00:00:25   \n",
       "\n",
       "                                                 event_type  \n",
       "user_session                         product_id              \n",
       "72d76fde-8bb3-4e00-8c23-a032dfed738c 44600062             0  \n",
       "9333dfbd-b87a-4708-9857-6336556b0fcc 3900821              0  \n",
       "566511c2-e2e3-422b-b695-cf8e6e792ca8 17200506             0  \n",
       "7c90fc70-0e80-4590-96f3-13c02c18c713 1307067              0  \n",
       "c6bd7419-2748-4c56-95b4-8cec9ff8b80d 1004237              0  \n",
       "0d0d91c2-c9c2-4e81-90a5-86594dec0db9 1480613              0  \n",
       "4fe811e9-91de-46da-90c3-bbd87ed3a65d 17300353             0  \n",
       "6280d577-25c8-4147-99a7-abc6048498d6 31500053             0  \n",
       "ac1cd4e5-a3ce-4224-a2d7-ff660a105880 28719074             0  \n",
       "406c46ed-90a4-4787-a43b-59a410c1a5fb 1004545              0  \n",
       "b5bdd0b3-4ca2-4c55-939e-9ce44bb50abd 2900536              0  \n",
       "50a293fb-5940-41b2-baf3-17af0e812101 1005011              0  \n",
       "98b88fa0-d8fa-4b9d-8a71-3dd403afab85 3900746              0  \n",
       "72d76fde-8bb3-4e00-8c23-a032dfed738c 44600062             0  \n",
       "7f0062d8-ead0-4e0a-96f6-43a0b79a2fc4 13500240             0  \n",
       "17566c27-0a8f-4506-9f30-c6a2ccbf583b 23100006             0  \n",
       "e3151795-c355-4efa-acf6-e1fe1bebeee5 1801995              0  \n",
       "901b9e3c-3f8f-4147-a442-c25d5c5ed332 10900029             0  \n",
       "7c90fc70-0e80-4590-96f3-13c02c18c713 1306631              0  \n",
       "c6bd7419-2748-4c56-95b4-8cec9ff8b80d 1005135              0  \n",
       "6ec635da-ea15-4a5d-96b4-c8ca9d38f89f 1003306              0  \n",
       "8a6afed4-77f8-40c9-8e76-e062b28216ce 4803399              0  \n",
       "0d0d91c2-c9c2-4e81-90a5-86594dec0db9 1480714              0  \n",
       "9882d21f-2c5f-496b-90d4-a1503edb6562 1004739              0  \n",
       "7d9a8784-7b6c-426e-9924-9f688812fd71 6200260              0  \n",
       "6ec635da-ea15-4a5d-96b4-c8ca9d38f89f 1003306              0  \n",
       "f27a45f8-fb98-459a-96a6-45271f56a987 34700031             0  \n",
       "5459fbe4-2aa5-42b9-9064-05f853218fe0 3900990              0  \n",
       "74d40a28-41f9-4325-bbae-b179bd2c0a38 27500014             0  \n",
       "83f584ed-c7f7-442e-8ae9-713cb27fdece 19001139             0  "
      ]
     },
     "execution_count": 114,
     "metadata": {},
     "output_type": "execute_result"
    }
   ],
   "source": [
    "chunk = read_csv(\n",
    "    nrows=100_000,\n",
    "    size_mb=None,  # without chunks\n",
    "    usecols=['event_time', 'event_type', 'product_id', 'user_session'],\n",
    "    dtype={'user_session': str, 'product_id': np.uint32, 'event_type': str, 'event_time': str}\n",
    ")\n",
    "chunk['event_time']=pd.to_datetime(chunk['event_time']).dt.tz_convert(None)  # for datetime conversion\n",
    "# daily_summary_table = dataset.groupby(  # can be used for the conversion, handy\n",
    "#     by=[dataset['event_time'].dt.normalize()]\n",
    "# ).agg(\n",
    "#     n_daily_visits=('user_session', lambda x: x.nunique())\n",
    "# )\n",
    "# replace events which are not 'view' with new category goal\n",
    "chunk.loc[:, 'event_type'] = chunk['event_type'].map({'purchase': 1, 'cart': 1, 'view': 0})\n",
    "chunk = chunk.set_index(['user_session', 'product_id'])\n",
    "chunk = chunk.dropna()\n",
    "# chunk = chunk.event_type.where(chunk['event_type'].isin(['purchase', 'cart']), 1, 0)\n",
    "# chunk['key'] = chunk.groupby([\"user_session\", \"product_id\", \"event_type\"]).cumcount()\n",
    "# chunk = chunk.set_index(['user_session', 'product_id'])\n",
    "# chunk = chunk.pivot_table(\n",
    "#     index=[\"user_session\", \"product_id\"], \n",
    "#     columns=[\"event_type\"], \n",
    "#     values=[\"event_time\"], \n",
    "#     aggfunc='min'\n",
    "# )\n",
    "# chunk.fillna()\n",
    "# chunk.columns = chunk.columns.droplevel()\n",
    "# chunk = chunk.dropna()\n",
    "# chunk['delta'] = (chunk.purchase - chunk.cart).dt.seconds\n",
    "# chunk = chunk.drop(columns=['cart', 'purchase']).groupby(\n",
    "#     ['user_session', 'product_id']\n",
    "# ).delta.agg('mean').to_frame()\n",
    "chunk.head(30)"
   ]
  },
  {
   "cell_type": "code",
   "execution_count": 128,
   "metadata": {
    "ExecuteTime": {
     "end_time": "2020-11-07T23:58:31.530846Z",
     "start_time": "2020-11-07T23:58:31.510494Z"
    }
   },
   "outputs": [
    {
     "data": {
      "text/html": [
       "<div>\n",
       "<style scoped>\n",
       "    .dataframe tbody tr th:only-of-type {\n",
       "        vertical-align: middle;\n",
       "    }\n",
       "\n",
       "    .dataframe tbody tr th {\n",
       "        vertical-align: top;\n",
       "    }\n",
       "\n",
       "    .dataframe thead th {\n",
       "        text-align: right;\n",
       "    }\n",
       "</style>\n",
       "<table border=\"1\" class=\"dataframe\">\n",
       "  <thead>\n",
       "    <tr style=\"text-align: right;\">\n",
       "      <th></th>\n",
       "      <th></th>\n",
       "      <th>event_time</th>\n",
       "      <th>event_type</th>\n",
       "      <th>type_delta</th>\n",
       "    </tr>\n",
       "    <tr>\n",
       "      <th>user_session</th>\n",
       "      <th>product_id</th>\n",
       "      <th></th>\n",
       "      <th></th>\n",
       "      <th></th>\n",
       "    </tr>\n",
       "  </thead>\n",
       "  <tbody>\n",
       "    <tr>\n",
       "      <th>72d76fde-8bb3-4e00-8c23-a032dfed738c</th>\n",
       "      <th>44600062</th>\n",
       "      <td>2019-10-01 00:00:00</td>\n",
       "      <td>0</td>\n",
       "      <td>0.0</td>\n",
       "    </tr>\n",
       "    <tr>\n",
       "      <th>9333dfbd-b87a-4708-9857-6336556b0fcc</th>\n",
       "      <th>3900821</th>\n",
       "      <td>2019-10-01 00:00:00</td>\n",
       "      <td>0</td>\n",
       "      <td>0.0</td>\n",
       "    </tr>\n",
       "    <tr>\n",
       "      <th>566511c2-e2e3-422b-b695-cf8e6e792ca8</th>\n",
       "      <th>17200506</th>\n",
       "      <td>2019-10-01 00:00:01</td>\n",
       "      <td>0</td>\n",
       "      <td>0.0</td>\n",
       "    </tr>\n",
       "    <tr>\n",
       "      <th>7c90fc70-0e80-4590-96f3-13c02c18c713</th>\n",
       "      <th>1307067</th>\n",
       "      <td>2019-10-01 00:00:01</td>\n",
       "      <td>0</td>\n",
       "      <td>0.0</td>\n",
       "    </tr>\n",
       "    <tr>\n",
       "      <th>c6bd7419-2748-4c56-95b4-8cec9ff8b80d</th>\n",
       "      <th>1004237</th>\n",
       "      <td>2019-10-01 00:00:04</td>\n",
       "      <td>0</td>\n",
       "      <td>0.0</td>\n",
       "    </tr>\n",
       "    <tr>\n",
       "      <th>...</th>\n",
       "      <th>...</th>\n",
       "      <td>...</td>\n",
       "      <td>...</td>\n",
       "      <td>...</td>\n",
       "    </tr>\n",
       "    <tr>\n",
       "      <th>96d3640f-9d00-4b69-a4d8-ca581c1677d3</th>\n",
       "      <th>17300136</th>\n",
       "      <td>2019-10-01 04:28:27</td>\n",
       "      <td>0</td>\n",
       "      <td>0.0</td>\n",
       "    </tr>\n",
       "    <tr>\n",
       "      <th>0db770f5-225c-4e8d-9814-f045e4bfae87</th>\n",
       "      <th>2601810</th>\n",
       "      <td>2019-10-01 04:28:27</td>\n",
       "      <td>0</td>\n",
       "      <td>0.0</td>\n",
       "    </tr>\n",
       "    <tr>\n",
       "      <th>405566fc-f660-4a7a-baed-1ba95feccbbf</th>\n",
       "      <th>1306100</th>\n",
       "      <td>2019-10-01 04:28:27</td>\n",
       "      <td>0</td>\n",
       "      <td>0.0</td>\n",
       "    </tr>\n",
       "    <tr>\n",
       "      <th>fca1ed2e-c91b-40e1-a95c-b4bfcd65b295</th>\n",
       "      <th>3200549</th>\n",
       "      <td>2019-10-01 04:28:27</td>\n",
       "      <td>0</td>\n",
       "      <td>0.0</td>\n",
       "    </tr>\n",
       "    <tr>\n",
       "      <th>8d176f3e-a90e-48a1-ac13-760bc81a4583</th>\n",
       "      <th>6200949</th>\n",
       "      <td>2019-10-01 04:28:27</td>\n",
       "      <td>0</td>\n",
       "      <td>0.0</td>\n",
       "    </tr>\n",
       "  </tbody>\n",
       "</table>\n",
       "<p>100000 rows × 3 columns</p>\n",
       "</div>"
      ],
      "text/plain": [
       "                                                         event_time  \\\n",
       "user_session                         product_id                       \n",
       "72d76fde-8bb3-4e00-8c23-a032dfed738c 44600062   2019-10-01 00:00:00   \n",
       "9333dfbd-b87a-4708-9857-6336556b0fcc 3900821    2019-10-01 00:00:00   \n",
       "566511c2-e2e3-422b-b695-cf8e6e792ca8 17200506   2019-10-01 00:00:01   \n",
       "7c90fc70-0e80-4590-96f3-13c02c18c713 1307067    2019-10-01 00:00:01   \n",
       "c6bd7419-2748-4c56-95b4-8cec9ff8b80d 1004237    2019-10-01 00:00:04   \n",
       "...                                                             ...   \n",
       "96d3640f-9d00-4b69-a4d8-ca581c1677d3 17300136   2019-10-01 04:28:27   \n",
       "0db770f5-225c-4e8d-9814-f045e4bfae87 2601810    2019-10-01 04:28:27   \n",
       "405566fc-f660-4a7a-baed-1ba95feccbbf 1306100    2019-10-01 04:28:27   \n",
       "fca1ed2e-c91b-40e1-a95c-b4bfcd65b295 3200549    2019-10-01 04:28:27   \n",
       "8d176f3e-a90e-48a1-ac13-760bc81a4583 6200949    2019-10-01 04:28:27   \n",
       "\n",
       "                                                 event_type  type_delta  \n",
       "user_session                         product_id                          \n",
       "72d76fde-8bb3-4e00-8c23-a032dfed738c 44600062             0         0.0  \n",
       "9333dfbd-b87a-4708-9857-6336556b0fcc 3900821              0         0.0  \n",
       "566511c2-e2e3-422b-b695-cf8e6e792ca8 17200506             0         0.0  \n",
       "7c90fc70-0e80-4590-96f3-13c02c18c713 1307067              0         0.0  \n",
       "c6bd7419-2748-4c56-95b4-8cec9ff8b80d 1004237              0         0.0  \n",
       "...                                                     ...         ...  \n",
       "96d3640f-9d00-4b69-a4d8-ca581c1677d3 17300136             0         0.0  \n",
       "0db770f5-225c-4e8d-9814-f045e4bfae87 2601810              0         0.0  \n",
       "405566fc-f660-4a7a-baed-1ba95feccbbf 1306100              0         0.0  \n",
       "fca1ed2e-c91b-40e1-a95c-b4bfcd65b295 3200549              0         0.0  \n",
       "8d176f3e-a90e-48a1-ac13-760bc81a4583 6200949              0         0.0  \n",
       "\n",
       "[100000 rows x 3 columns]"
      ]
     },
     "execution_count": 128,
     "metadata": {},
     "output_type": "execute_result"
    }
   ],
   "source": [
    "newchunk = chunk.copy()\n",
    "newchunk['type_delta'] = newchunk.event_type.diff().fillna(0)\n",
    "newchunk"
   ]
  },
  {
   "cell_type": "code",
   "execution_count": 126,
   "metadata": {
    "ExecuteTime": {
     "end_time": "2020-11-07T23:58:04.673450Z",
     "start_time": "2020-11-07T23:58:04.656619Z"
    }
   },
   "outputs": [
    {
     "data": {
      "text/html": [
       "<div>\n",
       "<style scoped>\n",
       "    .dataframe tbody tr th:only-of-type {\n",
       "        vertical-align: middle;\n",
       "    }\n",
       "\n",
       "    .dataframe tbody tr th {\n",
       "        vertical-align: top;\n",
       "    }\n",
       "\n",
       "    .dataframe thead th {\n",
       "        text-align: right;\n",
       "    }\n",
       "</style>\n",
       "<table border=\"1\" class=\"dataframe\">\n",
       "  <thead>\n",
       "    <tr style=\"text-align: right;\">\n",
       "      <th></th>\n",
       "      <th></th>\n",
       "      <th>event_time</th>\n",
       "      <th>event_type</th>\n",
       "      <th>type_delta</th>\n",
       "    </tr>\n",
       "    <tr>\n",
       "      <th>user_session</th>\n",
       "      <th>product_id</th>\n",
       "      <th></th>\n",
       "      <th></th>\n",
       "      <th></th>\n",
       "    </tr>\n",
       "  </thead>\n",
       "  <tbody>\n",
       "    <tr>\n",
       "      <th rowspan=\"2\" valign=\"top\">a653ed61-904a-4804-bb87-f8e87443350a</th>\n",
       "      <th>1004209</th>\n",
       "      <td>2019-10-01 00:04:37</td>\n",
       "      <td>0</td>\n",
       "      <td>-1.0</td>\n",
       "    </tr>\n",
       "    <tr>\n",
       "      <th>1004209</th>\n",
       "      <td>2019-10-01 00:06:32</td>\n",
       "      <td>0</td>\n",
       "      <td>0.0</td>\n",
       "    </tr>\n",
       "    <tr>\n",
       "      <th>153a2636-dfe4-482a-8408-0c9445690cea</th>\n",
       "      <th>1004209</th>\n",
       "      <td>2019-10-01 02:22:41</td>\n",
       "      <td>0</td>\n",
       "      <td>0.0</td>\n",
       "    </tr>\n",
       "    <tr>\n",
       "      <th rowspan=\"2\" valign=\"top\">b732402d-b165-4ac6-8bc8-87ab0592892a</th>\n",
       "      <th>1004209</th>\n",
       "      <td>2019-10-01 02:23:41</td>\n",
       "      <td>0</td>\n",
       "      <td>0.0</td>\n",
       "    </tr>\n",
       "    <tr>\n",
       "      <th>1004209</th>\n",
       "      <td>2019-10-01 02:23:56</td>\n",
       "      <td>0</td>\n",
       "      <td>0.0</td>\n",
       "    </tr>\n",
       "    <tr>\n",
       "      <th>01f8e7dc-759b-4ef5-b5b5-addc7cefd8e8</th>\n",
       "      <th>1004209</th>\n",
       "      <td>2019-10-01 02:28:31</td>\n",
       "      <td>0</td>\n",
       "      <td>0.0</td>\n",
       "    </tr>\n",
       "    <tr>\n",
       "      <th>f5aa89f7-e4a8-4886-b564-c2ace1cb0a44</th>\n",
       "      <th>1004209</th>\n",
       "      <td>2019-10-01 02:29:06</td>\n",
       "      <td>0</td>\n",
       "      <td>0.0</td>\n",
       "    </tr>\n",
       "    <tr>\n",
       "      <th>01f8e7dc-759b-4ef5-b5b5-addc7cefd8e8</th>\n",
       "      <th>1004209</th>\n",
       "      <td>2019-10-01 02:30:56</td>\n",
       "      <td>0</td>\n",
       "      <td>0.0</td>\n",
       "    </tr>\n",
       "    <tr>\n",
       "      <th>087933c7-5000-4009-b654-670275e0eb6b</th>\n",
       "      <th>1004209</th>\n",
       "      <td>2019-10-01 02:31:01</td>\n",
       "      <td>0</td>\n",
       "      <td>-1.0</td>\n",
       "    </tr>\n",
       "    <tr>\n",
       "      <th>36677c58-96e8-43cb-955d-c2993f423090</th>\n",
       "      <th>1004209</th>\n",
       "      <td>2019-10-01 02:35:05</td>\n",
       "      <td>0</td>\n",
       "      <td>0.0</td>\n",
       "    </tr>\n",
       "  </tbody>\n",
       "</table>\n",
       "</div>"
      ],
      "text/plain": [
       "                                                         event_time  \\\n",
       "user_session                         product_id                       \n",
       "a653ed61-904a-4804-bb87-f8e87443350a 1004209    2019-10-01 00:04:37   \n",
       "                                     1004209    2019-10-01 00:06:32   \n",
       "153a2636-dfe4-482a-8408-0c9445690cea 1004209    2019-10-01 02:22:41   \n",
       "b732402d-b165-4ac6-8bc8-87ab0592892a 1004209    2019-10-01 02:23:41   \n",
       "                                     1004209    2019-10-01 02:23:56   \n",
       "01f8e7dc-759b-4ef5-b5b5-addc7cefd8e8 1004209    2019-10-01 02:28:31   \n",
       "f5aa89f7-e4a8-4886-b564-c2ace1cb0a44 1004209    2019-10-01 02:29:06   \n",
       "01f8e7dc-759b-4ef5-b5b5-addc7cefd8e8 1004209    2019-10-01 02:30:56   \n",
       "087933c7-5000-4009-b654-670275e0eb6b 1004209    2019-10-01 02:31:01   \n",
       "36677c58-96e8-43cb-955d-c2993f423090 1004209    2019-10-01 02:35:05   \n",
       "\n",
       "                                                 event_type  type_delta  \n",
       "user_session                         product_id                          \n",
       "a653ed61-904a-4804-bb87-f8e87443350a 1004209              0        -1.0  \n",
       "                                     1004209              0         0.0  \n",
       "153a2636-dfe4-482a-8408-0c9445690cea 1004209              0         0.0  \n",
       "b732402d-b165-4ac6-8bc8-87ab0592892a 1004209              0         0.0  \n",
       "                                     1004209              0         0.0  \n",
       "01f8e7dc-759b-4ef5-b5b5-addc7cefd8e8 1004209              0         0.0  \n",
       "f5aa89f7-e4a8-4886-b564-c2ace1cb0a44 1004209              0         0.0  \n",
       "01f8e7dc-759b-4ef5-b5b5-addc7cefd8e8 1004209              0         0.0  \n",
       "087933c7-5000-4009-b654-670275e0eb6b 1004209              0        -1.0  \n",
       "36677c58-96e8-43cb-955d-c2993f423090 1004209              0         0.0  "
      ]
     },
     "execution_count": 126,
     "metadata": {},
     "output_type": "execute_result"
    }
   ],
   "source": [
    "newchunk[newchunk.index.isin([1004209], level=-1)].head(10)"
   ]
  },
  {
   "cell_type": "code",
   "execution_count": 213,
   "metadata": {},
   "outputs": [],
   "source": [
    "# TODO: have to deal with time"
   ]
  },
  {
   "cell_type": "markdown",
   "metadata": {},
   "source": [
    "# RQ2\n",
    "\n",
    " - **What are the categories of the most trending products overall?** \n",
    "   \n",
    "   For each month visualize this information through a plot showing the number of sold products per category.  \n",
    " \n",
    "- **Plot the most visited subcategories.**\n",
    "\n",
    "\n",
    "- **What are the 10 most sold products per category?**"
   ]
  },
  {
   "cell_type": "markdown",
   "metadata": {},
   "source": [
    "## What are the categories of the most trending products overall?"
   ]
  },
  {
   "cell_type": "markdown",
   "metadata": {},
   "source": [
    "We consider a product to be tranding if it's selling out well\n",
    "\n",
    "The initial dataset is too big to be processed directly, there are a couple of approaches that can be applied to perform the analysis:\n",
    "\n",
    "1. running bash script '*generate_subset_with_n_purchases_per_category.sh*' which\n",
    " - makes a subset that contains only rows with event_type=\"purchase\"\n",
    " - finds all unique categories present in the subset\n",
    " - for each category calculates number of lines present in the subset\n",
    " \n",
    " \n",
    "2. using batches to work with the dataset without overloading RAM\n",
    "\n",
    "3. randomly subsampling dataset and perform analysis on smaller version\n",
    "\n",
    "We desided to proceed with the second approach, for which we could use Dash library or proceed with embedded to pandas options by setting up a few handy parameters for pd.read_csv() funtions\n",
    " \n",
    "Category - is the first value before . separator, the rest are sub-categories"
   ]
  },
  {
   "cell_type": "code",
   "execution_count": 58,
   "metadata": {},
   "outputs": [],
   "source": [
    "def show_values_on_bars(axs, h_v=\"v\", space=0.4):\n",
    "    \"\"\" Helper to display actual values on barplot \"\"\"\n",
    "    def _show_on_single_plot(ax):\n",
    "        if h_v == \"v\":\n",
    "            for p in ax.patches:\n",
    "                _x = p.get_x() + p.get_width() / 2\n",
    "                _y = p.get_y() + p.get_height()\n",
    "                value = int(p.get_height())\n",
    "                ax.text(_x, _y, value, ha=\"center\") \n",
    "        elif h_v == \"h\":\n",
    "            for p in ax.patches:\n",
    "                _x = p.get_x() + p.get_width()\n",
    "                _y = p.get_y() + p.get_height() - float(space)\n",
    "                value = int(p.get_width())\n",
    "                ax.text(_x, _y, value, ha=\"left\")\n",
    "\n",
    "    if isinstance(axs, np.ndarray):\n",
    "        for idx, ax in np.ndenumerate(axs):\n",
    "            _show_on_single_plot(ax)\n",
    "    else:\n",
    "        _show_on_single_plot(axs)"
   ]
  },
  {
   "cell_type": "code",
   "execution_count": 59,
   "metadata": {},
   "outputs": [],
   "source": [
    "def get_most_trending_products(\n",
    "    df_label: str = default_file_label,\n",
    "    aws: bool = default_aws,\n",
    "    chunksize: int = deafult_chunksize, \n",
    "    nrows: int = default_nrows\n",
    "):\n",
    "    reader = read_csv(\n",
    "        df_label=df_label,\n",
    "        aws=aws,\n",
    "        chunksize=chunksize,\n",
    "        nrows=nrows,\n",
    "        usecols=['category_code', 'event_type'],\n",
    "        dtype={'category_code': str, 'event_type': str}\n",
    "    )\n",
    "    most_trending_products = pd.DataFrame()\n",
    "    i = 0\n",
    "    for chunk in reader:\n",
    "        # print(f\"Processing a chunk #{i}\")\n",
    "        # take only the category\n",
    "        chunk.loc[:, 'category_code'] = chunk.category_code.str.split('.').str[0]\n",
    "        events_operations = chunk[\n",
    "            chunk['event_type'].isin(['purchase']) & ~(chunk['category_code'] == '')\n",
    "        ].dropna().groupby(\n",
    "            ['category_code']\n",
    "        ).event_type.count().to_frame().rename(\n",
    "            columns={'event_type': 'n_purchases'}\n",
    "        )\n",
    "        if most_trending_products.empty:\n",
    "            most_trending_products = events_operations\n",
    "        else:\n",
    "            most_trending_products = most_trending_products.add(events_operations, fill_value=0).astype(np.uint32)\n",
    "        i += 1\n",
    "    most_trending_products.reset_index(inplace=True)\n",
    "    # sort in descending order\n",
    "    most_trending_products.sort_values(by=['n_purchases'], ascending=False, inplace=True)\n",
    "    # plot results\n",
    "    fig, ax = plt.subplots(figsize=(15, 10))\n",
    "    bar_plt = sns.barplot(data=most_trending_products, x=\"n_purchases\", y=\"category_code\", palette='tab10')\n",
    "    bar_plt.set(\n",
    "        ylabel='Category', \n",
    "        xlabel='Number of purchases', \n",
    "        title=f\"{df_label + ': ' if df_label else ''}Number of sold products per category\"\n",
    "    )\n",
    "    show_values_on_bars(ax, \"h\", 0.3)\n",
    "    plt.show()"
   ]
  },
  {
   "cell_type": "code",
   "execution_count": 60,
   "metadata": {},
   "outputs": [
    {
     "data": {
      "image/png": "[encoded data removed]",
      "text/plain": [
       "<Figure size 1080x720 with 1 Axes>"
      ]
     },
     "metadata": {
      "needs_background": "light"
     },
     "output_type": "display_data"
    },
    {
     "data": {
      "image/png": "[encoded data removed]",
      "text/plain": [
       "<Figure size 1080x720 with 1 Axes>"
      ]
     },
     "metadata": {
      "needs_background": "light"
     },
     "output_type": "display_data"
    }
   ],
   "source": [
    "for df_label in df_labels:\n",
    "    get_most_trending_products(df_label=df_label, nrows=None)  # take all rows"
   ]
  },
  {
   "cell_type": "code",
   "execution_count": 4,
   "metadata": {},
   "outputs": [],
   "source": [
    "# plan B: use dash library to paralelize the computation\n",
    "# plan C: do the parsing with bash script | generate_subset_with_n_purchases_per_category.sh\n",
    "def get_most_trending_products_bash(df_label: str = default_file_label):\n",
    "    # print(f\"{df_label + ' | ' if df_label else ''}most trending products categories\")\n",
    "    # read output of the script with category - n_of_purchases columns\n",
    "    most_trending_products_df = pd.read_csv(\n",
    "        f\"purchases/{df_label}.csv.purchases-per-category.csv\"\n",
    "    )\n",
    "    # split categories from sub categories (leave only categories)\n",
    "    most_trending_products_df.loc[:, 'category'] = \\\n",
    "        most_trending_products_df['category'].str.split('.').str[0]\n",
    "    # sum up all sails in a category\n",
    "    most_trending_categories_df = most_trending_products_df.groupby('category').sum()\n",
    "    most_trending_categories_df.reset_index(inplace=True)\n",
    "    # sort in descending order\n",
    "    most_trending_categories_df.sort_values(by=['n_purchases'], ascending=False, inplace=True)\n",
    "    # print(most_trending_categories_df)\n",
    "    fig, ax = plt.subplots(figsize=(15, 10))\n",
    "    bar_plt = sns.barplot(data=most_trending_categories_df, x=\"n_purchases\", y=\"category\", palette='tab10')\n",
    "    bar_plt.set(\n",
    "        ylabel='Category', \n",
    "        xlabel='Number of purchases', \n",
    "        title=f\"{df_label + ': ' if df_label else ''}Number of sold products per category\"\n",
    "    )\n",
    "    show_values_on_bars(ax, \"h\", 0.3)\n",
    "    plt.show()"
   ]
  },
  {
   "cell_type": "markdown",
   "metadata": {},
   "source": [
    "## Plot the most visited subcategories\n",
    "\n",
    "We assume that each subcategory is composed by combination of the category and all the nested (sub) categories\n",
    "\n",
    "The initial dataset is too big to be processed directly in pandas, we use a script '*generate_subset_with_n_views_per_category.sh*' which\n",
    " - makes a subset that contains only views (quite big as well)\n",
    " - finds all unique categories present in the subset\n",
    " - for each category calculates number of lines present in the subset\n",
    " \n",
    "Category - is the first value before . separator, the rest are sub-categories"
   ]
  },
  {
   "cell_type": "code",
   "execution_count": 65,
   "metadata": {},
   "outputs": [],
   "source": [
    "def get_most_visited_sub_categories(\n",
    "    top_n: int = 10,\n",
    "    df_label: str = default_file_label,\n",
    "    aws: bool = default_aws,\n",
    "    chunksize: int = deafult_chunksize, \n",
    "    nrows: int = default_nrows\n",
    "):\n",
    "    reader = read_csv(\n",
    "        df_label=df_label,\n",
    "        aws=aws,\n",
    "        chunksize=chunksize,\n",
    "        nrows=nrows,\n",
    "        usecols=['category_code', 'event_type'],\n",
    "        dtype={'category_code': str, 'event_type': str}\n",
    "    )\n",
    "    most_visited_sub_categories = pd.DataFrame()\n",
    "    i = 0\n",
    "    for chunk in reader:\n",
    "        # print(f\"Processing a chunk #{i}\")\n",
    "        events_operations = chunk[\n",
    "            chunk['event_type'].isin(['view']) & ~(chunk['category_code'] == '')\n",
    "        ].dropna().groupby(\n",
    "            ['category_code']\n",
    "        ).event_type.count().to_frame().rename(\n",
    "            columns={'event_type': 'n_visits'}\n",
    "        )\n",
    "        if most_visited_sub_categories.empty:\n",
    "            most_visited_sub_categories = events_operations\n",
    "        else:\n",
    "            most_visited_sub_categories = \\\n",
    "                most_visited_sub_categories.add(events_operations, fill_value=0).astype(np.uint32)\n",
    "        i += 1\n",
    "    most_visited_sub_categories.reset_index(inplace=True)\n",
    "    # sort in descending order\n",
    "    most_visited_sub_categories.sort_values(by=['n_visits'], ascending=False, inplace=True)\n",
    "    if top_n is not None and top_n > 0:\n",
    "        most_visited_sub_categories = most_visited_sub_categories.iloc[:top_n, :]\n",
    "    # plot results\n",
    "    fig, ax = plt.subplots(figsize=(15, 10 if top_n is not None else 25))\n",
    "    bar_plt = sns.barplot(data=most_visited_sub_categories, x=\"n_visits\", y=\"category_code\", palette='tab10')\n",
    "    sns.set(rc={'figure.figsize': (15, 10 if top_n is not None else 25)})\n",
    "    show_values_on_bars(ax, \"h\", 0.3)\n",
    "    bar_plt.set(\n",
    "        ylabel='Category', \n",
    "        xlabel='Number of visits', \n",
    "        title=f\"{df_label + ': ' if df_label else ''}Number of visits per sub category\"\n",
    "        f\"{'| top #' + str(top_n) + ' sub categories' if top_n is not None else ''}\"\n",
    "    )\n",
    "    plt.show()"
   ]
  },
  {
   "cell_type": "code",
   "execution_count": 66,
   "metadata": {},
   "outputs": [
    {
     "data": {
      "image/png": "[encoded data removed]",
      "text/plain": [
       "<Figure size 1080x720 with 1 Axes>"
      ]
     },
     "metadata": {},
     "output_type": "display_data"
    },
    {
     "data": {
      "image/png": "[encoded data removed]",
      "text/plain": [
       "<Figure size 1080x720 with 1 Axes>"
      ]
     },
     "metadata": {},
     "output_type": "display_data"
    }
   ],
   "source": [
    "for df_label in df_labels:\n",
    "    get_most_visited_sub_categories(df_label=df_label, top_n=25)"
   ]
  },
  {
   "cell_type": "markdown",
   "metadata": {},
   "source": [
    "## What are the 10 most sold products per category?\n",
    "\n",
    "Category - is the first value before . separator, the rest are sub-categories"
   ]
  },
  {
   "cell_type": "code",
   "execution_count": 76,
   "metadata": {},
   "outputs": [],
   "source": [
    "# bash script is faster, can be used instead\n",
    "def get_categories(\n",
    "    df_label: str = default_file_label,\n",
    "    aws: bool = default_aws,\n",
    "    chunksize: int = deafult_chunksize, \n",
    "    nrows: int = default_nrows\n",
    "):\n",
    "    reader = read_csv(\n",
    "        df_label=df_label,\n",
    "        aws=aws,\n",
    "        chunksize=chunksize,\n",
    "        nrows=nrows,\n",
    "        usecols=['category_code'],\n",
    "        dtype={'category_code': str},\n",
    "    )\n",
    "    all_categories = pd.DataFrame()\n",
    "    for chunk in reader:\n",
    "        print('.', end = '')\n",
    "        chunk = chunk.replace('', np.nan).dropna()\n",
    "        # take only the category\n",
    "        chunk.loc[:, 'category_code'] = chunk.category_code.str.split('.').str[0]\n",
    "        chunk.drop_duplicates(inplace=True)\n",
    "        if all_categories.empty:\n",
    "            all_categories = chunk\n",
    "        else:\n",
    "            all_categories = pd.concat([all_categories, chunk])\n",
    "    all_categories = list(all_categories.category_code.unique())\n",
    "    print('\\n', end = '')\n",
    "    print(\n",
    "        f\"{df_label + ' | ' if df_label else ''}\"\n",
    "        f\"Categories: \"\n",
    "    )\n",
    "    for category in all_categories:\n",
    "        print(category)\n",
    "    return all_categories"
   ]
  },
  {
   "cell_type": "code",
   "execution_count": 77,
   "metadata": {},
   "outputs": [
    {
     "name": "stdout",
     "output_type": "stream",
     "text": [
      "...........................................\n",
      "2019-Oct | Categories: \n",
      "appliances\n",
      "furniture\n",
      "computers\n",
      "electronics\n",
      "apparel\n",
      "construction\n",
      "auto\n",
      "kids\n",
      "sport\n",
      "accessories\n",
      "medicine\n",
      "stationery\n",
      "country_yard\n",
      "....................................................................\n",
      "2019-Nov | Categories: \n",
      "electronics\n",
      "appliances\n",
      "computers\n",
      "furniture\n",
      "apparel\n",
      "construction\n",
      "auto\n",
      "accessories\n",
      "kids\n",
      "sport\n",
      "medicine\n",
      "country_yard\n",
      "stationery\n"
     ]
    }
   ],
   "source": [
    "categories_dict = dict()\n",
    "for df_label in df_labels:\n",
    "    categories_dict[df_label] = get_categories(df_label=df_label, nrows=None, chunksize=1_000_000)"
   ]
  },
  {
   "cell_type": "code",
   "execution_count": 78,
   "metadata": {},
   "outputs": [],
   "source": [
    "def get_most_sold_products_per_category(\n",
    "    category: str,\n",
    "    top_n: int = 10,\n",
    "    df_label: str = default_file_label,\n",
    "    aws: bool = default_aws,\n",
    "    chunksize: int = deafult_chunksize, \n",
    "    nrows: int = default_nrows\n",
    "):\n",
    "    reader = read_csv(\n",
    "        df_label=df_label,\n",
    "        aws=aws,\n",
    "        chunksize=chunksize,\n",
    "        nrows=nrows,\n",
    "        usecols=['category_code', 'event_type', 'product_id'],\n",
    "        dtype={'category_code': str, 'event_type': str, 'product_id': np.uint32}\n",
    "    )\n",
    "    most_sold_products = pd.DataFrame()\n",
    "    i = 0\n",
    "    for chunk in reader:\n",
    "        # print(f\"Processing a chunk #{i}\")\n",
    "        # take only the category\n",
    "        chunk.loc[:, 'category_code'] = chunk.category_code.str.split('.').str[0]\n",
    "        events_operations = chunk[\n",
    "            chunk['event_type'].isin(['purchase']) \n",
    "            & (chunk['category_code'] == category)\n",
    "        ].dropna().groupby(\n",
    "            ['category_code', 'product_id']\n",
    "        ).event_type.count().to_frame().rename(\n",
    "            columns={'event_type': 'n_purchases'}\n",
    "        )\n",
    "        if most_sold_products.empty:\n",
    "            most_sold_products = events_operations\n",
    "        else:\n",
    "            most_sold_products = \\\n",
    "                most_sold_products.add(events_operations, fill_value=0).astype(np.uint32)\n",
    "        i += 1\n",
    "    most_sold_products.reset_index(inplace=True)\n",
    "    most_sold_products = most_sold_products.sort_values(by='n_purchases', ascending=False).head(top_n)\n",
    "    top_n_sold_products = list(most_sold_products.product_id.values)\n",
    "    print(\n",
    "        f\"{df_label + ' | ' if df_label else ''}\"\n",
    "        f\"The 10 most sold products per '{category}' are:\"\n",
    "    )\n",
    "    print(top_n_sold_products)\n",
    "    print(most_sold_products)\n",
    "        \n",
    "    return top_n_sold_products"
   ]
  },
  {
   "cell_type": "code",
   "execution_count": 79,
   "metadata": {},
   "outputs": [
    {
     "name": "stdout",
     "output_type": "stream",
     "text": [
      "2019-Oct | The 10 most sold products per 'appliances' are:\n",
      "[3700926, 3600163, 3600661, 3700766, 2800403, 3601405, 2701657, 3600182, 3601489, 4600603]\n",
      "    category_code  product_id  n_purchases\n",
      "86     appliances     3700926            6\n",
      "50     appliances     3600163            4\n",
      "54     appliances     3600661            4\n",
      "79     appliances     3700766            4\n",
      "26     appliances     2800403            3\n",
      "64     appliances     3601405            3\n",
      "18     appliances     2701657            3\n",
      "51     appliances     3600182            3\n",
      "70     appliances     3601489            3\n",
      "107    appliances     4600603            2\n",
      "2019-Nov | The 10 most sold products per 'electronics' are:\n",
      "[1004856, 1004767, 1005115, 1004249, 1004833, 1004870, 4804056, 1002544, 1004739, 1005105]\n",
      "    category_code  product_id  n_purchases\n",
      "66    electronics     1004856           64\n",
      "51    electronics     1004767           40\n",
      "101   electronics     1005115           39\n",
      "28    electronics     1004249           27\n",
      "60    electronics     1004833           25\n",
      "70    electronics     1004870           25\n",
      "194   electronics     4804056           24\n",
      "5     electronics     1002544           24\n",
      "47    electronics     1004739           15\n",
      "96    electronics     1005105           15\n"
     ]
    }
   ],
   "source": [
    "for df_label in df_labels:\n",
    "    for category in categories_dict.get(df_label, list())[:1]:\n",
    "        get_most_sold_products_per_category(category=category, df_label=df_label, top_n=10)"
   ]
  },
  {
   "cell_type": "markdown",
   "metadata": {},
   "source": [
    "# RQ3\n",
    "\n",
    " - For each category, **what’s the brand whose prices are higher on average?**\n",
    " \n",
    "\n",
    " - Write a function that asks the user a category in input and returns a **plot indicating the average price of the products sold by the brand.**\n",
    " \n",
    " \n",
    " - **Find, for each category, the brand with the highest average price.** \n",
    " \n",
    "   Return all the results in ascending order by price."
   ]
  },
  {
   "cell_type": "markdown",
   "metadata": {},
   "source": [
    "## For each category, what’s the brand whose prices are higher on average?"
   ]
  },
  {
   "cell_type": "code",
   "execution_count": null,
   "metadata": {},
   "outputs": [],
   "source": [
    "def brand_with_highest_prices_per_category(\n",
    "    category: str,\n",
    "    df_label: str = default_file_label,\n",
    "    aws: bool = default_aws,\n",
    "    chunksize: int = deafult_chunksize, \n",
    "    nrows: int = default_nrows\n",
    "):\n",
    "    reader = read_csv(\n",
    "        df_label=df_label,\n",
    "        aws=aws,\n",
    "        chunksize=chunksize,\n",
    "        nrows=nrows,\n",
    "        usecols=['category_code', 'brand', 'price'],\n",
    "        dtype={'category_code': str, 'brand': str, 'price': np.uint32}\n",
    "    )\n",
    "    most_sold_products = pd.DataFrame()\n",
    "    i = 0\n",
    "    for chunk in reader:\n",
    "        # print(f\"Processing a chunk #{i}\")\n",
    "        # take only the category\n",
    "        chunk.loc[:, 'category_code'] = chunk.category_code.str.split('.').str[0]\n",
    "        chunk.drop_duplicates(inplace=True)\n",
    "        category_brands = chunk[\n",
    "            chunk['category_code'] == category\n",
    "        ].dropna().groupby(\n",
    "            ['category_code', 'brand', 'price']\n",
    "        ).event_type.count().to_frame().rename(\n",
    "            columns={'price': 'avg_price'}\n",
    "        )\n",
    "        if most_sold_products.empty:\n",
    "            most_sold_products = events_operations\n",
    "        else:\n",
    "            most_sold_products = \\\n",
    "                most_sold_products.add(events_operations, fill_value=0).astype(np.uint32)\n",
    "        i += 1\n",
    "    most_sold_products.reset_index(inplace=True)\n",
    "    most_sold_products = most_sold_products.sort_values(by='n_purchases', ascending=False).head(top_n)\n",
    "    top_n_sold_products = list(most_sold_products.product_id.values)\n",
    "    print(\n",
    "        f\"{df_label + ' | ' if df_label else ''}\"\n",
    "        f\"The 10 most sold products per '{category}' are:\"\n",
    "    )\n",
    "    print(top_n_sold_products)\n",
    "    print(most_sold_products)\n",
    "        \n",
    "    return top_n_sold_products"
   ]
  },
  {
   "cell_type": "markdown",
   "metadata": {},
   "source": [
    "## Write a function that asks the user a category in input and returns a plot indicating the average price of the products sold by the brand."
   ]
  },
  {
   "cell_type": "code",
   "execution_count": null,
   "metadata": {},
   "outputs": [],
   "source": [
    "# TODO"
   ]
  },
  {
   "cell_type": "markdown",
   "metadata": {},
   "source": [
    "## Find, for each category, the brand with the highest average price."
   ]
  },
  {
   "cell_type": "code",
   "execution_count": null,
   "metadata": {},
   "outputs": [],
   "source": [
    "# TODO"
   ]
  },
  {
   "cell_type": "markdown",
   "metadata": {},
   "source": [
    "# RQ4"
   ]
  },
  {
   "cell_type": "code",
   "execution_count": null,
   "metadata": {},
   "outputs": [],
   "source": [
    "# Add to the notebook"
   ]
  },
  {
   "cell_type": "markdown",
   "metadata": {},
   "source": [
    "# RQ5"
   ]
  },
  {
   "cell_type": "code",
   "execution_count": null,
   "metadata": {},
   "outputs": [],
   "source": [
    "# Add to the notebook"
   ]
  },
  {
   "cell_type": "markdown",
   "metadata": {},
   "source": [
    "# RQ6"
   ]
  },
  {
   "cell_type": "code",
   "execution_count": null,
   "metadata": {},
   "outputs": [],
   "source": [
    "# Add to the notebook"
   ]
  },
  {
   "cell_type": "code",
   "execution_count": 296,
   "metadata": {},
   "outputs": [],
   "source": [
    "#coversion rate => (#purchase)/(#view)\n",
    "#we can esealy use the subdataframe of RQ2\n",
    "\n",
    "#sales is a sub that contain only purchased product\n",
    "#sales = subRQ2[subRQ2['event_type']=='purchase']\n",
    "product_sold = len(sales)\n"
   ]
  },
  {
   "cell_type": "code",
   "execution_count": 297,
   "metadata": {},
   "outputs": [
    {
     "data": {
      "text/plain": [
       "682721"
      ]
     },
     "execution_count": 297,
     "metadata": {},
     "output_type": "execute_result"
    }
   ],
   "source": [
    "product_sold"
   ]
  },
  {
   "cell_type": "code",
   "execution_count": 298,
   "metadata": {},
   "outputs": [],
   "source": [
    "#while visited cointain only visited product\n",
    "#visited = subRQ2[subRQ2['event_type']=='view']\n",
    "product_watched = len(visited)"
   ]
  },
  {
   "cell_type": "code",
   "execution_count": 299,
   "metadata": {},
   "outputs": [
    {
     "data": {
      "text/plain": [
       "0.015982"
      ]
     },
     "execution_count": 299,
     "metadata": {},
     "output_type": "execute_result"
    }
   ],
   "source": [
    "overall_conversion_rate = product_sold/product_watched\n",
    "round(overall_conversion_rate,6)"
   ]
  },
  {
   "cell_type": "code",
   "execution_count": null,
   "metadata": {},
   "outputs": [],
   "source": []
  },
  {
   "cell_type": "code",
   "execution_count": 246,
   "metadata": {},
   "outputs": [],
   "source": [
    "#RQ6.1 rate for each categories\n"
   ]
  },
  {
   "cell_type": "code",
   "execution_count": 300,
   "metadata": {},
   "outputs": [
    {
     "data": {
      "text/plain": [
       "category_code\n",
       "accessories       2154\n",
       "apparel          14215\n",
       "appliances       99026\n",
       "auto             10719\n",
       "computers        34477\n",
       "construction      8699\n",
       "country_yard        60\n",
       "electronics     493639\n",
       "furniture        11542\n",
       "kids              6166\n",
       "medicine           344\n",
       "sport             1489\n",
       "stationery         191\n",
       "Name: product_id, dtype: int64"
      ]
     },
     "execution_count": 300,
     "metadata": {},
     "output_type": "execute_result"
    }
   ],
   "source": [
    "# number of sales (calculated in RQ2)\n",
    "number_of_sales\n",
    "#we obtained a pandas series with the number of products sold"
   ]
  },
  {
   "cell_type": "code",
   "execution_count": null,
   "metadata": {},
   "outputs": [],
   "source": []
  },
  {
   "cell_type": "code",
   "execution_count": 301,
   "metadata": {},
   "outputs": [],
   "source": [
    "watched = subRQ2[subRQ2['event_type']=='view']"
   ]
  },
  {
   "cell_type": "code",
   "execution_count": 302,
   "metadata": {},
   "outputs": [
    {
     "data": {
      "text/html": [
       "<div>\n",
       "<style scoped>\n",
       "    .dataframe tbody tr th:only-of-type {\n",
       "        vertical-align: middle;\n",
       "    }\n",
       "\n",
       "    .dataframe tbody tr th {\n",
       "        vertical-align: top;\n",
       "    }\n",
       "\n",
       "    .dataframe thead th {\n",
       "        text-align: right;\n",
       "    }\n",
       "</style>\n",
       "<table border=\"1\" class=\"dataframe\">\n",
       "  <thead>\n",
       "    <tr style=\"text-align: right;\">\n",
       "      <th></th>\n",
       "      <th>event_type</th>\n",
       "      <th>product_id</th>\n",
       "      <th>category_code</th>\n",
       "    </tr>\n",
       "  </thead>\n",
       "  <tbody>\n",
       "    <tr>\n",
       "      <th>0</th>\n",
       "      <td>view</td>\n",
       "      <td>1003461</td>\n",
       "      <td>electronics.smartphone</td>\n",
       "    </tr>\n",
       "    <tr>\n",
       "      <th>1</th>\n",
       "      <td>view</td>\n",
       "      <td>5000088</td>\n",
       "      <td>appliances.sewing_machine</td>\n",
       "    </tr>\n",
       "    <tr>\n",
       "      <th>3</th>\n",
       "      <td>view</td>\n",
       "      <td>3601530</td>\n",
       "      <td>appliances.kitchen.washer</td>\n",
       "    </tr>\n",
       "    <tr>\n",
       "      <th>4</th>\n",
       "      <td>view</td>\n",
       "      <td>1004775</td>\n",
       "      <td>electronics.smartphone</td>\n",
       "    </tr>\n",
       "    <tr>\n",
       "      <th>5</th>\n",
       "      <td>view</td>\n",
       "      <td>1306894</td>\n",
       "      <td>computers.notebook</td>\n",
       "    </tr>\n",
       "  </tbody>\n",
       "</table>\n",
       "</div>"
      ],
      "text/plain": [
       "  event_type  product_id              category_code\n",
       "0       view     1003461     electronics.smartphone\n",
       "1       view     5000088  appliances.sewing_machine\n",
       "3       view     3601530  appliances.kitchen.washer\n",
       "4       view     1004775     electronics.smartphone\n",
       "5       view     1306894         computers.notebook"
      ]
     },
     "execution_count": 302,
     "metadata": {},
     "output_type": "execute_result"
    }
   ],
   "source": [
    "watched.head()"
   ]
  },
  {
   "cell_type": "code",
   "execution_count": null,
   "metadata": {},
   "outputs": [],
   "source": [
    "#s.str.split()"
   ]
  },
  {
   "cell_type": "code",
   "execution_count": 311,
   "metadata": {},
   "outputs": [
    {
     "data": {
      "text/plain": [
       "0       electronics.smartphone\n",
       "1    appliances.sewing_machine\n",
       "3    appliances.kitchen.washer\n",
       "4       electronics.smartphone\n",
       "5           computers.notebook\n",
       "Name: category_code, dtype: object"
      ]
     },
     "execution_count": 311,
     "metadata": {},
     "output_type": "execute_result"
    }
   ],
   "source": [
    "watched['category_code'].head()"
   ]
  },
  {
   "cell_type": "code",
   "execution_count": 308,
   "metadata": {},
   "outputs": [],
   "source": [
    "#watched['category_code'].str.split('.')"
   ]
  },
  {
   "cell_type": "code",
   "execution_count": 309,
   "metadata": {},
   "outputs": [],
   "source": [
    "#watched['category_code']= watched['category_code'].str.split()[0]"
   ]
  },
  {
   "cell_type": "code",
   "execution_count": null,
   "metadata": {},
   "outputs": [],
   "source": []
  },
  {
   "cell_type": "code",
   "execution_count": null,
   "metadata": {},
   "outputs": [],
   "source": []
  },
  {
   "cell_type": "code",
   "execution_count": 312,
   "metadata": {},
   "outputs": [
    {
     "name": "stderr",
     "output_type": "stream",
     "text": [
      "<ipython-input-312-d69c0d1f5796>:1: SettingWithCopyWarning: \n",
      "A value is trying to be set on a copy of a slice from a DataFrame.\n",
      "Try using .loc[row_indexer,col_indexer] = value instead\n",
      "\n",
      "See the caveats in the documentation: https://pandas.pydata.org/pandas-docs/stable/user_guide/indexing.html#returning-a-view-versus-a-copy\n",
      "  watched['category_code'] = [el.split('.')[0] for el in list(watched['category_code']) if type(el) == str]\n"
     ]
    }
   ],
   "source": [
    "watched['category_code'] = [el.split('.')[0] for el in list(watched['category_code']) if type(el) == str]"
   ]
  },
  {
   "cell_type": "code",
   "execution_count": 313,
   "metadata": {},
   "outputs": [
    {
     "data": {
      "text/html": [
       "<div>\n",
       "<style scoped>\n",
       "    .dataframe tbody tr th:only-of-type {\n",
       "        vertical-align: middle;\n",
       "    }\n",
       "\n",
       "    .dataframe tbody tr th {\n",
       "        vertical-align: top;\n",
       "    }\n",
       "\n",
       "    .dataframe thead th {\n",
       "        text-align: right;\n",
       "    }\n",
       "</style>\n",
       "<table border=\"1\" class=\"dataframe\">\n",
       "  <thead>\n",
       "    <tr style=\"text-align: right;\">\n",
       "      <th></th>\n",
       "      <th>event_type</th>\n",
       "      <th>product_id</th>\n",
       "      <th>category_code</th>\n",
       "    </tr>\n",
       "  </thead>\n",
       "  <tbody>\n",
       "    <tr>\n",
       "      <th>0</th>\n",
       "      <td>view</td>\n",
       "      <td>1003461</td>\n",
       "      <td>electronics</td>\n",
       "    </tr>\n",
       "    <tr>\n",
       "      <th>1</th>\n",
       "      <td>view</td>\n",
       "      <td>5000088</td>\n",
       "      <td>appliances</td>\n",
       "    </tr>\n",
       "    <tr>\n",
       "      <th>3</th>\n",
       "      <td>view</td>\n",
       "      <td>3601530</td>\n",
       "      <td>appliances</td>\n",
       "    </tr>\n",
       "    <tr>\n",
       "      <th>4</th>\n",
       "      <td>view</td>\n",
       "      <td>1004775</td>\n",
       "      <td>electronics</td>\n",
       "    </tr>\n",
       "    <tr>\n",
       "      <th>5</th>\n",
       "      <td>view</td>\n",
       "      <td>1306894</td>\n",
       "      <td>computers</td>\n",
       "    </tr>\n",
       "  </tbody>\n",
       "</table>\n",
       "</div>"
      ],
      "text/plain": [
       "  event_type  product_id category_code\n",
       "0       view     1003461   electronics\n",
       "1       view     5000088    appliances\n",
       "3       view     3601530    appliances\n",
       "4       view     1004775   electronics\n",
       "5       view     1306894     computers"
      ]
     },
     "execution_count": 313,
     "metadata": {},
     "output_type": "execute_result"
    }
   ],
   "source": [
    "watched.head()"
   ]
  },
  {
   "cell_type": "code",
   "execution_count": 314,
   "metadata": {},
   "outputs": [],
   "source": [
    "times_watched = watched.groupby('category_code').product_id.count()"
   ]
  },
  {
   "cell_type": "code",
   "execution_count": 381,
   "metadata": {},
   "outputs": [
    {
     "data": {
      "text/plain": [
       "category_code\n",
       "accessories       380373\n",
       "apparel          2942622\n",
       "appliances       8037980\n",
       "auto             1164278\n",
       "computers        4029049\n",
       "construction     1047072\n",
       "country_yard       17299\n",
       "electronics     21988192\n",
       "furniture        2058798\n",
       "kids              779517\n",
       "medicine           20764\n",
       "sport             240763\n",
       "stationery         11943\n",
       "Name: product_id, dtype: int64"
      ]
     },
     "execution_count": 381,
     "metadata": {},
     "output_type": "execute_result"
    }
   ],
   "source": [
    "times_watched\n",
    "#we obtained a pandas series with the number o product view for aech category "
   ]
  },
  {
   "cell_type": "code",
   "execution_count": 376,
   "metadata": {},
   "outputs": [
    {
     "data": {
      "text/plain": [
       "category_code\n",
       "accessories     380373\n",
       "apparel        2942622\n",
       "appliances     8037980\n",
       "auto           1164278\n",
       "computers      4029049\n",
       "Name: product_id, dtype: int64"
      ]
     },
     "execution_count": 376,
     "metadata": {},
     "output_type": "execute_result"
    }
   ],
   "source": [
    "times_watched.head()"
   ]
  },
  {
   "cell_type": "code",
   "execution_count": 318,
   "metadata": {},
   "outputs": [
    {
     "data": {
      "text/plain": [
       "category_code\n",
       "accessories     2154\n",
       "apparel        14215\n",
       "appliances     99026\n",
       "auto           10719\n",
       "computers      34477\n",
       "Name: product_id, dtype: int64"
      ]
     },
     "execution_count": 318,
     "metadata": {},
     "output_type": "execute_result"
    }
   ],
   "source": [
    "number_of_sales.head()"
   ]
  },
  {
   "cell_type": "code",
   "execution_count": 317,
   "metadata": {},
   "outputs": [
    {
     "data": {
      "text/plain": [
       "True"
      ]
     },
     "execution_count": 317,
     "metadata": {},
     "output_type": "execute_result"
    }
   ],
   "source": [
    "type(number_of_sales) == type(times_watched) \n",
    "#both elements are pandas series so we can just deviding them by using devide() command"
   ]
  },
  {
   "cell_type": "code",
   "execution_count": 383,
   "metadata": {},
   "outputs": [
    {
     "data": {
      "text/plain": [
       "category_code\n",
       "accessories     0.005663\n",
       "apparel         0.004831\n",
       "appliances      0.012320\n",
       "auto            0.009207\n",
       "computers       0.008557\n",
       "construction    0.008308\n",
       "country_yard    0.003468\n",
       "electronics     0.022450\n",
       "furniture       0.005606\n",
       "kids            0.007910\n",
       "medicine        0.016567\n",
       "sport           0.006185\n",
       "stationery      0.015993\n",
       "Name: product_id, dtype: float64"
      ]
     },
     "execution_count": 383,
     "metadata": {},
     "output_type": "execute_result"
    }
   ],
   "source": [
    "#purchase rate of each category\n",
    "purchase_rate = number_of_sales.divide(times_watched)\n",
    "purchase_rate"
   ]
  },
  {
   "cell_type": "code",
   "execution_count": null,
   "metadata": {},
   "outputs": [],
   "source": [
    "#TODO recheck purchase rate vs conversion rate\n",
    "#TODO plot "
   ]
  },
  {
   "cell_type": "markdown",
   "metadata": {},
   "source": [
    "# RQ7"
   ]
  },
  {
   "cell_type": "code",
   "execution_count": null,
   "metadata": {},
   "outputs": [],
   "source": []
  }
 ],
 "metadata": {
  "kernelspec": {
   "display_name": "Python 3",
   "language": "python",
   "name": "python3"
  },
  "language_info": {
   "codemirror_mode": {
    "name": "ipython",
    "version": 3
   },
   "file_extension": ".py",
   "mimetype": "text/x-python",
   "name": "python",
   "nbconvert_exporter": "python",
   "pygments_lexer": "ipython3",
   "version": "3.8.5"
  }
 },
 "nbformat": 4,
 "nbformat_minor": 4
}
